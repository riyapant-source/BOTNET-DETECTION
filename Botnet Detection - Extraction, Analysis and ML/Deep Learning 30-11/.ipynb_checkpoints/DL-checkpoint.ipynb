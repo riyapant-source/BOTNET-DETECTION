{
 "cells": [
  {
   "cell_type": "code",
   "execution_count": 1,
   "metadata": {
    "collapsed": false
   },
   "outputs": [
    {
     "name": "stderr",
     "output_type": "stream",
     "text": [
      "/home/him/anaconda2/envs/theano-gpu/lib/python2.7/site-packages/sklearn/cross_validation.py:44: DeprecationWarning: This module was deprecated in version 0.18 in favor of the model_selection module into which all the refactored classes and functions are moved. Also note that the interface of the new CV iterators are different from that of this module. This module will be removed in 0.20.\n",
      "  \"This module will be removed in 0.20.\", DeprecationWarning)\n",
      "Using Theano backend.\n",
      "Using gpu device 0: GeForce 940MX (CNMeM is disabled, cuDNN 5105)\n",
      "/home/him/anaconda2/envs/theano-gpu/lib/python2.7/site-packages/theano/sandbox/cuda/__init__.py:600: UserWarning: Your cuDNN version is more recent than the one Theano officially supports. If you see any problems, try updating Theano or downgrading cuDNN to version 5.\n",
      "  warnings.warn(warn)\n"
     ]
    }
   ],
   "source": [
    "## import libraries\n",
    "import numpy as np\n",
    "np.random.seed(123)\n",
    "\n",
    "import pandas as pd\n",
    "import subprocess\n",
    "from scipy.sparse import csr_matrix, hstack\n",
    "from sklearn.metrics import mean_absolute_error,matthews_corrcoef,classification_report, confusion_matrix\n",
    "from sklearn.preprocessing import StandardScaler\n",
    "from sklearn.cross_validation import KFold\n",
    "from sklearn.utils import shuffle\n",
    "from keras.models import Sequential\n",
    "from keras.layers import Dense, Dropout, Activation\n",
    "from keras.layers.normalization import BatchNormalization\n",
    "from keras.layers.core import Activation\n",
    "from keras.layers.advanced_activations import PReLU\n",
    "from keras.callbacks import CSVLogger,EarlyStopping, ModelCheckpoint"
   ]
  },
  {
   "cell_type": "code",
   "execution_count": 2,
   "metadata": {
    "collapsed": true
   },
   "outputs": [],
   "source": [
    "## Batch generators ##################################################################################################################################\n",
    "\n",
    "def batch_generator(X, y, batch_size, shuffle):\n",
    "    #chenglong code for fiting from generator (https://www.kaggle.com/c/talkingdata-mobile-user-demographics/forums/t/22567/neural-network-for-sparse-matrices)\n",
    "    number_of_batches = np.ceil(X.shape[0]/batch_size)\n",
    "    counter = 0\n",
    "    sample_index = np.arange(X.shape[0])\n",
    "    if shuffle:\n",
    "        np.random.shuffle(sample_index)\n",
    "    while True:\n",
    "        batch_index = sample_index[batch_size*counter:batch_size*(counter+1)]\n",
    "        X_batch = X[batch_index,:].toarray()\n",
    "        y_batch = y[batch_index]\n",
    "        counter += 1\n",
    "        yield X_batch, y_batch\n",
    "        if (counter == number_of_batches):\n",
    "            if shuffle:\n",
    "                np.random.shuffle(sample_index)\n",
    "            counter = 0\n",
    "\n",
    "def batch_generatorp(X, batch_size, shuffle):\n",
    "    number_of_batches = X.shape[0] / np.ceil(X.shape[0]/batch_size)\n",
    "    counter = 0\n",
    "    sample_index = np.arange(X.shape[0])\n",
    "    while True:\n",
    "        batch_index = sample_index[batch_size * counter:batch_size * (counter + 1)]\n",
    "        X_batch = X[batch_index, :].toarray()\n",
    "        counter += 1\n",
    "        yield X_batch\n",
    "        if (counter == number_of_batches):\n",
    "            counter = 0\n"
   ]
  },
  {
   "cell_type": "markdown",
   "metadata": {},
   "source": [
    "## Read Data"
   ]
  },
  {
   "cell_type": "code",
   "execution_count": 3,
   "metadata": {
    "collapsed": false
   },
   "outputs": [
    {
     "name": "stdout",
     "output_type": "stream",
     "text": [
      "Done Reading\n"
     ]
    },
    {
     "name": "stderr",
     "output_type": "stream",
     "text": [
      "/home/him/anaconda2/envs/theano-gpu/lib/python2.7/site-packages/IPython/core/interactiveshell.py:2717: DtypeWarning: Columns (34) have mixed types. Specify dtype option on import or set low_memory=False.\n",
      "  interactivity=interactivity, compiler=compiler, result=result)\n"
     ]
    }
   ],
   "source": [
    "Train = pd.read_csv('Bidirectional_Botnet_Training_Final_Flow_Based_Features.csv',verbose=False)\n",
    "Test = pd.read_csv('Bidirectional_Botnet_Test_Final_Flow_Based_Features.csv',verbose=False)\n",
    "print 'Done Reading'"
   ]
  },
  {
   "cell_type": "code",
   "execution_count": 4,
   "metadata": {
    "collapsed": true
   },
   "outputs": [],
   "source": [
    "features = ['APL',\n",
    " 'AvgPktPerSec',\n",
    " 'IAT',\n",
    " 'NumForward',\n",
    " 'Protocol',\n",
    " 'BytesEx',\n",
    " 'BitsPerSec',\n",
    " 'NumPackets',\n",
    " 'StdDevLen',\n",
    " 'SameLenPktRatio',\n",
    " 'FPL',\n",
    " 'Duration',\n",
    " 'NPEx']\n",
    "\n",
    "target = 'isBot'"
   ]
  },
  {
   "cell_type": "code",
   "execution_count": 5,
   "metadata": {
    "collapsed": false
   },
   "outputs": [
    {
     "data": {
      "text/html": [
       "<div>\n",
       "<table border=\"1\" class=\"dataframe\">\n",
       "  <thead>\n",
       "    <tr style=\"text-align: right;\">\n",
       "      <th></th>\n",
       "      <th>APL</th>\n",
       "      <th>AvgPktPerSec</th>\n",
       "      <th>IAT</th>\n",
       "      <th>NumForward</th>\n",
       "      <th>Protocol</th>\n",
       "      <th>BytesEx</th>\n",
       "      <th>BitsPerSec</th>\n",
       "      <th>NumPackets</th>\n",
       "      <th>StdDevLen</th>\n",
       "      <th>SameLenPktRatio</th>\n",
       "      <th>FPL</th>\n",
       "      <th>Duration</th>\n",
       "      <th>NPEx</th>\n",
       "      <th>isBot</th>\n",
       "    </tr>\n",
       "  </thead>\n",
       "  <tbody>\n",
       "    <tr>\n",
       "      <th>0</th>\n",
       "      <td>60.0</td>\n",
       "      <td>0.000000</td>\n",
       "      <td>0.0</td>\n",
       "      <td>1</td>\n",
       "      <td>TCP</td>\n",
       "      <td>60</td>\n",
       "      <td>0.0000</td>\n",
       "      <td>1</td>\n",
       "      <td>0.0</td>\n",
       "      <td>1.0</td>\n",
       "      <td>60</td>\n",
       "      <td>0.000000</td>\n",
       "      <td>1</td>\n",
       "      <td>0</td>\n",
       "    </tr>\n",
       "    <tr>\n",
       "      <th>1</th>\n",
       "      <td>60.0</td>\n",
       "      <td>0.144511</td>\n",
       "      <td>0.0</td>\n",
       "      <td>0</td>\n",
       "      <td>TCP</td>\n",
       "      <td>120</td>\n",
       "      <td>69.3651</td>\n",
       "      <td>2</td>\n",
       "      <td>0.0</td>\n",
       "      <td>0.5</td>\n",
       "      <td>60</td>\n",
       "      <td>13.839800</td>\n",
       "      <td>2</td>\n",
       "      <td>0</td>\n",
       "    </tr>\n",
       "    <tr>\n",
       "      <th>2</th>\n",
       "      <td>61.0</td>\n",
       "      <td>9.500400</td>\n",
       "      <td>0.0</td>\n",
       "      <td>2</td>\n",
       "      <td>TCP</td>\n",
       "      <td>244</td>\n",
       "      <td>4636.1900</td>\n",
       "      <td>4</td>\n",
       "      <td>1.0</td>\n",
       "      <td>0.5</td>\n",
       "      <td>62</td>\n",
       "      <td>0.421035</td>\n",
       "      <td>4</td>\n",
       "      <td>1</td>\n",
       "    </tr>\n",
       "  </tbody>\n",
       "</table>\n",
       "</div>"
      ],
      "text/plain": [
       "    APL  AvgPktPerSec  IAT  NumForward Protocol  BytesEx  BitsPerSec  \\\n",
       "0  60.0      0.000000  0.0           1      TCP       60      0.0000   \n",
       "1  60.0      0.144511  0.0           0      TCP      120     69.3651   \n",
       "2  61.0      9.500400  0.0           2      TCP      244   4636.1900   \n",
       "\n",
       "   NumPackets  StdDevLen  SameLenPktRatio  FPL   Duration  NPEx  isBot  \n",
       "0           1        0.0              1.0   60   0.000000     1      0  \n",
       "1           2        0.0              0.5   60  13.839800     2      0  \n",
       "2           4        1.0              0.5   62   0.421035     4      1  "
      ]
     },
     "execution_count": 5,
     "metadata": {},
     "output_type": "execute_result"
    }
   ],
   "source": [
    "Train = Train[features+[target]]\n",
    "Test = Test[features+[target]]\n",
    "Train.head(3)"
   ]
  },
  {
   "cell_type": "code",
   "execution_count": 6,
   "metadata": {
    "collapsed": true
   },
   "outputs": [],
   "source": [
    "ntrain = Train.shape[0]"
   ]
  },
  {
   "cell_type": "code",
   "execution_count": 7,
   "metadata": {
    "collapsed": true
   },
   "outputs": [],
   "source": [
    "Tr_Te = pd.concat((Train,Test),axis=0)"
   ]
  },
  {
   "cell_type": "code",
   "execution_count": 8,
   "metadata": {
    "collapsed": true
   },
   "outputs": [],
   "source": [
    "num_features = ['APL',\n",
    " 'AvgPktPerSec',\n",
    " 'IAT',\n",
    " 'NumForward',\n",
    " 'BytesEx',\n",
    " 'BitsPerSec',\n",
    " 'NumPackets',\n",
    " 'StdDevLen',\n",
    " 'SameLenPktRatio',\n",
    " 'FPL',\n",
    " 'Duration',\n",
    " 'NPEx']\n",
    "cat_features = ['Protocol']"
   ]
  },
  {
   "cell_type": "markdown",
   "metadata": {},
   "source": [
    "## Dummify categorical variables and normalize numerical"
   ]
  },
  {
   "cell_type": "code",
   "execution_count": 9,
   "metadata": {
    "collapsed": false
   },
   "outputs": [],
   "source": [
    "X = []\n",
    "##Categorical Varialbes\n",
    "for x in cat_features:\n",
    "    temp = pd.get_dummies(Tr_Te[x].astype('category'))\n",
    "    X.append(temp)\n",
    "\n",
    "scaler = StandardScaler()\n",
    "tmp = scaler.fit_transform(Tr_Te[num_features])\n",
    "X.append(tmp)"
   ]
  },
  {
   "cell_type": "markdown",
   "metadata": {},
   "source": [
    "## Extract Target labes"
   ]
  },
  {
   "cell_type": "code",
   "execution_count": 10,
   "metadata": {
    "collapsed": true
   },
   "outputs": [],
   "source": [
    "Y = Tr_Te['isBot']"
   ]
  },
  {
   "cell_type": "markdown",
   "metadata": {},
   "source": [
    "### Remove unnecessary variables"
   ]
  },
  {
   "cell_type": "code",
   "execution_count": 11,
   "metadata": {
    "collapsed": true
   },
   "outputs": [],
   "source": [
    "del(Tr_Te,Train,Test)"
   ]
  },
  {
   "cell_type": "code",
   "execution_count": 12,
   "metadata": {
    "collapsed": false
   },
   "outputs": [
    {
     "name": "stdout",
     "output_type": "stream",
     "text": [
      "(859478, 119)\n"
     ]
    }
   ],
   "source": [
    "temp = X[0]\n",
    "for i in range(1,len(X)):\n",
    "    temp = np.hstack((temp,X[i]))\n",
    "    \n",
    "import copy\n",
    "X = copy.deepcopy(temp)\n",
    "print X.shape\n",
    "del(temp)"
   ]
  },
  {
   "cell_type": "code",
   "execution_count": 13,
   "metadata": {
    "collapsed": false
   },
   "outputs": [],
   "source": [
    "X_train = X[:ntrain,:]\n",
    "X_test = X[ntrain:,:]\n",
    "Y_train = Y[:ntrain]\n",
    "Y_test = Y[ntrain:]"
   ]
  },
  {
   "cell_type": "code",
   "execution_count": 14,
   "metadata": {
    "collapsed": true
   },
   "outputs": [],
   "source": [
    "del(X)"
   ]
  },
  {
   "cell_type": "code",
   "execution_count": 15,
   "metadata": {
    "collapsed": false
   },
   "outputs": [
    {
     "data": {
      "text/plain": [
       "array([[ 0.        ,  0.        ,  0.        , ..., -0.30760879,\n",
       "        -0.00177444, -0.01383582],\n",
       "       [ 0.        ,  0.        ,  0.        , ..., -0.30760879,\n",
       "        -0.00176461, -0.01130548],\n",
       "       [ 0.        ,  0.        ,  0.        , ..., -0.29266384,\n",
       "        -0.00177414, -0.0062448 ],\n",
       "       ..., \n",
       "       [ 0.        ,  0.        ,  0.        , ...,  0.1332672 ,\n",
       "        -0.00177413, -0.01636615],\n",
       "       [ 0.        ,  0.        ,  0.        , ...,  0.02865256,\n",
       "        -0.00177444, -0.01636615],\n",
       "       [ 0.        ,  0.        ,  0.        , ...,  0.3051341 ,\n",
       "        -0.00176804, -0.01636615]])"
      ]
     },
     "execution_count": 15,
     "metadata": {},
     "output_type": "execute_result"
    }
   ],
   "source": [
    "X_train"
   ]
  },
  {
   "cell_type": "code",
   "execution_count": 16,
   "metadata": {
    "collapsed": false
   },
   "outputs": [
    {
     "data": {
      "text/plain": [
       "0         0\n",
       "1         0\n",
       "2         1\n",
       "3         0\n",
       "4         1\n",
       "5         0\n",
       "6         1\n",
       "7         1\n",
       "8         0\n",
       "9         0\n",
       "10        0\n",
       "11        1\n",
       "12        0\n",
       "13        0\n",
       "14        0\n",
       "15        1\n",
       "16        1\n",
       "17        1\n",
       "18        0\n",
       "19        0\n",
       "20        0\n",
       "21        0\n",
       "22        0\n",
       "23        0\n",
       "24        0\n",
       "25        1\n",
       "26        1\n",
       "27        1\n",
       "28        1\n",
       "29        1\n",
       "         ..\n",
       "504014    0\n",
       "504015    0\n",
       "504016    0\n",
       "504017    1\n",
       "504018    0\n",
       "504019    1\n",
       "504020    0\n",
       "504021    1\n",
       "504022    0\n",
       "504023    1\n",
       "504024    0\n",
       "504025    1\n",
       "504026    0\n",
       "504027    1\n",
       "504028    1\n",
       "504029    0\n",
       "504030    1\n",
       "504031    1\n",
       "504032    0\n",
       "504033    1\n",
       "504034    0\n",
       "504035    0\n",
       "504036    0\n",
       "504037    0\n",
       "504038    0\n",
       "504039    0\n",
       "504040    0\n",
       "504041    0\n",
       "504042    1\n",
       "504043    0\n",
       "Name: isBot, dtype: int64"
      ]
     },
     "execution_count": 16,
     "metadata": {},
     "output_type": "execute_result"
    }
   ],
   "source": [
    "Y_train"
   ]
  },
  {
   "cell_type": "code",
   "execution_count": 17,
   "metadata": {
    "collapsed": false
   },
   "outputs": [
    {
     "name": "stdout",
     "output_type": "stream",
     "text": [
      "504044 504044\n",
      "355434 355434\n"
     ]
    }
   ],
   "source": [
    "print len(X_train),len(Y_train)\n",
    "print len(X_test),len(Y_test)"
   ]
  },
  {
   "cell_type": "code",
   "execution_count": 24,
   "metadata": {
    "collapsed": true
   },
   "outputs": [],
   "source": [
    "from keras import backend as K\n",
    "def custom_obj(y_true, y_pred):\n",
    "    '''Calculates the Matthews correlation coefficient measure for quality\n",
    "    of binary classification problems.\n",
    "    '''\n",
    "    y_pred_pos = K.round(K.clip(y_pred, 0, 1))\n",
    "    y_pred_neg = 1 - y_pred_pos\n",
    "\n",
    "    y_pos = K.round(K.clip(y_true, 0, 1))\n",
    "    y_neg = 1 - y_pos\n",
    "\n",
    "    tp = K.sum(y_pos * y_pred_pos)\n",
    "    tn = K.sum(y_neg * y_pred_neg)\n",
    "\n",
    "    fp = K.sum(y_neg * y_pred_pos)\n",
    "    fn = K.sum(y_pos * y_pred_neg)\n",
    "\n",
    "    return 2.0*fn*fp/(fn+fp)\n"
   ]
  },
  {
   "cell_type": "code",
   "execution_count": 25,
   "metadata": {
    "collapsed": true
   },
   "outputs": [],
   "source": [
    "from keras import backend as K\n",
    "def matthews_correlation(y_true, y_pred):\n",
    "    '''Calculates the Matthews correlation coefficient measure for quality\n",
    "    of binary classification problems.\n",
    "    '''\n",
    "    y_pred_pos = K.round(K.clip(y_pred, 0, 1))\n",
    "    y_pred_neg = 1 - y_pred_pos\n",
    "\n",
    "    y_pos = K.round(K.clip(y_true, 0, 1))\n",
    "    y_neg = 1 - y_pos\n",
    "\n",
    "    tp = K.sum(y_pos * y_pred_pos)\n",
    "    tn = K.sum(y_neg * y_pred_neg)\n",
    "\n",
    "    fp = K.sum(y_neg * y_pred_pos)\n",
    "    fn = K.sum(y_pos * y_pred_neg)\n",
    "\n",
    "    numerator = (tp * tn - fp * fn)\n",
    "    denominator = K.sqrt((tp + fp) * (tp + fn) * (tn + fp) * (tn + fn))\n",
    "\n",
    "    return numerator / (denominator + K.epsilon())\n"
   ]
  },
  {
   "cell_type": "code",
   "execution_count": 38,
   "metadata": {
    "collapsed": true
   },
   "outputs": [],
   "source": [
    "def nn_model():\n",
    "    model = Sequential()\n",
    "    \n",
    "    model.add(Dense(100, input_dim = X_train.shape[1], init = 'he_normal'))\n",
    "    model.add(PReLU())\n",
    "    model.add(BatchNormalization())\n",
    "        \n",
    "    model.add(Dense(50, init = 'he_normal'))\n",
    "    model.add(PReLU())\n",
    "    model.add(BatchNormalization())    \n",
    "    \n",
    "    model.add(Dense(50, init = 'he_normal'))\n",
    "    model.add(Activation('sigmoid'))\n",
    "    model.add(BatchNormalization())    \n",
    "    \n",
    "    model.add(Dense(1, init = 'he_normal'))\n",
    "    model.compile(loss = 'binary_crossentropy', optimizer = 'adam',metrics=['accuracy','fbeta_score','matthews_correlation'])\n",
    "    return(model)\n",
    "\n",
    "def nn_model_dropout():\n",
    "    model = Sequential()\n",
    "    \n",
    "    model.add(Dense(100, input_dim = X_train.shape[1], init = 'he_normal'))\n",
    "    model.add(Activation('sigmoid'))\n",
    "    model.add(BatchNormalization())\n",
    "    model.add(Dropout(0.4))\n",
    "        \n",
    "    model.add(Dense(50, init = 'he_normal'))\n",
    "    model.add(Activation('sigmoid'))\n",
    "    model.add(BatchNormalization())    \n",
    "    model.add(Dropout(0.2))\n",
    "    \n",
    "    model.add(Dense(20, init = 'he_normal'))\n",
    "    model.add(Activation('sigmoid'))\n",
    "    model.add(BatchNormalization())    \n",
    "    model.add(Dropout(0.2))\n",
    "    \n",
    "    model.add(Dense(1, init = 'he_normal'))\n",
    "    model.compile(loss = 'binary_crossentropy', optimizer = 'adam',metrics=['accuracy','fbeta_score','matthews_correlation'])\n",
    "    return(model)"
   ]
  },
  {
   "cell_type": "code",
   "execution_count": 51,
   "metadata": {
    "collapsed": false
   },
   "outputs": [],
   "source": [
    "model = nn_model_dropout()"
   ]
  },
  {
   "cell_type": "code",
   "execution_count": 52,
   "metadata": {
    "collapsed": false
   },
   "outputs": [],
   "source": [
    "csv_logger = CSVLogger('log.txt')\n",
    "checkpointer = ModelCheckpoint(filepath=\"Models/Best.hdf5\", verbose=1, save_best_only=True)\n",
    "earlyStopping = EarlyStopping(monitor='val_acc', patience=10, verbose=2, mode='min')"
   ]
  },
  {
   "cell_type": "code",
   "execution_count": null,
   "metadata": {
    "collapsed": false
   },
   "outputs": [],
   "source": [
    "model.fit(X_train,Y_train,nb_epoch=100,batch_size=128,callbacks=[csv_logger,checkpointer],validation_data=(X_test,Y_test),verbose=1)"
   ]
  },
  {
   "cell_type": "code",
   "execution_count": 42,
   "metadata": {
    "collapsed": false
   },
   "outputs": [
    {
     "name": "stdout",
     "output_type": "stream",
     "text": [
      "503744/504044 [============================>.] - ETA: 0s"
     ]
    }
   ],
   "source": [
    "y_pred = model.predict_classes(X_train)\n",
    "y_pred = np.reshape(y_pred,(y_pred.shape[0]))"
   ]
  },
  {
   "cell_type": "code",
   "execution_count": 43,
   "metadata": {
    "collapsed": true
   },
   "outputs": [],
   "source": [
    "true_pred = np.array(Y_train)"
   ]
  },
  {
   "cell_type": "code",
   "execution_count": 44,
   "metadata": {
    "collapsed": true
   },
   "outputs": [],
   "source": [
    "def print_metr(y_pred,y_true):\n",
    "    print '\\n',classification_report(y_pred,y_true)"
   ]
  },
  {
   "cell_type": "code",
   "execution_count": 45,
   "metadata": {
    "collapsed": false
   },
   "outputs": [
    {
     "name": "stdout",
     "output_type": "stream",
     "text": [
      "\n",
      "             precision    recall  f1-score   support\n",
      "\n",
      "          0       0.79      0.84      0.81    301696\n",
      "          1       0.73      0.67      0.70    202348\n",
      "\n",
      "avg / total       0.77      0.77      0.77    504044\n",
      "\n"
     ]
    }
   ],
   "source": [
    "print_metr(y_pred,true_pred)"
   ]
  },
  {
   "cell_type": "code",
   "execution_count": 46,
   "metadata": {
    "collapsed": false
   },
   "outputs": [
    {
     "name": "stdout",
     "output_type": "stream",
     "text": [
      "355424/355434 [============================>.] - ETA: 0s\n",
      "             precision    recall  f1-score   support\n",
      "\n",
      "          0       0.75      0.69      0.72    202237\n",
      "          1       0.63      0.69      0.66    153197\n",
      "\n",
      "avg / total       0.70      0.69      0.69    355434\n",
      "\n"
     ]
    },
    {
     "name": "stderr",
     "output_type": "stream",
     "text": [
      "/home/him/anaconda2/envs/theano-gpu/lib/python2.7/site-packages/numpy/core/fromnumeric.py:224: FutureWarning: reshape is deprecated and will raise in a subsequent release. Please use .values.reshape(...) instead\n",
      "  return reshape(newshape, order=order)\n"
     ]
    }
   ],
   "source": [
    "pred_test = model.predict_classes(X_test)\n",
    "true_test = np.reshape(Y_test,(Y_test.shape[0]))\n",
    "print_metr(pred_test,true_test)"
   ]
  },
  {
   "cell_type": "code",
   "execution_count": 47,
   "metadata": {
    "collapsed": false
   },
   "outputs": [
    {
     "data": {
      "text/plain": [
       "array([[138903,  63334],\n",
       "       [ 46845, 106352]])"
      ]
     },
     "execution_count": 47,
     "metadata": {},
     "output_type": "execute_result"
    }
   ],
   "source": [
    "confusion_matrix(pred_test,true_test)"
   ]
  },
  {
   "cell_type": "code",
   "execution_count": 48,
   "metadata": {
    "collapsed": false
   },
   "outputs": [
    {
     "data": {
      "text/plain": [
       "169686"
      ]
     },
     "execution_count": 48,
     "metadata": {},
     "output_type": "execute_result"
    }
   ],
   "source": [
    "sum(Y_test)"
   ]
  },
  {
   "cell_type": "code",
   "execution_count": 49,
   "metadata": {
    "collapsed": false
   },
   "outputs": [
    {
     "data": {
      "text/plain": [
       "185748"
      ]
     },
     "execution_count": 49,
     "metadata": {},
     "output_type": "execute_result"
    }
   ],
   "source": [
    "len(Y_test)-sum(Y_test)"
   ]
  },
  {
   "cell_type": "code",
   "execution_count": 50,
   "metadata": {
    "collapsed": false
   },
   "outputs": [
    {
     "name": "stdout",
     "output_type": "stream",
     "text": [
      "185311 318733\n"
     ]
    }
   ],
   "source": [
    "print sum(Y_train),len(Y_train)-sum(Y_train)"
   ]
  },
  {
   "cell_type": "code",
   "execution_count": null,
   "metadata": {
    "collapsed": true
   },
   "outputs": [],
   "source": []
  }
 ],
 "metadata": {
  "anaconda-cloud": {},
  "kernelspec": {
   "display_name": "Python [conda env:theano-gpu]",
   "language": "python",
   "name": "conda-env-theano-gpu-py"
  },
  "language_info": {
   "codemirror_mode": {
    "name": "ipython",
    "version": 2
   },
   "file_extension": ".py",
   "mimetype": "text/x-python",
   "name": "python",
   "nbconvert_exporter": "python",
   "pygments_lexer": "ipython2",
   "version": "2.7.12"
  }
 },
 "nbformat": 4,
 "nbformat_minor": 1
}

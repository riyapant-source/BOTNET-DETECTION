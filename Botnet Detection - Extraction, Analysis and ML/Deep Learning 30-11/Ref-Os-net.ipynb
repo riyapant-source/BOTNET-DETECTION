{
 "cells": [
  {
   "cell_type": "code",
   "execution_count": 1,
   "metadata": {
    "collapsed": true
   },
   "outputs": [],
   "source": [
    "import graphlab as gl\n",
    "import tensorflow as tf"
   ]
  },
  {
   "cell_type": "code",
   "execution_count": 2,
   "metadata": {
    "collapsed": false
   },
   "outputs": [
    {
     "name": "stdout",
     "output_type": "stream",
     "text": [
      "This non-commercial license of GraphLab Create for academic use is assigned to himadri.mishra.cse13@iitbhu.ac.in and will expire on September 21, 2017.\n"
     ]
    },
    {
     "name": "stderr",
     "output_type": "stream",
     "text": [
      "[INFO] graphlab.cython.cy_server: GraphLab Create v2.1 started. Logging: /tmp/graphlab_server_1478291274.log\n"
     ]
    },
    {
     "name": "stdout",
     "output_type": "stream",
     "text": [
      "Done reading\n"
     ]
    }
   ],
   "source": [
    "SF = gl.SFrame.read_csv('ISCX_Botnet-Testing.csv',verbose=False)\n",
    "print \"Done reading\""
   ]
  },
  {
   "cell_type": "code",
   "execution_count": 3,
   "metadata": {
    "collapsed": true
   },
   "outputs": [],
   "source": [
    "SF = SF[(SF['Source Port']!='')|(SF['Destination Port']!='')]"
   ]
  },
  {
   "cell_type": "code",
   "execution_count": 4,
   "metadata": {
    "collapsed": false
   },
   "outputs": [
    {
     "data": {
      "text/plain": [
       "4676319"
      ]
     },
     "execution_count": 4,
     "metadata": {},
     "output_type": "execute_result"
    }
   ],
   "source": [
    "len(SF)"
   ]
  },
  {
   "cell_type": "code",
   "execution_count": 3,
   "metadata": {
    "collapsed": false
   },
   "outputs": [],
   "source": [
    "#type(SF['tcp_Flags'][0])"
   ]
  },
  {
   "cell_type": "code",
   "execution_count": 4,
   "metadata": {
    "collapsed": false
   },
   "outputs": [],
   "source": [
    "#SF['tcp_Flags'].unique()"
   ]
  },
  {
   "cell_type": "code",
   "execution_count": 5,
   "metadata": {
    "collapsed": false
   },
   "outputs": [],
   "source": [
    "#SF['IP_Flags'].unique()"
   ]
  },
  {
   "cell_type": "code",
   "execution_count": 5,
   "metadata": {
    "collapsed": false
   },
   "outputs": [],
   "source": [
    "SF['tcp_Flags'] = SF['tcp_Flags'].apply(lambda x:int(x,16) if x!='' else 0)"
   ]
  },
  {
   "cell_type": "code",
   "execution_count": 6,
   "metadata": {
    "collapsed": false
   },
   "outputs": [
    {
     "data": {
      "text/plain": [
       "1224453"
      ]
     },
     "execution_count": 6,
     "metadata": {},
     "output_type": "execute_result"
    }
   ],
   "source": [
    "len(SF[SF['tcp_Flags']==0])"
   ]
  },
  {
   "cell_type": "code",
   "execution_count": 7,
   "metadata": {
    "collapsed": false
   },
   "outputs": [
    {
     "data": {
      "text/plain": [
       "3125048"
      ]
     },
     "execution_count": 7,
     "metadata": {},
     "output_type": "execute_result"
    }
   ],
   "source": [
    "len(SF[SF['Protocol']=='TCP'])"
   ]
  },
  {
   "cell_type": "code",
   "execution_count": 8,
   "metadata": {
    "collapsed": false
   },
   "outputs": [
    {
     "data": {
      "text/plain": [
       "3451866"
      ]
     },
     "execution_count": 8,
     "metadata": {},
     "output_type": "execute_result"
    }
   ],
   "source": [
    "len(SF[SF['tcp_Flags']!=0])"
   ]
  },
  {
   "cell_type": "code",
   "execution_count": 9,
   "metadata": {
    "collapsed": false
   },
   "outputs": [
    {
     "name": "stdout",
     "output_type": "stream",
     "text": [
      "556049 556049\n"
     ]
    }
   ],
   "source": [
    "print len(SF[SF['Protocol']=='UDP']),len(SF[(SF['tcp_Flags']==0)&(SF['Protocol']=='UDP')])"
   ]
  },
  {
   "cell_type": "code",
   "execution_count": 10,
   "metadata": {
    "collapsed": false
   },
   "outputs": [
    {
     "name": "stdout",
     "output_type": "stream",
     "text": [
      "1224453 1224453\n"
     ]
    }
   ],
   "source": [
    "print len(SF[(SF['tcp_Flags']==0)]),len(SF[(SF['tcp_Flags']==0)&(SF['Protocol']!='TCP')])"
   ]
  },
  {
   "cell_type": "code",
   "execution_count": 11,
   "metadata": {
    "collapsed": false
   },
   "outputs": [],
   "source": [
    "Protocols = sorted(SF['Protocol'].unique())\n",
    "#print Protocols"
   ]
  },
  {
   "cell_type": "markdown",
   "metadata": {},
   "source": [
    "## Some analysis for number of packets of each protocol type"
   ]
  },
  {
   "cell_type": "code",
   "execution_count": null,
   "metadata": {
    "collapsed": false,
    "scrolled": true
   },
   "outputs": [],
   "source": [
    "\"\"\"lt = []\n",
    "gt = []\n",
    "for x in Protocols:\n",
    "    print x\n",
    "    temp = len(SF[SF['Protocol']==x])\n",
    "    if temp<1000:\n",
    "        lt.append(x)\n",
    "    else:\n",
    "        gt.append(x)\"\"\""
   ]
  },
  {
   "cell_type": "code",
   "execution_count": 22,
   "metadata": {
    "collapsed": false
   },
   "outputs": [],
   "source": [
    "#print lt,\"\\n\\n\",gt"
   ]
  },
  {
   "cell_type": "code",
   "execution_count": 23,
   "metadata": {
    "collapsed": false
   },
   "outputs": [],
   "source": [
    "#print len(lt),len(gt)"
   ]
  },
  {
   "cell_type": "code",
   "execution_count": 12,
   "metadata": {
    "collapsed": false
   },
   "outputs": [
    {
     "data": {
      "text/html": [
       "<div style=\"max-height:1000px;max-width:1500px;overflow:auto;\"><table frame=\"box\" rules=\"cols\">\n",
       "    <tr>\n",
       "        <th style=\"padding-left: 1em; padding-right: 1em; text-align: center\">No.</th>\n",
       "        <th style=\"padding-left: 1em; padding-right: 1em; text-align: center\">Time</th>\n",
       "        <th style=\"padding-left: 1em; padding-right: 1em; text-align: center\">Source</th>\n",
       "        <th style=\"padding-left: 1em; padding-right: 1em; text-align: center\">Destination</th>\n",
       "        <th style=\"padding-left: 1em; padding-right: 1em; text-align: center\">Protocol</th>\n",
       "        <th style=\"padding-left: 1em; padding-right: 1em; text-align: center\">Length</th>\n",
       "        <th style=\"padding-left: 1em; padding-right: 1em; text-align: center\">Source Port</th>\n",
       "        <th style=\"padding-left: 1em; padding-right: 1em; text-align: center\">Destination Port</th>\n",
       "        <th style=\"padding-left: 1em; padding-right: 1em; text-align: center\">udp_Length</th>\n",
       "        <th style=\"padding-left: 1em; padding-right: 1em; text-align: center\">TCP Segment Len</th>\n",
       "    </tr>\n",
       "    <tr>\n",
       "        <td style=\"padding-left: 1em; padding-right: 1em; text-align: center; vertical-align: top\">10</td>\n",
       "        <td style=\"padding-left: 1em; padding-right: 1em; text-align: center; vertical-align: top\">9.104418</td>\n",
       "        <td style=\"padding-left: 1em; padding-right: 1em; text-align: center; vertical-align: top\">10.0.2.2</td>\n",
       "        <td style=\"padding-left: 1em; padding-right: 1em; text-align: center; vertical-align: top\">10.0.2.15</td>\n",
       "        <td style=\"padding-left: 1em; padding-right: 1em; text-align: center; vertical-align: top\">ICMP</td>\n",
       "        <td style=\"padding-left: 1em; padding-right: 1em; text-align: center; vertical-align: top\">203</td>\n",
       "        <td style=\"padding-left: 1em; padding-right: 1em; text-align: center; vertical-align: top\">1037</td>\n",
       "        <td style=\"padding-left: 1em; padding-right: 1em; text-align: center; vertical-align: top\">1900</td>\n",
       "        <td style=\"padding-left: 1em; padding-right: 1em; text-align: center; vertical-align: top\">141</td>\n",
       "        <td style=\"padding-left: 1em; padding-right: 1em; text-align: center; vertical-align: top\"></td>\n",
       "    </tr>\n",
       "    <tr>\n",
       "        <td style=\"padding-left: 1em; padding-right: 1em; text-align: center; vertical-align: top\">13</td>\n",
       "        <td style=\"padding-left: 1em; padding-right: 1em; text-align: center; vertical-align: top\">9.110817</td>\n",
       "        <td style=\"padding-left: 1em; padding-right: 1em; text-align: center; vertical-align: top\">10.0.2.2</td>\n",
       "        <td style=\"padding-left: 1em; padding-right: 1em; text-align: center; vertical-align: top\">10.0.2.15</td>\n",
       "        <td style=\"padding-left: 1em; padding-right: 1em; text-align: center; vertical-align: top\">ICMP</td>\n",
       "        <td style=\"padding-left: 1em; padding-right: 1em; text-align: center; vertical-align: top\">203</td>\n",
       "        <td style=\"padding-left: 1em; padding-right: 1em; text-align: center; vertical-align: top\">1041</td>\n",
       "        <td style=\"padding-left: 1em; padding-right: 1em; text-align: center; vertical-align: top\">1900</td>\n",
       "        <td style=\"padding-left: 1em; padding-right: 1em; text-align: center; vertical-align: top\">141</td>\n",
       "        <td style=\"padding-left: 1em; padding-right: 1em; text-align: center; vertical-align: top\"></td>\n",
       "    </tr>\n",
       "    <tr>\n",
       "        <td style=\"padding-left: 1em; padding-right: 1em; text-align: center; vertical-align: top\">15</td>\n",
       "        <td style=\"padding-left: 1em; padding-right: 1em; text-align: center; vertical-align: top\">9.178725</td>\n",
       "        <td style=\"padding-left: 1em; padding-right: 1em; text-align: center; vertical-align: top\">10.0.2.2</td>\n",
       "        <td style=\"padding-left: 1em; padding-right: 1em; text-align: center; vertical-align: top\">10.0.2.15</td>\n",
       "        <td style=\"padding-left: 1em; padding-right: 1em; text-align: center; vertical-align: top\">ICMP</td>\n",
       "        <td style=\"padding-left: 1em; padding-right: 1em; text-align: center; vertical-align: top\">138</td>\n",
       "        <td style=\"padding-left: 1em; padding-right: 1em; text-align: center; vertical-align: top\">137</td>\n",
       "        <td style=\"padding-left: 1em; padding-right: 1em; text-align: center; vertical-align: top\">137</td>\n",
       "        <td style=\"padding-left: 1em; padding-right: 1em; text-align: center; vertical-align: top\">76</td>\n",
       "        <td style=\"padding-left: 1em; padding-right: 1em; text-align: center; vertical-align: top\"></td>\n",
       "    </tr>\n",
       "</table>\n",
       "<table frame=\"box\" rules=\"cols\">\n",
       "    <tr>\n",
       "        <th style=\"padding-left: 1em; padding-right: 1em; text-align: center\">Answer RRs</th>\n",
       "        <th style=\"padding-left: 1em; padding-right: 1em; text-align: center\">tcp_Flags</th>\n",
       "        <th style=\"padding-left: 1em; padding-right: 1em; text-align: center\">Protocols in frame</th>\n",
       "        <th style=\"padding-left: 1em; padding-right: 1em; text-align: center\">Sequence number</th>\n",
       "        <th style=\"padding-left: 1em; padding-right: 1em; text-align: center\">Time to live</th>\n",
       "        <th style=\"padding-left: 1em; padding-right: 1em; text-align: center\">Source GeoIP Country</th>\n",
       "        <th style=\"padding-left: 1em; padding-right: 1em; text-align: center\">Source GeoIP Latitude</th>\n",
       "    </tr>\n",
       "    <tr>\n",
       "        <td style=\"padding-left: 1em; padding-right: 1em; text-align: center; vertical-align: top\"></td>\n",
       "        <td style=\"padding-left: 1em; padding-right: 1em; text-align: center; vertical-align: top\">0</td>\n",
       "        <td style=\"padding-left: 1em; padding-right: 1em; text-align: center; vertical-align: top\">eth:ethertype:ip:icmp:ip:<br>udp:http ...</td>\n",
       "        <td style=\"padding-left: 1em; padding-right: 1em; text-align: center; vertical-align: top\"></td>\n",
       "        <td style=\"padding-left: 1em; padding-right: 1em; text-align: center; vertical-align: top\">255,1</td>\n",
       "        <td style=\"padding-left: 1em; padding-right: 1em; text-align: center; vertical-align: top\"></td>\n",
       "        <td style=\"padding-left: 1em; padding-right: 1em; text-align: center; vertical-align: top\"></td>\n",
       "    </tr>\n",
       "    <tr>\n",
       "        <td style=\"padding-left: 1em; padding-right: 1em; text-align: center; vertical-align: top\"></td>\n",
       "        <td style=\"padding-left: 1em; padding-right: 1em; text-align: center; vertical-align: top\">0</td>\n",
       "        <td style=\"padding-left: 1em; padding-right: 1em; text-align: center; vertical-align: top\">eth:ethertype:ip:icmp:ip:<br>udp:http ...</td>\n",
       "        <td style=\"padding-left: 1em; padding-right: 1em; text-align: center; vertical-align: top\"></td>\n",
       "        <td style=\"padding-left: 1em; padding-right: 1em; text-align: center; vertical-align: top\">255,1</td>\n",
       "        <td style=\"padding-left: 1em; padding-right: 1em; text-align: center; vertical-align: top\"></td>\n",
       "        <td style=\"padding-left: 1em; padding-right: 1em; text-align: center; vertical-align: top\"></td>\n",
       "    </tr>\n",
       "    <tr>\n",
       "        <td style=\"padding-left: 1em; padding-right: 1em; text-align: center; vertical-align: top\"></td>\n",
       "        <td style=\"padding-left: 1em; padding-right: 1em; text-align: center; vertical-align: top\">0</td>\n",
       "        <td style=\"padding-left: 1em; padding-right: 1em; text-align: center; vertical-align: top\">eth:ethertype:ip:icmp:ip:<br>udp:nbns ...</td>\n",
       "        <td style=\"padding-left: 1em; padding-right: 1em; text-align: center; vertical-align: top\"></td>\n",
       "        <td style=\"padding-left: 1em; padding-right: 1em; text-align: center; vertical-align: top\">255,127</td>\n",
       "        <td style=\"padding-left: 1em; padding-right: 1em; text-align: center; vertical-align: top\"></td>\n",
       "        <td style=\"padding-left: 1em; padding-right: 1em; text-align: center; vertical-align: top\"></td>\n",
       "    </tr>\n",
       "</table>\n",
       "<table frame=\"box\" rules=\"cols\">\n",
       "    <tr>\n",
       "        <th style=\"padding-left: 1em; padding-right: 1em; text-align: center\">Source GeoIP Longitude</th>\n",
       "        <th style=\"padding-left: 1em; padding-right: 1em; text-align: center\">Destination GeoIP Country</th>\n",
       "        <th style=\"padding-left: 1em; padding-right: 1em; text-align: center\">Destination GeoIP<br>Latitude ...</th>\n",
       "        <th style=\"padding-left: 1em; padding-right: 1em; text-align: center\">Destination GeoIP<br>Longitude ...</th>\n",
       "        <th style=\"padding-left: 1em; padding-right: 1em; text-align: center\">Next sequence number</th>\n",
       "    </tr>\n",
       "    <tr>\n",
       "        <td style=\"padding-left: 1em; padding-right: 1em; text-align: center; vertical-align: top\"></td>\n",
       "        <td style=\"padding-left: 1em; padding-right: 1em; text-align: center; vertical-align: top\"></td>\n",
       "        <td style=\"padding-left: 1em; padding-right: 1em; text-align: center; vertical-align: top\"></td>\n",
       "        <td style=\"padding-left: 1em; padding-right: 1em; text-align: center; vertical-align: top\"></td>\n",
       "        <td style=\"padding-left: 1em; padding-right: 1em; text-align: center; vertical-align: top\"></td>\n",
       "    </tr>\n",
       "    <tr>\n",
       "        <td style=\"padding-left: 1em; padding-right: 1em; text-align: center; vertical-align: top\"></td>\n",
       "        <td style=\"padding-left: 1em; padding-right: 1em; text-align: center; vertical-align: top\"></td>\n",
       "        <td style=\"padding-left: 1em; padding-right: 1em; text-align: center; vertical-align: top\"></td>\n",
       "        <td style=\"padding-left: 1em; padding-right: 1em; text-align: center; vertical-align: top\"></td>\n",
       "        <td style=\"padding-left: 1em; padding-right: 1em; text-align: center; vertical-align: top\"></td>\n",
       "    </tr>\n",
       "    <tr>\n",
       "        <td style=\"padding-left: 1em; padding-right: 1em; text-align: center; vertical-align: top\"></td>\n",
       "        <td style=\"padding-left: 1em; padding-right: 1em; text-align: center; vertical-align: top\"></td>\n",
       "        <td style=\"padding-left: 1em; padding-right: 1em; text-align: center; vertical-align: top\"></td>\n",
       "        <td style=\"padding-left: 1em; padding-right: 1em; text-align: center; vertical-align: top\"></td>\n",
       "        <td style=\"padding-left: 1em; padding-right: 1em; text-align: center; vertical-align: top\"></td>\n",
       "    </tr>\n",
       "</table>\n",
       "<table frame=\"box\" rules=\"cols\">\n",
       "    <tr>\n",
       "        <th style=\"padding-left: 1em; padding-right: 1em; text-align: center\">Differentiated Services<br>Field ...</th>\n",
       "        <th style=\"padding-left: 1em; padding-right: 1em; text-align: center\">IP_Flags</th>\n",
       "        <th style=\"padding-left: 1em; padding-right: 1em; text-align: center\">Info</th>\n",
       "    </tr>\n",
       "    <tr>\n",
       "        <td style=\"padding-left: 1em; padding-right: 1em; text-align: center; vertical-align: top\">0xc0,0x00</td>\n",
       "        <td style=\"padding-left: 1em; padding-right: 1em; text-align: center; vertical-align: top\">0x00,0x00</td>\n",
       "        <td style=\"padding-left: 1em; padding-right: 1em; text-align: center; vertical-align: top\">Time-to-live exceeded<br>(Time to live exceede ...</td>\n",
       "    </tr>\n",
       "    <tr>\n",
       "        <td style=\"padding-left: 1em; padding-right: 1em; text-align: center; vertical-align: top\">0xc0,0x00</td>\n",
       "        <td style=\"padding-left: 1em; padding-right: 1em; text-align: center; vertical-align: top\">0x00,0x00</td>\n",
       "        <td style=\"padding-left: 1em; padding-right: 1em; text-align: center; vertical-align: top\">Time-to-live exceeded<br>(Time to live exceede ...</td>\n",
       "    </tr>\n",
       "    <tr>\n",
       "        <td style=\"padding-left: 1em; padding-right: 1em; text-align: center; vertical-align: top\">0xc0,0x00</td>\n",
       "        <td style=\"padding-left: 1em; padding-right: 1em; text-align: center; vertical-align: top\">0x00,0x00</td>\n",
       "        <td style=\"padding-left: 1em; padding-right: 1em; text-align: center; vertical-align: top\">Destination unreachable<br>(Network unreachable) ...</td>\n",
       "    </tr>\n",
       "</table>\n",
       "[3 rows x 25 columns]<br/>\n",
       "</div>"
      ],
      "text/plain": [
       "Columns:\n",
       "\tNo.\tint\n",
       "\tTime\tfloat\n",
       "\tSource\tstr\n",
       "\tDestination\tstr\n",
       "\tProtocol\tstr\n",
       "\tLength\tint\n",
       "\tSource Port\tstr\n",
       "\tDestination Port\tstr\n",
       "\tudp_Length\tstr\n",
       "\tTCP Segment Len\tstr\n",
       "\tAnswer RRs\tstr\n",
       "\ttcp_Flags\tint\n",
       "\tProtocols in frame\tstr\n",
       "\tSequence number\tstr\n",
       "\tTime to live\tstr\n",
       "\tSource GeoIP Country\tstr\n",
       "\tSource GeoIP Latitude\tstr\n",
       "\tSource GeoIP Longitude\tstr\n",
       "\tDestination GeoIP Country\tstr\n",
       "\tDestination GeoIP Latitude\tstr\n",
       "\tDestination GeoIP Longitude\tstr\n",
       "\tNext sequence number\tstr\n",
       "\tDifferentiated Services Field\tstr\n",
       "\tIP_Flags\tstr\n",
       "\tInfo\tstr\n",
       "\n",
       "Rows: 3\n",
       "\n",
       "Data:\n",
       "+-----+----------+----------+-------------+----------+--------+-------------+\n",
       "| No. |   Time   |  Source  | Destination | Protocol | Length | Source Port |\n",
       "+-----+----------+----------+-------------+----------+--------+-------------+\n",
       "|  10 | 9.104418 | 10.0.2.2 |  10.0.2.15  |   ICMP   |  203   |     1037    |\n",
       "|  13 | 9.110817 | 10.0.2.2 |  10.0.2.15  |   ICMP   |  203   |     1041    |\n",
       "|  15 | 9.178725 | 10.0.2.2 |  10.0.2.15  |   ICMP   |  138   |     137     |\n",
       "+-----+----------+----------+-------------+----------+--------+-------------+\n",
       "+------------------+------------+-----------------+------------+-----------+\n",
       "| Destination Port | udp_Length | TCP Segment Len | Answer RRs | tcp_Flags |\n",
       "+------------------+------------+-----------------+------------+-----------+\n",
       "|       1900       |    141     |                 |            |     0     |\n",
       "|       1900       |    141     |                 |            |     0     |\n",
       "|       137        |     76     |                 |            |     0     |\n",
       "+------------------+------------+-----------------+------------+-----------+\n",
       "+-------------------------------+-----------------+--------------+----------------------+\n",
       "|       Protocols in frame      | Sequence number | Time to live | Source GeoIP Country |\n",
       "+-------------------------------+-----------------+--------------+----------------------+\n",
       "| eth:ethertype:ip:icmp:ip:u... |                 |    255,1     |                      |\n",
       "| eth:ethertype:ip:icmp:ip:u... |                 |    255,1     |                      |\n",
       "| eth:ethertype:ip:icmp:ip:u... |                 |   255,127    |                      |\n",
       "+-------------------------------+-----------------+--------------+----------------------+\n",
       "+-----------------------+------------------------+---------------------------+----------------------------+-----+\n",
       "| Source GeoIP Latitude | Source GeoIP Longitude | Destination GeoIP Country | Destination GeoIP Latitude | ... |\n",
       "+-----------------------+------------------------+---------------------------+----------------------------+-----+\n",
       "|                       |                        |                           |                            | ... |\n",
       "|                       |                        |                           |                            | ... |\n",
       "|                       |                        |                           |                            | ... |\n",
       "+-----------------------+------------------------+---------------------------+----------------------------+-----+\n",
       "[3 rows x 25 columns]"
      ]
     },
     "execution_count": 12,
     "metadata": {},
     "output_type": "execute_result"
    }
   ],
   "source": [
    "SF[SF['Protocol']=='ICMP'].head(3)"
   ]
  },
  {
   "cell_type": "code",
   "execution_count": 13,
   "metadata": {
    "collapsed": false
   },
   "outputs": [
    {
     "data": {
      "text/plain": [
       "6518"
      ]
     },
     "execution_count": 13,
     "metadata": {},
     "output_type": "execute_result"
    }
   ],
   "source": [
    "len(SF[SF['Protocol']=='ICMP'])"
   ]
  },
  {
   "cell_type": "markdown",
   "metadata": {},
   "source": [
    "IRC\n",
    "    \"192.168.2.112\",\n",
    "    \"131.202.243.84\",\n",
    "    \"192.168.5.122\",\n",
    "    \"198.164.30.2\",\n",
    "    \"192.168.2.110\",\n",
    "    \"192.168.5.122\",\n",
    "    \"192.168.4.118\",\n",
    "    \"192.168.5.122\",\n",
    "    \"192.168.2.113\",\n",
    "    \"192.168.5.122\",\n",
    "    \"192.168.1.103\",\n",
    "    \"192.168.5.122\",\n",
    "    \"192.168.4.120\",\n",
    "    \"192.168.5.122\",\n",
    "    \"192.168.2.112\",\n",
    "    \"192.168.2.110\",\n",
    "    \"192.168.2.112\",\n",
    "    \"192.168.4.120\",\n",
    "    \"192.168.2.112\",\n",
    "    \"192.168.1.103\",\n",
    "    \"192.168.2.112\",\n",
    "    \"192.168.2.113\",\n",
    "    \"192.168.2.112\",\n",
    "    \"192.168.4.118\",\n",
    "    \"192.168.2.112\",\n",
    "    \"192.168.2.109\",\n",
    "    \"192.168.2.112\",\n",
    "    \"192.168.2.105\",\n",
    "    \"192.168.1.105\",\n",
    "    \"192.168.5.122\","
   ]
  },
  {
   "cell_type": "code",
   "execution_count": 14,
   "metadata": {
    "collapsed": false
   },
   "outputs": [],
   "source": [
    "iplist = [\n",
    "    \"147.32.84.180\",\n",
    "    \"147.32.84.170\",\n",
    "    \"147.32.84.150\",\n",
    "    \"147.32.84.140\",\n",
    "    \"147.32.84.130\",\n",
    "    \"147.32.84.160\",\n",
    "    \"10.0.2.15\",\n",
    "    \"192.168.106.141\",\n",
    "    \"192.168.106.131\",\n",
    "    \"172.16.253.130\",\n",
    "    \"172.16.253.131\",\n",
    "    \"172.16.253.129\",\n",
    "    \"172.16.253.240\",\n",
    "    \"74.78.117.238\",\n",
    "    \"158.65.110.24\",\n",
    "    \"192.168.3.35\",\n",
    "    \"192.168.3.25\",\n",
    "    \"192.168.3.65\",\n",
    "    \"172.29.0.116\",\n",
    "    \"172.29.0.109\",\n",
    "    \"172.16.253.132\",\n",
    "    \"192.168.248.165\",\n",
    "    \"10.37.130.4\",\n",
    "    \"131.202.243.84\", \n",
    "    \"198.164.30.2\", \"192.168.5.122\", \n",
    "    \"192.168.5.122\", \n",
    "    \"192.168.5.122\", \"192.168.5.122\", \"192.168.5.122\", \n",
    "    \"192.168.2.110\", \n",
    "    \"192.168.4.120\", \"192.168.1.103\",\n",
    "    \"192.168.2.113\", \"192.168.4.118\" , \"192.168.2.109\", \"192.168.2.105\", \"192.168.5.122\"]\n",
    "\n",
    "MasterBot = [ (\"192.168.2.112\", \"131.202.243.84\"), (\"192.168.5.122\", \"198.164.30.2\"), (\"192.168.2.110\", \"192.168.5.122\"),( \"192.168.4.118\", \"192.168.5.122\"), (\"192.168.2.113\", \"192.168.5.122\"), (\"192.168.1.103\", \"192.168.5.122\"), (\"192.168.4.120\", \"192.168.5.122\"), (\"192.168.2.112\", \"192.168.2.110\"), (\"192.168.2.112\", \"192.168.4.120\"), (\"192.168.2.112\", \"192.168.1.103\"), (\"192.168.2.112\", \"192.168.2.113\"), (\"192.168.2.112\", \"192.168.4.118\"), (\"192.168.2.112\", \"192.168.2.109\"), (\"192.168.2.112\", \"192.168.2.105\"), (\"192.168.1.105\", \"192.168.5.122\")]\n",
    "\n",
    "iplist = gl.SArray(iplist)\n",
    "iplist = iplist.unique() \n",
    "iplist = list(iplist)\n",
    "\n",
    "def fcheckIP(x):\n",
    "    if x['Source'] in iplist:\n",
    "        return 1\n",
    "    else:\n",
    "        if ((x['Source'],x['Destination'])  in MasterBot ) or ((x['Destination'],x['Source'])  in MasterBot ) :\n",
    "            return 1\n",
    "        else:\n",
    "            return 0\n",
    "        \n",
    "\n",
    "SF['isBot'] = SF[['Source','Destination']].apply(lambda x: fcheckIP(x))"
   ]
  },
  {
   "cell_type": "code",
   "execution_count": 15,
   "metadata": {
    "collapsed": false,
    "scrolled": true
   },
   "outputs": [
    {
     "data": {
      "text/html": [
       "<div style=\"max-height:1000px;max-width:1500px;overflow:auto;\"><table frame=\"box\" rules=\"cols\">\n",
       "    <tr>\n",
       "        <th style=\"padding-left: 1em; padding-right: 1em; text-align: center\">No.</th>\n",
       "        <th style=\"padding-left: 1em; padding-right: 1em; text-align: center\">Time</th>\n",
       "        <th style=\"padding-left: 1em; padding-right: 1em; text-align: center\">Source</th>\n",
       "        <th style=\"padding-left: 1em; padding-right: 1em; text-align: center\">Destination</th>\n",
       "        <th style=\"padding-left: 1em; padding-right: 1em; text-align: center\">Protocol</th>\n",
       "        <th style=\"padding-left: 1em; padding-right: 1em; text-align: center\">Length</th>\n",
       "        <th style=\"padding-left: 1em; padding-right: 1em; text-align: center\">Source Port</th>\n",
       "        <th style=\"padding-left: 1em; padding-right: 1em; text-align: center\">Destination Port</th>\n",
       "        <th style=\"padding-left: 1em; padding-right: 1em; text-align: center\">udp_Length</th>\n",
       "    </tr>\n",
       "    <tr>\n",
       "        <td style=\"padding-left: 1em; padding-right: 1em; text-align: center; vertical-align: top\">3550857</td>\n",
       "        <td style=\"padding-left: 1em; padding-right: 1em; text-align: center; vertical-align: top\">1276572652.01</td>\n",
       "        <td style=\"padding-left: 1em; padding-right: 1em; text-align: center; vertical-align: top\">192.168.2.112</td>\n",
       "        <td style=\"padding-left: 1em; padding-right: 1em; text-align: center; vertical-align: top\">192.168.2.113</td>\n",
       "        <td style=\"padding-left: 1em; padding-right: 1em; text-align: center; vertical-align: top\">TCP</td>\n",
       "        <td style=\"padding-left: 1em; padding-right: 1em; text-align: center; vertical-align: top\">62</td>\n",
       "        <td style=\"padding-left: 1em; padding-right: 1em; text-align: center; vertical-align: top\">2533</td>\n",
       "        <td style=\"padding-left: 1em; padding-right: 1em; text-align: center; vertical-align: top\">139</td>\n",
       "        <td style=\"padding-left: 1em; padding-right: 1em; text-align: center; vertical-align: top\"></td>\n",
       "    </tr>\n",
       "    <tr>\n",
       "        <td style=\"padding-left: 1em; padding-right: 1em; text-align: center; vertical-align: top\">3550859</td>\n",
       "        <td style=\"padding-left: 1em; padding-right: 1em; text-align: center; vertical-align: top\">1276572652.01</td>\n",
       "        <td style=\"padding-left: 1em; padding-right: 1em; text-align: center; vertical-align: top\">192.168.2.112</td>\n",
       "        <td style=\"padding-left: 1em; padding-right: 1em; text-align: center; vertical-align: top\">192.168.2.113</td>\n",
       "        <td style=\"padding-left: 1em; padding-right: 1em; text-align: center; vertical-align: top\">NBSS</td>\n",
       "        <td style=\"padding-left: 1em; padding-right: 1em; text-align: center; vertical-align: top\">126</td>\n",
       "        <td style=\"padding-left: 1em; padding-right: 1em; text-align: center; vertical-align: top\">2533</td>\n",
       "        <td style=\"padding-left: 1em; padding-right: 1em; text-align: center; vertical-align: top\">139</td>\n",
       "        <td style=\"padding-left: 1em; padding-right: 1em; text-align: center; vertical-align: top\"></td>\n",
       "    </tr>\n",
       "    <tr>\n",
       "        <td style=\"padding-left: 1em; padding-right: 1em; text-align: center; vertical-align: top\">3550861</td>\n",
       "        <td style=\"padding-left: 1em; padding-right: 1em; text-align: center; vertical-align: top\">1276572652.01</td>\n",
       "        <td style=\"padding-left: 1em; padding-right: 1em; text-align: center; vertical-align: top\">192.168.2.112</td>\n",
       "        <td style=\"padding-left: 1em; padding-right: 1em; text-align: center; vertical-align: top\">192.168.2.113</td>\n",
       "        <td style=\"padding-left: 1em; padding-right: 1em; text-align: center; vertical-align: top\">SMB</td>\n",
       "        <td style=\"padding-left: 1em; padding-right: 1em; text-align: center; vertical-align: top\">191</td>\n",
       "        <td style=\"padding-left: 1em; padding-right: 1em; text-align: center; vertical-align: top\">2533</td>\n",
       "        <td style=\"padding-left: 1em; padding-right: 1em; text-align: center; vertical-align: top\">139</td>\n",
       "        <td style=\"padding-left: 1em; padding-right: 1em; text-align: center; vertical-align: top\"></td>\n",
       "    </tr>\n",
       "    <tr>\n",
       "        <td style=\"padding-left: 1em; padding-right: 1em; text-align: center; vertical-align: top\">3550863</td>\n",
       "        <td style=\"padding-left: 1em; padding-right: 1em; text-align: center; vertical-align: top\">1276572652.01</td>\n",
       "        <td style=\"padding-left: 1em; padding-right: 1em; text-align: center; vertical-align: top\">192.168.2.112</td>\n",
       "        <td style=\"padding-left: 1em; padding-right: 1em; text-align: center; vertical-align: top\">192.168.2.113</td>\n",
       "        <td style=\"padding-left: 1em; padding-right: 1em; text-align: center; vertical-align: top\">SMB</td>\n",
       "        <td style=\"padding-left: 1em; padding-right: 1em; text-align: center; vertical-align: top\">270</td>\n",
       "        <td style=\"padding-left: 1em; padding-right: 1em; text-align: center; vertical-align: top\">2533</td>\n",
       "        <td style=\"padding-left: 1em; padding-right: 1em; text-align: center; vertical-align: top\">139</td>\n",
       "        <td style=\"padding-left: 1em; padding-right: 1em; text-align: center; vertical-align: top\"></td>\n",
       "    </tr>\n",
       "    <tr>\n",
       "        <td style=\"padding-left: 1em; padding-right: 1em; text-align: center; vertical-align: top\">3550866</td>\n",
       "        <td style=\"padding-left: 1em; padding-right: 1em; text-align: center; vertical-align: top\">1276572652.01</td>\n",
       "        <td style=\"padding-left: 1em; padding-right: 1em; text-align: center; vertical-align: top\">192.168.2.112</td>\n",
       "        <td style=\"padding-left: 1em; padding-right: 1em; text-align: center; vertical-align: top\">192.168.2.113</td>\n",
       "        <td style=\"padding-left: 1em; padding-right: 1em; text-align: center; vertical-align: top\">SMB</td>\n",
       "        <td style=\"padding-left: 1em; padding-right: 1em; text-align: center; vertical-align: top\">318</td>\n",
       "        <td style=\"padding-left: 1em; padding-right: 1em; text-align: center; vertical-align: top\">2533</td>\n",
       "        <td style=\"padding-left: 1em; padding-right: 1em; text-align: center; vertical-align: top\">139</td>\n",
       "        <td style=\"padding-left: 1em; padding-right: 1em; text-align: center; vertical-align: top\"></td>\n",
       "    </tr>\n",
       "    <tr>\n",
       "        <td style=\"padding-left: 1em; padding-right: 1em; text-align: center; vertical-align: top\">3550868</td>\n",
       "        <td style=\"padding-left: 1em; padding-right: 1em; text-align: center; vertical-align: top\">1276572652.01</td>\n",
       "        <td style=\"padding-left: 1em; padding-right: 1em; text-align: center; vertical-align: top\">192.168.2.112</td>\n",
       "        <td style=\"padding-left: 1em; padding-right: 1em; text-align: center; vertical-align: top\">192.168.2.113</td>\n",
       "        <td style=\"padding-left: 1em; padding-right: 1em; text-align: center; vertical-align: top\">SMB</td>\n",
       "        <td style=\"padding-left: 1em; padding-right: 1em; text-align: center; vertical-align: top\">142</td>\n",
       "        <td style=\"padding-left: 1em; padding-right: 1em; text-align: center; vertical-align: top\">2533</td>\n",
       "        <td style=\"padding-left: 1em; padding-right: 1em; text-align: center; vertical-align: top\">139</td>\n",
       "        <td style=\"padding-left: 1em; padding-right: 1em; text-align: center; vertical-align: top\"></td>\n",
       "    </tr>\n",
       "    <tr>\n",
       "        <td style=\"padding-left: 1em; padding-right: 1em; text-align: center; vertical-align: top\">3550870</td>\n",
       "        <td style=\"padding-left: 1em; padding-right: 1em; text-align: center; vertical-align: top\">1276572652.01</td>\n",
       "        <td style=\"padding-left: 1em; padding-right: 1em; text-align: center; vertical-align: top\">192.168.2.112</td>\n",
       "        <td style=\"padding-left: 1em; padding-right: 1em; text-align: center; vertical-align: top\">192.168.2.113</td>\n",
       "        <td style=\"padding-left: 1em; padding-right: 1em; text-align: center; vertical-align: top\">LANMAN</td>\n",
       "        <td style=\"padding-left: 1em; padding-right: 1em; text-align: center; vertical-align: top\">176</td>\n",
       "        <td style=\"padding-left: 1em; padding-right: 1em; text-align: center; vertical-align: top\">2533</td>\n",
       "        <td style=\"padding-left: 1em; padding-right: 1em; text-align: center; vertical-align: top\">139</td>\n",
       "        <td style=\"padding-left: 1em; padding-right: 1em; text-align: center; vertical-align: top\"></td>\n",
       "    </tr>\n",
       "    <tr>\n",
       "        <td style=\"padding-left: 1em; padding-right: 1em; text-align: center; vertical-align: top\">3550875</td>\n",
       "        <td style=\"padding-left: 1em; padding-right: 1em; text-align: center; vertical-align: top\">1276572652.01</td>\n",
       "        <td style=\"padding-left: 1em; padding-right: 1em; text-align: center; vertical-align: top\">192.168.2.112</td>\n",
       "        <td style=\"padding-left: 1em; padding-right: 1em; text-align: center; vertical-align: top\">192.168.2.113</td>\n",
       "        <td style=\"padding-left: 1em; padding-right: 1em; text-align: center; vertical-align: top\">SMB</td>\n",
       "        <td style=\"padding-left: 1em; padding-right: 1em; text-align: center; vertical-align: top\">97</td>\n",
       "        <td style=\"padding-left: 1em; padding-right: 1em; text-align: center; vertical-align: top\">2533</td>\n",
       "        <td style=\"padding-left: 1em; padding-right: 1em; text-align: center; vertical-align: top\">139</td>\n",
       "        <td style=\"padding-left: 1em; padding-right: 1em; text-align: center; vertical-align: top\"></td>\n",
       "    </tr>\n",
       "    <tr>\n",
       "        <td style=\"padding-left: 1em; padding-right: 1em; text-align: center; vertical-align: top\">3550883</td>\n",
       "        <td style=\"padding-left: 1em; padding-right: 1em; text-align: center; vertical-align: top\">1276572652.01</td>\n",
       "        <td style=\"padding-left: 1em; padding-right: 1em; text-align: center; vertical-align: top\">192.168.2.112</td>\n",
       "        <td style=\"padding-left: 1em; padding-right: 1em; text-align: center; vertical-align: top\">192.168.2.113</td>\n",
       "        <td style=\"padding-left: 1em; padding-right: 1em; text-align: center; vertical-align: top\">SMB</td>\n",
       "        <td style=\"padding-left: 1em; padding-right: 1em; text-align: center; vertical-align: top\">93</td>\n",
       "        <td style=\"padding-left: 1em; padding-right: 1em; text-align: center; vertical-align: top\">2533</td>\n",
       "        <td style=\"padding-left: 1em; padding-right: 1em; text-align: center; vertical-align: top\">139</td>\n",
       "        <td style=\"padding-left: 1em; padding-right: 1em; text-align: center; vertical-align: top\"></td>\n",
       "    </tr>\n",
       "    <tr>\n",
       "        <td style=\"padding-left: 1em; padding-right: 1em; text-align: center; vertical-align: top\">3550887</td>\n",
       "        <td style=\"padding-left: 1em; padding-right: 1em; text-align: center; vertical-align: top\">1276572652.01</td>\n",
       "        <td style=\"padding-left: 1em; padding-right: 1em; text-align: center; vertical-align: top\">192.168.2.112</td>\n",
       "        <td style=\"padding-left: 1em; padding-right: 1em; text-align: center; vertical-align: top\">192.168.2.113</td>\n",
       "        <td style=\"padding-left: 1em; padding-right: 1em; text-align: center; vertical-align: top\">TCP</td>\n",
       "        <td style=\"padding-left: 1em; padding-right: 1em; text-align: center; vertical-align: top\">60</td>\n",
       "        <td style=\"padding-left: 1em; padding-right: 1em; text-align: center; vertical-align: top\">2533</td>\n",
       "        <td style=\"padding-left: 1em; padding-right: 1em; text-align: center; vertical-align: top\">139</td>\n",
       "        <td style=\"padding-left: 1em; padding-right: 1em; text-align: center; vertical-align: top\"></td>\n",
       "    </tr>\n",
       "</table>\n",
       "<table frame=\"box\" rules=\"cols\">\n",
       "    <tr>\n",
       "        <th style=\"padding-left: 1em; padding-right: 1em; text-align: center\">TCP Segment Len</th>\n",
       "        <th style=\"padding-left: 1em; padding-right: 1em; text-align: center\">Answer RRs</th>\n",
       "        <th style=\"padding-left: 1em; padding-right: 1em; text-align: center\">tcp_Flags</th>\n",
       "        <th style=\"padding-left: 1em; padding-right: 1em; text-align: center\">Protocols in frame</th>\n",
       "        <th style=\"padding-left: 1em; padding-right: 1em; text-align: center\">Sequence number</th>\n",
       "        <th style=\"padding-left: 1em; padding-right: 1em; text-align: center\">Time to live</th>\n",
       "        <th style=\"padding-left: 1em; padding-right: 1em; text-align: center\">Source GeoIP Country</th>\n",
       "    </tr>\n",
       "    <tr>\n",
       "        <td style=\"padding-left: 1em; padding-right: 1em; text-align: center; vertical-align: top\">0</td>\n",
       "        <td style=\"padding-left: 1em; padding-right: 1em; text-align: center; vertical-align: top\"></td>\n",
       "        <td style=\"padding-left: 1em; padding-right: 1em; text-align: center; vertical-align: top\">2</td>\n",
       "        <td style=\"padding-left: 1em; padding-right: 1em; text-align: center; vertical-align: top\">eth:ethertype:ip:tcp</td>\n",
       "        <td style=\"padding-left: 1em; padding-right: 1em; text-align: center; vertical-align: top\">0</td>\n",
       "        <td style=\"padding-left: 1em; padding-right: 1em; text-align: center; vertical-align: top\">128</td>\n",
       "        <td style=\"padding-left: 1em; padding-right: 1em; text-align: center; vertical-align: top\"></td>\n",
       "    </tr>\n",
       "    <tr>\n",
       "        <td style=\"padding-left: 1em; padding-right: 1em; text-align: center; vertical-align: top\">72</td>\n",
       "        <td style=\"padding-left: 1em; padding-right: 1em; text-align: center; vertical-align: top\"></td>\n",
       "        <td style=\"padding-left: 1em; padding-right: 1em; text-align: center; vertical-align: top\">24</td>\n",
       "        <td style=\"padding-left: 1em; padding-right: 1em; text-align: center; vertical-align: top\">eth:ethertype:ip:tcp:nbss</td>\n",
       "        <td style=\"padding-left: 1em; padding-right: 1em; text-align: center; vertical-align: top\">1</td>\n",
       "        <td style=\"padding-left: 1em; padding-right: 1em; text-align: center; vertical-align: top\">128</td>\n",
       "        <td style=\"padding-left: 1em; padding-right: 1em; text-align: center; vertical-align: top\"></td>\n",
       "    </tr>\n",
       "    <tr>\n",
       "        <td style=\"padding-left: 1em; padding-right: 1em; text-align: center; vertical-align: top\">137</td>\n",
       "        <td style=\"padding-left: 1em; padding-right: 1em; text-align: center; vertical-align: top\"></td>\n",
       "        <td style=\"padding-left: 1em; padding-right: 1em; text-align: center; vertical-align: top\">24</td>\n",
       "        <td style=\"padding-left: 1em; padding-right: 1em; text-align: center; vertical-align: top\">eth:ethertype:ip:tcp:nbss<br>:smb ...</td>\n",
       "        <td style=\"padding-left: 1em; padding-right: 1em; text-align: center; vertical-align: top\">73</td>\n",
       "        <td style=\"padding-left: 1em; padding-right: 1em; text-align: center; vertical-align: top\">128</td>\n",
       "        <td style=\"padding-left: 1em; padding-right: 1em; text-align: center; vertical-align: top\"></td>\n",
       "    </tr>\n",
       "    <tr>\n",
       "        <td style=\"padding-left: 1em; padding-right: 1em; text-align: center; vertical-align: top\">216</td>\n",
       "        <td style=\"padding-left: 1em; padding-right: 1em; text-align: center; vertical-align: top\"></td>\n",
       "        <td style=\"padding-left: 1em; padding-right: 1em; text-align: center; vertical-align: top\">24</td>\n",
       "        <td style=\"padding-left: 1em; padding-right: 1em; text-align: center; vertical-align: top\">eth:ethertype:ip:tcp:nbss<br>:smb:ntlmssp ...</td>\n",
       "        <td style=\"padding-left: 1em; padding-right: 1em; text-align: center; vertical-align: top\">210</td>\n",
       "        <td style=\"padding-left: 1em; padding-right: 1em; text-align: center; vertical-align: top\">128</td>\n",
       "        <td style=\"padding-left: 1em; padding-right: 1em; text-align: center; vertical-align: top\"></td>\n",
       "    </tr>\n",
       "    <tr>\n",
       "        <td style=\"padding-left: 1em; padding-right: 1em; text-align: center; vertical-align: top\">264</td>\n",
       "        <td style=\"padding-left: 1em; padding-right: 1em; text-align: center; vertical-align: top\"></td>\n",
       "        <td style=\"padding-left: 1em; padding-right: 1em; text-align: center; vertical-align: top\">24</td>\n",
       "        <td style=\"padding-left: 1em; padding-right: 1em; text-align: center; vertical-align: top\">eth:ethertype:ip:tcp:nbss<br>:smb:ntlmssp ...</td>\n",
       "        <td style=\"padding-left: 1em; padding-right: 1em; text-align: center; vertical-align: top\">426</td>\n",
       "        <td style=\"padding-left: 1em; padding-right: 1em; text-align: center; vertical-align: top\">128</td>\n",
       "        <td style=\"padding-left: 1em; padding-right: 1em; text-align: center; vertical-align: top\"></td>\n",
       "    </tr>\n",
       "    <tr>\n",
       "        <td style=\"padding-left: 1em; padding-right: 1em; text-align: center; vertical-align: top\">88</td>\n",
       "        <td style=\"padding-left: 1em; padding-right: 1em; text-align: center; vertical-align: top\"></td>\n",
       "        <td style=\"padding-left: 1em; padding-right: 1em; text-align: center; vertical-align: top\">24</td>\n",
       "        <td style=\"padding-left: 1em; padding-right: 1em; text-align: center; vertical-align: top\">eth:ethertype:ip:tcp:nbss<br>:smb ...</td>\n",
       "        <td style=\"padding-left: 1em; padding-right: 1em; text-align: center; vertical-align: top\">690</td>\n",
       "        <td style=\"padding-left: 1em; padding-right: 1em; text-align: center; vertical-align: top\">128</td>\n",
       "        <td style=\"padding-left: 1em; padding-right: 1em; text-align: center; vertical-align: top\"></td>\n",
       "    </tr>\n",
       "    <tr>\n",
       "        <td style=\"padding-left: 1em; padding-right: 1em; text-align: center; vertical-align: top\">122</td>\n",
       "        <td style=\"padding-left: 1em; padding-right: 1em; text-align: center; vertical-align: top\"></td>\n",
       "        <td style=\"padding-left: 1em; padding-right: 1em; text-align: center; vertical-align: top\">24</td>\n",
       "        <td style=\"padding-left: 1em; padding-right: 1em; text-align: center; vertical-align: top\">eth:ethertype:ip:tcp:nbss<br>:smb ...</td>\n",
       "        <td style=\"padding-left: 1em; padding-right: 1em; text-align: center; vertical-align: top\">778</td>\n",
       "        <td style=\"padding-left: 1em; padding-right: 1em; text-align: center; vertical-align: top\">128</td>\n",
       "        <td style=\"padding-left: 1em; padding-right: 1em; text-align: center; vertical-align: top\"></td>\n",
       "    </tr>\n",
       "    <tr>\n",
       "        <td style=\"padding-left: 1em; padding-right: 1em; text-align: center; vertical-align: top\">43</td>\n",
       "        <td style=\"padding-left: 1em; padding-right: 1em; text-align: center; vertical-align: top\"></td>\n",
       "        <td style=\"padding-left: 1em; padding-right: 1em; text-align: center; vertical-align: top\">24</td>\n",
       "        <td style=\"padding-left: 1em; padding-right: 1em; text-align: center; vertical-align: top\">eth:ethertype:ip:tcp:nbss<br>:smb ...</td>\n",
       "        <td style=\"padding-left: 1em; padding-right: 1em; text-align: center; vertical-align: top\">900</td>\n",
       "        <td style=\"padding-left: 1em; padding-right: 1em; text-align: center; vertical-align: top\">128</td>\n",
       "        <td style=\"padding-left: 1em; padding-right: 1em; text-align: center; vertical-align: top\"></td>\n",
       "    </tr>\n",
       "    <tr>\n",
       "        <td style=\"padding-left: 1em; padding-right: 1em; text-align: center; vertical-align: top\">39</td>\n",
       "        <td style=\"padding-left: 1em; padding-right: 1em; text-align: center; vertical-align: top\"></td>\n",
       "        <td style=\"padding-left: 1em; padding-right: 1em; text-align: center; vertical-align: top\">24</td>\n",
       "        <td style=\"padding-left: 1em; padding-right: 1em; text-align: center; vertical-align: top\">eth:ethertype:ip:tcp:nbss<br>:smb ...</td>\n",
       "        <td style=\"padding-left: 1em; padding-right: 1em; text-align: center; vertical-align: top\">943</td>\n",
       "        <td style=\"padding-left: 1em; padding-right: 1em; text-align: center; vertical-align: top\">128</td>\n",
       "        <td style=\"padding-left: 1em; padding-right: 1em; text-align: center; vertical-align: top\"></td>\n",
       "    </tr>\n",
       "    <tr>\n",
       "        <td style=\"padding-left: 1em; padding-right: 1em; text-align: center; vertical-align: top\">0</td>\n",
       "        <td style=\"padding-left: 1em; padding-right: 1em; text-align: center; vertical-align: top\"></td>\n",
       "        <td style=\"padding-left: 1em; padding-right: 1em; text-align: center; vertical-align: top\">17</td>\n",
       "        <td style=\"padding-left: 1em; padding-right: 1em; text-align: center; vertical-align: top\">eth:ethertype:ip:tcp</td>\n",
       "        <td style=\"padding-left: 1em; padding-right: 1em; text-align: center; vertical-align: top\">982</td>\n",
       "        <td style=\"padding-left: 1em; padding-right: 1em; text-align: center; vertical-align: top\">128</td>\n",
       "        <td style=\"padding-left: 1em; padding-right: 1em; text-align: center; vertical-align: top\"></td>\n",
       "    </tr>\n",
       "</table>\n",
       "<table frame=\"box\" rules=\"cols\">\n",
       "    <tr>\n",
       "        <th style=\"padding-left: 1em; padding-right: 1em; text-align: center\">Source GeoIP Latitude</th>\n",
       "        <th style=\"padding-left: 1em; padding-right: 1em; text-align: center\">Source GeoIP Longitude</th>\n",
       "        <th style=\"padding-left: 1em; padding-right: 1em; text-align: center\">Destination GeoIP Country</th>\n",
       "        <th style=\"padding-left: 1em; padding-right: 1em; text-align: center\">Destination GeoIP<br>Latitude ...</th>\n",
       "        <th style=\"padding-left: 1em; padding-right: 1em; text-align: center\">Destination GeoIP<br>Longitude ...</th>\n",
       "    </tr>\n",
       "    <tr>\n",
       "        <td style=\"padding-left: 1em; padding-right: 1em; text-align: center; vertical-align: top\"></td>\n",
       "        <td style=\"padding-left: 1em; padding-right: 1em; text-align: center; vertical-align: top\"></td>\n",
       "        <td style=\"padding-left: 1em; padding-right: 1em; text-align: center; vertical-align: top\"></td>\n",
       "        <td style=\"padding-left: 1em; padding-right: 1em; text-align: center; vertical-align: top\"></td>\n",
       "        <td style=\"padding-left: 1em; padding-right: 1em; text-align: center; vertical-align: top\"></td>\n",
       "    </tr>\n",
       "    <tr>\n",
       "        <td style=\"padding-left: 1em; padding-right: 1em; text-align: center; vertical-align: top\"></td>\n",
       "        <td style=\"padding-left: 1em; padding-right: 1em; text-align: center; vertical-align: top\"></td>\n",
       "        <td style=\"padding-left: 1em; padding-right: 1em; text-align: center; vertical-align: top\"></td>\n",
       "        <td style=\"padding-left: 1em; padding-right: 1em; text-align: center; vertical-align: top\"></td>\n",
       "        <td style=\"padding-left: 1em; padding-right: 1em; text-align: center; vertical-align: top\"></td>\n",
       "    </tr>\n",
       "    <tr>\n",
       "        <td style=\"padding-left: 1em; padding-right: 1em; text-align: center; vertical-align: top\"></td>\n",
       "        <td style=\"padding-left: 1em; padding-right: 1em; text-align: center; vertical-align: top\"></td>\n",
       "        <td style=\"padding-left: 1em; padding-right: 1em; text-align: center; vertical-align: top\"></td>\n",
       "        <td style=\"padding-left: 1em; padding-right: 1em; text-align: center; vertical-align: top\"></td>\n",
       "        <td style=\"padding-left: 1em; padding-right: 1em; text-align: center; vertical-align: top\"></td>\n",
       "    </tr>\n",
       "    <tr>\n",
       "        <td style=\"padding-left: 1em; padding-right: 1em; text-align: center; vertical-align: top\"></td>\n",
       "        <td style=\"padding-left: 1em; padding-right: 1em; text-align: center; vertical-align: top\"></td>\n",
       "        <td style=\"padding-left: 1em; padding-right: 1em; text-align: center; vertical-align: top\"></td>\n",
       "        <td style=\"padding-left: 1em; padding-right: 1em; text-align: center; vertical-align: top\"></td>\n",
       "        <td style=\"padding-left: 1em; padding-right: 1em; text-align: center; vertical-align: top\"></td>\n",
       "    </tr>\n",
       "    <tr>\n",
       "        <td style=\"padding-left: 1em; padding-right: 1em; text-align: center; vertical-align: top\"></td>\n",
       "        <td style=\"padding-left: 1em; padding-right: 1em; text-align: center; vertical-align: top\"></td>\n",
       "        <td style=\"padding-left: 1em; padding-right: 1em; text-align: center; vertical-align: top\"></td>\n",
       "        <td style=\"padding-left: 1em; padding-right: 1em; text-align: center; vertical-align: top\"></td>\n",
       "        <td style=\"padding-left: 1em; padding-right: 1em; text-align: center; vertical-align: top\"></td>\n",
       "    </tr>\n",
       "    <tr>\n",
       "        <td style=\"padding-left: 1em; padding-right: 1em; text-align: center; vertical-align: top\"></td>\n",
       "        <td style=\"padding-left: 1em; padding-right: 1em; text-align: center; vertical-align: top\"></td>\n",
       "        <td style=\"padding-left: 1em; padding-right: 1em; text-align: center; vertical-align: top\"></td>\n",
       "        <td style=\"padding-left: 1em; padding-right: 1em; text-align: center; vertical-align: top\"></td>\n",
       "        <td style=\"padding-left: 1em; padding-right: 1em; text-align: center; vertical-align: top\"></td>\n",
       "    </tr>\n",
       "    <tr>\n",
       "        <td style=\"padding-left: 1em; padding-right: 1em; text-align: center; vertical-align: top\"></td>\n",
       "        <td style=\"padding-left: 1em; padding-right: 1em; text-align: center; vertical-align: top\"></td>\n",
       "        <td style=\"padding-left: 1em; padding-right: 1em; text-align: center; vertical-align: top\"></td>\n",
       "        <td style=\"padding-left: 1em; padding-right: 1em; text-align: center; vertical-align: top\"></td>\n",
       "        <td style=\"padding-left: 1em; padding-right: 1em; text-align: center; vertical-align: top\"></td>\n",
       "    </tr>\n",
       "    <tr>\n",
       "        <td style=\"padding-left: 1em; padding-right: 1em; text-align: center; vertical-align: top\"></td>\n",
       "        <td style=\"padding-left: 1em; padding-right: 1em; text-align: center; vertical-align: top\"></td>\n",
       "        <td style=\"padding-left: 1em; padding-right: 1em; text-align: center; vertical-align: top\"></td>\n",
       "        <td style=\"padding-left: 1em; padding-right: 1em; text-align: center; vertical-align: top\"></td>\n",
       "        <td style=\"padding-left: 1em; padding-right: 1em; text-align: center; vertical-align: top\"></td>\n",
       "    </tr>\n",
       "    <tr>\n",
       "        <td style=\"padding-left: 1em; padding-right: 1em; text-align: center; vertical-align: top\"></td>\n",
       "        <td style=\"padding-left: 1em; padding-right: 1em; text-align: center; vertical-align: top\"></td>\n",
       "        <td style=\"padding-left: 1em; padding-right: 1em; text-align: center; vertical-align: top\"></td>\n",
       "        <td style=\"padding-left: 1em; padding-right: 1em; text-align: center; vertical-align: top\"></td>\n",
       "        <td style=\"padding-left: 1em; padding-right: 1em; text-align: center; vertical-align: top\"></td>\n",
       "    </tr>\n",
       "    <tr>\n",
       "        <td style=\"padding-left: 1em; padding-right: 1em; text-align: center; vertical-align: top\"></td>\n",
       "        <td style=\"padding-left: 1em; padding-right: 1em; text-align: center; vertical-align: top\"></td>\n",
       "        <td style=\"padding-left: 1em; padding-right: 1em; text-align: center; vertical-align: top\"></td>\n",
       "        <td style=\"padding-left: 1em; padding-right: 1em; text-align: center; vertical-align: top\"></td>\n",
       "        <td style=\"padding-left: 1em; padding-right: 1em; text-align: center; vertical-align: top\"></td>\n",
       "    </tr>\n",
       "</table>\n",
       "<table frame=\"box\" rules=\"cols\">\n",
       "    <tr>\n",
       "        <th style=\"padding-left: 1em; padding-right: 1em; text-align: center\">Next sequence number</th>\n",
       "        <th style=\"padding-left: 1em; padding-right: 1em; text-align: center\">Differentiated Services<br>Field ...</th>\n",
       "        <th style=\"padding-left: 1em; padding-right: 1em; text-align: center\">IP_Flags</th>\n",
       "        <th style=\"padding-left: 1em; padding-right: 1em; text-align: center\">Info</th>\n",
       "        <th style=\"padding-left: 1em; padding-right: 1em; text-align: center\">isBot</th>\n",
       "    </tr>\n",
       "    <tr>\n",
       "        <td style=\"padding-left: 1em; padding-right: 1em; text-align: center; vertical-align: top\"></td>\n",
       "        <td style=\"padding-left: 1em; padding-right: 1em; text-align: center; vertical-align: top\">0x00</td>\n",
       "        <td style=\"padding-left: 1em; padding-right: 1em; text-align: center; vertical-align: top\">0x02</td>\n",
       "        <td style=\"padding-left: 1em; padding-right: 1em; text-align: center; vertical-align: top\">2533  &gt;  139 [SYN] Seq=0<br>Win=64240 Len=0 MSS=1460 ...</td>\n",
       "        <td style=\"padding-left: 1em; padding-right: 1em; text-align: center; vertical-align: top\">1</td>\n",
       "    </tr>\n",
       "    <tr>\n",
       "        <td style=\"padding-left: 1em; padding-right: 1em; text-align: center; vertical-align: top\">73</td>\n",
       "        <td style=\"padding-left: 1em; padding-right: 1em; text-align: center; vertical-align: top\">0x00</td>\n",
       "        <td style=\"padding-left: 1em; padding-right: 1em; text-align: center; vertical-align: top\">0x02</td>\n",
       "        <td style=\"padding-left: 1em; padding-right: 1em; text-align: center; vertical-align: top\">Session request, to<br>TESTBED13&lt;20&gt; from ...</td>\n",
       "        <td style=\"padding-left: 1em; padding-right: 1em; text-align: center; vertical-align: top\">1</td>\n",
       "    </tr>\n",
       "    <tr>\n",
       "        <td style=\"padding-left: 1em; padding-right: 1em; text-align: center; vertical-align: top\">210</td>\n",
       "        <td style=\"padding-left: 1em; padding-right: 1em; text-align: center; vertical-align: top\">0x00</td>\n",
       "        <td style=\"padding-left: 1em; padding-right: 1em; text-align: center; vertical-align: top\">0x02</td>\n",
       "        <td style=\"padding-left: 1em; padding-right: 1em; text-align: center; vertical-align: top\">Negotiate Protocol<br>Request ...</td>\n",
       "        <td style=\"padding-left: 1em; padding-right: 1em; text-align: center; vertical-align: top\">1</td>\n",
       "    </tr>\n",
       "    <tr>\n",
       "        <td style=\"padding-left: 1em; padding-right: 1em; text-align: center; vertical-align: top\">426</td>\n",
       "        <td style=\"padding-left: 1em; padding-right: 1em; text-align: center; vertical-align: top\">0x00</td>\n",
       "        <td style=\"padding-left: 1em; padding-right: 1em; text-align: center; vertical-align: top\">0x02</td>\n",
       "        <td style=\"padding-left: 1em; padding-right: 1em; text-align: center; vertical-align: top\">Session Setup AndX<br>Request, ...</td>\n",
       "        <td style=\"padding-left: 1em; padding-right: 1em; text-align: center; vertical-align: top\">1</td>\n",
       "    </tr>\n",
       "    <tr>\n",
       "        <td style=\"padding-left: 1em; padding-right: 1em; text-align: center; vertical-align: top\">690</td>\n",
       "        <td style=\"padding-left: 1em; padding-right: 1em; text-align: center; vertical-align: top\">0x00</td>\n",
       "        <td style=\"padding-left: 1em; padding-right: 1em; text-align: center; vertical-align: top\">0x02</td>\n",
       "        <td style=\"padding-left: 1em; padding-right: 1em; text-align: center; vertical-align: top\">Session Setup AndX<br>Request, NTLMSSP_AUTH, ...</td>\n",
       "        <td style=\"padding-left: 1em; padding-right: 1em; text-align: center; vertical-align: top\">1</td>\n",
       "    </tr>\n",
       "    <tr>\n",
       "        <td style=\"padding-left: 1em; padding-right: 1em; text-align: center; vertical-align: top\">778</td>\n",
       "        <td style=\"padding-left: 1em; padding-right: 1em; text-align: center; vertical-align: top\">0x00</td>\n",
       "        <td style=\"padding-left: 1em; padding-right: 1em; text-align: center; vertical-align: top\">0x02</td>\n",
       "        <td style=\"padding-left: 1em; padding-right: 1em; text-align: center; vertical-align: top\">Tree Connect AndX<br>Request, Path: ...</td>\n",
       "        <td style=\"padding-left: 1em; padding-right: 1em; text-align: center; vertical-align: top\">1</td>\n",
       "    </tr>\n",
       "    <tr>\n",
       "        <td style=\"padding-left: 1em; padding-right: 1em; text-align: center; vertical-align: top\">900</td>\n",
       "        <td style=\"padding-left: 1em; padding-right: 1em; text-align: center; vertical-align: top\">0x00</td>\n",
       "        <td style=\"padding-left: 1em; padding-right: 1em; text-align: center; vertical-align: top\">0x02</td>\n",
       "        <td style=\"padding-left: 1em; padding-right: 1em; text-align: center; vertical-align: top\">NetServerEnum2 Request,<br>Print Queue Server ...</td>\n",
       "        <td style=\"padding-left: 1em; padding-right: 1em; text-align: center; vertical-align: top\">1</td>\n",
       "    </tr>\n",
       "    <tr>\n",
       "        <td style=\"padding-left: 1em; padding-right: 1em; text-align: center; vertical-align: top\">943</td>\n",
       "        <td style=\"padding-left: 1em; padding-right: 1em; text-align: center; vertical-align: top\">0x00</td>\n",
       "        <td style=\"padding-left: 1em; padding-right: 1em; text-align: center; vertical-align: top\">0x02</td>\n",
       "        <td style=\"padding-left: 1em; padding-right: 1em; text-align: center; vertical-align: top\">Logoff AndX Request</td>\n",
       "        <td style=\"padding-left: 1em; padding-right: 1em; text-align: center; vertical-align: top\">1</td>\n",
       "    </tr>\n",
       "    <tr>\n",
       "        <td style=\"padding-left: 1em; padding-right: 1em; text-align: center; vertical-align: top\">982</td>\n",
       "        <td style=\"padding-left: 1em; padding-right: 1em; text-align: center; vertical-align: top\">0x00</td>\n",
       "        <td style=\"padding-left: 1em; padding-right: 1em; text-align: center; vertical-align: top\">0x02</td>\n",
       "        <td style=\"padding-left: 1em; padding-right: 1em; text-align: center; vertical-align: top\">Tree Disconnect Request</td>\n",
       "        <td style=\"padding-left: 1em; padding-right: 1em; text-align: center; vertical-align: top\">1</td>\n",
       "    </tr>\n",
       "    <tr>\n",
       "        <td style=\"padding-left: 1em; padding-right: 1em; text-align: center; vertical-align: top\"></td>\n",
       "        <td style=\"padding-left: 1em; padding-right: 1em; text-align: center; vertical-align: top\">0x00</td>\n",
       "        <td style=\"padding-left: 1em; padding-right: 1em; text-align: center; vertical-align: top\">0x02</td>\n",
       "        <td style=\"padding-left: 1em; padding-right: 1em; text-align: center; vertical-align: top\">2533  &gt;  139 [FIN, ACK]<br>Seq=982 Ack=712 Win=6 ...</td>\n",
       "        <td style=\"padding-left: 1em; padding-right: 1em; text-align: center; vertical-align: top\">1</td>\n",
       "    </tr>\n",
       "</table>\n",
       "[? rows x 26 columns]<br/>Note: Only the head of the SFrame is printed. This SFrame is lazily evaluated.<br/>You can use sf.materialize() to force materialization.\n",
       "</div>"
      ],
      "text/plain": [
       "Columns:\n",
       "\tNo.\tint\n",
       "\tTime\tfloat\n",
       "\tSource\tstr\n",
       "\tDestination\tstr\n",
       "\tProtocol\tstr\n",
       "\tLength\tint\n",
       "\tSource Port\tstr\n",
       "\tDestination Port\tstr\n",
       "\tudp_Length\tstr\n",
       "\tTCP Segment Len\tstr\n",
       "\tAnswer RRs\tstr\n",
       "\ttcp_Flags\tint\n",
       "\tProtocols in frame\tstr\n",
       "\tSequence number\tstr\n",
       "\tTime to live\tstr\n",
       "\tSource GeoIP Country\tstr\n",
       "\tSource GeoIP Latitude\tstr\n",
       "\tSource GeoIP Longitude\tstr\n",
       "\tDestination GeoIP Country\tstr\n",
       "\tDestination GeoIP Latitude\tstr\n",
       "\tDestination GeoIP Longitude\tstr\n",
       "\tNext sequence number\tstr\n",
       "\tDifferentiated Services Field\tstr\n",
       "\tIP_Flags\tstr\n",
       "\tInfo\tstr\n",
       "\tisBot\tint\n",
       "\n",
       "Rows: Unknown\n",
       "\n",
       "Data:\n",
       "+---------+---------------+---------------+---------------+----------+--------+\n",
       "|   No.   |      Time     |     Source    |  Destination  | Protocol | Length |\n",
       "+---------+---------------+---------------+---------------+----------+--------+\n",
       "| 3550857 | 1276572652.01 | 192.168.2.112 | 192.168.2.113 |   TCP    |   62   |\n",
       "| 3550859 | 1276572652.01 | 192.168.2.112 | 192.168.2.113 |   NBSS   |  126   |\n",
       "| 3550861 | 1276572652.01 | 192.168.2.112 | 192.168.2.113 |   SMB    |  191   |\n",
       "| 3550863 | 1276572652.01 | 192.168.2.112 | 192.168.2.113 |   SMB    |  270   |\n",
       "| 3550866 | 1276572652.01 | 192.168.2.112 | 192.168.2.113 |   SMB    |  318   |\n",
       "| 3550868 | 1276572652.01 | 192.168.2.112 | 192.168.2.113 |   SMB    |  142   |\n",
       "| 3550870 | 1276572652.01 | 192.168.2.112 | 192.168.2.113 |  LANMAN  |  176   |\n",
       "| 3550875 | 1276572652.01 | 192.168.2.112 | 192.168.2.113 |   SMB    |   97   |\n",
       "| 3550883 | 1276572652.01 | 192.168.2.112 | 192.168.2.113 |   SMB    |   93   |\n",
       "| 3550887 | 1276572652.01 | 192.168.2.112 | 192.168.2.113 |   TCP    |   60   |\n",
       "+---------+---------------+---------------+---------------+----------+--------+\n",
       "+-------------+------------------+------------+-----------------+------------+\n",
       "| Source Port | Destination Port | udp_Length | TCP Segment Len | Answer RRs |\n",
       "+-------------+------------------+------------+-----------------+------------+\n",
       "|     2533    |       139        |            |        0        |            |\n",
       "|     2533    |       139        |            |        72       |            |\n",
       "|     2533    |       139        |            |       137       |            |\n",
       "|     2533    |       139        |            |       216       |            |\n",
       "|     2533    |       139        |            |       264       |            |\n",
       "|     2533    |       139        |            |        88       |            |\n",
       "|     2533    |       139        |            |       122       |            |\n",
       "|     2533    |       139        |            |        43       |            |\n",
       "|     2533    |       139        |            |        39       |            |\n",
       "|     2533    |       139        |            |        0        |            |\n",
       "+-------------+------------------+------------+-----------------+------------+\n",
       "+-----------+-------------------------------+-----------------+--------------+----------------------+\n",
       "| tcp_Flags |       Protocols in frame      | Sequence number | Time to live | Source GeoIP Country |\n",
       "+-----------+-------------------------------+-----------------+--------------+----------------------+\n",
       "|     2     |      eth:ethertype:ip:tcp     |        0        |     128      |                      |\n",
       "|     24    |   eth:ethertype:ip:tcp:nbss   |        1        |     128      |                      |\n",
       "|     24    | eth:ethertype:ip:tcp:nbss:smb |        73       |     128      |                      |\n",
       "|     24    | eth:ethertype:ip:tcp:nbss:... |       210       |     128      |                      |\n",
       "|     24    | eth:ethertype:ip:tcp:nbss:... |       426       |     128      |                      |\n",
       "|     24    | eth:ethertype:ip:tcp:nbss:smb |       690       |     128      |                      |\n",
       "|     24    | eth:ethertype:ip:tcp:nbss:smb |       778       |     128      |                      |\n",
       "|     24    | eth:ethertype:ip:tcp:nbss:smb |       900       |     128      |                      |\n",
       "|     24    | eth:ethertype:ip:tcp:nbss:smb |       943       |     128      |                      |\n",
       "|     17    |      eth:ethertype:ip:tcp     |       982       |     128      |                      |\n",
       "+-----------+-------------------------------+-----------------+--------------+----------------------+\n",
       "+-----------------------+------------------------+---------------------------+----------------------------+-----+\n",
       "| Source GeoIP Latitude | Source GeoIP Longitude | Destination GeoIP Country | Destination GeoIP Latitude | ... |\n",
       "+-----------------------+------------------------+---------------------------+----------------------------+-----+\n",
       "|                       |                        |                           |                            | ... |\n",
       "|                       |                        |                           |                            | ... |\n",
       "|                       |                        |                           |                            | ... |\n",
       "|                       |                        |                           |                            | ... |\n",
       "|                       |                        |                           |                            | ... |\n",
       "|                       |                        |                           |                            | ... |\n",
       "|                       |                        |                           |                            | ... |\n",
       "|                       |                        |                           |                            | ... |\n",
       "|                       |                        |                           |                            | ... |\n",
       "|                       |                        |                           |                            | ... |\n",
       "+-----------------------+------------------------+---------------------------+----------------------------+-----+\n",
       "[? rows x 26 columns]\n",
       "Note: Only the head of the SFrame is printed. This SFrame is lazily evaluated.\n",
       "You can use sf.materialize() to force materialization."
      ]
     },
     "execution_count": 15,
     "metadata": {},
     "output_type": "execute_result"
    }
   ],
   "source": [
    "SF[(SF['Source']=='192.168.2.112') & (SF['isBot']==1)]"
   ]
  },
  {
   "cell_type": "markdown",
   "metadata": {},
   "source": [
    "Botnet Labelled packets and their percentage.\n"
   ]
  },
  {
   "cell_type": "code",
   "execution_count": 16,
   "metadata": {
    "collapsed": false
   },
   "outputs": [
    {
     "name": "stdout",
     "output_type": "stream",
     "text": [
      "1426013 30.4943482256\n"
     ]
    }
   ],
   "source": [
    "temp = len(SF[SF['isBot']==1])\n",
    "print temp, (temp*1.0)/len(SF)*100"
   ]
  },
  {
   "cell_type": "code",
   "execution_count": 17,
   "metadata": {
    "collapsed": false,
    "scrolled": true
   },
   "outputs": [
    {
     "data": {
      "text/html": [
       "<div style=\"max-height:1000px;max-width:1500px;overflow:auto;\"><table frame=\"box\" rules=\"cols\">\n",
       "    <tr>\n",
       "        <th style=\"padding-left: 1em; padding-right: 1em; text-align: center\">No.</th>\n",
       "        <th style=\"padding-left: 1em; padding-right: 1em; text-align: center\">Time</th>\n",
       "        <th style=\"padding-left: 1em; padding-right: 1em; text-align: center\">Source</th>\n",
       "        <th style=\"padding-left: 1em; padding-right: 1em; text-align: center\">Destination</th>\n",
       "        <th style=\"padding-left: 1em; padding-right: 1em; text-align: center\">Protocol</th>\n",
       "        <th style=\"padding-left: 1em; padding-right: 1em; text-align: center\">Length</th>\n",
       "        <th style=\"padding-left: 1em; padding-right: 1em; text-align: center\">Source Port</th>\n",
       "        <th style=\"padding-left: 1em; padding-right: 1em; text-align: center\">Destination Port</th>\n",
       "        <th style=\"padding-left: 1em; padding-right: 1em; text-align: center\">udp_Length</th>\n",
       "        <th style=\"padding-left: 1em; padding-right: 1em; text-align: center\">TCP Segment Len</th>\n",
       "    </tr>\n",
       "    <tr>\n",
       "        <td style=\"padding-left: 1em; padding-right: 1em; text-align: center; vertical-align: top\">2</td>\n",
       "        <td style=\"padding-left: 1em; padding-right: 1em; text-align: center; vertical-align: top\">6.985427</td>\n",
       "        <td style=\"padding-left: 1em; padding-right: 1em; text-align: center; vertical-align: top\">0.0.0.0</td>\n",
       "        <td style=\"padding-left: 1em; padding-right: 1em; text-align: center; vertical-align: top\">255.255.255.255</td>\n",
       "        <td style=\"padding-left: 1em; padding-right: 1em; text-align: center; vertical-align: top\">DHCP</td>\n",
       "        <td style=\"padding-left: 1em; padding-right: 1em; text-align: center; vertical-align: top\">348</td>\n",
       "        <td style=\"padding-left: 1em; padding-right: 1em; text-align: center; vertical-align: top\">68</td>\n",
       "        <td style=\"padding-left: 1em; padding-right: 1em; text-align: center; vertical-align: top\">67</td>\n",
       "        <td style=\"padding-left: 1em; padding-right: 1em; text-align: center; vertical-align: top\">314</td>\n",
       "        <td style=\"padding-left: 1em; padding-right: 1em; text-align: center; vertical-align: top\"></td>\n",
       "    </tr>\n",
       "    <tr>\n",
       "        <td style=\"padding-left: 1em; padding-right: 1em; text-align: center; vertical-align: top\">3</td>\n",
       "        <td style=\"padding-left: 1em; padding-right: 1em; text-align: center; vertical-align: top\">6.985565</td>\n",
       "        <td style=\"padding-left: 1em; padding-right: 1em; text-align: center; vertical-align: top\">10.0.2.2</td>\n",
       "        <td style=\"padding-left: 1em; padding-right: 1em; text-align: center; vertical-align: top\">10.0.2.15</td>\n",
       "        <td style=\"padding-left: 1em; padding-right: 1em; text-align: center; vertical-align: top\">DHCP</td>\n",
       "        <td style=\"padding-left: 1em; padding-right: 1em; text-align: center; vertical-align: top\">590</td>\n",
       "        <td style=\"padding-left: 1em; padding-right: 1em; text-align: center; vertical-align: top\">67</td>\n",
       "        <td style=\"padding-left: 1em; padding-right: 1em; text-align: center; vertical-align: top\">68</td>\n",
       "        <td style=\"padding-left: 1em; padding-right: 1em; text-align: center; vertical-align: top\">556</td>\n",
       "        <td style=\"padding-left: 1em; padding-right: 1em; text-align: center; vertical-align: top\"></td>\n",
       "    </tr>\n",
       "    <tr>\n",
       "        <td style=\"padding-left: 1em; padding-right: 1em; text-align: center; vertical-align: top\">4</td>\n",
       "        <td style=\"padding-left: 1em; padding-right: 1em; text-align: center; vertical-align: top\">6.985927</td>\n",
       "        <td style=\"padding-left: 1em; padding-right: 1em; text-align: center; vertical-align: top\">0.0.0.0</td>\n",
       "        <td style=\"padding-left: 1em; padding-right: 1em; text-align: center; vertical-align: top\">255.255.255.255</td>\n",
       "        <td style=\"padding-left: 1em; padding-right: 1em; text-align: center; vertical-align: top\">DHCP</td>\n",
       "        <td style=\"padding-left: 1em; padding-right: 1em; text-align: center; vertical-align: top\">373</td>\n",
       "        <td style=\"padding-left: 1em; padding-right: 1em; text-align: center; vertical-align: top\">68</td>\n",
       "        <td style=\"padding-left: 1em; padding-right: 1em; text-align: center; vertical-align: top\">67</td>\n",
       "        <td style=\"padding-left: 1em; padding-right: 1em; text-align: center; vertical-align: top\">339</td>\n",
       "        <td style=\"padding-left: 1em; padding-right: 1em; text-align: center; vertical-align: top\"></td>\n",
       "    </tr>\n",
       "</table>\n",
       "<table frame=\"box\" rules=\"cols\">\n",
       "    <tr>\n",
       "        <th style=\"padding-left: 1em; padding-right: 1em; text-align: center\">Answer RRs</th>\n",
       "        <th style=\"padding-left: 1em; padding-right: 1em; text-align: center\">tcp_Flags</th>\n",
       "        <th style=\"padding-left: 1em; padding-right: 1em; text-align: center\">Protocols in frame</th>\n",
       "        <th style=\"padding-left: 1em; padding-right: 1em; text-align: center\">Sequence number</th>\n",
       "        <th style=\"padding-left: 1em; padding-right: 1em; text-align: center\">Time to live</th>\n",
       "        <th style=\"padding-left: 1em; padding-right: 1em; text-align: center\">Source GeoIP Country</th>\n",
       "        <th style=\"padding-left: 1em; padding-right: 1em; text-align: center\">Source GeoIP Latitude</th>\n",
       "    </tr>\n",
       "    <tr>\n",
       "        <td style=\"padding-left: 1em; padding-right: 1em; text-align: center; vertical-align: top\"></td>\n",
       "        <td style=\"padding-left: 1em; padding-right: 1em; text-align: center; vertical-align: top\">0</td>\n",
       "        <td style=\"padding-left: 1em; padding-right: 1em; text-align: center; vertical-align: top\">eth:ethertype:ip:udp:boot<br>p ...</td>\n",
       "        <td style=\"padding-left: 1em; padding-right: 1em; text-align: center; vertical-align: top\"></td>\n",
       "        <td style=\"padding-left: 1em; padding-right: 1em; text-align: center; vertical-align: top\">128</td>\n",
       "        <td style=\"padding-left: 1em; padding-right: 1em; text-align: center; vertical-align: top\"></td>\n",
       "        <td style=\"padding-left: 1em; padding-right: 1em; text-align: center; vertical-align: top\"></td>\n",
       "    </tr>\n",
       "    <tr>\n",
       "        <td style=\"padding-left: 1em; padding-right: 1em; text-align: center; vertical-align: top\"></td>\n",
       "        <td style=\"padding-left: 1em; padding-right: 1em; text-align: center; vertical-align: top\">0</td>\n",
       "        <td style=\"padding-left: 1em; padding-right: 1em; text-align: center; vertical-align: top\">eth:ethertype:ip:udp:boot<br>p ...</td>\n",
       "        <td style=\"padding-left: 1em; padding-right: 1em; text-align: center; vertical-align: top\"></td>\n",
       "        <td style=\"padding-left: 1em; padding-right: 1em; text-align: center; vertical-align: top\">64</td>\n",
       "        <td style=\"padding-left: 1em; padding-right: 1em; text-align: center; vertical-align: top\"></td>\n",
       "        <td style=\"padding-left: 1em; padding-right: 1em; text-align: center; vertical-align: top\"></td>\n",
       "    </tr>\n",
       "    <tr>\n",
       "        <td style=\"padding-left: 1em; padding-right: 1em; text-align: center; vertical-align: top\"></td>\n",
       "        <td style=\"padding-left: 1em; padding-right: 1em; text-align: center; vertical-align: top\">0</td>\n",
       "        <td style=\"padding-left: 1em; padding-right: 1em; text-align: center; vertical-align: top\">eth:ethertype:ip:udp:boot<br>p ...</td>\n",
       "        <td style=\"padding-left: 1em; padding-right: 1em; text-align: center; vertical-align: top\"></td>\n",
       "        <td style=\"padding-left: 1em; padding-right: 1em; text-align: center; vertical-align: top\">128</td>\n",
       "        <td style=\"padding-left: 1em; padding-right: 1em; text-align: center; vertical-align: top\"></td>\n",
       "        <td style=\"padding-left: 1em; padding-right: 1em; text-align: center; vertical-align: top\"></td>\n",
       "    </tr>\n",
       "</table>\n",
       "<table frame=\"box\" rules=\"cols\">\n",
       "    <tr>\n",
       "        <th style=\"padding-left: 1em; padding-right: 1em; text-align: center\">Source GeoIP Longitude</th>\n",
       "        <th style=\"padding-left: 1em; padding-right: 1em; text-align: center\">Destination GeoIP Country</th>\n",
       "        <th style=\"padding-left: 1em; padding-right: 1em; text-align: center\">Destination GeoIP<br>Latitude ...</th>\n",
       "        <th style=\"padding-left: 1em; padding-right: 1em; text-align: center\">Destination GeoIP<br>Longitude ...</th>\n",
       "        <th style=\"padding-left: 1em; padding-right: 1em; text-align: center\">Next sequence number</th>\n",
       "    </tr>\n",
       "    <tr>\n",
       "        <td style=\"padding-left: 1em; padding-right: 1em; text-align: center; vertical-align: top\"></td>\n",
       "        <td style=\"padding-left: 1em; padding-right: 1em; text-align: center; vertical-align: top\"></td>\n",
       "        <td style=\"padding-left: 1em; padding-right: 1em; text-align: center; vertical-align: top\"></td>\n",
       "        <td style=\"padding-left: 1em; padding-right: 1em; text-align: center; vertical-align: top\"></td>\n",
       "        <td style=\"padding-left: 1em; padding-right: 1em; text-align: center; vertical-align: top\"></td>\n",
       "    </tr>\n",
       "    <tr>\n",
       "        <td style=\"padding-left: 1em; padding-right: 1em; text-align: center; vertical-align: top\"></td>\n",
       "        <td style=\"padding-left: 1em; padding-right: 1em; text-align: center; vertical-align: top\"></td>\n",
       "        <td style=\"padding-left: 1em; padding-right: 1em; text-align: center; vertical-align: top\"></td>\n",
       "        <td style=\"padding-left: 1em; padding-right: 1em; text-align: center; vertical-align: top\"></td>\n",
       "        <td style=\"padding-left: 1em; padding-right: 1em; text-align: center; vertical-align: top\"></td>\n",
       "    </tr>\n",
       "    <tr>\n",
       "        <td style=\"padding-left: 1em; padding-right: 1em; text-align: center; vertical-align: top\"></td>\n",
       "        <td style=\"padding-left: 1em; padding-right: 1em; text-align: center; vertical-align: top\"></td>\n",
       "        <td style=\"padding-left: 1em; padding-right: 1em; text-align: center; vertical-align: top\"></td>\n",
       "        <td style=\"padding-left: 1em; padding-right: 1em; text-align: center; vertical-align: top\"></td>\n",
       "        <td style=\"padding-left: 1em; padding-right: 1em; text-align: center; vertical-align: top\"></td>\n",
       "    </tr>\n",
       "</table>\n",
       "<table frame=\"box\" rules=\"cols\">\n",
       "    <tr>\n",
       "        <th style=\"padding-left: 1em; padding-right: 1em; text-align: center\">Differentiated Services<br>Field ...</th>\n",
       "        <th style=\"padding-left: 1em; padding-right: 1em; text-align: center\">IP_Flags</th>\n",
       "        <th style=\"padding-left: 1em; padding-right: 1em; text-align: center\">Info</th>\n",
       "        <th style=\"padding-left: 1em; padding-right: 1em; text-align: center\">isBot</th>\n",
       "    </tr>\n",
       "    <tr>\n",
       "        <td style=\"padding-left: 1em; padding-right: 1em; text-align: center; vertical-align: top\">0x00</td>\n",
       "        <td style=\"padding-left: 1em; padding-right: 1em; text-align: center; vertical-align: top\">0x00</td>\n",
       "        <td style=\"padding-left: 1em; padding-right: 1em; text-align: center; vertical-align: top\">DHCP Discover -<br>Transaction ID 0x6145 ...</td>\n",
       "        <td style=\"padding-left: 1em; padding-right: 1em; text-align: center; vertical-align: top\">0</td>\n",
       "    </tr>\n",
       "    <tr>\n",
       "        <td style=\"padding-left: 1em; padding-right: 1em; text-align: center; vertical-align: top\">0x10</td>\n",
       "        <td style=\"padding-left: 1em; padding-right: 1em; text-align: center; vertical-align: top\">0x00</td>\n",
       "        <td style=\"padding-left: 1em; padding-right: 1em; text-align: center; vertical-align: top\">DHCP Offer    -<br>Transaction ID 0x6145 ...</td>\n",
       "        <td style=\"padding-left: 1em; padding-right: 1em; text-align: center; vertical-align: top\">0</td>\n",
       "    </tr>\n",
       "    <tr>\n",
       "        <td style=\"padding-left: 1em; padding-right: 1em; text-align: center; vertical-align: top\">0x00</td>\n",
       "        <td style=\"padding-left: 1em; padding-right: 1em; text-align: center; vertical-align: top\">0x00</td>\n",
       "        <td style=\"padding-left: 1em; padding-right: 1em; text-align: center; vertical-align: top\">DHCP Request  -<br>Transaction ID 0x6145 ...</td>\n",
       "        <td style=\"padding-left: 1em; padding-right: 1em; text-align: center; vertical-align: top\">0</td>\n",
       "    </tr>\n",
       "</table>\n",
       "[3 rows x 26 columns]<br/>\n",
       "</div>"
      ],
      "text/plain": [
       "Columns:\n",
       "\tNo.\tint\n",
       "\tTime\tfloat\n",
       "\tSource\tstr\n",
       "\tDestination\tstr\n",
       "\tProtocol\tstr\n",
       "\tLength\tint\n",
       "\tSource Port\tstr\n",
       "\tDestination Port\tstr\n",
       "\tudp_Length\tstr\n",
       "\tTCP Segment Len\tstr\n",
       "\tAnswer RRs\tstr\n",
       "\ttcp_Flags\tint\n",
       "\tProtocols in frame\tstr\n",
       "\tSequence number\tstr\n",
       "\tTime to live\tstr\n",
       "\tSource GeoIP Country\tstr\n",
       "\tSource GeoIP Latitude\tstr\n",
       "\tSource GeoIP Longitude\tstr\n",
       "\tDestination GeoIP Country\tstr\n",
       "\tDestination GeoIP Latitude\tstr\n",
       "\tDestination GeoIP Longitude\tstr\n",
       "\tNext sequence number\tstr\n",
       "\tDifferentiated Services Field\tstr\n",
       "\tIP_Flags\tstr\n",
       "\tInfo\tstr\n",
       "\tisBot\tint\n",
       "\n",
       "Rows: 3\n",
       "\n",
       "Data:\n",
       "+-----+----------+----------+-----------------+----------+--------+-------------+\n",
       "| No. |   Time   |  Source  |   Destination   | Protocol | Length | Source Port |\n",
       "+-----+----------+----------+-----------------+----------+--------+-------------+\n",
       "|  2  | 6.985427 | 0.0.0.0  | 255.255.255.255 |   DHCP   |  348   |      68     |\n",
       "|  3  | 6.985565 | 10.0.2.2 |    10.0.2.15    |   DHCP   |  590   |      67     |\n",
       "|  4  | 6.985927 | 0.0.0.0  | 255.255.255.255 |   DHCP   |  373   |      68     |\n",
       "+-----+----------+----------+-----------------+----------+--------+-------------+\n",
       "+------------------+------------+-----------------+------------+-----------+\n",
       "| Destination Port | udp_Length | TCP Segment Len | Answer RRs | tcp_Flags |\n",
       "+------------------+------------+-----------------+------------+-----------+\n",
       "|        67        |    314     |                 |            |     0     |\n",
       "|        68        |    556     |                 |            |     0     |\n",
       "|        67        |    339     |                 |            |     0     |\n",
       "+------------------+------------+-----------------+------------+-----------+\n",
       "+----------------------------+-----------------+--------------+----------------------+\n",
       "|     Protocols in frame     | Sequence number | Time to live | Source GeoIP Country |\n",
       "+----------------------------+-----------------+--------------+----------------------+\n",
       "| eth:ethertype:ip:udp:bootp |                 |     128      |                      |\n",
       "| eth:ethertype:ip:udp:bootp |                 |      64      |                      |\n",
       "| eth:ethertype:ip:udp:bootp |                 |     128      |                      |\n",
       "+----------------------------+-----------------+--------------+----------------------+\n",
       "+-----------------------+------------------------+---------------------------+----------------------------+-----+\n",
       "| Source GeoIP Latitude | Source GeoIP Longitude | Destination GeoIP Country | Destination GeoIP Latitude | ... |\n",
       "+-----------------------+------------------------+---------------------------+----------------------------+-----+\n",
       "|                       |                        |                           |                            | ... |\n",
       "|                       |                        |                           |                            | ... |\n",
       "|                       |                        |                           |                            | ... |\n",
       "+-----------------------+------------------------+---------------------------+----------------------------+-----+\n",
       "[3 rows x 26 columns]"
      ]
     },
     "execution_count": 17,
     "metadata": {},
     "output_type": "execute_result"
    }
   ],
   "source": [
    "SF.head(3)"
   ]
  },
  {
   "cell_type": "code",
   "execution_count": 18,
   "metadata": {
    "collapsed": false
   },
   "outputs": [
    {
     "name": "stdout",
     "output_type": "stream",
     "text": [
      "4676319 4676319\n"
     ]
    }
   ],
   "source": [
    "## To check whether No. field is primary key or not\n",
    "print len(SF['No.'].unique()),len(SF)"
   ]
  },
  {
   "cell_type": "markdown",
   "metadata": {},
   "source": [
    "# Sorting will help in identifying flow effectively"
   ]
  },
  {
   "cell_type": "code",
   "execution_count": 19,
   "metadata": {
    "collapsed": false
   },
   "outputs": [
    {
     "name": "stdout",
     "output_type": "stream",
     "text": [
      "Done sorting SF\n"
     ]
    }
   ],
   "source": [
    "sorting_features = ['Source','Destination','Source Port','Destination Port','Protocol','Time']\n",
    "#STD = SF[['No.','Time','Source','Destination','Source Port','Destination Port','Protocol','tcp_Flags']]\n",
    "#STD = STD.sort(sorting_features)\n",
    "#print 'Done sorting STD'\n",
    "SF = SF.sort(sorting_features)\n",
    "print 'Done sorting SF'"
   ]
  },
  {
   "cell_type": "code",
   "execution_count": 20,
   "metadata": {
    "collapsed": false
   },
   "outputs": [
    {
     "name": "stdout",
     "output_type": "stream",
     "text": [
      "Done saving SF\n"
     ]
    }
   ],
   "source": [
    "#STD.save('ISCX_Botnet-Testing_Ports_Only_Sorted_Flow.csv')\n",
    "#print 'Done saving STD'\n",
    "#STD = None\n",
    "SF.save('ISCX_Botnet-Testing_Ports_Only_Sorted.csv')\n",
    "print 'Done saving SF'"
   ]
  },
  {
   "cell_type": "code",
   "execution_count": 8,
   "metadata": {
    "collapsed": false
   },
   "outputs": [
    {
     "data": {
      "text/plain": [
       "dtype: int\n",
       "Rows: 14\n",
       "[0, 16, 2052, 18, 132, 25, 24, 2, 20, 19, 4, 21, 194, 17]"
      ]
     },
     "execution_count": 8,
     "metadata": {},
     "output_type": "execute_result"
    }
   ],
   "source": [
    "SF['tcp_Flags'].unique()"
   ]
  },
  {
   "cell_type": "markdown",
   "metadata": {},
   "source": [
    "### Checking if No. is the unique primary key for data for"
   ]
  },
  {
   "cell_type": "code",
   "execution_count": 9,
   "metadata": {
    "collapsed": false
   },
   "outputs": [
    {
     "name": "stdout",
     "output_type": "stream",
     "text": [
      "4676319 4676319\n"
     ]
    }
   ],
   "source": [
    "print len(SF),len(SF['No.'].unique())"
   ]
  },
  {
   "cell_type": "markdown",
   "metadata": {},
   "source": [
    "## Back to flow identification Unidirectional"
   ]
  },
  {
   "cell_type": "code",
   "execution_count": 22,
   "metadata": {
    "collapsed": true
   },
   "outputs": [],
   "source": [
    "## function for comparing two different flows based on columns\n",
    "def compare(x,y,columns):\n",
    "    try:\n",
    "        val = True\n",
    "        for column in columns:\n",
    "            if x[column]!=y[column]:\n",
    "                val = False\n",
    "                break;\n",
    "        return val\n",
    "    except KeyError:\n",
    "        print \"Column does not exist in the data, check again!\"\n",
    "    except:\n",
    "        print \"Some unknown error\""
   ]
  },
  {
   "cell_type": "code",
   "execution_count": 23,
   "metadata": {
    "collapsed": false,
    "scrolled": true
   },
   "outputs": [
    {
     "name": "stdout",
     "output_type": "stream",
     "text": [
      "Running 0 Done !\n",
      "Running 500000 Done !\n",
      "Running 1000000 Done !\n",
      "Running 1500000 Done !\n",
      "Running 2000000 Done !\n",
      "Running 2500000 Done !\n",
      "Running 3000000 Done !\n",
      "Running 3500000 Done !\n",
      "Running 4000000 Done !\n",
      "Running 4500000 Done !\n",
      "586601\n"
     ]
    }
   ],
   "source": [
    "##Code for logic of flow identification\n",
    "import pickle \n",
    "\n",
    "FlowCols = ['Source','Destination','Source Port','Destination Port','Protocol']\n",
    "SF['FlowNo.'] = None\n",
    "FlowNo = 0 ##Unique Flow Number for each flow\n",
    "#FFlow = []\n",
    "prev = None\n",
    "Flow = []     ##Stores all flows in form of list of dictionary \n",
    "#cFlow = []    ##Store the current flow (all details)\n",
    "count = 0\n",
    "fc = 0\n",
    "startTime = None   ##Start Time of each flow to implement timeout\n",
    "for x in SF:\n",
    "    if count%500000 == 0:\n",
    "        #fName = 'Flow'+str(fc)+'.pkl'\n",
    "        #print 'Saving : ',fName\n",
    "        #pickle.dump(Flow,open(fName,'w'))\n",
    "        #print 'Saved'\n",
    "        print 'Running '+str(count)+' Done !'\n",
    "        #c = fc + 1\n",
    "        #Flow = []\n",
    "    count = count+1\n",
    "    \n",
    "    if prev is None:\n",
    "        startTime = x['Time']\n",
    "        Flow.append(FlowNo)\n",
    "        #cFlow.append(x['No.'])\n",
    "        \n",
    "        prev = x\n",
    "    elif compare(x,prev,FlowCols):\n",
    "        fc=fc+1\n",
    "        if x['tcp_Flags']&1 or x['tcp_Flags']&4 or x['Time']-startTime>=120:\n",
    "            Flow.append(FlowNo)\n",
    "            prev = None\n",
    "            FlowNo = FlowNo + 1\n",
    "            \n",
    "            #cFlow.append(x['No.'])\n",
    "            #FFlow.append(cFlow)\n",
    "            #cFlow = []\n",
    "            \n",
    "        else:\n",
    "            \n",
    "            #cFlow.append(x['No.'])\n",
    "            \n",
    "            Flow.append(FlowNo)\n",
    "            prev = x\n",
    "    else:\n",
    "        FlowNo = FlowNo + 1\n",
    "        Flow.append(FlowNo)\n",
    "                \n",
    "        #FFlow.append(cFlow)\n",
    "        #cFlow = []\n",
    "        #cFlow.append(x['No.'])\n",
    "        \n",
    "        prev = x\n",
    "        startTime = x['Time']\n",
    "\n",
    "\n",
    "print len(gl.SArray(Flow).unique())"
   ]
  },
  {
   "cell_type": "code",
   "execution_count": 24,
   "metadata": {
    "collapsed": false
   },
   "outputs": [
    {
     "name": "stdout",
     "output_type": "stream",
     "text": [
      "129052 0.219999624958\n"
     ]
    }
   ],
   "source": [
    "SF['uFlow'] = gl.SArray(Flow)\n",
    "temp = SF.groupby('uFlow',{\n",
    "        'NumBots' : gl.aggregate.SUM('isBot')\n",
    "    })\n",
    "NumBotFlows = len(temp[temp['NumBots']>1])\n",
    "print NumBotFlows, NumBotFlows*1.0/len(SF['uFlow'].unique()) "
   ]
  },
  {
   "cell_type": "code",
   "execution_count": 25,
   "metadata": {
    "collapsed": false
   },
   "outputs": [
    {
     "data": {
      "text/plain": [
       "4676319"
      ]
     },
     "execution_count": 25,
     "metadata": {},
     "output_type": "execute_result"
    }
   ],
   "source": [
    "len(Flow)"
   ]
  },
  {
   "cell_type": "code",
   "execution_count": 26,
   "metadata": {
    "collapsed": false
   },
   "outputs": [
    {
     "data": {
      "text/plain": [
       "4676319"
      ]
     },
     "execution_count": 26,
     "metadata": {},
     "output_type": "execute_result"
    }
   ],
   "source": [
    "len(SF)"
   ]
  },
  {
   "cell_type": "code",
   "execution_count": null,
   "metadata": {
    "collapsed": false
   },
   "outputs": [],
   "source": [
    "##Code for checking authenticity of flow logic\n",
    "#STD[(STD['Source']=='0.0.0.0')&(STD['Destination']=='255.255.255.255')&(STD['Source Port']=='68')&(STD['Destination Port']=='67')].sort('Time')"
   ]
  },
  {
   "cell_type": "code",
   "execution_count": null,
   "metadata": {
    "collapsed": false
   },
   "outputs": [],
   "source": [
    "## Code to check if in any flows there are some No.s which are in decreasing order (Indicative or Decrepancies)\n",
    "## UPDATE: No. does not indicate same relation in time, so Data collected is right !\n",
    "\"\"\"count = 0\n",
    "for li in Flow:\n",
    "    for i in range(1,len(li)):\n",
    "        if li[i]<li[i-1]:\n",
    "            #print li\n",
    "            count = count+1\n",
    "            break;\n",
    "print count\"\"\""
   ]
  },
  {
   "cell_type": "code",
   "execution_count": 27,
   "metadata": {
    "collapsed": true
   },
   "outputs": [],
   "source": [
    "import pickle\n",
    "pickle.dump(Flow,open('Flow.pkl','w'))"
   ]
  },
  {
   "cell_type": "code",
   "execution_count": 32,
   "metadata": {
    "collapsed": false
   },
   "outputs": [
    {
     "name": "stdout",
     "output_type": "stream",
     "text": [
      "586601\n",
      "586601\n"
     ]
    }
   ],
   "source": [
    "## First Packet Length\n",
    "FlowFeatures = ['Source','Destination','Source Port','Destination Port','Protocol']\n",
    "FPL = SF.groupby(['uFlow'],{\n",
    "        'Time':gl.aggregate.MIN('Time')\n",
    "    })\n",
    "print len(FPL)\n",
    "FPL = FPL.join(SF,on =['uFlow','Time'])[['uFlow','Length']].unique()\n",
    "FPL = FPL.groupby(['uFlow'],{\n",
    "        'FPL':gl.aggregate.AVG('Length')\n",
    "    })\n",
    "print len(FPL)"
   ]
  },
  {
   "cell_type": "code",
   "execution_count": 33,
   "metadata": {
    "collapsed": false
   },
   "outputs": [],
   "source": [
    "SF = SF.join(FPL, on ='uFlow')\n",
    "del(FPL)"
   ]
  },
  {
   "cell_type": "markdown",
   "metadata": {
    "collapsed": true
   },
   "source": [
    "## 18/10/2016"
   ]
  },
  {
   "cell_type": "code",
   "execution_count": 35,
   "metadata": {
    "collapsed": false
   },
   "outputs": [
    {
     "name": "stdout",
     "output_type": "stream",
     "text": [
      "+--------+------------+\n",
      "| uFlow  | NumPackets |\n",
      "+--------+------------+\n",
      "| 504649 |     1      |\n",
      "| 211023 |     5      |\n",
      "| 442699 |     3      |\n",
      "+--------+------------+\n",
      "[3 rows x 2 columns]\n",
      "\n"
     ]
    }
   ],
   "source": [
    "## Number of packets per flow\n",
    "temp = SF.groupby(['uFlow'],{\n",
    "        'NumPackets':gl.aggregate.COUNT()\n",
    "    })\n",
    "print temp.head(3)\n",
    "SF = SF.join(temp, on ='uFlow')\n",
    "del(temp)"
   ]
  },
  {
   "cell_type": "code",
   "execution_count": null,
   "metadata": {
    "collapsed": false
   },
   "outputs": [],
   "source": [
    "## Number of bytes exchanged\n",
    "temp = SF.groupby(['uFlow'],{\n",
    "        'BytesEx':gl.aggregate.SUM('Length')\n",
    "    })\n",
    "SF = SF.join(temp, on ='uFlow')\n",
    "del(temp)"
   ]
  },
  {
   "cell_type": "code",
   "execution_count": 38,
   "metadata": {
    "collapsed": false
   },
   "outputs": [],
   "source": [
    "## Standard deviation of packet length\n",
    "temp = SF.groupby(['uFlow'],{\n",
    "        'StdDevLen':gl.aggregate.STDV('Length')\n",
    "    })\n",
    "SF = SF.join(temp, on ='uFlow')\n",
    "del(temp)"
   ]
  },
  {
   "cell_type": "code",
   "execution_count": 40,
   "metadata": {
    "collapsed": false
   },
   "outputs": [
    {
     "data": {
      "text/html": [
       "<div style=\"max-height:1000px;max-width:1500px;overflow:auto;\"><table frame=\"box\" rules=\"cols\">\n",
       "    <tr>\n",
       "        <th style=\"padding-left: 1em; padding-right: 1em; text-align: center\">uFlow</th>\n",
       "        <th style=\"padding-left: 1em; padding-right: 1em; text-align: center\">SameLenPktRatio</th>\n",
       "    </tr>\n",
       "    <tr>\n",
       "        <td style=\"padding-left: 1em; padding-right: 1em; text-align: center; vertical-align: top\">504649</td>\n",
       "        <td style=\"padding-left: 1em; padding-right: 1em; text-align: center; vertical-align: top\">1.0</td>\n",
       "    </tr>\n",
       "    <tr>\n",
       "        <td style=\"padding-left: 1em; padding-right: 1em; text-align: center; vertical-align: top\">211023</td>\n",
       "        <td style=\"padding-left: 1em; padding-right: 1em; text-align: center; vertical-align: top\">0.2</td>\n",
       "    </tr>\n",
       "    <tr>\n",
       "        <td style=\"padding-left: 1em; padding-right: 1em; text-align: center; vertical-align: top\">442699</td>\n",
       "        <td style=\"padding-left: 1em; padding-right: 1em; text-align: center; vertical-align: top\">0.666666666667</td>\n",
       "    </tr>\n",
       "</table>\n",
       "[3 rows x 2 columns]<br/>\n",
       "</div>"
      ],
      "text/plain": [
       "Columns:\n",
       "\tuFlow\tint\n",
       "\tSameLenPktRatio\tfloat\n",
       "\n",
       "Rows: 3\n",
       "\n",
       "Data:\n",
       "+--------+-----------------+\n",
       "| uFlow  | SameLenPktRatio |\n",
       "+--------+-----------------+\n",
       "| 504649 |       1.0       |\n",
       "| 211023 |       0.2       |\n",
       "| 442699 |  0.666666666667 |\n",
       "+--------+-----------------+\n",
       "[3 rows x 2 columns]"
      ]
     },
     "execution_count": 40,
     "metadata": {},
     "output_type": "execute_result"
    }
   ],
   "source": [
    "## Same length packet ratio\n",
    "temp2 = SF.groupby(['uFlow'],{\n",
    "        'SameLenPktRatio':gl.aggregate.COUNT_DISTINCT('Length')\n",
    "    })\n",
    "##temp from number of packets computation\n",
    "temp = SF.groupby(['uFlow'],{\n",
    "        'NumPackets':gl.aggregate.COUNT()\n",
    "    })\n",
    "temp = temp.join(temp2,on='uFlow')\n",
    "temp['SameLenPktRatio'] = temp['SameLenPktRatio']*1.0/temp['NumPackets']\n",
    "temp2 = None\n",
    "temp = temp[['uFlow','SameLenPktRatio']]\n",
    "SF = SF.join(temp, on ='uFlow')"
   ]
  },
  {
   "cell_type": "code",
   "execution_count": 41,
   "metadata": {
    "collapsed": true
   },
   "outputs": [],
   "source": [
    "## Duration of flow\n",
    "timeF = SF.groupby(['uFlow'],{\n",
    "        'startTime':gl.aggregate.MIN('Time'),\n",
    "        'endTime':gl.aggregate.MAX('Time')\n",
    "    })\n",
    "timeF['Duration'] = timeF['endTime'] - timeF['startTime']\n",
    "timeF = timeF[['uFlow','Duration']]\n",
    "SF = SF.join(timeF, on ='uFlow')"
   ]
  },
  {
   "cell_type": "code",
   "execution_count": 45,
   "metadata": {
    "collapsed": false,
    "scrolled": true
   },
   "outputs": [
    {
     "data": {
      "text/plain": [
       "['Answer RRs',\n",
       " 'BytesEx',\n",
       " 'Destination',\n",
       " 'Destination GeoIP Country',\n",
       " 'Destination GeoIP Latitude',\n",
       " 'Destination GeoIP Longitude',\n",
       " 'Destination Port',\n",
       " 'Differentiated Services Field',\n",
       " 'Duration',\n",
       " 'FPL',\n",
       " 'FlowNo.',\n",
       " 'IP_Flags',\n",
       " 'Info',\n",
       " 'Length',\n",
       " 'Next sequence number',\n",
       " 'No.',\n",
       " 'NumPackets',\n",
       " 'Protocol',\n",
       " 'Protocols in frame',\n",
       " 'SameLenPktRatio',\n",
       " 'Sequence number',\n",
       " 'Source',\n",
       " 'Source GeoIP Country',\n",
       " 'Source GeoIP Latitude',\n",
       " 'Source GeoIP Longitude',\n",
       " 'Source Port',\n",
       " 'StdDevLen',\n",
       " 'TCP Segment Len',\n",
       " 'Time',\n",
       " 'Time to live',\n",
       " 'isBot',\n",
       " 'tcp_Flags',\n",
       " 'uFlow',\n",
       " 'udp_Length']"
      ]
     },
     "execution_count": 45,
     "metadata": {},
     "output_type": "execute_result"
    }
   ],
   "source": [
    "sorted(SF.column_names())"
   ]
  },
  {
   "cell_type": "code",
   "execution_count": 50,
   "metadata": {
    "collapsed": true
   },
   "outputs": [],
   "source": [
    "features = ['Answer RRs',\n",
    " 'BytesEx',\n",
    " 'Destination',\n",
    " 'Destination Port',\n",
    " 'Differentiated Services Field',\n",
    " 'Duration',\n",
    " 'FPL',\n",
    " 'IP_Flags',\n",
    " 'Info',\n",
    " 'Length',\n",
    " 'Next sequence number',\n",
    " 'No.',\n",
    " 'NumPackets',\n",
    " 'Protocol',\n",
    " 'Protocols in frame',\n",
    " 'SameLenPktRatio',\n",
    " 'Sequence number',\n",
    " 'Source',\n",
    " 'Source Port',\n",
    " 'StdDevLen',\n",
    " 'TCP Segment Len',\n",
    " 'Time',\n",
    " 'Time to live',\n",
    " 'isBot',\n",
    " 'tcp_Flags',\n",
    " 'uFlow',\n",
    " 'udp_Length']\n",
    "SF = SF[features]"
   ]
  },
  {
   "cell_type": "code",
   "execution_count": 52,
   "metadata": {
    "collapsed": false
   },
   "outputs": [],
   "source": [
    "## Average packets per second\n",
    "temp =  SF.groupby(['uFlow'],{\n",
    "        'NumPackets':gl.aggregate.COUNT()\n",
    "    })\n",
    "temp = temp.join(timeF,on=['uFlow'])\n",
    "temp['AvgPktPerSec'] = temp.apply(lambda x:0.0 if x['Duration'] == 0.0 else x['NumPackets']*1.0/x['Duration'])\n",
    "temp = temp[['uFlow','AvgPktPerSec']]\n",
    "SF = SF.join(temp, on ='uFlow')"
   ]
  },
  {
   "cell_type": "code",
   "execution_count": 53,
   "metadata": {
    "collapsed": false
   },
   "outputs": [],
   "source": [
    "##Average Bits Per Second\n",
    "temp = SF.groupby(['uFlow'],{\n",
    "        'BytesEx':gl.aggregate.SUM('Length')\n",
    "    })\n",
    "temp = temp.join(timeF,on=['uFlow'])\n",
    "temp['BitsPerSec'] = temp.apply(lambda x:0.0 if x['Duration'] == 0.0 else x['BytesEx']*8.0/x['Duration'])\n",
    "temp = temp[['uFlow','BitsPerSec']]\n",
    "SF = SF.join(temp, on ='uFlow')"
   ]
  },
  {
   "cell_type": "code",
   "execution_count": 55,
   "metadata": {
    "collapsed": false
   },
   "outputs": [],
   "source": [
    "## Average Packet Lentgth\n",
    "temp = SF.groupby(['uFlow'],{\n",
    "        'APL':gl.aggregate.AVG('Length')\n",
    "    })\n",
    "SF = SF.join(temp, on ='uFlow')"
   ]
  },
  {
   "cell_type": "code",
   "execution_count": null,
   "metadata": {
    "collapsed": true
   },
   "outputs": [],
   "source": [
    "## Number of Reconnects, sort FlowNo, SeqNo"
   ]
  },
  {
   "cell_type": "code",
   "execution_count": 56,
   "metadata": {
    "collapsed": false
   },
   "outputs": [],
   "source": [
    "def tfn(x):\n",
    "    if 'udp' in x.split(':') or 'tcp' in x.split(':'):\n",
    "        return 1\n",
    "    return 0\n",
    "temp = list(SF['Protocols in frame'].apply(lambda x:tfn(x)))"
   ]
  },
  {
   "cell_type": "code",
   "execution_count": 57,
   "metadata": {
    "collapsed": false
   },
   "outputs": [
    {
     "data": {
      "text/plain": [
       "4676319"
      ]
     },
     "execution_count": 57,
     "metadata": {},
     "output_type": "execute_result"
    }
   ],
   "source": [
    "len(temp)"
   ]
  },
  {
   "cell_type": "code",
   "execution_count": 58,
   "metadata": {
    "collapsed": false
   },
   "outputs": [
    {
     "data": {
      "text/plain": [
       "4653909"
      ]
     },
     "execution_count": 58,
     "metadata": {},
     "output_type": "execute_result"
    }
   ],
   "source": [
    "sum(temp)"
   ]
  },
  {
   "cell_type": "code",
   "execution_count": 60,
   "metadata": {
    "collapsed": false
   },
   "outputs": [
    {
     "data": {
      "text/plain": [
       "0"
      ]
     },
     "execution_count": 60,
     "metadata": {},
     "output_type": "execute_result"
    }
   ],
   "source": [
    "len(SF[(SF['udp_Length'] == None)&(SF['TCP Segment Len'] == '')])"
   ]
  },
  {
   "cell_type": "code",
   "execution_count": 61,
   "metadata": {
    "collapsed": false
   },
   "outputs": [
    {
     "data": {
      "text/plain": [
       "dtype: str\n",
       "Rows: 0\n",
       "[]"
      ]
     },
     "execution_count": 61,
     "metadata": {},
     "output_type": "execute_result"
    }
   ],
   "source": [
    "SF[(SF['udp_Length'] == None)&(SF['TCP Segment Len'] == '')]['Protocols in frame'].unique()"
   ]
  },
  {
   "cell_type": "code",
   "execution_count": 62,
   "metadata": {
    "collapsed": false
   },
   "outputs": [
    {
     "name": "stdout",
     "output_type": "stream",
     "text": [
      "1 234 1\n"
     ]
    }
   ],
   "source": [
    "print len(SF[SF['Protocols in frame']=='eth:ethertype:ip:icmp:ip:tcp:http:urlencoded-form']),len(SF[SF['Protocols in frame']=='eth:ethertype:ip:icmp:ip:tcp']),len(SF[SF['Protocols in frame']=='eth:ethertype:ip:icmp:ip:tcp:http:data'])"
   ]
  },
  {
   "cell_type": "code",
   "execution_count": 64,
   "metadata": {
    "collapsed": false
   },
   "outputs": [],
   "source": [
    "## Inter arrival time\n",
    "SF['IAT'] = 0\n",
    "SF = SF.sort(['uFlow','Time'])\n",
    "prev = None\n",
    "prevT = None\n",
    "li = []\n",
    "for x in SF:\n",
    "    if prev is None or x['uFlow']!= prev:\n",
    "        li.append(0)\n",
    "    else:\n",
    "        li.append(x['Time']-prevT)        \n",
    "    prev = x['uFlow']\n",
    "    prevT = x['Time']\n",
    "SF['IAT'] = gl.SArray(li)"
   ]
  },
  {
   "cell_type": "code",
   "execution_count": 65,
   "metadata": {
    "collapsed": false
   },
   "outputs": [
    {
     "data": {
      "text/plain": [
       "4676319"
      ]
     },
     "execution_count": 65,
     "metadata": {},
     "output_type": "execute_result"
    }
   ],
   "source": [
    "len(SF)"
   ]
  },
  {
   "cell_type": "code",
   "execution_count": 66,
   "metadata": {
    "collapsed": false
   },
   "outputs": [
    {
     "name": "stdout",
     "output_type": "stream",
     "text": [
      "5637\n"
     ]
    }
   ],
   "source": [
    "print len(SF[SF['Protocols in frame']=='eth:ipx'])"
   ]
  },
  {
   "cell_type": "code",
   "execution_count": 67,
   "metadata": {
    "collapsed": true
   },
   "outputs": [],
   "source": [
    "SF.save('Bot_features_till_IAT.csv')"
   ]
  },
  {
   "cell_type": "markdown",
   "metadata": {},
   "source": [
    "# Is Null feature"
   ]
  },
  {
   "cell_type": "markdown",
   "metadata": {},
   "source": [
    "### Number of TCP Null packets"
   ]
  },
  {
   "cell_type": "code",
   "execution_count": 68,
   "metadata": {
    "collapsed": false
   },
   "outputs": [
    {
     "data": {
      "text/plain": [
       "3125048"
      ]
     },
     "execution_count": 68,
     "metadata": {},
     "output_type": "execute_result"
    }
   ],
   "source": [
    "len(SF[SF['Protocol']=='TCP'])"
   ]
  },
  {
   "cell_type": "markdown",
   "metadata": {},
   "source": [
    "### Number of UDP NUll Packets"
   ]
  },
  {
   "cell_type": "code",
   "execution_count": 69,
   "metadata": {
    "collapsed": false
   },
   "outputs": [
    {
     "data": {
      "text/plain": [
       "(0, 556049)"
      ]
     },
     "execution_count": 69,
     "metadata": {},
     "output_type": "execute_result"
    }
   ],
   "source": [
    "len(SF[SF['udp_Length']==8]), len(SF[SF['Protocol']=='UDP'])"
   ]
  },
  {
   "cell_type": "code",
   "execution_count": 70,
   "metadata": {
    "collapsed": false
   },
   "outputs": [
    {
     "data": {
      "text/plain": [
       "dtype: str\n",
       "Rows: 5\n",
       "['eth:ethertype:ip:tcp', 'eth:ethertype:ip:tcp:http:image-gif', 'eth:ethertype:ip:tcp:http:image-jfif', 'eth:ethertype:ip:tcp:http', 'eth:ethertype:ip:tcp:http:data-text-lines']"
      ]
     },
     "execution_count": 70,
     "metadata": {},
     "output_type": "execute_result"
    }
   ],
   "source": [
    "SF[SF['TCP Segment Len']=='0']['Protocols in frame'].unique()"
   ]
  },
  {
   "cell_type": "markdown",
   "metadata": {},
   "source": [
    "### Null Packets exchanged,\n",
    "TCP -> tcp segment len =0,\n",
    "UDP -> udp len = 8,\n",
    "non tcp udp -> length - individual headers"
   ]
  },
  {
   "cell_type": "code",
   "execution_count": 71,
   "metadata": {
    "collapsed": true
   },
   "outputs": [],
   "source": [
    "tt = SF[(SF['TCP Segment Len']!='0')&(SF['udp_Length']!=8 )]"
   ]
  },
  {
   "cell_type": "code",
   "execution_count": 72,
   "metadata": {
    "collapsed": false
   },
   "outputs": [
    {
     "data": {
      "text/plain": [
       "2848027"
      ]
     },
     "execution_count": 72,
     "metadata": {},
     "output_type": "execute_result"
    }
   ],
   "source": [
    "len(tt)"
   ]
  },
  {
   "cell_type": "code",
   "execution_count": 73,
   "metadata": {
    "collapsed": false
   },
   "outputs": [],
   "source": [
    "## Null Packets handling\n",
    "def checkNull(x):\n",
    "    if(x['TCP Segment Len']=='0' or x['udp_Length']==8 ):\n",
    "        return 1\n",
    "    elif('ipx' in x['Protocols in frame'].split(':')):\n",
    "        l = x['Length'] - 30\n",
    "        if('eth' in x['Protocols in frame'].split(':')):\n",
    "            l = l - 14\n",
    "        if('ethtype' in x['Protocols in frame'].split(':')):\n",
    "            l = l - 2\n",
    "        if('llc' in x['Protocols in frame'].split(':')):\n",
    "            l = l - 8\n",
    "        if(l==0 or l==-1):\n",
    "            return 1\n",
    "    return 0\n"
   ]
  },
  {
   "cell_type": "code",
   "execution_count": 74,
   "metadata": {
    "collapsed": false
   },
   "outputs": [],
   "source": [
    "SF['isNull'] = SF.apply(lambda x:checkNull(x))"
   ]
  },
  {
   "cell_type": "code",
   "execution_count": 75,
   "metadata": {
    "collapsed": false
   },
   "outputs": [
    {
     "data": {
      "text/plain": [
       "1828292"
      ]
     },
     "execution_count": 75,
     "metadata": {},
     "output_type": "execute_result"
    }
   ],
   "source": [
    "len(SF[SF['isNull']==1])\n"
   ]
  },
  {
   "cell_type": "code",
   "execution_count": 76,
   "metadata": {
    "collapsed": false,
    "scrolled": true
   },
   "outputs": [],
   "source": [
    "NPEx = SF.groupby(['uFlow'],{\n",
    "        'NPEx':gl.aggregate.SUM('isNull')\n",
    "    })\n",
    "SF = SF.join(NPEx, on ='uFlow')"
   ]
  },
  {
   "cell_type": "markdown",
   "metadata": {},
   "source": [
    "### Number of Reconnects - considering only TCP reconnects, using sequence number"
   ]
  },
  {
   "cell_type": "code",
   "execution_count": null,
   "metadata": {
    "collapsed": false
   },
   "outputs": [],
   "source": [
    "type(SF['Sequence number'][0])"
   ]
  },
  {
   "cell_type": "code",
   "execution_count": 79,
   "metadata": {
    "collapsed": false
   },
   "outputs": [
    {
     "data": {
      "text/plain": [
       "4676319"
      ]
     },
     "execution_count": 79,
     "metadata": {},
     "output_type": "execute_result"
    }
   ],
   "source": [
    "recon = SF[SF['Sequence number']!=''].groupby(['uFlow'],{\n",
    "        'total_seq_no.' : gl.aggregate.COUNT('Sequence number'),\n",
    "        'distinct_seq_no.' : gl.aggregate.COUNT_DISTINCT('Sequence number')\n",
    "    })\n",
    "recon['reconnects'] = recon['total_seq_no.'] - recon['distinct_seq_no.']\n",
    "recon.head()\n",
    "recon = recon[['uFlow','reconnects']]\n",
    "SF = SF.join(recon,on='uFlow',how='left')\n",
    "len(SF)"
   ]
  },
  {
   "cell_type": "code",
   "execution_count": 81,
   "metadata": {
    "collapsed": false
   },
   "outputs": [
    {
     "data": {
      "text/html": [
       "<div style=\"max-height:1000px;max-width:1500px;overflow:auto;\"><table frame=\"box\" rules=\"cols\">\n",
       "    <tr>\n",
       "        <th style=\"padding-left: 1em; padding-right: 1em; text-align: center\">Answer RRs</th>\n",
       "        <th style=\"padding-left: 1em; padding-right: 1em; text-align: center\">BytesEx</th>\n",
       "        <th style=\"padding-left: 1em; padding-right: 1em; text-align: center\">Destination</th>\n",
       "        <th style=\"padding-left: 1em; padding-right: 1em; text-align: center\">Destination Port</th>\n",
       "        <th style=\"padding-left: 1em; padding-right: 1em; text-align: center\">Differentiated Services<br>Field ...</th>\n",
       "        <th style=\"padding-left: 1em; padding-right: 1em; text-align: center\">Duration</th>\n",
       "        <th style=\"padding-left: 1em; padding-right: 1em; text-align: center\">FPL</th>\n",
       "        <th style=\"padding-left: 1em; padding-right: 1em; text-align: center\">IP_Flags</th>\n",
       "    </tr>\n",
       "    <tr>\n",
       "        <td style=\"padding-left: 1em; padding-right: 1em; text-align: center; vertical-align: top\"></td>\n",
       "        <td style=\"padding-left: 1em; padding-right: 1em; text-align: center; vertical-align: top\">1522</td>\n",
       "        <td style=\"padding-left: 1em; padding-right: 1em; text-align: center; vertical-align: top\">255.255.255.255</td>\n",
       "        <td style=\"padding-left: 1em; padding-right: 1em; text-align: center; vertical-align: top\">67</td>\n",
       "        <td style=\"padding-left: 1em; padding-right: 1em; text-align: center; vertical-align: top\">0x00</td>\n",
       "        <td style=\"padding-left: 1em; padding-right: 1em; text-align: center; vertical-align: top\">662.964315891</td>\n",
       "        <td style=\"padding-left: 1em; padding-right: 1em; text-align: center; vertical-align: top\">590.0</td>\n",
       "        <td style=\"padding-left: 1em; padding-right: 1em; text-align: center; vertical-align: top\">0x00</td>\n",
       "    </tr>\n",
       "    <tr>\n",
       "        <td style=\"padding-left: 1em; padding-right: 1em; text-align: center; vertical-align: top\"></td>\n",
       "        <td style=\"padding-left: 1em; padding-right: 1em; text-align: center; vertical-align: top\">1522</td>\n",
       "        <td style=\"padding-left: 1em; padding-right: 1em; text-align: center; vertical-align: top\">255.255.255.255</td>\n",
       "        <td style=\"padding-left: 1em; padding-right: 1em; text-align: center; vertical-align: top\">67</td>\n",
       "        <td style=\"padding-left: 1em; padding-right: 1em; text-align: center; vertical-align: top\">0x00</td>\n",
       "        <td style=\"padding-left: 1em; padding-right: 1em; text-align: center; vertical-align: top\">662.964315891</td>\n",
       "        <td style=\"padding-left: 1em; padding-right: 1em; text-align: center; vertical-align: top\">590.0</td>\n",
       "        <td style=\"padding-left: 1em; padding-right: 1em; text-align: center; vertical-align: top\">0x00</td>\n",
       "    </tr>\n",
       "    <tr>\n",
       "        <td style=\"padding-left: 1em; padding-right: 1em; text-align: center; vertical-align: top\"></td>\n",
       "        <td style=\"padding-left: 1em; padding-right: 1em; text-align: center; vertical-align: top\">1522</td>\n",
       "        <td style=\"padding-left: 1em; padding-right: 1em; text-align: center; vertical-align: top\">255.255.255.255</td>\n",
       "        <td style=\"padding-left: 1em; padding-right: 1em; text-align: center; vertical-align: top\">67</td>\n",
       "        <td style=\"padding-left: 1em; padding-right: 1em; text-align: center; vertical-align: top\">0x00</td>\n",
       "        <td style=\"padding-left: 1em; padding-right: 1em; text-align: center; vertical-align: top\">662.964315891</td>\n",
       "        <td style=\"padding-left: 1em; padding-right: 1em; text-align: center; vertical-align: top\">590.0</td>\n",
       "        <td style=\"padding-left: 1em; padding-right: 1em; text-align: center; vertical-align: top\">0x00</td>\n",
       "    </tr>\n",
       "    <tr>\n",
       "        <td style=\"padding-left: 1em; padding-right: 1em; text-align: center; vertical-align: top\"></td>\n",
       "        <td style=\"padding-left: 1em; padding-right: 1em; text-align: center; vertical-align: top\">2702</td>\n",
       "        <td style=\"padding-left: 1em; padding-right: 1em; text-align: center; vertical-align: top\">255.255.255.255</td>\n",
       "        <td style=\"padding-left: 1em; padding-right: 1em; text-align: center; vertical-align: top\">67</td>\n",
       "        <td style=\"padding-left: 1em; padding-right: 1em; text-align: center; vertical-align: top\">0x00</td>\n",
       "        <td style=\"padding-left: 1em; padding-right: 1em; text-align: center; vertical-align: top\">4292.18323708</td>\n",
       "        <td style=\"padding-left: 1em; padding-right: 1em; text-align: center; vertical-align: top\">590.0</td>\n",
       "        <td style=\"padding-left: 1em; padding-right: 1em; text-align: center; vertical-align: top\">0x02</td>\n",
       "    </tr>\n",
       "    <tr>\n",
       "        <td style=\"padding-left: 1em; padding-right: 1em; text-align: center; vertical-align: top\"></td>\n",
       "        <td style=\"padding-left: 1em; padding-right: 1em; text-align: center; vertical-align: top\">2702</td>\n",
       "        <td style=\"padding-left: 1em; padding-right: 1em; text-align: center; vertical-align: top\">255.255.255.255</td>\n",
       "        <td style=\"padding-left: 1em; padding-right: 1em; text-align: center; vertical-align: top\">67</td>\n",
       "        <td style=\"padding-left: 1em; padding-right: 1em; text-align: center; vertical-align: top\">0x00</td>\n",
       "        <td style=\"padding-left: 1em; padding-right: 1em; text-align: center; vertical-align: top\">4292.18323708</td>\n",
       "        <td style=\"padding-left: 1em; padding-right: 1em; text-align: center; vertical-align: top\">590.0</td>\n",
       "        <td style=\"padding-left: 1em; padding-right: 1em; text-align: center; vertical-align: top\">0x02</td>\n",
       "    </tr>\n",
       "    <tr>\n",
       "        <td style=\"padding-left: 1em; padding-right: 1em; text-align: center; vertical-align: top\"></td>\n",
       "        <td style=\"padding-left: 1em; padding-right: 1em; text-align: center; vertical-align: top\">2702</td>\n",
       "        <td style=\"padding-left: 1em; padding-right: 1em; text-align: center; vertical-align: top\">255.255.255.255</td>\n",
       "        <td style=\"padding-left: 1em; padding-right: 1em; text-align: center; vertical-align: top\">67</td>\n",
       "        <td style=\"padding-left: 1em; padding-right: 1em; text-align: center; vertical-align: top\">0x00</td>\n",
       "        <td style=\"padding-left: 1em; padding-right: 1em; text-align: center; vertical-align: top\">4292.18323708</td>\n",
       "        <td style=\"padding-left: 1em; padding-right: 1em; text-align: center; vertical-align: top\">590.0</td>\n",
       "        <td style=\"padding-left: 1em; padding-right: 1em; text-align: center; vertical-align: top\">0x00</td>\n",
       "    </tr>\n",
       "    <tr>\n",
       "        <td style=\"padding-left: 1em; padding-right: 1em; text-align: center; vertical-align: top\"></td>\n",
       "        <td style=\"padding-left: 1em; padding-right: 1em; text-align: center; vertical-align: top\">2702</td>\n",
       "        <td style=\"padding-left: 1em; padding-right: 1em; text-align: center; vertical-align: top\">255.255.255.255</td>\n",
       "        <td style=\"padding-left: 1em; padding-right: 1em; text-align: center; vertical-align: top\">67</td>\n",
       "        <td style=\"padding-left: 1em; padding-right: 1em; text-align: center; vertical-align: top\">0x00</td>\n",
       "        <td style=\"padding-left: 1em; padding-right: 1em; text-align: center; vertical-align: top\">4292.18323708</td>\n",
       "        <td style=\"padding-left: 1em; padding-right: 1em; text-align: center; vertical-align: top\">590.0</td>\n",
       "        <td style=\"padding-left: 1em; padding-right: 1em; text-align: center; vertical-align: top\">0x00</td>\n",
       "    </tr>\n",
       "    <tr>\n",
       "        <td style=\"padding-left: 1em; padding-right: 1em; text-align: center; vertical-align: top\"></td>\n",
       "        <td style=\"padding-left: 1em; padding-right: 1em; text-align: center; vertical-align: top\">2702</td>\n",
       "        <td style=\"padding-left: 1em; padding-right: 1em; text-align: center; vertical-align: top\">255.255.255.255</td>\n",
       "        <td style=\"padding-left: 1em; padding-right: 1em; text-align: center; vertical-align: top\">67</td>\n",
       "        <td style=\"padding-left: 1em; padding-right: 1em; text-align: center; vertical-align: top\">0x00</td>\n",
       "        <td style=\"padding-left: 1em; padding-right: 1em; text-align: center; vertical-align: top\">4292.18323708</td>\n",
       "        <td style=\"padding-left: 1em; padding-right: 1em; text-align: center; vertical-align: top\">590.0</td>\n",
       "        <td style=\"padding-left: 1em; padding-right: 1em; text-align: center; vertical-align: top\">0x00</td>\n",
       "    </tr>\n",
       "    <tr>\n",
       "        <td style=\"padding-left: 1em; padding-right: 1em; text-align: center; vertical-align: top\"></td>\n",
       "        <td style=\"padding-left: 1em; padding-right: 1em; text-align: center; vertical-align: top\">684</td>\n",
       "        <td style=\"padding-left: 1em; padding-right: 1em; text-align: center; vertical-align: top\">255.255.255.255</td>\n",
       "        <td style=\"padding-left: 1em; padding-right: 1em; text-align: center; vertical-align: top\">67</td>\n",
       "        <td style=\"padding-left: 1em; padding-right: 1em; text-align: center; vertical-align: top\">0x00</td>\n",
       "        <td style=\"padding-left: 1em; padding-right: 1em; text-align: center; vertical-align: top\">625.142089844</td>\n",
       "        <td style=\"padding-left: 1em; padding-right: 1em; text-align: center; vertical-align: top\">342.0</td>\n",
       "        <td style=\"padding-left: 1em; padding-right: 1em; text-align: center; vertical-align: top\">0x00</td>\n",
       "    </tr>\n",
       "    <tr>\n",
       "        <td style=\"padding-left: 1em; padding-right: 1em; text-align: center; vertical-align: top\"></td>\n",
       "        <td style=\"padding-left: 1em; padding-right: 1em; text-align: center; vertical-align: top\">684</td>\n",
       "        <td style=\"padding-left: 1em; padding-right: 1em; text-align: center; vertical-align: top\">255.255.255.255</td>\n",
       "        <td style=\"padding-left: 1em; padding-right: 1em; text-align: center; vertical-align: top\">67</td>\n",
       "        <td style=\"padding-left: 1em; padding-right: 1em; text-align: center; vertical-align: top\">0x00</td>\n",
       "        <td style=\"padding-left: 1em; padding-right: 1em; text-align: center; vertical-align: top\">625.142089844</td>\n",
       "        <td style=\"padding-left: 1em; padding-right: 1em; text-align: center; vertical-align: top\">342.0</td>\n",
       "        <td style=\"padding-left: 1em; padding-right: 1em; text-align: center; vertical-align: top\">0x00</td>\n",
       "    </tr>\n",
       "</table>\n",
       "<table frame=\"box\" rules=\"cols\">\n",
       "    <tr>\n",
       "        <th style=\"padding-left: 1em; padding-right: 1em; text-align: center\">Info</th>\n",
       "        <th style=\"padding-left: 1em; padding-right: 1em; text-align: center\">Length</th>\n",
       "        <th style=\"padding-left: 1em; padding-right: 1em; text-align: center\">Next sequence number</th>\n",
       "        <th style=\"padding-left: 1em; padding-right: 1em; text-align: center\">No.</th>\n",
       "        <th style=\"padding-left: 1em; padding-right: 1em; text-align: center\">NumPackets</th>\n",
       "        <th style=\"padding-left: 1em; padding-right: 1em; text-align: center\">Protocol</th>\n",
       "    </tr>\n",
       "    <tr>\n",
       "        <td style=\"padding-left: 1em; padding-right: 1em; text-align: center; vertical-align: top\">Boot Request from<br>00:60:b0:92:41:8c ...</td>\n",
       "        <td style=\"padding-left: 1em; padding-right: 1em; text-align: center; vertical-align: top\">590</td>\n",
       "        <td style=\"padding-left: 1em; padding-right: 1em; text-align: center; vertical-align: top\"></td>\n",
       "        <td style=\"padding-left: 1em; padding-right: 1em; text-align: center; vertical-align: top\">1106514</td>\n",
       "        <td style=\"padding-left: 1em; padding-right: 1em; text-align: center; vertical-align: top\">3</td>\n",
       "        <td style=\"padding-left: 1em; padding-right: 1em; text-align: center; vertical-align: top\">BOOTP</td>\n",
       "    </tr>\n",
       "    <tr>\n",
       "        <td style=\"padding-left: 1em; padding-right: 1em; text-align: center; vertical-align: top\">Boot Request from<br>00:60:b0:92:41:8c ...</td>\n",
       "        <td style=\"padding-left: 1em; padding-right: 1em; text-align: center; vertical-align: top\">590</td>\n",
       "        <td style=\"padding-left: 1em; padding-right: 1em; text-align: center; vertical-align: top\"></td>\n",
       "        <td style=\"padding-left: 1em; padding-right: 1em; text-align: center; vertical-align: top\">1106522</td>\n",
       "        <td style=\"padding-left: 1em; padding-right: 1em; text-align: center; vertical-align: top\">3</td>\n",
       "        <td style=\"padding-left: 1em; padding-right: 1em; text-align: center; vertical-align: top\">BOOTP</td>\n",
       "    </tr>\n",
       "    <tr>\n",
       "        <td style=\"padding-left: 1em; padding-right: 1em; text-align: center; vertical-align: top\">Boot Request from<br>d4:be:d9:c8:f3:85 ...</td>\n",
       "        <td style=\"padding-left: 1em; padding-right: 1em; text-align: center; vertical-align: top\">342</td>\n",
       "        <td style=\"padding-left: 1em; padding-right: 1em; text-align: center; vertical-align: top\"></td>\n",
       "        <td style=\"padding-left: 1em; padding-right: 1em; text-align: center; vertical-align: top\">1110137</td>\n",
       "        <td style=\"padding-left: 1em; padding-right: 1em; text-align: center; vertical-align: top\">3</td>\n",
       "        <td style=\"padding-left: 1em; padding-right: 1em; text-align: center; vertical-align: top\">BOOTP</td>\n",
       "    </tr>\n",
       "    <tr>\n",
       "        <td style=\"padding-left: 1em; padding-right: 1em; text-align: center; vertical-align: top\">Boot Request from<br>08:00:37:3f:ad:88 (Fuji- ...</td>\n",
       "        <td style=\"padding-left: 1em; padding-right: 1em; text-align: center; vertical-align: top\">590</td>\n",
       "        <td style=\"padding-left: 1em; padding-right: 1em; text-align: center; vertical-align: top\"></td>\n",
       "        <td style=\"padding-left: 1em; padding-right: 1em; text-align: center; vertical-align: top\">1113750</td>\n",
       "        <td style=\"padding-left: 1em; padding-right: 1em; text-align: center; vertical-align: top\">5</td>\n",
       "        <td style=\"padding-left: 1em; padding-right: 1em; text-align: center; vertical-align: top\">BOOTP</td>\n",
       "    </tr>\n",
       "    <tr>\n",
       "        <td style=\"padding-left: 1em; padding-right: 1em; text-align: center; vertical-align: top\">Boot Request from<br>08:00:37:3f:ad:88 (Fuji- ...</td>\n",
       "        <td style=\"padding-left: 1em; padding-right: 1em; text-align: center; vertical-align: top\">590</td>\n",
       "        <td style=\"padding-left: 1em; padding-right: 1em; text-align: center; vertical-align: top\"></td>\n",
       "        <td style=\"padding-left: 1em; padding-right: 1em; text-align: center; vertical-align: top\">1113756</td>\n",
       "        <td style=\"padding-left: 1em; padding-right: 1em; text-align: center; vertical-align: top\">5</td>\n",
       "        <td style=\"padding-left: 1em; padding-right: 1em; text-align: center; vertical-align: top\">BOOTP</td>\n",
       "    </tr>\n",
       "    <tr>\n",
       "        <td style=\"padding-left: 1em; padding-right: 1em; text-align: center; vertical-align: top\">Boot Request from<br>00:60:b0:92:41:8c ...</td>\n",
       "        <td style=\"padding-left: 1em; padding-right: 1em; text-align: center; vertical-align: top\">590</td>\n",
       "        <td style=\"padding-left: 1em; padding-right: 1em; text-align: center; vertical-align: top\"></td>\n",
       "        <td style=\"padding-left: 1em; padding-right: 1em; text-align: center; vertical-align: top\">1113759</td>\n",
       "        <td style=\"padding-left: 1em; padding-right: 1em; text-align: center; vertical-align: top\">5</td>\n",
       "        <td style=\"padding-left: 1em; padding-right: 1em; text-align: center; vertical-align: top\">BOOTP</td>\n",
       "    </tr>\n",
       "    <tr>\n",
       "        <td style=\"padding-left: 1em; padding-right: 1em; text-align: center; vertical-align: top\">Boot Request from<br>00:60:b0:92:41:8c ...</td>\n",
       "        <td style=\"padding-left: 1em; padding-right: 1em; text-align: center; vertical-align: top\">590</td>\n",
       "        <td style=\"padding-left: 1em; padding-right: 1em; text-align: center; vertical-align: top\"></td>\n",
       "        <td style=\"padding-left: 1em; padding-right: 1em; text-align: center; vertical-align: top\">1113763</td>\n",
       "        <td style=\"padding-left: 1em; padding-right: 1em; text-align: center; vertical-align: top\">5</td>\n",
       "        <td style=\"padding-left: 1em; padding-right: 1em; text-align: center; vertical-align: top\">BOOTP</td>\n",
       "    </tr>\n",
       "    <tr>\n",
       "        <td style=\"padding-left: 1em; padding-right: 1em; text-align: center; vertical-align: top\">Boot Request from<br>00:1e:4f:d5:c4:98 ...</td>\n",
       "        <td style=\"padding-left: 1em; padding-right: 1em; text-align: center; vertical-align: top\">342</td>\n",
       "        <td style=\"padding-left: 1em; padding-right: 1em; text-align: center; vertical-align: top\"></td>\n",
       "        <td style=\"padding-left: 1em; padding-right: 1em; text-align: center; vertical-align: top\">1133020</td>\n",
       "        <td style=\"padding-left: 1em; padding-right: 1em; text-align: center; vertical-align: top\">5</td>\n",
       "        <td style=\"padding-left: 1em; padding-right: 1em; text-align: center; vertical-align: top\">BOOTP</td>\n",
       "    </tr>\n",
       "    <tr>\n",
       "        <td style=\"padding-left: 1em; padding-right: 1em; text-align: center; vertical-align: top\">Boot Request from<br>d4:be:d9:d1:e6:37 ...</td>\n",
       "        <td style=\"padding-left: 1em; padding-right: 1em; text-align: center; vertical-align: top\">342</td>\n",
       "        <td style=\"padding-left: 1em; padding-right: 1em; text-align: center; vertical-align: top\"></td>\n",
       "        <td style=\"padding-left: 1em; padding-right: 1em; text-align: center; vertical-align: top\">1172869</td>\n",
       "        <td style=\"padding-left: 1em; padding-right: 1em; text-align: center; vertical-align: top\">2</td>\n",
       "        <td style=\"padding-left: 1em; padding-right: 1em; text-align: center; vertical-align: top\">BOOTP</td>\n",
       "    </tr>\n",
       "    <tr>\n",
       "        <td style=\"padding-left: 1em; padding-right: 1em; text-align: center; vertical-align: top\">Boot Request from<br>d4:be:d9:d1:e6:37 ...</td>\n",
       "        <td style=\"padding-left: 1em; padding-right: 1em; text-align: center; vertical-align: top\">342</td>\n",
       "        <td style=\"padding-left: 1em; padding-right: 1em; text-align: center; vertical-align: top\"></td>\n",
       "        <td style=\"padding-left: 1em; padding-right: 1em; text-align: center; vertical-align: top\">1175634</td>\n",
       "        <td style=\"padding-left: 1em; padding-right: 1em; text-align: center; vertical-align: top\">2</td>\n",
       "        <td style=\"padding-left: 1em; padding-right: 1em; text-align: center; vertical-align: top\">BOOTP</td>\n",
       "    </tr>\n",
       "</table>\n",
       "<table frame=\"box\" rules=\"cols\">\n",
       "    <tr>\n",
       "        <th style=\"padding-left: 1em; padding-right: 1em; text-align: center\">Protocols in frame</th>\n",
       "        <th style=\"padding-left: 1em; padding-right: 1em; text-align: center\">SameLenPktRatio</th>\n",
       "        <th style=\"padding-left: 1em; padding-right: 1em; text-align: center\">Sequence number</th>\n",
       "        <th style=\"padding-left: 1em; padding-right: 1em; text-align: center\">Source</th>\n",
       "        <th style=\"padding-left: 1em; padding-right: 1em; text-align: center\">Source Port</th>\n",
       "        <th style=\"padding-left: 1em; padding-right: 1em; text-align: center\">StdDevLen</th>\n",
       "        <th style=\"padding-left: 1em; padding-right: 1em; text-align: center\">TCP Segment Len</th>\n",
       "    </tr>\n",
       "    <tr>\n",
       "        <td style=\"padding-left: 1em; padding-right: 1em; text-align: center; vertical-align: top\">eth:ethertype:ip:udp:boot<br>p ...</td>\n",
       "        <td style=\"padding-left: 1em; padding-right: 1em; text-align: center; vertical-align: top\">0.666666666667</td>\n",
       "        <td style=\"padding-left: 1em; padding-right: 1em; text-align: center; vertical-align: top\"></td>\n",
       "        <td style=\"padding-left: 1em; padding-right: 1em; text-align: center; vertical-align: top\">0.0.0.0</td>\n",
       "        <td style=\"padding-left: 1em; padding-right: 1em; text-align: center; vertical-align: top\">68</td>\n",
       "        <td style=\"padding-left: 1em; padding-right: 1em; text-align: center; vertical-align: top\">116.908321156</td>\n",
       "        <td style=\"padding-left: 1em; padding-right: 1em; text-align: center; vertical-align: top\"></td>\n",
       "    </tr>\n",
       "    <tr>\n",
       "        <td style=\"padding-left: 1em; padding-right: 1em; text-align: center; vertical-align: top\">eth:ethertype:ip:udp:boot<br>p ...</td>\n",
       "        <td style=\"padding-left: 1em; padding-right: 1em; text-align: center; vertical-align: top\">0.666666666667</td>\n",
       "        <td style=\"padding-left: 1em; padding-right: 1em; text-align: center; vertical-align: top\"></td>\n",
       "        <td style=\"padding-left: 1em; padding-right: 1em; text-align: center; vertical-align: top\">0.0.0.0</td>\n",
       "        <td style=\"padding-left: 1em; padding-right: 1em; text-align: center; vertical-align: top\">68</td>\n",
       "        <td style=\"padding-left: 1em; padding-right: 1em; text-align: center; vertical-align: top\">116.908321156</td>\n",
       "        <td style=\"padding-left: 1em; padding-right: 1em; text-align: center; vertical-align: top\"></td>\n",
       "    </tr>\n",
       "    <tr>\n",
       "        <td style=\"padding-left: 1em; padding-right: 1em; text-align: center; vertical-align: top\">eth:ethertype:ip:udp:boot<br>p ...</td>\n",
       "        <td style=\"padding-left: 1em; padding-right: 1em; text-align: center; vertical-align: top\">0.666666666667</td>\n",
       "        <td style=\"padding-left: 1em; padding-right: 1em; text-align: center; vertical-align: top\"></td>\n",
       "        <td style=\"padding-left: 1em; padding-right: 1em; text-align: center; vertical-align: top\">0.0.0.0</td>\n",
       "        <td style=\"padding-left: 1em; padding-right: 1em; text-align: center; vertical-align: top\">68</td>\n",
       "        <td style=\"padding-left: 1em; padding-right: 1em; text-align: center; vertical-align: top\">116.908321156</td>\n",
       "        <td style=\"padding-left: 1em; padding-right: 1em; text-align: center; vertical-align: top\"></td>\n",
       "    </tr>\n",
       "    <tr>\n",
       "        <td style=\"padding-left: 1em; padding-right: 1em; text-align: center; vertical-align: top\">eth:ethertype:ip:udp:boot<br>p ...</td>\n",
       "        <td style=\"padding-left: 1em; padding-right: 1em; text-align: center; vertical-align: top\">0.4</td>\n",
       "        <td style=\"padding-left: 1em; padding-right: 1em; text-align: center; vertical-align: top\"></td>\n",
       "        <td style=\"padding-left: 1em; padding-right: 1em; text-align: center; vertical-align: top\">0.0.0.0</td>\n",
       "        <td style=\"padding-left: 1em; padding-right: 1em; text-align: center; vertical-align: top\">68</td>\n",
       "        <td style=\"padding-left: 1em; padding-right: 1em; text-align: center; vertical-align: top\">99.2</td>\n",
       "        <td style=\"padding-left: 1em; padding-right: 1em; text-align: center; vertical-align: top\"></td>\n",
       "    </tr>\n",
       "    <tr>\n",
       "        <td style=\"padding-left: 1em; padding-right: 1em; text-align: center; vertical-align: top\">eth:ethertype:ip:udp:boot<br>p ...</td>\n",
       "        <td style=\"padding-left: 1em; padding-right: 1em; text-align: center; vertical-align: top\">0.4</td>\n",
       "        <td style=\"padding-left: 1em; padding-right: 1em; text-align: center; vertical-align: top\"></td>\n",
       "        <td style=\"padding-left: 1em; padding-right: 1em; text-align: center; vertical-align: top\">0.0.0.0</td>\n",
       "        <td style=\"padding-left: 1em; padding-right: 1em; text-align: center; vertical-align: top\">68</td>\n",
       "        <td style=\"padding-left: 1em; padding-right: 1em; text-align: center; vertical-align: top\">99.2</td>\n",
       "        <td style=\"padding-left: 1em; padding-right: 1em; text-align: center; vertical-align: top\"></td>\n",
       "    </tr>\n",
       "    <tr>\n",
       "        <td style=\"padding-left: 1em; padding-right: 1em; text-align: center; vertical-align: top\">eth:ethertype:ip:udp:boot<br>p ...</td>\n",
       "        <td style=\"padding-left: 1em; padding-right: 1em; text-align: center; vertical-align: top\">0.4</td>\n",
       "        <td style=\"padding-left: 1em; padding-right: 1em; text-align: center; vertical-align: top\"></td>\n",
       "        <td style=\"padding-left: 1em; padding-right: 1em; text-align: center; vertical-align: top\">0.0.0.0</td>\n",
       "        <td style=\"padding-left: 1em; padding-right: 1em; text-align: center; vertical-align: top\">68</td>\n",
       "        <td style=\"padding-left: 1em; padding-right: 1em; text-align: center; vertical-align: top\">99.2</td>\n",
       "        <td style=\"padding-left: 1em; padding-right: 1em; text-align: center; vertical-align: top\"></td>\n",
       "    </tr>\n",
       "    <tr>\n",
       "        <td style=\"padding-left: 1em; padding-right: 1em; text-align: center; vertical-align: top\">eth:ethertype:ip:udp:boot<br>p ...</td>\n",
       "        <td style=\"padding-left: 1em; padding-right: 1em; text-align: center; vertical-align: top\">0.4</td>\n",
       "        <td style=\"padding-left: 1em; padding-right: 1em; text-align: center; vertical-align: top\"></td>\n",
       "        <td style=\"padding-left: 1em; padding-right: 1em; text-align: center; vertical-align: top\">0.0.0.0</td>\n",
       "        <td style=\"padding-left: 1em; padding-right: 1em; text-align: center; vertical-align: top\">68</td>\n",
       "        <td style=\"padding-left: 1em; padding-right: 1em; text-align: center; vertical-align: top\">99.2</td>\n",
       "        <td style=\"padding-left: 1em; padding-right: 1em; text-align: center; vertical-align: top\"></td>\n",
       "    </tr>\n",
       "    <tr>\n",
       "        <td style=\"padding-left: 1em; padding-right: 1em; text-align: center; vertical-align: top\">eth:ethertype:ip:udp:boot<br>p ...</td>\n",
       "        <td style=\"padding-left: 1em; padding-right: 1em; text-align: center; vertical-align: top\">0.4</td>\n",
       "        <td style=\"padding-left: 1em; padding-right: 1em; text-align: center; vertical-align: top\"></td>\n",
       "        <td style=\"padding-left: 1em; padding-right: 1em; text-align: center; vertical-align: top\">0.0.0.0</td>\n",
       "        <td style=\"padding-left: 1em; padding-right: 1em; text-align: center; vertical-align: top\">68</td>\n",
       "        <td style=\"padding-left: 1em; padding-right: 1em; text-align: center; vertical-align: top\">99.2</td>\n",
       "        <td style=\"padding-left: 1em; padding-right: 1em; text-align: center; vertical-align: top\"></td>\n",
       "    </tr>\n",
       "    <tr>\n",
       "        <td style=\"padding-left: 1em; padding-right: 1em; text-align: center; vertical-align: top\">eth:ethertype:ip:udp:boot<br>p ...</td>\n",
       "        <td style=\"padding-left: 1em; padding-right: 1em; text-align: center; vertical-align: top\">0.5</td>\n",
       "        <td style=\"padding-left: 1em; padding-right: 1em; text-align: center; vertical-align: top\"></td>\n",
       "        <td style=\"padding-left: 1em; padding-right: 1em; text-align: center; vertical-align: top\">0.0.0.0</td>\n",
       "        <td style=\"padding-left: 1em; padding-right: 1em; text-align: center; vertical-align: top\">68</td>\n",
       "        <td style=\"padding-left: 1em; padding-right: 1em; text-align: center; vertical-align: top\">0.0</td>\n",
       "        <td style=\"padding-left: 1em; padding-right: 1em; text-align: center; vertical-align: top\"></td>\n",
       "    </tr>\n",
       "    <tr>\n",
       "        <td style=\"padding-left: 1em; padding-right: 1em; text-align: center; vertical-align: top\">eth:ethertype:ip:udp:boot<br>p ...</td>\n",
       "        <td style=\"padding-left: 1em; padding-right: 1em; text-align: center; vertical-align: top\">0.5</td>\n",
       "        <td style=\"padding-left: 1em; padding-right: 1em; text-align: center; vertical-align: top\"></td>\n",
       "        <td style=\"padding-left: 1em; padding-right: 1em; text-align: center; vertical-align: top\">0.0.0.0</td>\n",
       "        <td style=\"padding-left: 1em; padding-right: 1em; text-align: center; vertical-align: top\">68</td>\n",
       "        <td style=\"padding-left: 1em; padding-right: 1em; text-align: center; vertical-align: top\">0.0</td>\n",
       "        <td style=\"padding-left: 1em; padding-right: 1em; text-align: center; vertical-align: top\"></td>\n",
       "    </tr>\n",
       "</table>\n",
       "<table frame=\"box\" rules=\"cols\">\n",
       "    <tr>\n",
       "        <th style=\"padding-left: 1em; padding-right: 1em; text-align: center\">Time</th>\n",
       "        <th style=\"padding-left: 1em; padding-right: 1em; text-align: center\">Time to live</th>\n",
       "        <th style=\"padding-left: 1em; padding-right: 1em; text-align: center\">isBot</th>\n",
       "        <th style=\"padding-left: 1em; padding-right: 1em; text-align: center\">tcp_Flags</th>\n",
       "        <th style=\"padding-left: 1em; padding-right: 1em; text-align: center\">uFlow</th>\n",
       "        <th style=\"padding-left: 1em; padding-right: 1em; text-align: center\">udp_Length</th>\n",
       "        <th style=\"padding-left: 1em; padding-right: 1em; text-align: center\">AvgPktPerSec</th>\n",
       "        <th style=\"padding-left: 1em; padding-right: 1em; text-align: center\">BitsPerSec</th>\n",
       "    </tr>\n",
       "    <tr>\n",
       "        <td style=\"padding-left: 1em; padding-right: 1em; text-align: center; vertical-align: top\">1349954216.25</td>\n",
       "        <td style=\"padding-left: 1em; padding-right: 1em; text-align: center; vertical-align: top\">60</td>\n",
       "        <td style=\"padding-left: 1em; padding-right: 1em; text-align: center; vertical-align: top\">0</td>\n",
       "        <td style=\"padding-left: 1em; padding-right: 1em; text-align: center; vertical-align: top\">0</td>\n",
       "        <td style=\"padding-left: 1em; padding-right: 1em; text-align: center; vertical-align: top\">0</td>\n",
       "        <td style=\"padding-left: 1em; padding-right: 1em; text-align: center; vertical-align: top\">556</td>\n",
       "        <td style=\"padding-left: 1em; padding-right: 1em; text-align: center; vertical-align: top\">0.00452513043024</td>\n",
       "        <td style=\"padding-left: 1em; padding-right: 1em; text-align: center; vertical-align: top\">18.3659960395</td>\n",
       "    </tr>\n",
       "    <tr>\n",
       "        <td style=\"padding-left: 1em; padding-right: 1em; text-align: center; vertical-align: top\">1349954216.61</td>\n",
       "        <td style=\"padding-left: 1em; padding-right: 1em; text-align: center; vertical-align: top\">60</td>\n",
       "        <td style=\"padding-left: 1em; padding-right: 1em; text-align: center; vertical-align: top\">0</td>\n",
       "        <td style=\"padding-left: 1em; padding-right: 1em; text-align: center; vertical-align: top\">0</td>\n",
       "        <td style=\"padding-left: 1em; padding-right: 1em; text-align: center; vertical-align: top\">0</td>\n",
       "        <td style=\"padding-left: 1em; padding-right: 1em; text-align: center; vertical-align: top\">556</td>\n",
       "        <td style=\"padding-left: 1em; padding-right: 1em; text-align: center; vertical-align: top\">0.00452513043024</td>\n",
       "        <td style=\"padding-left: 1em; padding-right: 1em; text-align: center; vertical-align: top\">18.3659960395</td>\n",
       "    </tr>\n",
       "    <tr>\n",
       "        <td style=\"padding-left: 1em; padding-right: 1em; text-align: center; vertical-align: top\">1349954879.21</td>\n",
       "        <td style=\"padding-left: 1em; padding-right: 1em; text-align: center; vertical-align: top\">128</td>\n",
       "        <td style=\"padding-left: 1em; padding-right: 1em; text-align: center; vertical-align: top\">0</td>\n",
       "        <td style=\"padding-left: 1em; padding-right: 1em; text-align: center; vertical-align: top\">0</td>\n",
       "        <td style=\"padding-left: 1em; padding-right: 1em; text-align: center; vertical-align: top\">0</td>\n",
       "        <td style=\"padding-left: 1em; padding-right: 1em; text-align: center; vertical-align: top\">308</td>\n",
       "        <td style=\"padding-left: 1em; padding-right: 1em; text-align: center; vertical-align: top\">0.00452513043024</td>\n",
       "        <td style=\"padding-left: 1em; padding-right: 1em; text-align: center; vertical-align: top\">18.3659960395</td>\n",
       "    </tr>\n",
       "    <tr>\n",
       "        <td style=\"padding-left: 1em; padding-right: 1em; text-align: center; vertical-align: top\">1349955690.72</td>\n",
       "        <td style=\"padding-left: 1em; padding-right: 1em; text-align: center; vertical-align: top\">32</td>\n",
       "        <td style=\"padding-left: 1em; padding-right: 1em; text-align: center; vertical-align: top\">0</td>\n",
       "        <td style=\"padding-left: 1em; padding-right: 1em; text-align: center; vertical-align: top\">0</td>\n",
       "        <td style=\"padding-left: 1em; padding-right: 1em; text-align: center; vertical-align: top\">1</td>\n",
       "        <td style=\"padding-left: 1em; padding-right: 1em; text-align: center; vertical-align: top\">556</td>\n",
       "        <td style=\"padding-left: 1em; padding-right: 1em; text-align: center; vertical-align: top\">0.00116490832843</td>\n",
       "        <td style=\"padding-left: 1em; padding-right: 1em; text-align: center; vertical-align: top\">5.03613168545</td>\n",
       "    </tr>\n",
       "    <tr>\n",
       "        <td style=\"padding-left: 1em; padding-right: 1em; text-align: center; vertical-align: top\">1349955692.87</td>\n",
       "        <td style=\"padding-left: 1em; padding-right: 1em; text-align: center; vertical-align: top\">32</td>\n",
       "        <td style=\"padding-left: 1em; padding-right: 1em; text-align: center; vertical-align: top\">0</td>\n",
       "        <td style=\"padding-left: 1em; padding-right: 1em; text-align: center; vertical-align: top\">0</td>\n",
       "        <td style=\"padding-left: 1em; padding-right: 1em; text-align: center; vertical-align: top\">1</td>\n",
       "        <td style=\"padding-left: 1em; padding-right: 1em; text-align: center; vertical-align: top\">556</td>\n",
       "        <td style=\"padding-left: 1em; padding-right: 1em; text-align: center; vertical-align: top\">0.00116490832843</td>\n",
       "        <td style=\"padding-left: 1em; padding-right: 1em; text-align: center; vertical-align: top\">5.03613168545</td>\n",
       "    </tr>\n",
       "    <tr>\n",
       "        <td style=\"padding-left: 1em; padding-right: 1em; text-align: center; vertical-align: top\">1349955693.4</td>\n",
       "        <td style=\"padding-left: 1em; padding-right: 1em; text-align: center; vertical-align: top\">60</td>\n",
       "        <td style=\"padding-left: 1em; padding-right: 1em; text-align: center; vertical-align: top\">0</td>\n",
       "        <td style=\"padding-left: 1em; padding-right: 1em; text-align: center; vertical-align: top\">0</td>\n",
       "        <td style=\"padding-left: 1em; padding-right: 1em; text-align: center; vertical-align: top\">1</td>\n",
       "        <td style=\"padding-left: 1em; padding-right: 1em; text-align: center; vertical-align: top\">556</td>\n",
       "        <td style=\"padding-left: 1em; padding-right: 1em; text-align: center; vertical-align: top\">0.00116490832843</td>\n",
       "        <td style=\"padding-left: 1em; padding-right: 1em; text-align: center; vertical-align: top\">5.03613168545</td>\n",
       "    </tr>\n",
       "    <tr>\n",
       "        <td style=\"padding-left: 1em; padding-right: 1em; text-align: center; vertical-align: top\">1349955693.86</td>\n",
       "        <td style=\"padding-left: 1em; padding-right: 1em; text-align: center; vertical-align: top\">60</td>\n",
       "        <td style=\"padding-left: 1em; padding-right: 1em; text-align: center; vertical-align: top\">0</td>\n",
       "        <td style=\"padding-left: 1em; padding-right: 1em; text-align: center; vertical-align: top\">0</td>\n",
       "        <td style=\"padding-left: 1em; padding-right: 1em; text-align: center; vertical-align: top\">1</td>\n",
       "        <td style=\"padding-left: 1em; padding-right: 1em; text-align: center; vertical-align: top\">556</td>\n",
       "        <td style=\"padding-left: 1em; padding-right: 1em; text-align: center; vertical-align: top\">0.00116490832843</td>\n",
       "        <td style=\"padding-left: 1em; padding-right: 1em; text-align: center; vertical-align: top\">5.03613168545</td>\n",
       "    </tr>\n",
       "    <tr>\n",
       "        <td style=\"padding-left: 1em; padding-right: 1em; text-align: center; vertical-align: top\">1349959982.9</td>\n",
       "        <td style=\"padding-left: 1em; padding-right: 1em; text-align: center; vertical-align: top\">128</td>\n",
       "        <td style=\"padding-left: 1em; padding-right: 1em; text-align: center; vertical-align: top\">0</td>\n",
       "        <td style=\"padding-left: 1em; padding-right: 1em; text-align: center; vertical-align: top\">0</td>\n",
       "        <td style=\"padding-left: 1em; padding-right: 1em; text-align: center; vertical-align: top\">1</td>\n",
       "        <td style=\"padding-left: 1em; padding-right: 1em; text-align: center; vertical-align: top\">308</td>\n",
       "        <td style=\"padding-left: 1em; padding-right: 1em; text-align: center; vertical-align: top\">0.00116490832843</td>\n",
       "        <td style=\"padding-left: 1em; padding-right: 1em; text-align: center; vertical-align: top\">5.03613168545</td>\n",
       "    </tr>\n",
       "    <tr>\n",
       "        <td style=\"padding-left: 1em; padding-right: 1em; text-align: center; vertical-align: top\">1349968777.94</td>\n",
       "        <td style=\"padding-left: 1em; padding-right: 1em; text-align: center; vertical-align: top\">128</td>\n",
       "        <td style=\"padding-left: 1em; padding-right: 1em; text-align: center; vertical-align: top\">0</td>\n",
       "        <td style=\"padding-left: 1em; padding-right: 1em; text-align: center; vertical-align: top\">0</td>\n",
       "        <td style=\"padding-left: 1em; padding-right: 1em; text-align: center; vertical-align: top\">2</td>\n",
       "        <td style=\"padding-left: 1em; padding-right: 1em; text-align: center; vertical-align: top\">308</td>\n",
       "        <td style=\"padding-left: 1em; padding-right: 1em; text-align: center; vertical-align: top\">0.00319927266535</td>\n",
       "        <td style=\"padding-left: 1em; padding-right: 1em; text-align: center; vertical-align: top\">8.75321001241</td>\n",
       "    </tr>\n",
       "    <tr>\n",
       "        <td style=\"padding-left: 1em; padding-right: 1em; text-align: center; vertical-align: top\">1349969403.08</td>\n",
       "        <td style=\"padding-left: 1em; padding-right: 1em; text-align: center; vertical-align: top\">128</td>\n",
       "        <td style=\"padding-left: 1em; padding-right: 1em; text-align: center; vertical-align: top\">0</td>\n",
       "        <td style=\"padding-left: 1em; padding-right: 1em; text-align: center; vertical-align: top\">0</td>\n",
       "        <td style=\"padding-left: 1em; padding-right: 1em; text-align: center; vertical-align: top\">2</td>\n",
       "        <td style=\"padding-left: 1em; padding-right: 1em; text-align: center; vertical-align: top\">308</td>\n",
       "        <td style=\"padding-left: 1em; padding-right: 1em; text-align: center; vertical-align: top\">0.00319927266535</td>\n",
       "        <td style=\"padding-left: 1em; padding-right: 1em; text-align: center; vertical-align: top\">8.75321001241</td>\n",
       "    </tr>\n",
       "</table>\n",
       "<table frame=\"box\" rules=\"cols\">\n",
       "    <tr>\n",
       "        <th style=\"padding-left: 1em; padding-right: 1em; text-align: center\">APL</th>\n",
       "        <th style=\"padding-left: 1em; padding-right: 1em; text-align: center\">IAT</th>\n",
       "        <th style=\"padding-left: 1em; padding-right: 1em; text-align: center\">isNull</th>\n",
       "        <th style=\"padding-left: 1em; padding-right: 1em; text-align: center\">NPEx</th>\n",
       "        <th style=\"padding-left: 1em; padding-right: 1em; text-align: center\">reconnects</th>\n",
       "    </tr>\n",
       "    <tr>\n",
       "        <td style=\"padding-left: 1em; padding-right: 1em; text-align: center; vertical-align: top\">507.333333333</td>\n",
       "        <td style=\"padding-left: 1em; padding-right: 1em; text-align: center; vertical-align: top\">0.0</td>\n",
       "        <td style=\"padding-left: 1em; padding-right: 1em; text-align: center; vertical-align: top\">0</td>\n",
       "        <td style=\"padding-left: 1em; padding-right: 1em; text-align: center; vertical-align: top\">0</td>\n",
       "        <td style=\"padding-left: 1em; padding-right: 1em; text-align: center; vertical-align: top\">-1</td>\n",
       "    </tr>\n",
       "    <tr>\n",
       "        <td style=\"padding-left: 1em; padding-right: 1em; text-align: center; vertical-align: top\">507.333333333</td>\n",
       "        <td style=\"padding-left: 1em; padding-right: 1em; text-align: center; vertical-align: top\">0.363722085953</td>\n",
       "        <td style=\"padding-left: 1em; padding-right: 1em; text-align: center; vertical-align: top\">0</td>\n",
       "        <td style=\"padding-left: 1em; padding-right: 1em; text-align: center; vertical-align: top\">0</td>\n",
       "        <td style=\"padding-left: 1em; padding-right: 1em; text-align: center; vertical-align: top\">-1</td>\n",
       "    </tr>\n",
       "    <tr>\n",
       "        <td style=\"padding-left: 1em; padding-right: 1em; text-align: center; vertical-align: top\">507.333333333</td>\n",
       "        <td style=\"padding-left: 1em; padding-right: 1em; text-align: center; vertical-align: top\">662.600593805</td>\n",
       "        <td style=\"padding-left: 1em; padding-right: 1em; text-align: center; vertical-align: top\">0</td>\n",
       "        <td style=\"padding-left: 1em; padding-right: 1em; text-align: center; vertical-align: top\">0</td>\n",
       "        <td style=\"padding-left: 1em; padding-right: 1em; text-align: center; vertical-align: top\">-1</td>\n",
       "    </tr>\n",
       "    <tr>\n",
       "        <td style=\"padding-left: 1em; padding-right: 1em; text-align: center; vertical-align: top\">540.4</td>\n",
       "        <td style=\"padding-left: 1em; padding-right: 1em; text-align: center; vertical-align: top\">0.0</td>\n",
       "        <td style=\"padding-left: 1em; padding-right: 1em; text-align: center; vertical-align: top\">0</td>\n",
       "        <td style=\"padding-left: 1em; padding-right: 1em; text-align: center; vertical-align: top\">0</td>\n",
       "        <td style=\"padding-left: 1em; padding-right: 1em; text-align: center; vertical-align: top\">-1</td>\n",
       "    </tr>\n",
       "    <tr>\n",
       "        <td style=\"padding-left: 1em; padding-right: 1em; text-align: center; vertical-align: top\">540.4</td>\n",
       "        <td style=\"padding-left: 1em; padding-right: 1em; text-align: center; vertical-align: top\">2.1496489048</td>\n",
       "        <td style=\"padding-left: 1em; padding-right: 1em; text-align: center; vertical-align: top\">0</td>\n",
       "        <td style=\"padding-left: 1em; padding-right: 1em; text-align: center; vertical-align: top\">0</td>\n",
       "        <td style=\"padding-left: 1em; padding-right: 1em; text-align: center; vertical-align: top\">-1</td>\n",
       "    </tr>\n",
       "    <tr>\n",
       "        <td style=\"padding-left: 1em; padding-right: 1em; text-align: center; vertical-align: top\">540.4</td>\n",
       "        <td style=\"padding-left: 1em; padding-right: 1em; text-align: center; vertical-align: top\">0.525135040283</td>\n",
       "        <td style=\"padding-left: 1em; padding-right: 1em; text-align: center; vertical-align: top\">0</td>\n",
       "        <td style=\"padding-left: 1em; padding-right: 1em; text-align: center; vertical-align: top\">0</td>\n",
       "        <td style=\"padding-left: 1em; padding-right: 1em; text-align: center; vertical-align: top\">-1</td>\n",
       "    </tr>\n",
       "    <tr>\n",
       "        <td style=\"padding-left: 1em; padding-right: 1em; text-align: center; vertical-align: top\">540.4</td>\n",
       "        <td style=\"padding-left: 1em; padding-right: 1em; text-align: center; vertical-align: top\">0.469718933105</td>\n",
       "        <td style=\"padding-left: 1em; padding-right: 1em; text-align: center; vertical-align: top\">0</td>\n",
       "        <td style=\"padding-left: 1em; padding-right: 1em; text-align: center; vertical-align: top\">0</td>\n",
       "        <td style=\"padding-left: 1em; padding-right: 1em; text-align: center; vertical-align: top\">-1</td>\n",
       "    </tr>\n",
       "    <tr>\n",
       "        <td style=\"padding-left: 1em; padding-right: 1em; text-align: center; vertical-align: top\">540.4</td>\n",
       "        <td style=\"padding-left: 1em; padding-right: 1em; text-align: center; vertical-align: top\">4289.0387342</td>\n",
       "        <td style=\"padding-left: 1em; padding-right: 1em; text-align: center; vertical-align: top\">0</td>\n",
       "        <td style=\"padding-left: 1em; padding-right: 1em; text-align: center; vertical-align: top\">0</td>\n",
       "        <td style=\"padding-left: 1em; padding-right: 1em; text-align: center; vertical-align: top\">-1</td>\n",
       "    </tr>\n",
       "    <tr>\n",
       "        <td style=\"padding-left: 1em; padding-right: 1em; text-align: center; vertical-align: top\">342.0</td>\n",
       "        <td style=\"padding-left: 1em; padding-right: 1em; text-align: center; vertical-align: top\">0.0</td>\n",
       "        <td style=\"padding-left: 1em; padding-right: 1em; text-align: center; vertical-align: top\">0</td>\n",
       "        <td style=\"padding-left: 1em; padding-right: 1em; text-align: center; vertical-align: top\">0</td>\n",
       "        <td style=\"padding-left: 1em; padding-right: 1em; text-align: center; vertical-align: top\">-1</td>\n",
       "    </tr>\n",
       "    <tr>\n",
       "        <td style=\"padding-left: 1em; padding-right: 1em; text-align: center; vertical-align: top\">342.0</td>\n",
       "        <td style=\"padding-left: 1em; padding-right: 1em; text-align: center; vertical-align: top\">625.142089844</td>\n",
       "        <td style=\"padding-left: 1em; padding-right: 1em; text-align: center; vertical-align: top\">0</td>\n",
       "        <td style=\"padding-left: 1em; padding-right: 1em; text-align: center; vertical-align: top\">0</td>\n",
       "        <td style=\"padding-left: 1em; padding-right: 1em; text-align: center; vertical-align: top\">-1</td>\n",
       "    </tr>\n",
       "</table>\n",
       "[4676319 rows x 34 columns]<br/>Note: Only the head of the SFrame is printed.<br/>You can use print_rows(num_rows=m, num_columns=n) to print more rows and columns.\n",
       "</div>"
      ],
      "text/plain": [
       "Columns:\n",
       "\tAnswer RRs\tstr\n",
       "\tBytesEx\tint\n",
       "\tDestination\tstr\n",
       "\tDestination Port\tstr\n",
       "\tDifferentiated Services Field\tstr\n",
       "\tDuration\tfloat\n",
       "\tFPL\tfloat\n",
       "\tIP_Flags\tstr\n",
       "\tInfo\tstr\n",
       "\tLength\tint\n",
       "\tNext sequence number\tstr\n",
       "\tNo.\tint\n",
       "\tNumPackets\tint\n",
       "\tProtocol\tstr\n",
       "\tProtocols in frame\tstr\n",
       "\tSameLenPktRatio\tfloat\n",
       "\tSequence number\tstr\n",
       "\tSource\tstr\n",
       "\tSource Port\tstr\n",
       "\tStdDevLen\tfloat\n",
       "\tTCP Segment Len\tstr\n",
       "\tTime\tfloat\n",
       "\tTime to live\tstr\n",
       "\tisBot\tint\n",
       "\ttcp_Flags\tint\n",
       "\tuFlow\tint\n",
       "\tudp_Length\tstr\n",
       "\tAvgPktPerSec\tfloat\n",
       "\tBitsPerSec\tfloat\n",
       "\tAPL\tfloat\n",
       "\tIAT\tfloat\n",
       "\tisNull\tint\n",
       "\tNPEx\tint\n",
       "\treconnects\tint\n",
       "\n",
       "Rows: 4676319\n",
       "\n",
       "Data:\n",
       "+------------+---------+-----------------+------------------+-------------------------------+\n",
       "| Answer RRs | BytesEx |   Destination   | Destination Port | Differentiated Services Field |\n",
       "+------------+---------+-----------------+------------------+-------------------------------+\n",
       "|            |   1522  | 255.255.255.255 |        67        |              0x00             |\n",
       "|            |   1522  | 255.255.255.255 |        67        |              0x00             |\n",
       "|            |   1522  | 255.255.255.255 |        67        |              0x00             |\n",
       "|            |   2702  | 255.255.255.255 |        67        |              0x00             |\n",
       "|            |   2702  | 255.255.255.255 |        67        |              0x00             |\n",
       "|            |   2702  | 255.255.255.255 |        67        |              0x00             |\n",
       "|            |   2702  | 255.255.255.255 |        67        |              0x00             |\n",
       "|            |   2702  | 255.255.255.255 |        67        |              0x00             |\n",
       "|            |   684   | 255.255.255.255 |        67        |              0x00             |\n",
       "|            |   684   | 255.255.255.255 |        67        |              0x00             |\n",
       "+------------+---------+-----------------+------------------+-------------------------------+\n",
       "+---------------+-------+----------+-------------------------------+--------+----------------------+\n",
       "|    Duration   |  FPL  | IP_Flags |              Info             | Length | Next sequence number |\n",
       "+---------------+-------+----------+-------------------------------+--------+----------------------+\n",
       "| 662.964315891 | 590.0 |   0x00   | Boot Request from 00:60:b0... |  590   |                      |\n",
       "| 662.964315891 | 590.0 |   0x00   | Boot Request from 00:60:b0... |  590   |                      |\n",
       "| 662.964315891 | 590.0 |   0x00   | Boot Request from d4:be:d9... |  342   |                      |\n",
       "| 4292.18323708 | 590.0 |   0x02   | Boot Request from 08:00:37... |  590   |                      |\n",
       "| 4292.18323708 | 590.0 |   0x02   | Boot Request from 08:00:37... |  590   |                      |\n",
       "| 4292.18323708 | 590.0 |   0x00   | Boot Request from 00:60:b0... |  590   |                      |\n",
       "| 4292.18323708 | 590.0 |   0x00   | Boot Request from 00:60:b0... |  590   |                      |\n",
       "| 4292.18323708 | 590.0 |   0x00   | Boot Request from 00:1e:4f... |  342   |                      |\n",
       "| 625.142089844 | 342.0 |   0x00   | Boot Request from d4:be:d9... |  342   |                      |\n",
       "| 625.142089844 | 342.0 |   0x00   | Boot Request from d4:be:d9... |  342   |                      |\n",
       "+---------------+-------+----------+-------------------------------+--------+----------------------+\n",
       "+---------+------------+----------+----------------------------+-----------------+\n",
       "|   No.   | NumPackets | Protocol |     Protocols in frame     | SameLenPktRatio |\n",
       "+---------+------------+----------+----------------------------+-----------------+\n",
       "| 1106514 |     3      |  BOOTP   | eth:ethertype:ip:udp:bootp |  0.666666666667 |\n",
       "| 1106522 |     3      |  BOOTP   | eth:ethertype:ip:udp:bootp |  0.666666666667 |\n",
       "| 1110137 |     3      |  BOOTP   | eth:ethertype:ip:udp:bootp |  0.666666666667 |\n",
       "| 1113750 |     5      |  BOOTP   | eth:ethertype:ip:udp:bootp |       0.4       |\n",
       "| 1113756 |     5      |  BOOTP   | eth:ethertype:ip:udp:bootp |       0.4       |\n",
       "| 1113759 |     5      |  BOOTP   | eth:ethertype:ip:udp:bootp |       0.4       |\n",
       "| 1113763 |     5      |  BOOTP   | eth:ethertype:ip:udp:bootp |       0.4       |\n",
       "| 1133020 |     5      |  BOOTP   | eth:ethertype:ip:udp:bootp |       0.4       |\n",
       "| 1172869 |     2      |  BOOTP   | eth:ethertype:ip:udp:bootp |       0.5       |\n",
       "| 1175634 |     2      |  BOOTP   | eth:ethertype:ip:udp:bootp |       0.5       |\n",
       "+---------+------------+----------+----------------------------+-----------------+\n",
       "+-----------------+---------+-------------+---------------+-----+\n",
       "| Sequence number |  Source | Source Port |   StdDevLen   | ... |\n",
       "+-----------------+---------+-------------+---------------+-----+\n",
       "|                 | 0.0.0.0 |      68     | 116.908321156 | ... |\n",
       "|                 | 0.0.0.0 |      68     | 116.908321156 | ... |\n",
       "|                 | 0.0.0.0 |      68     | 116.908321156 | ... |\n",
       "|                 | 0.0.0.0 |      68     |      99.2     | ... |\n",
       "|                 | 0.0.0.0 |      68     |      99.2     | ... |\n",
       "|                 | 0.0.0.0 |      68     |      99.2     | ... |\n",
       "|                 | 0.0.0.0 |      68     |      99.2     | ... |\n",
       "|                 | 0.0.0.0 |      68     |      99.2     | ... |\n",
       "|                 | 0.0.0.0 |      68     |      0.0      | ... |\n",
       "|                 | 0.0.0.0 |      68     |      0.0      | ... |\n",
       "+-----------------+---------+-------------+---------------+-----+\n",
       "[4676319 rows x 34 columns]\n",
       "Note: Only the head of the SFrame is printed.\n",
       "You can use print_rows(num_rows=m, num_columns=n) to print more rows and columns."
      ]
     },
     "execution_count": 81,
     "metadata": {},
     "output_type": "execute_result"
    }
   ],
   "source": [
    "#To identify records where reconnect check was not applied like UDP etc\n",
    "SF.fillna('reconnects',-1)"
   ]
  },
  {
   "cell_type": "code",
   "execution_count": null,
   "metadata": {
    "collapsed": false
   },
   "outputs": [],
   "source": [
    "#SF[SF['FlowNo.']==79732]['Info']"
   ]
  },
  {
   "cell_type": "markdown",
   "metadata": {},
   "source": [
    "A lot of these reconnects can be simple retransmissions - due to out of order/timeout etcb"
   ]
  },
  {
   "cell_type": "markdown",
   "metadata": {
    "collapsed": true
   },
   "source": [
    "### 22-10-2016"
   ]
  },
  {
   "cell_type": "code",
   "execution_count": 83,
   "metadata": {
    "collapsed": false
   },
   "outputs": [
    {
     "data": {
      "text/plain": [
       "(586601, 4676319)"
      ]
     },
     "execution_count": 83,
     "metadata": {},
     "output_type": "execute_result"
    }
   ],
   "source": [
    "len(SF['uFlow'].unique()),len(SF)"
   ]
  },
  {
   "cell_type": "code",
   "execution_count": 15,
   "metadata": {
    "collapsed": false
   },
   "outputs": [
    {
     "name": "stdout",
     "output_type": "stream",
     "text": [
      "6.98543 1359940000.0\n"
     ]
    }
   ],
   "source": [
    "print min(SF['Time']),max(SF['Time'])"
   ]
  },
  {
   "cell_type": "markdown",
   "metadata": {
    "collapsed": true
   },
   "source": [
    "# 28/10/16"
   ]
  },
  {
   "cell_type": "markdown",
   "metadata": {},
   "source": [
    "Undirectional Flowscombining all features and labels"
   ]
  },
  {
   "cell_type": "code",
   "execution_count": 84,
   "metadata": {
    "collapsed": false
   },
   "outputs": [
    {
     "data": {
      "text/plain": [
       "<bound method SFrame.column_names of Columns:\n",
       "\tAnswer RRs\tstr\n",
       "\tBytesEx\tint\n",
       "\tDestination\tstr\n",
       "\tDestination Port\tstr\n",
       "\tDifferentiated Services Field\tstr\n",
       "\tDuration\tfloat\n",
       "\tFPL\tfloat\n",
       "\tIP_Flags\tstr\n",
       "\tInfo\tstr\n",
       "\tLength\tint\n",
       "\tNext sequence number\tstr\n",
       "\tNo.\tint\n",
       "\tNumPackets\tint\n",
       "\tProtocol\tstr\n",
       "\tProtocols in frame\tstr\n",
       "\tSameLenPktRatio\tfloat\n",
       "\tSequence number\tstr\n",
       "\tSource\tstr\n",
       "\tSource Port\tstr\n",
       "\tStdDevLen\tfloat\n",
       "\tTCP Segment Len\tstr\n",
       "\tTime\tfloat\n",
       "\tTime to live\tstr\n",
       "\tisBot\tint\n",
       "\ttcp_Flags\tint\n",
       "\tuFlow\tint\n",
       "\tudp_Length\tstr\n",
       "\tAvgPktPerSec\tfloat\n",
       "\tBitsPerSec\tfloat\n",
       "\tAPL\tfloat\n",
       "\tIAT\tfloat\n",
       "\tisNull\tint\n",
       "\tNPEx\tint\n",
       "\treconnects\tint\n",
       "\n",
       "Rows: 4676319\n",
       "\n",
       "Data:\n",
       "+------------+---------+-----------------+------------------+-------------------------------+\n",
       "| Answer RRs | BytesEx |   Destination   | Destination Port | Differentiated Services Field |\n",
       "+------------+---------+-----------------+------------------+-------------------------------+\n",
       "|            |   1522  | 255.255.255.255 |        67        |              0x00             |\n",
       "|            |   1522  | 255.255.255.255 |        67        |              0x00             |\n",
       "|            |   1522  | 255.255.255.255 |        67        |              0x00             |\n",
       "|            |   2702  | 255.255.255.255 |        67        |              0x00             |\n",
       "|            |   2702  | 255.255.255.255 |        67        |              0x00             |\n",
       "|            |   2702  | 255.255.255.255 |        67        |              0x00             |\n",
       "|            |   2702  | 255.255.255.255 |        67        |              0x00             |\n",
       "|            |   2702  | 255.255.255.255 |        67        |              0x00             |\n",
       "|            |   684   | 255.255.255.255 |        67        |              0x00             |\n",
       "|            |   684   | 255.255.255.255 |        67        |              0x00             |\n",
       "+------------+---------+-----------------+------------------+-------------------------------+\n",
       "+---------------+-------+----------+-------------------------------+--------+----------------------+\n",
       "|    Duration   |  FPL  | IP_Flags |              Info             | Length | Next sequence number |\n",
       "+---------------+-------+----------+-------------------------------+--------+----------------------+\n",
       "| 662.964315891 | 590.0 |   0x00   | Boot Request from 00:60:b0... |  590   |                      |\n",
       "| 662.964315891 | 590.0 |   0x00   | Boot Request from 00:60:b0... |  590   |                      |\n",
       "| 662.964315891 | 590.0 |   0x00   | Boot Request from d4:be:d9... |  342   |                      |\n",
       "| 4292.18323708 | 590.0 |   0x02   | Boot Request from 08:00:37... |  590   |                      |\n",
       "| 4292.18323708 | 590.0 |   0x02   | Boot Request from 08:00:37... |  590   |                      |\n",
       "| 4292.18323708 | 590.0 |   0x00   | Boot Request from 00:60:b0... |  590   |                      |\n",
       "| 4292.18323708 | 590.0 |   0x00   | Boot Request from 00:60:b0... |  590   |                      |\n",
       "| 4292.18323708 | 590.0 |   0x00   | Boot Request from 00:1e:4f... |  342   |                      |\n",
       "| 625.142089844 | 342.0 |   0x00   | Boot Request from d4:be:d9... |  342   |                      |\n",
       "| 625.142089844 | 342.0 |   0x00   | Boot Request from d4:be:d9... |  342   |                      |\n",
       "+---------------+-------+----------+-------------------------------+--------+----------------------+\n",
       "+---------+------------+----------+----------------------------+-----------------+\n",
       "|   No.   | NumPackets | Protocol |     Protocols in frame     | SameLenPktRatio |\n",
       "+---------+------------+----------+----------------------------+-----------------+\n",
       "| 1106514 |     3      |  BOOTP   | eth:ethertype:ip:udp:bootp |  0.666666666667 |\n",
       "| 1106522 |     3      |  BOOTP   | eth:ethertype:ip:udp:bootp |  0.666666666667 |\n",
       "| 1110137 |     3      |  BOOTP   | eth:ethertype:ip:udp:bootp |  0.666666666667 |\n",
       "| 1113750 |     5      |  BOOTP   | eth:ethertype:ip:udp:bootp |       0.4       |\n",
       "| 1113756 |     5      |  BOOTP   | eth:ethertype:ip:udp:bootp |       0.4       |\n",
       "| 1113759 |     5      |  BOOTP   | eth:ethertype:ip:udp:bootp |       0.4       |\n",
       "| 1113763 |     5      |  BOOTP   | eth:ethertype:ip:udp:bootp |       0.4       |\n",
       "| 1133020 |     5      |  BOOTP   | eth:ethertype:ip:udp:bootp |       0.4       |\n",
       "| 1172869 |     2      |  BOOTP   | eth:ethertype:ip:udp:bootp |       0.5       |\n",
       "| 1175634 |     2      |  BOOTP   | eth:ethertype:ip:udp:bootp |       0.5       |\n",
       "+---------+------------+----------+----------------------------+-----------------+\n",
       "+-----------------+---------+-------------+---------------+-----+\n",
       "| Sequence number |  Source | Source Port |   StdDevLen   | ... |\n",
       "+-----------------+---------+-------------+---------------+-----+\n",
       "|                 | 0.0.0.0 |      68     | 116.908321156 | ... |\n",
       "|                 | 0.0.0.0 |      68     | 116.908321156 | ... |\n",
       "|                 | 0.0.0.0 |      68     | 116.908321156 | ... |\n",
       "|                 | 0.0.0.0 |      68     |      99.2     | ... |\n",
       "|                 | 0.0.0.0 |      68     |      99.2     | ... |\n",
       "|                 | 0.0.0.0 |      68     |      99.2     | ... |\n",
       "|                 | 0.0.0.0 |      68     |      99.2     | ... |\n",
       "|                 | 0.0.0.0 |      68     |      99.2     | ... |\n",
       "|                 | 0.0.0.0 |      68     |      0.0      | ... |\n",
       "|                 | 0.0.0.0 |      68     |      0.0      | ... |\n",
       "+-----------------+---------+-------------+---------------+-----+\n",
       "[4676319 rows x 34 columns]\n",
       "Note: Only the head of the SFrame is printed.\n",
       "You can use print_rows(num_rows=m, num_columns=n) to print more rows and columns.>"
      ]
     },
     "execution_count": 84,
     "metadata": {},
     "output_type": "execute_result"
    }
   ],
   "source": [
    "SF.column_names"
   ]
  },
  {
   "cell_type": "code",
   "execution_count": 85,
   "metadata": {
    "collapsed": true
   },
   "outputs": [],
   "source": [
    "SF.save('Botnet_Testing_all_features.csv')"
   ]
  },
  {
   "cell_type": "code",
   "execution_count": null,
   "metadata": {
    "collapsed": true
   },
   "outputs": [],
   "source": [
    "#sf_valid_train, sf_test = SF.random_split(.8, seed=5)\n",
    "#sf_valid, sf_train = sf_valid_train.random_split(.2, seed=5)\n",
    "#X_train, y_train = sf_train.drop('isBot'), sf_train['isBot']\n",
    "#X_valid, y_valid = sf_valid_train\n",
    "#X_train_valid, y_train_valid = X[:3475000], y[:3475000]\n",
    "#X_test, y_test = X[3475000:], y[3475000:]\n",
    "\n"
   ]
  },
  {
   "cell_type": "code",
   "execution_count": 89,
   "metadata": {
    "collapsed": true
   },
   "outputs": [],
   "source": [
    "features = SF.column_names()"
   ]
  },
  {
   "cell_type": "code",
   "execution_count": 90,
   "metadata": {
    "collapsed": false
   },
   "outputs": [],
   "source": [
    "myfeatures = features\n",
    "for x in ['isBot','Answer RRs','Sequence number','No.','IP_Flags','Next sequence number','Protocols in frame','Time','tcp_Flags', 'uFlow','udp_Length']:\n",
    "    myfeatures.remove(x)"
   ]
  },
  {
   "cell_type": "code",
   "execution_count": 92,
   "metadata": {
    "collapsed": false
   },
   "outputs": [
    {
     "data": {
      "text/html": [
       "<pre>Boosted trees classifier:</pre>"
      ],
      "text/plain": [
       "Boosted trees classifier:"
      ]
     },
     "metadata": {},
     "output_type": "display_data"
    },
    {
     "data": {
      "text/html": [
       "<pre>--------------------------------------------------------</pre>"
      ],
      "text/plain": [
       "--------------------------------------------------------"
      ]
     },
     "metadata": {},
     "output_type": "display_data"
    },
    {
     "data": {
      "text/html": [
       "<pre>Number of examples          : 3742279</pre>"
      ],
      "text/plain": [
       "Number of examples          : 3742279"
      ]
     },
     "metadata": {},
     "output_type": "display_data"
    },
    {
     "data": {
      "text/html": [
       "<pre>Number of classes           : 2</pre>"
      ],
      "text/plain": [
       "Number of classes           : 2"
      ]
     },
     "metadata": {},
     "output_type": "display_data"
    },
    {
     "data": {
      "text/html": [
       "<pre>Number of feature columns   : 23</pre>"
      ],
      "text/plain": [
       "Number of feature columns   : 23"
      ]
     },
     "metadata": {},
     "output_type": "display_data"
    },
    {
     "data": {
      "text/html": [
       "<pre>Number of unpacked features : 23</pre>"
      ],
      "text/plain": [
       "Number of unpacked features : 23"
      ]
     },
     "metadata": {},
     "output_type": "display_data"
    },
    {
     "data": {
      "text/html": [
       "<pre>+-----------+--------------+-------------------+---------------------+-------------------+---------------------+</pre>"
      ],
      "text/plain": [
       "+-----------+--------------+-------------------+---------------------+-------------------+---------------------+"
      ]
     },
     "metadata": {},
     "output_type": "display_data"
    },
    {
     "data": {
      "text/html": [
       "<pre>| Iteration | Elapsed Time | Training-accuracy | Validation-accuracy | Training-log_loss | Validation-log_loss |</pre>"
      ],
      "text/plain": [
       "| Iteration | Elapsed Time | Training-accuracy | Validation-accuracy | Training-log_loss | Validation-log_loss |"
      ]
     },
     "metadata": {},
     "output_type": "display_data"
    },
    {
     "data": {
      "text/html": [
       "<pre>+-----------+--------------+-------------------+---------------------+-------------------+---------------------+</pre>"
      ],
      "text/plain": [
       "+-----------+--------------+-------------------+---------------------+-------------------+---------------------+"
      ]
     },
     "metadata": {},
     "output_type": "display_data"
    },
    {
     "data": {
      "text/html": [
       "<pre>| 1         | 6.744383     | 0.947691          | 0.947287            | 0.487310          | 0.487550            |</pre>"
      ],
      "text/plain": [
       "| 1         | 6.744383     | 0.947691          | 0.947287            | 0.487310          | 0.487550            |"
      ]
     },
     "metadata": {},
     "output_type": "display_data"
    },
    {
     "data": {
      "text/html": [
       "<pre>| 2         | 12.831068    | 0.965408          | 0.965354            | 0.352640          | 0.352668            |</pre>"
      ],
      "text/plain": [
       "| 2         | 12.831068    | 0.965408          | 0.965354            | 0.352640          | 0.352668            |"
      ]
     },
     "metadata": {},
     "output_type": "display_data"
    },
    {
     "data": {
      "text/html": [
       "<pre>| 3         | 19.062714    | 0.975927          | 0.976358            | 0.269323          | 0.269147            |</pre>"
      ],
      "text/plain": [
       "| 3         | 19.062714    | 0.975927          | 0.976358            | 0.269323          | 0.269147            |"
      ]
     },
     "metadata": {},
     "output_type": "display_data"
    },
    {
     "data": {
      "text/html": [
       "<pre>| 4         | 25.435175    | 0.977648          | 0.978139            | 0.215694          | 0.215439            |</pre>"
      ],
      "text/plain": [
       "| 4         | 25.435175    | 0.977648          | 0.978139            | 0.215694          | 0.215439            |"
      ]
     },
     "metadata": {},
     "output_type": "display_data"
    },
    {
     "data": {
      "text/html": [
       "<pre>| 5         | 31.865978    | 0.977764          | 0.978133            | 0.176100          | 0.175872            |</pre>"
      ],
      "text/plain": [
       "| 5         | 31.865978    | 0.977764          | 0.978133            | 0.176100          | 0.175872            |"
      ]
     },
     "metadata": {},
     "output_type": "display_data"
    },
    {
     "data": {
      "text/html": [
       "<pre>| 6         | 38.143988    | 0.979669          | 0.980091            | 0.143297          | 0.143072            |</pre>"
      ],
      "text/plain": [
       "| 6         | 38.143988    | 0.979669          | 0.980091            | 0.143297          | 0.143072            |"
      ]
     },
     "metadata": {},
     "output_type": "display_data"
    },
    {
     "data": {
      "text/html": [
       "<pre>| 7         | 44.401048    | 0.982914          | 0.983217            | 0.119359          | 0.119257            |</pre>"
      ],
      "text/plain": [
       "| 7         | 44.401048    | 0.982914          | 0.983217            | 0.119359          | 0.119257            |"
      ]
     },
     "metadata": {},
     "output_type": "display_data"
    },
    {
     "data": {
      "text/html": [
       "<pre>| 8         | 50.524578    | 0.984398          | 0.984848            | 0.101741          | 0.101495            |</pre>"
      ],
      "text/plain": [
       "| 8         | 50.524578    | 0.984398          | 0.984848            | 0.101741          | 0.101495            |"
      ]
     },
     "metadata": {},
     "output_type": "display_data"
    },
    {
     "data": {
      "text/html": [
       "<pre>| 9         | 56.834406    | 0.985796          | 0.986160            | 0.090315          | 0.090089            |</pre>"
      ],
      "text/plain": [
       "| 9         | 56.834406    | 0.985796          | 0.986160            | 0.090315          | 0.090089            |"
      ]
     },
     "metadata": {},
     "output_type": "display_data"
    },
    {
     "data": {
      "text/html": [
       "<pre>| 10        | 63.029547    | 0.991216          | 0.991369            | 0.077170          | 0.077071            |</pre>"
      ],
      "text/plain": [
       "| 10        | 63.029547    | 0.991216          | 0.991369            | 0.077170          | 0.077071            |"
      ]
     },
     "metadata": {},
     "output_type": "display_data"
    },
    {
     "data": {
      "text/html": [
       "<pre>+-----------+--------------+-------------------+---------------------+-------------------+---------------------+</pre>"
      ],
      "text/plain": [
       "+-----------+--------------+-------------------+---------------------+-------------------+---------------------+"
      ]
     },
     "metadata": {},
     "output_type": "display_data"
    }
   ],
   "source": [
    "train,val = SF.random_split(0.8)\n",
    "model = gl.boosted_trees_classifier.create(train,features=myfeatures,target='isBot',validation_set=val)"
   ]
  },
  {
   "cell_type": "code",
   "execution_count": 94,
   "metadata": {
    "collapsed": false
   },
   "outputs": [
    {
     "name": "stdout",
     "output_type": "stream",
     "text": [
      "{'f1_score': 0.9854960181774063, 'auc': 0.9988497196085465, 'recall': 0.978245979149915, 'precision': 0.9928543234987679, 'log_loss': 0.07717041365476444, 'roc_curve': Columns:\n",
      "\tthreshold\tfloat\n",
      "\tfpr\tfloat\n",
      "\ttpr\tfloat\n",
      "\tp\tint\n",
      "\tn\tint\n",
      "\n",
      "Rows: 100001\n",
      "\n",
      "Data:\n",
      "+-----------+-----+-----+---------+---------+\n",
      "| threshold | fpr | tpr |    p    |    n    |\n",
      "+-----------+-----+-----+---------+---------+\n",
      "|    0.0    | 1.0 | 1.0 | 1141674 | 2600605 |\n",
      "|   1e-05   | 1.0 | 1.0 | 1141674 | 2600605 |\n",
      "|   2e-05   | 1.0 | 1.0 | 1141674 | 2600605 |\n",
      "|   3e-05   | 1.0 | 1.0 | 1141674 | 2600605 |\n",
      "|   4e-05   | 1.0 | 1.0 | 1141674 | 2600605 |\n",
      "|   5e-05   | 1.0 | 1.0 | 1141674 | 2600605 |\n",
      "|   6e-05   | 1.0 | 1.0 | 1141674 | 2600605 |\n",
      "|   7e-05   | 1.0 | 1.0 | 1141674 | 2600605 |\n",
      "|   8e-05   | 1.0 | 1.0 | 1141674 | 2600605 |\n",
      "|   9e-05   | 1.0 | 1.0 | 1141674 | 2600605 |\n",
      "+-----------+-----+-----+---------+---------+\n",
      "[100001 rows x 5 columns]\n",
      "Note: Only the head of the SFrame is printed.\n",
      "You can use print_rows(num_rows=m, num_columns=n) to print more rows and columns., 'confusion_matrix': Columns:\n",
      "\ttarget_label\tint\n",
      "\tpredicted_label\tint\n",
      "\tcount\tint\n",
      "\n",
      "Rows: 4\n",
      "\n",
      "Data:\n",
      "+--------------+-----------------+---------+\n",
      "| target_label | predicted_label |  count  |\n",
      "+--------------+-----------------+---------+\n",
      "|      0       |        1        |   8038  |\n",
      "|      0       |        0        | 2592567 |\n",
      "|      1       |        1        | 1116838 |\n",
      "|      1       |        0        |  24836  |\n",
      "+--------------+-----------------+---------+\n",
      "[4 rows x 3 columns]\n",
      ", 'accuracy': 0.991215513327574}\n",
      "{'f1_score': 0.9857173733572854, 'auc': 0.9988610722432228, 'recall': 0.9784095744867922, 'precision': 0.9931351584839517, 'log_loss': 0.07707065079260006, 'roc_curve': Columns:\n",
      "\tthreshold\tfloat\n",
      "\tfpr\tfloat\n",
      "\ttpr\tfloat\n",
      "\tp\tint\n",
      "\tn\tint\n",
      "\n",
      "Rows: 100001\n",
      "\n",
      "Data:\n",
      "+-----------+-----+-----+--------+--------+\n",
      "| threshold | fpr | tpr |   p    |   n    |\n",
      "+-----------+-----+-----+--------+--------+\n",
      "|    0.0    | 1.0 | 1.0 | 284339 | 649701 |\n",
      "|   1e-05   | 1.0 | 1.0 | 284339 | 649701 |\n",
      "|   2e-05   | 1.0 | 1.0 | 284339 | 649701 |\n",
      "|   3e-05   | 1.0 | 1.0 | 284339 | 649701 |\n",
      "|   4e-05   | 1.0 | 1.0 | 284339 | 649701 |\n",
      "|   5e-05   | 1.0 | 1.0 | 284339 | 649701 |\n",
      "|   6e-05   | 1.0 | 1.0 | 284339 | 649701 |\n",
      "|   7e-05   | 1.0 | 1.0 | 284339 | 649701 |\n",
      "|   8e-05   | 1.0 | 1.0 | 284339 | 649701 |\n",
      "|   9e-05   | 1.0 | 1.0 | 284339 | 649701 |\n",
      "+-----------+-----+-----+--------+--------+\n",
      "[100001 rows x 5 columns]\n",
      "Note: Only the head of the SFrame is printed.\n",
      "You can use print_rows(num_rows=m, num_columns=n) to print more rows and columns., 'confusion_matrix': Columns:\n",
      "\ttarget_label\tint\n",
      "\tpredicted_label\tint\n",
      "\tcount\tint\n",
      "\n",
      "Rows: 4\n",
      "\n",
      "Data:\n",
      "+--------------+-----------------+--------+\n",
      "| target_label | predicted_label | count  |\n",
      "+--------------+-----------------+--------+\n",
      "|      0       |        1        |  1923  |\n",
      "|      0       |        0        | 647778 |\n",
      "|      1       |        1        | 278200 |\n",
      "|      1       |        0        |  6139  |\n",
      "+--------------+-----------------+--------+\n",
      "[4 rows x 3 columns]\n",
      ", 'accuracy': 0.9913686780009422}\n"
     ]
    }
   ],
   "source": [
    "#print model.evaluate(train)\n",
    "#print model.evaluate(val)"
   ]
  },
  {
   "cell_type": "code",
   "execution_count": null,
   "metadata": {
    "collapsed": true
   },
   "outputs": [],
   "source": [
    "models = []\n",
    "\n",
    "myfeatures = features\n",
    "for x in ['isBot','Answer RRs','Sequence number','No.','IP_Flags','Next sequence number','Protocols in frame','Time','tcp_Flags', 'uFlow','udp_Length']:\n",
    "    myfeatures.remove(x)\n",
    "    \n",
    "for train,valid in Folds:\n",
    "    model = gl.boosted_trees_classifier.create(train,features=myfeatures,target='isBot',validation_set=val,max_iterations=20)\n",
    "    models.append(model)\n",
    "    \n",
    "pred = []\n",
    "for model in models:\n",
    "    temp = model.predict(Test)\n",
    "    pred.append(temp)\n",
    "    \n",
    "final = []\n",
    "for i in range(len(Test)):\n",
    "    count = 0\n",
    "    for j in range(5):\n",
    "        if pred[j][i] ==1:\n",
    "            count += 1\n",
    "    if count>2:\n",
    "        final.append(1)\n",
    "    else:\n",
    "        final.append(0)\n",
    "        \n",
    "print gl.toolkits.evaluation.auc(Test['isBot'],gl.SArray(final))\n",
    "print gl.toolkits.evaluation.accuracy(Test['isBot'],gl.SArray(final))\n",
    "print gl.toolkits.evaluation.confusion_matrix(Test['isBot'],gl.SArray(final))\n",
    "print gl.toolkits.evaluation.f1_score(Test['isBot'],gl.SArray(final))\n",
    "print gl.toolkits.evaluation.log_loss(Test['isBot'],gl.SArray(final))\n",
    "print gl.toolkits.evaluation.precision(Test['isBot'],gl.SArray(final))\n",
    "print gl.toolkits.evaluation.recall(Test['isBot'],gl.SArray(final))\n",
    "print gl.toolkits.evaluation.roc_curve(Test['isBot'],gl.SArray(final))\n",
    "print gl.toolkits.evaluation.roc_curve(Test['isBot'],gl.SArray(final))"
   ]
  },
  {
   "cell_type": "markdown",
   "metadata": {},
   "source": [
    "#Train uncalibrated random forest classifier on whole train and validation\n",
    "#data and evaluate on test data\n",
    "clf = RandomForestClassifier(n_estimators=25)\n",
    "clf.fit(X_train_valid, y_train_valid)\n",
    "clf_probs = clf.predict_proba(X_test)\n",
    "score = log_loss(y_test, clf_probs)\n",
    "\n",
    "#Train random forest classifier, calibrate on validation data and evaluate\n",
    "#on test data\n",
    "clf = RandomForestClassifier(n_estimators=25)\n",
    "clf.fit(X_train, y_train)\n",
    "clf_probs = clf.predict_proba(X_test)\n",
    "sig_clf = CalibratedClassifierCV(clf, method=\"sigmoid\", cv=\"prefit\")\n",
    "sig_clf.fit(X_valid, y_valid)\n",
    "sig_clf_probs = sig_clf.predict_proba(X_test)\n",
    "sig_score = log_loss(y_test, sig_clf_probs)\n"
   ]
  },
  {
   "cell_type": "markdown",
   "metadata": {},
   "source": [
    "### All code in 1 line"
   ]
  },
  {
   "cell_type": "code",
   "execution_count": 3,
   "metadata": {
    "collapsed": false
   },
   "outputs": [
    {
     "data": {
      "text/html": [
       "<div style=\"max-height:1000px;max-width:1500px;overflow:auto;\"><table frame=\"box\" rules=\"cols\">\n",
       "    <tr>\n",
       "        <th style=\"padding-left: 1em; padding-right: 1em; text-align: center\">No.</th>\n",
       "        <th style=\"padding-left: 1em; padding-right: 1em; text-align: center\">Time</th>\n",
       "        <th style=\"padding-left: 1em; padding-right: 1em; text-align: center\">Source</th>\n",
       "        <th style=\"padding-left: 1em; padding-right: 1em; text-align: center\">Destination</th>\n",
       "        <th style=\"padding-left: 1em; padding-right: 1em; text-align: center\">Protocol</th>\n",
       "        <th style=\"padding-left: 1em; padding-right: 1em; text-align: center\">Length</th>\n",
       "        <th style=\"padding-left: 1em; padding-right: 1em; text-align: center\">Info</th>\n",
       "        <th style=\"padding-left: 1em; padding-right: 1em; text-align: center\">Destination Port</th>\n",
       "    </tr>\n",
       "    <tr>\n",
       "        <td style=\"padding-left: 1em; padding-right: 1em; text-align: center; vertical-align: top\">1</td>\n",
       "        <td style=\"padding-left: 1em; padding-right: 1em; text-align: center; vertical-align: top\">0.0</td>\n",
       "        <td style=\"padding-left: 1em; padding-right: 1em; text-align: center; vertical-align: top\">CiscoInc_db:19:c3</td>\n",
       "        <td style=\"padding-left: 1em; padding-right: 1em; text-align: center; vertical-align: top\">Broadcast</td>\n",
       "        <td style=\"padding-left: 1em; padding-right: 1em; text-align: center; vertical-align: top\">ARP</td>\n",
       "        <td style=\"padding-left: 1em; padding-right: 1em; text-align: center; vertical-align: top\">60</td>\n",
       "        <td style=\"padding-left: 1em; padding-right: 1em; text-align: center; vertical-align: top\">Who has 147.32.84.165?<br>Tell 147.32.84.1 ...</td>\n",
       "        <td style=\"padding-left: 1em; padding-right: 1em; text-align: center; vertical-align: top\"></td>\n",
       "    </tr>\n",
       "    <tr>\n",
       "        <td style=\"padding-left: 1em; padding-right: 1em; text-align: center; vertical-align: top\">2</td>\n",
       "        <td style=\"padding-left: 1em; padding-right: 1em; text-align: center; vertical-align: top\">8.982709</td>\n",
       "        <td style=\"padding-left: 1em; padding-right: 1em; text-align: center; vertical-align: top\">CiscoInc_db:19:c3</td>\n",
       "        <td style=\"padding-left: 1em; padding-right: 1em; text-align: center; vertical-align: top\">Broadcast</td>\n",
       "        <td style=\"padding-left: 1em; padding-right: 1em; text-align: center; vertical-align: top\">ARP</td>\n",
       "        <td style=\"padding-left: 1em; padding-right: 1em; text-align: center; vertical-align: top\">60</td>\n",
       "        <td style=\"padding-left: 1em; padding-right: 1em; text-align: center; vertical-align: top\">Who has 147.32.84.165?<br>Tell 147.32.84.1 ...</td>\n",
       "        <td style=\"padding-left: 1em; padding-right: 1em; text-align: center; vertical-align: top\"></td>\n",
       "    </tr>\n",
       "    <tr>\n",
       "        <td style=\"padding-left: 1em; padding-right: 1em; text-align: center; vertical-align: top\">3</td>\n",
       "        <td style=\"padding-left: 1em; padding-right: 1em; text-align: center; vertical-align: top\">50.099564</td>\n",
       "        <td style=\"padding-left: 1em; padding-right: 1em; text-align: center; vertical-align: top\">CiscoInc_db:19:c3</td>\n",
       "        <td style=\"padding-left: 1em; padding-right: 1em; text-align: center; vertical-align: top\">Broadcast</td>\n",
       "        <td style=\"padding-left: 1em; padding-right: 1em; text-align: center; vertical-align: top\">ARP</td>\n",
       "        <td style=\"padding-left: 1em; padding-right: 1em; text-align: center; vertical-align: top\">60</td>\n",
       "        <td style=\"padding-left: 1em; padding-right: 1em; text-align: center; vertical-align: top\">Who has 147.32.84.165?<br>Tell 147.32.84.1 ...</td>\n",
       "        <td style=\"padding-left: 1em; padding-right: 1em; text-align: center; vertical-align: top\"></td>\n",
       "    </tr>\n",
       "    <tr>\n",
       "        <td style=\"padding-left: 1em; padding-right: 1em; text-align: center; vertical-align: top\">4</td>\n",
       "        <td style=\"padding-left: 1em; padding-right: 1em; text-align: center; vertical-align: top\">50.369266</td>\n",
       "        <td style=\"padding-left: 1em; padding-right: 1em; text-align: center; vertical-align: top\">54:52:00:00:00:01</td>\n",
       "        <td style=\"padding-left: 1em; padding-right: 1em; text-align: center; vertical-align: top\">Broadcast</td>\n",
       "        <td style=\"padding-left: 1em; padding-right: 1em; text-align: center; vertical-align: top\">ARP</td>\n",
       "        <td style=\"padding-left: 1em; padding-right: 1em; text-align: center; vertical-align: top\">60</td>\n",
       "        <td style=\"padding-left: 1em; padding-right: 1em; text-align: center; vertical-align: top\">Who has 147.32.84.165?<br>Tell 147.32.84.85 ...</td>\n",
       "        <td style=\"padding-left: 1em; padding-right: 1em; text-align: center; vertical-align: top\"></td>\n",
       "    </tr>\n",
       "    <tr>\n",
       "        <td style=\"padding-left: 1em; padding-right: 1em; text-align: center; vertical-align: top\">5</td>\n",
       "        <td style=\"padding-left: 1em; padding-right: 1em; text-align: center; vertical-align: top\">51.369054</td>\n",
       "        <td style=\"padding-left: 1em; padding-right: 1em; text-align: center; vertical-align: top\">54:52:00:00:00:01</td>\n",
       "        <td style=\"padding-left: 1em; padding-right: 1em; text-align: center; vertical-align: top\">Broadcast</td>\n",
       "        <td style=\"padding-left: 1em; padding-right: 1em; text-align: center; vertical-align: top\">ARP</td>\n",
       "        <td style=\"padding-left: 1em; padding-right: 1em; text-align: center; vertical-align: top\">60</td>\n",
       "        <td style=\"padding-left: 1em; padding-right: 1em; text-align: center; vertical-align: top\">Who has 147.32.84.165?<br>Tell 147.32.84.85 ...</td>\n",
       "        <td style=\"padding-left: 1em; padding-right: 1em; text-align: center; vertical-align: top\"></td>\n",
       "    </tr>\n",
       "    <tr>\n",
       "        <td style=\"padding-left: 1em; padding-right: 1em; text-align: center; vertical-align: top\">6</td>\n",
       "        <td style=\"padding-left: 1em; padding-right: 1em; text-align: center; vertical-align: top\">52.369688</td>\n",
       "        <td style=\"padding-left: 1em; padding-right: 1em; text-align: center; vertical-align: top\">54:52:00:00:00:01</td>\n",
       "        <td style=\"padding-left: 1em; padding-right: 1em; text-align: center; vertical-align: top\">Broadcast</td>\n",
       "        <td style=\"padding-left: 1em; padding-right: 1em; text-align: center; vertical-align: top\">ARP</td>\n",
       "        <td style=\"padding-left: 1em; padding-right: 1em; text-align: center; vertical-align: top\">60</td>\n",
       "        <td style=\"padding-left: 1em; padding-right: 1em; text-align: center; vertical-align: top\">Who has 147.32.84.165?<br>Tell 147.32.84.85 ...</td>\n",
       "        <td style=\"padding-left: 1em; padding-right: 1em; text-align: center; vertical-align: top\"></td>\n",
       "    </tr>\n",
       "    <tr>\n",
       "        <td style=\"padding-left: 1em; padding-right: 1em; text-align: center; vertical-align: top\">7</td>\n",
       "        <td style=\"padding-left: 1em; padding-right: 1em; text-align: center; vertical-align: top\">53.08684</td>\n",
       "        <td style=\"padding-left: 1em; padding-right: 1em; text-align: center; vertical-align: top\">CiscoInc_db:19:c3</td>\n",
       "        <td style=\"padding-left: 1em; padding-right: 1em; text-align: center; vertical-align: top\">Broadcast</td>\n",
       "        <td style=\"padding-left: 1em; padding-right: 1em; text-align: center; vertical-align: top\">ARP</td>\n",
       "        <td style=\"padding-left: 1em; padding-right: 1em; text-align: center; vertical-align: top\">60</td>\n",
       "        <td style=\"padding-left: 1em; padding-right: 1em; text-align: center; vertical-align: top\">Who has 147.32.84.165?<br>Tell 147.32.84.1 ...</td>\n",
       "        <td style=\"padding-left: 1em; padding-right: 1em; text-align: center; vertical-align: top\"></td>\n",
       "    </tr>\n",
       "    <tr>\n",
       "        <td style=\"padding-left: 1em; padding-right: 1em; text-align: center; vertical-align: top\">8</td>\n",
       "        <td style=\"padding-left: 1em; padding-right: 1em; text-align: center; vertical-align: top\">59.086131</td>\n",
       "        <td style=\"padding-left: 1em; padding-right: 1em; text-align: center; vertical-align: top\">CiscoInc_db:19:c3</td>\n",
       "        <td style=\"padding-left: 1em; padding-right: 1em; text-align: center; vertical-align: top\">Broadcast</td>\n",
       "        <td style=\"padding-left: 1em; padding-right: 1em; text-align: center; vertical-align: top\">ARP</td>\n",
       "        <td style=\"padding-left: 1em; padding-right: 1em; text-align: center; vertical-align: top\">60</td>\n",
       "        <td style=\"padding-left: 1em; padding-right: 1em; text-align: center; vertical-align: top\">Who has 147.32.84.165?<br>Tell 147.32.84.1 ...</td>\n",
       "        <td style=\"padding-left: 1em; padding-right: 1em; text-align: center; vertical-align: top\"></td>\n",
       "    </tr>\n",
       "    <tr>\n",
       "        <td style=\"padding-left: 1em; padding-right: 1em; text-align: center; vertical-align: top\">9</td>\n",
       "        <td style=\"padding-left: 1em; padding-right: 1em; text-align: center; vertical-align: top\">160.084662</td>\n",
       "        <td style=\"padding-left: 1em; padding-right: 1em; text-align: center; vertical-align: top\">CadmusCo_b5:b7:19</td>\n",
       "        <td style=\"padding-left: 1em; padding-right: 1em; text-align: center; vertical-align: top\">Broadcast</td>\n",
       "        <td style=\"padding-left: 1em; padding-right: 1em; text-align: center; vertical-align: top\">ARP</td>\n",
       "        <td style=\"padding-left: 1em; padding-right: 1em; text-align: center; vertical-align: top\">60</td>\n",
       "        <td style=\"padding-left: 1em; padding-right: 1em; text-align: center; vertical-align: top\">Gratuitous ARP for<br>147.32.84.165 (Request) ...</td>\n",
       "        <td style=\"padding-left: 1em; padding-right: 1em; text-align: center; vertical-align: top\"></td>\n",
       "    </tr>\n",
       "    <tr>\n",
       "        <td style=\"padding-left: 1em; padding-right: 1em; text-align: center; vertical-align: top\">10</td>\n",
       "        <td style=\"padding-left: 1em; padding-right: 1em; text-align: center; vertical-align: top\">160.084668</td>\n",
       "        <td style=\"padding-left: 1em; padding-right: 1em; text-align: center; vertical-align: top\">CadmusCo_b5:b7:19</td>\n",
       "        <td style=\"padding-left: 1em; padding-right: 1em; text-align: center; vertical-align: top\">Broadcast</td>\n",
       "        <td style=\"padding-left: 1em; padding-right: 1em; text-align: center; vertical-align: top\">ARP</td>\n",
       "        <td style=\"padding-left: 1em; padding-right: 1em; text-align: center; vertical-align: top\">60</td>\n",
       "        <td style=\"padding-left: 1em; padding-right: 1em; text-align: center; vertical-align: top\">Gratuitous ARP for<br>147.32.84.165 (Request) ...</td>\n",
       "        <td style=\"padding-left: 1em; padding-right: 1em; text-align: center; vertical-align: top\"></td>\n",
       "    </tr>\n",
       "</table>\n",
       "<table frame=\"box\" rules=\"cols\">\n",
       "    <tr>\n",
       "        <th style=\"padding-left: 1em; padding-right: 1em; text-align: center\">Source Port</th>\n",
       "        <th style=\"padding-left: 1em; padding-right: 1em; text-align: center\">Protocols in frame</th>\n",
       "        <th style=\"padding-left: 1em; padding-right: 1em; text-align: center\">Differentiated Services<br>Field ...</th>\n",
       "        <th style=\"padding-left: 1em; padding-right: 1em; text-align: center\">IP_Flags</th>\n",
       "        <th style=\"padding-left: 1em; padding-right: 1em; text-align: center\">udp_Length</th>\n",
       "        <th style=\"padding-left: 1em; padding-right: 1em; text-align: center\">TCP Segment Len</th>\n",
       "        <th style=\"padding-left: 1em; padding-right: 1em; text-align: center\">Sequence number</th>\n",
       "    </tr>\n",
       "    <tr>\n",
       "        <td style=\"padding-left: 1em; padding-right: 1em; text-align: center; vertical-align: top\"></td>\n",
       "        <td style=\"padding-left: 1em; padding-right: 1em; text-align: center; vertical-align: top\">eth:ethertype:arp</td>\n",
       "        <td style=\"padding-left: 1em; padding-right: 1em; text-align: center; vertical-align: top\"></td>\n",
       "        <td style=\"padding-left: 1em; padding-right: 1em; text-align: center; vertical-align: top\"></td>\n",
       "        <td style=\"padding-left: 1em; padding-right: 1em; text-align: center; vertical-align: top\"></td>\n",
       "        <td style=\"padding-left: 1em; padding-right: 1em; text-align: center; vertical-align: top\"></td>\n",
       "        <td style=\"padding-left: 1em; padding-right: 1em; text-align: center; vertical-align: top\"></td>\n",
       "    </tr>\n",
       "    <tr>\n",
       "        <td style=\"padding-left: 1em; padding-right: 1em; text-align: center; vertical-align: top\"></td>\n",
       "        <td style=\"padding-left: 1em; padding-right: 1em; text-align: center; vertical-align: top\">eth:ethertype:arp</td>\n",
       "        <td style=\"padding-left: 1em; padding-right: 1em; text-align: center; vertical-align: top\"></td>\n",
       "        <td style=\"padding-left: 1em; padding-right: 1em; text-align: center; vertical-align: top\"></td>\n",
       "        <td style=\"padding-left: 1em; padding-right: 1em; text-align: center; vertical-align: top\"></td>\n",
       "        <td style=\"padding-left: 1em; padding-right: 1em; text-align: center; vertical-align: top\"></td>\n",
       "        <td style=\"padding-left: 1em; padding-right: 1em; text-align: center; vertical-align: top\"></td>\n",
       "    </tr>\n",
       "    <tr>\n",
       "        <td style=\"padding-left: 1em; padding-right: 1em; text-align: center; vertical-align: top\"></td>\n",
       "        <td style=\"padding-left: 1em; padding-right: 1em; text-align: center; vertical-align: top\">eth:ethertype:arp</td>\n",
       "        <td style=\"padding-left: 1em; padding-right: 1em; text-align: center; vertical-align: top\"></td>\n",
       "        <td style=\"padding-left: 1em; padding-right: 1em; text-align: center; vertical-align: top\"></td>\n",
       "        <td style=\"padding-left: 1em; padding-right: 1em; text-align: center; vertical-align: top\"></td>\n",
       "        <td style=\"padding-left: 1em; padding-right: 1em; text-align: center; vertical-align: top\"></td>\n",
       "        <td style=\"padding-left: 1em; padding-right: 1em; text-align: center; vertical-align: top\"></td>\n",
       "    </tr>\n",
       "    <tr>\n",
       "        <td style=\"padding-left: 1em; padding-right: 1em; text-align: center; vertical-align: top\"></td>\n",
       "        <td style=\"padding-left: 1em; padding-right: 1em; text-align: center; vertical-align: top\">eth:ethertype:arp</td>\n",
       "        <td style=\"padding-left: 1em; padding-right: 1em; text-align: center; vertical-align: top\"></td>\n",
       "        <td style=\"padding-left: 1em; padding-right: 1em; text-align: center; vertical-align: top\"></td>\n",
       "        <td style=\"padding-left: 1em; padding-right: 1em; text-align: center; vertical-align: top\"></td>\n",
       "        <td style=\"padding-left: 1em; padding-right: 1em; text-align: center; vertical-align: top\"></td>\n",
       "        <td style=\"padding-left: 1em; padding-right: 1em; text-align: center; vertical-align: top\"></td>\n",
       "    </tr>\n",
       "    <tr>\n",
       "        <td style=\"padding-left: 1em; padding-right: 1em; text-align: center; vertical-align: top\"></td>\n",
       "        <td style=\"padding-left: 1em; padding-right: 1em; text-align: center; vertical-align: top\">eth:ethertype:arp</td>\n",
       "        <td style=\"padding-left: 1em; padding-right: 1em; text-align: center; vertical-align: top\"></td>\n",
       "        <td style=\"padding-left: 1em; padding-right: 1em; text-align: center; vertical-align: top\"></td>\n",
       "        <td style=\"padding-left: 1em; padding-right: 1em; text-align: center; vertical-align: top\"></td>\n",
       "        <td style=\"padding-left: 1em; padding-right: 1em; text-align: center; vertical-align: top\"></td>\n",
       "        <td style=\"padding-left: 1em; padding-right: 1em; text-align: center; vertical-align: top\"></td>\n",
       "    </tr>\n",
       "    <tr>\n",
       "        <td style=\"padding-left: 1em; padding-right: 1em; text-align: center; vertical-align: top\"></td>\n",
       "        <td style=\"padding-left: 1em; padding-right: 1em; text-align: center; vertical-align: top\">eth:ethertype:arp</td>\n",
       "        <td style=\"padding-left: 1em; padding-right: 1em; text-align: center; vertical-align: top\"></td>\n",
       "        <td style=\"padding-left: 1em; padding-right: 1em; text-align: center; vertical-align: top\"></td>\n",
       "        <td style=\"padding-left: 1em; padding-right: 1em; text-align: center; vertical-align: top\"></td>\n",
       "        <td style=\"padding-left: 1em; padding-right: 1em; text-align: center; vertical-align: top\"></td>\n",
       "        <td style=\"padding-left: 1em; padding-right: 1em; text-align: center; vertical-align: top\"></td>\n",
       "    </tr>\n",
       "    <tr>\n",
       "        <td style=\"padding-left: 1em; padding-right: 1em; text-align: center; vertical-align: top\"></td>\n",
       "        <td style=\"padding-left: 1em; padding-right: 1em; text-align: center; vertical-align: top\">eth:ethertype:arp</td>\n",
       "        <td style=\"padding-left: 1em; padding-right: 1em; text-align: center; vertical-align: top\"></td>\n",
       "        <td style=\"padding-left: 1em; padding-right: 1em; text-align: center; vertical-align: top\"></td>\n",
       "        <td style=\"padding-left: 1em; padding-right: 1em; text-align: center; vertical-align: top\"></td>\n",
       "        <td style=\"padding-left: 1em; padding-right: 1em; text-align: center; vertical-align: top\"></td>\n",
       "        <td style=\"padding-left: 1em; padding-right: 1em; text-align: center; vertical-align: top\"></td>\n",
       "    </tr>\n",
       "    <tr>\n",
       "        <td style=\"padding-left: 1em; padding-right: 1em; text-align: center; vertical-align: top\"></td>\n",
       "        <td style=\"padding-left: 1em; padding-right: 1em; text-align: center; vertical-align: top\">eth:ethertype:arp</td>\n",
       "        <td style=\"padding-left: 1em; padding-right: 1em; text-align: center; vertical-align: top\"></td>\n",
       "        <td style=\"padding-left: 1em; padding-right: 1em; text-align: center; vertical-align: top\"></td>\n",
       "        <td style=\"padding-left: 1em; padding-right: 1em; text-align: center; vertical-align: top\"></td>\n",
       "        <td style=\"padding-left: 1em; padding-right: 1em; text-align: center; vertical-align: top\"></td>\n",
       "        <td style=\"padding-left: 1em; padding-right: 1em; text-align: center; vertical-align: top\"></td>\n",
       "    </tr>\n",
       "    <tr>\n",
       "        <td style=\"padding-left: 1em; padding-right: 1em; text-align: center; vertical-align: top\"></td>\n",
       "        <td style=\"padding-left: 1em; padding-right: 1em; text-align: center; vertical-align: top\">eth:ethertype:arp</td>\n",
       "        <td style=\"padding-left: 1em; padding-right: 1em; text-align: center; vertical-align: top\"></td>\n",
       "        <td style=\"padding-left: 1em; padding-right: 1em; text-align: center; vertical-align: top\"></td>\n",
       "        <td style=\"padding-left: 1em; padding-right: 1em; text-align: center; vertical-align: top\"></td>\n",
       "        <td style=\"padding-left: 1em; padding-right: 1em; text-align: center; vertical-align: top\"></td>\n",
       "        <td style=\"padding-left: 1em; padding-right: 1em; text-align: center; vertical-align: top\"></td>\n",
       "    </tr>\n",
       "    <tr>\n",
       "        <td style=\"padding-left: 1em; padding-right: 1em; text-align: center; vertical-align: top\"></td>\n",
       "        <td style=\"padding-left: 1em; padding-right: 1em; text-align: center; vertical-align: top\">eth:ethertype:arp</td>\n",
       "        <td style=\"padding-left: 1em; padding-right: 1em; text-align: center; vertical-align: top\"></td>\n",
       "        <td style=\"padding-left: 1em; padding-right: 1em; text-align: center; vertical-align: top\"></td>\n",
       "        <td style=\"padding-left: 1em; padding-right: 1em; text-align: center; vertical-align: top\"></td>\n",
       "        <td style=\"padding-left: 1em; padding-right: 1em; text-align: center; vertical-align: top\"></td>\n",
       "        <td style=\"padding-left: 1em; padding-right: 1em; text-align: center; vertical-align: top\"></td>\n",
       "    </tr>\n",
       "</table>\n",
       "<table frame=\"box\" rules=\"cols\">\n",
       "    <tr>\n",
       "        <th style=\"padding-left: 1em; padding-right: 1em; text-align: center\">tcp_Flags</th>\n",
       "        <th style=\"padding-left: 1em; padding-right: 1em; text-align: center\">Answer RRs</th>\n",
       "        <th style=\"padding-left: 1em; padding-right: 1em; text-align: center\">Source GeoIP Country</th>\n",
       "        <th style=\"padding-left: 1em; padding-right: 1em; text-align: center\">Source GeoIP Latitude</th>\n",
       "        <th style=\"padding-left: 1em; padding-right: 1em; text-align: center\">Source GeoIP Longitude</th>\n",
       "        <th style=\"padding-left: 1em; padding-right: 1em; text-align: center\">Destination GeoIP<br>Latitude ...</th>\n",
       "        <th style=\"padding-left: 1em; padding-right: 1em; text-align: center\">Destination GeoIP<br>Longitude ...</th>\n",
       "    </tr>\n",
       "    <tr>\n",
       "        <td style=\"padding-left: 1em; padding-right: 1em; text-align: center; vertical-align: top\"></td>\n",
       "        <td style=\"padding-left: 1em; padding-right: 1em; text-align: center; vertical-align: top\"></td>\n",
       "        <td style=\"padding-left: 1em; padding-right: 1em; text-align: center; vertical-align: top\"></td>\n",
       "        <td style=\"padding-left: 1em; padding-right: 1em; text-align: center; vertical-align: top\"></td>\n",
       "        <td style=\"padding-left: 1em; padding-right: 1em; text-align: center; vertical-align: top\"></td>\n",
       "        <td style=\"padding-left: 1em; padding-right: 1em; text-align: center; vertical-align: top\"></td>\n",
       "        <td style=\"padding-left: 1em; padding-right: 1em; text-align: center; vertical-align: top\"></td>\n",
       "    </tr>\n",
       "    <tr>\n",
       "        <td style=\"padding-left: 1em; padding-right: 1em; text-align: center; vertical-align: top\"></td>\n",
       "        <td style=\"padding-left: 1em; padding-right: 1em; text-align: center; vertical-align: top\"></td>\n",
       "        <td style=\"padding-left: 1em; padding-right: 1em; text-align: center; vertical-align: top\"></td>\n",
       "        <td style=\"padding-left: 1em; padding-right: 1em; text-align: center; vertical-align: top\"></td>\n",
       "        <td style=\"padding-left: 1em; padding-right: 1em; text-align: center; vertical-align: top\"></td>\n",
       "        <td style=\"padding-left: 1em; padding-right: 1em; text-align: center; vertical-align: top\"></td>\n",
       "        <td style=\"padding-left: 1em; padding-right: 1em; text-align: center; vertical-align: top\"></td>\n",
       "    </tr>\n",
       "    <tr>\n",
       "        <td style=\"padding-left: 1em; padding-right: 1em; text-align: center; vertical-align: top\"></td>\n",
       "        <td style=\"padding-left: 1em; padding-right: 1em; text-align: center; vertical-align: top\"></td>\n",
       "        <td style=\"padding-left: 1em; padding-right: 1em; text-align: center; vertical-align: top\"></td>\n",
       "        <td style=\"padding-left: 1em; padding-right: 1em; text-align: center; vertical-align: top\"></td>\n",
       "        <td style=\"padding-left: 1em; padding-right: 1em; text-align: center; vertical-align: top\"></td>\n",
       "        <td style=\"padding-left: 1em; padding-right: 1em; text-align: center; vertical-align: top\"></td>\n",
       "        <td style=\"padding-left: 1em; padding-right: 1em; text-align: center; vertical-align: top\"></td>\n",
       "    </tr>\n",
       "    <tr>\n",
       "        <td style=\"padding-left: 1em; padding-right: 1em; text-align: center; vertical-align: top\"></td>\n",
       "        <td style=\"padding-left: 1em; padding-right: 1em; text-align: center; vertical-align: top\"></td>\n",
       "        <td style=\"padding-left: 1em; padding-right: 1em; text-align: center; vertical-align: top\"></td>\n",
       "        <td style=\"padding-left: 1em; padding-right: 1em; text-align: center; vertical-align: top\"></td>\n",
       "        <td style=\"padding-left: 1em; padding-right: 1em; text-align: center; vertical-align: top\"></td>\n",
       "        <td style=\"padding-left: 1em; padding-right: 1em; text-align: center; vertical-align: top\"></td>\n",
       "        <td style=\"padding-left: 1em; padding-right: 1em; text-align: center; vertical-align: top\"></td>\n",
       "    </tr>\n",
       "    <tr>\n",
       "        <td style=\"padding-left: 1em; padding-right: 1em; text-align: center; vertical-align: top\"></td>\n",
       "        <td style=\"padding-left: 1em; padding-right: 1em; text-align: center; vertical-align: top\"></td>\n",
       "        <td style=\"padding-left: 1em; padding-right: 1em; text-align: center; vertical-align: top\"></td>\n",
       "        <td style=\"padding-left: 1em; padding-right: 1em; text-align: center; vertical-align: top\"></td>\n",
       "        <td style=\"padding-left: 1em; padding-right: 1em; text-align: center; vertical-align: top\"></td>\n",
       "        <td style=\"padding-left: 1em; padding-right: 1em; text-align: center; vertical-align: top\"></td>\n",
       "        <td style=\"padding-left: 1em; padding-right: 1em; text-align: center; vertical-align: top\"></td>\n",
       "    </tr>\n",
       "    <tr>\n",
       "        <td style=\"padding-left: 1em; padding-right: 1em; text-align: center; vertical-align: top\"></td>\n",
       "        <td style=\"padding-left: 1em; padding-right: 1em; text-align: center; vertical-align: top\"></td>\n",
       "        <td style=\"padding-left: 1em; padding-right: 1em; text-align: center; vertical-align: top\"></td>\n",
       "        <td style=\"padding-left: 1em; padding-right: 1em; text-align: center; vertical-align: top\"></td>\n",
       "        <td style=\"padding-left: 1em; padding-right: 1em; text-align: center; vertical-align: top\"></td>\n",
       "        <td style=\"padding-left: 1em; padding-right: 1em; text-align: center; vertical-align: top\"></td>\n",
       "        <td style=\"padding-left: 1em; padding-right: 1em; text-align: center; vertical-align: top\"></td>\n",
       "    </tr>\n",
       "    <tr>\n",
       "        <td style=\"padding-left: 1em; padding-right: 1em; text-align: center; vertical-align: top\"></td>\n",
       "        <td style=\"padding-left: 1em; padding-right: 1em; text-align: center; vertical-align: top\"></td>\n",
       "        <td style=\"padding-left: 1em; padding-right: 1em; text-align: center; vertical-align: top\"></td>\n",
       "        <td style=\"padding-left: 1em; padding-right: 1em; text-align: center; vertical-align: top\"></td>\n",
       "        <td style=\"padding-left: 1em; padding-right: 1em; text-align: center; vertical-align: top\"></td>\n",
       "        <td style=\"padding-left: 1em; padding-right: 1em; text-align: center; vertical-align: top\"></td>\n",
       "        <td style=\"padding-left: 1em; padding-right: 1em; text-align: center; vertical-align: top\"></td>\n",
       "    </tr>\n",
       "    <tr>\n",
       "        <td style=\"padding-left: 1em; padding-right: 1em; text-align: center; vertical-align: top\"></td>\n",
       "        <td style=\"padding-left: 1em; padding-right: 1em; text-align: center; vertical-align: top\"></td>\n",
       "        <td style=\"padding-left: 1em; padding-right: 1em; text-align: center; vertical-align: top\"></td>\n",
       "        <td style=\"padding-left: 1em; padding-right: 1em; text-align: center; vertical-align: top\"></td>\n",
       "        <td style=\"padding-left: 1em; padding-right: 1em; text-align: center; vertical-align: top\"></td>\n",
       "        <td style=\"padding-left: 1em; padding-right: 1em; text-align: center; vertical-align: top\"></td>\n",
       "        <td style=\"padding-left: 1em; padding-right: 1em; text-align: center; vertical-align: top\"></td>\n",
       "    </tr>\n",
       "    <tr>\n",
       "        <td style=\"padding-left: 1em; padding-right: 1em; text-align: center; vertical-align: top\"></td>\n",
       "        <td style=\"padding-left: 1em; padding-right: 1em; text-align: center; vertical-align: top\"></td>\n",
       "        <td style=\"padding-left: 1em; padding-right: 1em; text-align: center; vertical-align: top\"></td>\n",
       "        <td style=\"padding-left: 1em; padding-right: 1em; text-align: center; vertical-align: top\"></td>\n",
       "        <td style=\"padding-left: 1em; padding-right: 1em; text-align: center; vertical-align: top\"></td>\n",
       "        <td style=\"padding-left: 1em; padding-right: 1em; text-align: center; vertical-align: top\"></td>\n",
       "        <td style=\"padding-left: 1em; padding-right: 1em; text-align: center; vertical-align: top\"></td>\n",
       "    </tr>\n",
       "    <tr>\n",
       "        <td style=\"padding-left: 1em; padding-right: 1em; text-align: center; vertical-align: top\"></td>\n",
       "        <td style=\"padding-left: 1em; padding-right: 1em; text-align: center; vertical-align: top\"></td>\n",
       "        <td style=\"padding-left: 1em; padding-right: 1em; text-align: center; vertical-align: top\"></td>\n",
       "        <td style=\"padding-left: 1em; padding-right: 1em; text-align: center; vertical-align: top\"></td>\n",
       "        <td style=\"padding-left: 1em; padding-right: 1em; text-align: center; vertical-align: top\"></td>\n",
       "        <td style=\"padding-left: 1em; padding-right: 1em; text-align: center; vertical-align: top\"></td>\n",
       "        <td style=\"padding-left: 1em; padding-right: 1em; text-align: center; vertical-align: top\"></td>\n",
       "    </tr>\n",
       "</table>\n",
       "<table frame=\"box\" rules=\"cols\">\n",
       "    <tr>\n",
       "        <th style=\"padding-left: 1em; padding-right: 1em; text-align: center\">Destination GeoIP Country</th>\n",
       "        <th style=\"padding-left: 1em; padding-right: 1em; text-align: center\">Time to live</th>\n",
       "        <th style=\"padding-left: 1em; padding-right: 1em; text-align: center\">Next sequence number</th>\n",
       "    </tr>\n",
       "    <tr>\n",
       "        <td style=\"padding-left: 1em; padding-right: 1em; text-align: center; vertical-align: top\"></td>\n",
       "        <td style=\"padding-left: 1em; padding-right: 1em; text-align: center; vertical-align: top\"></td>\n",
       "        <td style=\"padding-left: 1em; padding-right: 1em; text-align: center; vertical-align: top\"></td>\n",
       "    </tr>\n",
       "    <tr>\n",
       "        <td style=\"padding-left: 1em; padding-right: 1em; text-align: center; vertical-align: top\"></td>\n",
       "        <td style=\"padding-left: 1em; padding-right: 1em; text-align: center; vertical-align: top\"></td>\n",
       "        <td style=\"padding-left: 1em; padding-right: 1em; text-align: center; vertical-align: top\"></td>\n",
       "    </tr>\n",
       "    <tr>\n",
       "        <td style=\"padding-left: 1em; padding-right: 1em; text-align: center; vertical-align: top\"></td>\n",
       "        <td style=\"padding-left: 1em; padding-right: 1em; text-align: center; vertical-align: top\"></td>\n",
       "        <td style=\"padding-left: 1em; padding-right: 1em; text-align: center; vertical-align: top\"></td>\n",
       "    </tr>\n",
       "    <tr>\n",
       "        <td style=\"padding-left: 1em; padding-right: 1em; text-align: center; vertical-align: top\"></td>\n",
       "        <td style=\"padding-left: 1em; padding-right: 1em; text-align: center; vertical-align: top\"></td>\n",
       "        <td style=\"padding-left: 1em; padding-right: 1em; text-align: center; vertical-align: top\"></td>\n",
       "    </tr>\n",
       "    <tr>\n",
       "        <td style=\"padding-left: 1em; padding-right: 1em; text-align: center; vertical-align: top\"></td>\n",
       "        <td style=\"padding-left: 1em; padding-right: 1em; text-align: center; vertical-align: top\"></td>\n",
       "        <td style=\"padding-left: 1em; padding-right: 1em; text-align: center; vertical-align: top\"></td>\n",
       "    </tr>\n",
       "    <tr>\n",
       "        <td style=\"padding-left: 1em; padding-right: 1em; text-align: center; vertical-align: top\"></td>\n",
       "        <td style=\"padding-left: 1em; padding-right: 1em; text-align: center; vertical-align: top\"></td>\n",
       "        <td style=\"padding-left: 1em; padding-right: 1em; text-align: center; vertical-align: top\"></td>\n",
       "    </tr>\n",
       "    <tr>\n",
       "        <td style=\"padding-left: 1em; padding-right: 1em; text-align: center; vertical-align: top\"></td>\n",
       "        <td style=\"padding-left: 1em; padding-right: 1em; text-align: center; vertical-align: top\"></td>\n",
       "        <td style=\"padding-left: 1em; padding-right: 1em; text-align: center; vertical-align: top\"></td>\n",
       "    </tr>\n",
       "    <tr>\n",
       "        <td style=\"padding-left: 1em; padding-right: 1em; text-align: center; vertical-align: top\"></td>\n",
       "        <td style=\"padding-left: 1em; padding-right: 1em; text-align: center; vertical-align: top\"></td>\n",
       "        <td style=\"padding-left: 1em; padding-right: 1em; text-align: center; vertical-align: top\"></td>\n",
       "    </tr>\n",
       "    <tr>\n",
       "        <td style=\"padding-left: 1em; padding-right: 1em; text-align: center; vertical-align: top\"></td>\n",
       "        <td style=\"padding-left: 1em; padding-right: 1em; text-align: center; vertical-align: top\"></td>\n",
       "        <td style=\"padding-left: 1em; padding-right: 1em; text-align: center; vertical-align: top\"></td>\n",
       "    </tr>\n",
       "    <tr>\n",
       "        <td style=\"padding-left: 1em; padding-right: 1em; text-align: center; vertical-align: top\"></td>\n",
       "        <td style=\"padding-left: 1em; padding-right: 1em; text-align: center; vertical-align: top\"></td>\n",
       "        <td style=\"padding-left: 1em; padding-right: 1em; text-align: center; vertical-align: top\"></td>\n",
       "    </tr>\n",
       "</table>\n",
       "[9388270 rows x 25 columns]<br/>Note: Only the head of the SFrame is printed.<br/>You can use print_rows(num_rows=m, num_columns=n) to print more rows and columns.\n",
       "</div>"
      ],
      "text/plain": [
       "Columns:\n",
       "\tNo.\tint\n",
       "\tTime\tfloat\n",
       "\tSource\tstr\n",
       "\tDestination\tstr\n",
       "\tProtocol\tstr\n",
       "\tLength\tint\n",
       "\tInfo\tstr\n",
       "\tDestination Port\tstr\n",
       "\tSource Port\tstr\n",
       "\tProtocols in frame\tstr\n",
       "\tDifferentiated Services Field\tstr\n",
       "\tIP_Flags\tstr\n",
       "\tudp_Length\tstr\n",
       "\tTCP Segment Len\tstr\n",
       "\tSequence number\tstr\n",
       "\ttcp_Flags\tstr\n",
       "\tAnswer RRs\tstr\n",
       "\tSource GeoIP Country\tstr\n",
       "\tSource GeoIP Latitude\tstr\n",
       "\tSource GeoIP Longitude\tstr\n",
       "\tDestination GeoIP Latitude\tstr\n",
       "\tDestination GeoIP Longitude\tstr\n",
       "\tDestination GeoIP Country\tstr\n",
       "\tTime to live\tstr\n",
       "\tNext sequence number\tstr\n",
       "\n",
       "Rows: 9388270\n",
       "\n",
       "Data:\n",
       "+-----+------------+-------------------+-------------+----------+--------+\n",
       "| No. |    Time    |       Source      | Destination | Protocol | Length |\n",
       "+-----+------------+-------------------+-------------+----------+--------+\n",
       "|  1  |    0.0     | CiscoInc_db:19:c3 |  Broadcast  |   ARP    |   60   |\n",
       "|  2  |  8.982709  | CiscoInc_db:19:c3 |  Broadcast  |   ARP    |   60   |\n",
       "|  3  | 50.099564  | CiscoInc_db:19:c3 |  Broadcast  |   ARP    |   60   |\n",
       "|  4  | 50.369266  | 54:52:00:00:00:01 |  Broadcast  |   ARP    |   60   |\n",
       "|  5  | 51.369054  | 54:52:00:00:00:01 |  Broadcast  |   ARP    |   60   |\n",
       "|  6  | 52.369688  | 54:52:00:00:00:01 |  Broadcast  |   ARP    |   60   |\n",
       "|  7  |  53.08684  | CiscoInc_db:19:c3 |  Broadcast  |   ARP    |   60   |\n",
       "|  8  | 59.086131  | CiscoInc_db:19:c3 |  Broadcast  |   ARP    |   60   |\n",
       "|  9  | 160.084662 | CadmusCo_b5:b7:19 |  Broadcast  |   ARP    |   60   |\n",
       "|  10 | 160.084668 | CadmusCo_b5:b7:19 |  Broadcast  |   ARP    |   60   |\n",
       "+-----+------------+-------------------+-------------+----------+--------+\n",
       "+-------------------------------+------------------+-------------+\n",
       "|              Info             | Destination Port | Source Port |\n",
       "+-------------------------------+------------------+-------------+\n",
       "| Who has 147.32.84.165? Tel... |                  |             |\n",
       "| Who has 147.32.84.165? Tel... |                  |             |\n",
       "| Who has 147.32.84.165? Tel... |                  |             |\n",
       "| Who has 147.32.84.165? Tel... |                  |             |\n",
       "| Who has 147.32.84.165? Tel... |                  |             |\n",
       "| Who has 147.32.84.165? Tel... |                  |             |\n",
       "| Who has 147.32.84.165? Tel... |                  |             |\n",
       "| Who has 147.32.84.165? Tel... |                  |             |\n",
       "| Gratuitous ARP for 147.32.... |                  |             |\n",
       "| Gratuitous ARP for 147.32.... |                  |             |\n",
       "+-------------------------------+------------------+-------------+\n",
       "+--------------------+-------------------------------+----------+------------+-----------------+\n",
       "| Protocols in frame | Differentiated Services Field | IP_Flags | udp_Length | TCP Segment Len |\n",
       "+--------------------+-------------------------------+----------+------------+-----------------+\n",
       "| eth:ethertype:arp  |                               |          |            |                 |\n",
       "| eth:ethertype:arp  |                               |          |            |                 |\n",
       "| eth:ethertype:arp  |                               |          |            |                 |\n",
       "| eth:ethertype:arp  |                               |          |            |                 |\n",
       "| eth:ethertype:arp  |                               |          |            |                 |\n",
       "| eth:ethertype:arp  |                               |          |            |                 |\n",
       "| eth:ethertype:arp  |                               |          |            |                 |\n",
       "| eth:ethertype:arp  |                               |          |            |                 |\n",
       "| eth:ethertype:arp  |                               |          |            |                 |\n",
       "| eth:ethertype:arp  |                               |          |            |                 |\n",
       "+--------------------+-------------------------------+----------+------------+-----------------+\n",
       "+-----------------+-----------+------------+----------------------+-----------------------+\n",
       "| Sequence number | tcp_Flags | Answer RRs | Source GeoIP Country | Source GeoIP Latitude |\n",
       "+-----------------+-----------+------------+----------------------+-----------------------+\n",
       "|                 |           |            |                      |                       |\n",
       "|                 |           |            |                      |                       |\n",
       "|                 |           |            |                      |                       |\n",
       "|                 |           |            |                      |                       |\n",
       "|                 |           |            |                      |                       |\n",
       "|                 |           |            |                      |                       |\n",
       "|                 |           |            |                      |                       |\n",
       "|                 |           |            |                      |                       |\n",
       "|                 |           |            |                      |                       |\n",
       "|                 |           |            |                      |                       |\n",
       "+-----------------+-----------+------------+----------------------+-----------------------+\n",
       "+------------------------+-----+\n",
       "| Source GeoIP Longitude | ... |\n",
       "+------------------------+-----+\n",
       "|                        | ... |\n",
       "|                        | ... |\n",
       "|                        | ... |\n",
       "|                        | ... |\n",
       "|                        | ... |\n",
       "|                        | ... |\n",
       "|                        | ... |\n",
       "|                        | ... |\n",
       "|                        | ... |\n",
       "|                        | ... |\n",
       "+------------------------+-----+\n",
       "[9388270 rows x 25 columns]\n",
       "Note: Only the head of the SFrame is printed.\n",
       "You can use print_rows(num_rows=m, num_columns=n) to print more rows and columns."
      ]
     },
     "execution_count": 3,
     "metadata": {},
     "output_type": "execute_result"
    }
   ],
   "source": [
    "SF.rename({'DestInation Port':'Destination Port'})"
   ]
  },
  {
   "cell_type": "code",
   "execution_count": null,
   "metadata": {
    "collapsed": false
   },
   "outputs": [
    {
     "name": "stdout",
     "output_type": "stream",
     "text": [
      "Done reading\n",
      "348774 348774\n",
      "721763 721763\n",
      "2144808 22.9133301818\n",
      "9360525 9360525\n",
      "Done sorting SF\n",
      "Done saving SF\n",
      "9360525 9360525\n",
      "Running 0 Done !\n",
      "Running 500000 Done !\n",
      "Running 1000000 Done !\n",
      "Running 1500000 Done !\n",
      "Running 2000000 Done !\n",
      "Running 2500000 Done !\n",
      "Running 3000000 Done !\n",
      "Running 3500000 Done !\n",
      "Running 4000000 Done !\n",
      "Running 4500000 Done !\n",
      "Running 5000000 Done !\n",
      "Running 5500000 Done !\n",
      "Running 6000000 Done !\n",
      "Running 6500000 Done !\n",
      "Running 7000000 Done !\n",
      "Running 7500000 Done !\n",
      "Running 8000000 Done !\n",
      "Running 8500000 Done !\n",
      "Running 9000000 Done !\n",
      "689661\n",
      "171995 0.249390642649\n",
      "689661\n",
      "689661\n",
      "+--------+------------+\n",
      "| uFlow  | NumPackets |\n",
      "+--------+------------+\n",
      "| 504649 |     3      |\n",
      "| 588617 |     7      |\n",
      "| 211023 |     5      |\n",
      "+--------+------------+\n",
      "[3 rows x 2 columns]\n",
      "\n",
      "0 5398 0\n",
      "0\n",
      "-121117184.726 780231.692992\n"
     ]
    },
    {
     "data": {
      "text/html": [
       "<pre>Boosted trees classifier:</pre>"
      ],
      "text/plain": [
       "Boosted trees classifier:"
      ]
     },
     "metadata": {},
     "output_type": "display_data"
    },
    {
     "data": {
      "text/html": [
       "<pre>--------------------------------------------------------</pre>"
      ],
      "text/plain": [
       "--------------------------------------------------------"
      ]
     },
     "metadata": {},
     "output_type": "display_data"
    },
    {
     "data": {
      "text/html": [
       "<pre>Number of examples          : 7488420</pre>"
      ],
      "text/plain": [
       "Number of examples          : 7488420"
      ]
     },
     "metadata": {},
     "output_type": "display_data"
    },
    {
     "data": {
      "text/html": [
       "<pre>Number of classes           : 2</pre>"
      ],
      "text/plain": [
       "Number of classes           : 2"
      ]
     },
     "metadata": {},
     "output_type": "display_data"
    },
    {
     "data": {
      "text/html": [
       "<pre>Number of feature columns   : 23</pre>"
      ],
      "text/plain": [
       "Number of feature columns   : 23"
      ]
     },
     "metadata": {},
     "output_type": "display_data"
    },
    {
     "data": {
      "text/html": [
       "<pre>Number of unpacked features : 23</pre>"
      ],
      "text/plain": [
       "Number of unpacked features : 23"
      ]
     },
     "metadata": {},
     "output_type": "display_data"
    },
    {
     "data": {
      "text/html": [
       "<pre>+-----------+--------------+-------------------+---------------------+-------------------+---------------------+</pre>"
      ],
      "text/plain": [
       "+-----------+--------------+-------------------+---------------------+-------------------+---------------------+"
      ]
     },
     "metadata": {},
     "output_type": "display_data"
    },
    {
     "data": {
      "text/html": [
       "<pre>| Iteration | Elapsed Time | Training-accuracy | Validation-accuracy | Training-log_loss | Validation-log_loss |</pre>"
      ],
      "text/plain": [
       "| Iteration | Elapsed Time | Training-accuracy | Validation-accuracy | Training-log_loss | Validation-log_loss |"
      ]
     },
     "metadata": {},
     "output_type": "display_data"
    },
    {
     "data": {
      "text/html": [
       "<pre>+-----------+--------------+-------------------+---------------------+-------------------+---------------------+</pre>"
      ],
      "text/plain": [
       "+-----------+--------------+-------------------+---------------------+-------------------+---------------------+"
      ]
     },
     "metadata": {},
     "output_type": "display_data"
    }
   ],
   "source": [
    "\n",
    "# coding: utf-8\n",
    "\n",
    "# In[1]:\n",
    "\n",
    "import graphlab as gl\n",
    "import tensorflow as tf\n",
    "\n",
    "\n",
    "# In[2]:\n",
    "\n",
    "#SF = gl.SFrame.read_csv('ISCX_Botnet-Training.csv',verbose=False)\n",
    "print \"Done reading\"\n",
    "\n",
    "\n",
    "# In[3]:\n",
    "\n",
    "SF = SF[(SF['Source Port']!='')|(SF['Destination Port']!='')]\n",
    "\n",
    "\n",
    "# In[4]:\n",
    "\n",
    "len(SF)\n",
    "\n",
    "\n",
    "# In[3]:\n",
    "\n",
    "#type(SF['tcp_Flags'][0])\n",
    "\n",
    "\n",
    "# In[4]:\n",
    "\n",
    "#SF['tcp_Flags'].unique()\n",
    "\n",
    "\n",
    "# In[5]:\n",
    "\n",
    "#SF['IP_Flags'].unique()\n",
    "\n",
    "\n",
    "# In[5]:\n",
    "\n",
    "SF['tcp_Flags'] = SF['tcp_Flags'].apply(lambda x:int(x,16) if x!='' else 0)\n",
    "\n",
    "\n",
    "# In[6]:\n",
    "\n",
    "\n",
    "print len(SF[SF['Protocol']=='UDP']),len(SF[(SF['tcp_Flags']==0)&(SF['Protocol']=='UDP')])\n",
    "\n",
    "\n",
    "# In[10]:\n",
    "\n",
    "print len(SF[(SF['tcp_Flags']==0)]),len(SF[(SF['tcp_Flags']==0)&(SF['Protocol']!='TCP')])\n",
    "\n",
    "\n",
    "# In[11]:\n",
    "\n",
    "Protocols = sorted(SF['Protocol'].unique())\n",
    "#print Protocols\n",
    "\n",
    "\n",
    "# ## Some analysis for number of packets of each protocol type\n",
    "\n",
    "# In[ ]:\n",
    "\n",
    "\"\"\"lt = []\n",
    "gt = []\n",
    "for x in Protocols:\n",
    "    print x\n",
    "    temp = len(SF[SF['Protocol']==x])\n",
    "    if temp<1000:\n",
    "        lt.append(x)\n",
    "    else:\n",
    "        gt.append(x)\"\"\"\n",
    "\n",
    "\n",
    "# In[22]:\n",
    "\n",
    "#print lt,\"\\n\\n\",gt\n",
    "\n",
    "\n",
    "# In[23]:\n",
    "\n",
    "#print len(lt),len(gt)\n",
    "\n",
    "\n",
    "# In[12]:\n",
    "\n",
    "\n",
    "\n",
    "iplist = [\n",
    "    \"147.32.84.180\",\n",
    "    \"147.32.84.170\",\n",
    "    \"147.32.84.150\",\n",
    "    \"147.32.84.140\",\n",
    "    \"147.32.84.130\",\n",
    "    \"147.32.84.160\",\n",
    "    \"10.0.2.15\",\n",
    "    \"192.168.106.141\",\n",
    "    \"192.168.106.131\",\n",
    "    \"172.16.253.130\",\n",
    "    \"172.16.253.131\",\n",
    "    \"172.16.253.129\",\n",
    "    \"172.16.253.240\",\n",
    "    \"74.78.117.238\",\n",
    "    \"158.65.110.24\",\n",
    "    \"192.168.3.35\",\n",
    "    \"192.168.3.25\",\n",
    "    \"192.168.3.65\",\n",
    "    \"172.29.0.116\",\n",
    "    \"172.29.0.109\",\n",
    "    \"172.16.253.132\",\n",
    "    \"192.168.248.165\",\n",
    "    \"10.37.130.4\",\n",
    "    \"131.202.243.84\", \n",
    "    \"198.164.30.2\", \"192.168.5.122\", \n",
    "    \"192.168.5.122\", \n",
    "    \"192.168.5.122\", \"192.168.5.122\", \"192.168.5.122\", \n",
    "    \"192.168.2.110\", \n",
    "    \"192.168.4.120\", \"192.168.1.103\",\n",
    "    \"192.168.2.113\", \"192.168.4.118\" , \"192.168.2.109\", \"192.168.2.105\", \"192.168.5.122\"]\n",
    "\n",
    "MasterBot = [ (\"192.168.2.112\", \"131.202.243.84\"), (\"192.168.5.122\", \"198.164.30.2\"), (\"192.168.2.110\", \"192.168.5.122\"),( \"192.168.4.118\", \"192.168.5.122\"), (\"192.168.2.113\", \"192.168.5.122\"), (\"192.168.1.103\", \"192.168.5.122\"), (\"192.168.4.120\", \"192.168.5.122\"), (\"192.168.2.112\", \"192.168.2.110\"), (\"192.168.2.112\", \"192.168.4.120\"), (\"192.168.2.112\", \"192.168.1.103\"), (\"192.168.2.112\", \"192.168.2.113\"), (\"192.168.2.112\", \"192.168.4.118\"), (\"192.168.2.112\", \"192.168.2.109\"), (\"192.168.2.112\", \"192.168.2.105\"), (\"192.168.1.105\", \"192.168.5.122\")]\n",
    "\n",
    "iplist = gl.SArray(iplist)\n",
    "iplist = iplist.unique() \n",
    "iplist = list(iplist)\n",
    "\n",
    "def fcheckIP(x):\n",
    "    if x['Source'] in iplist:\n",
    "        return 1\n",
    "    else:\n",
    "        if ((x['Source'],x['Destination'])  in MasterBot ) or ((x['Destination'],x['Source'])  in MasterBot ) :\n",
    "            return 1\n",
    "        else:\n",
    "            return 0\n",
    "        \n",
    "\n",
    "SF['isBot'] = SF[['Source','Destination']].apply(lambda x: fcheckIP(x))\n",
    "\n",
    "print 'Done Labelling'\n",
    "\n",
    "# In[15]:\n",
    "\n",
    "\n",
    "\n",
    "# Botnet Labelled packets and their percentage.\n",
    "# \n",
    "\n",
    "# In[16]:\n",
    "\n",
    "temp = len(SF[SF['isBot']==1])\n",
    "print temp, (temp*1.0)/len(SF)*100\n",
    "\n",
    "\n",
    "# In[17]:\n",
    "\n",
    "SF.head(3)\n",
    "\n",
    "\n",
    "# In[18]:\n",
    "\n",
    "## To check whether No. field is primary key or not\n",
    "print len(SF['No.'].unique()),len(SF)\n",
    "\n",
    "\n",
    "# # Sorting will help in identifying flow effectively\n",
    "\n",
    "# In[19]:\n",
    "\n",
    "sorting_features = ['Source','Destination','Source Port','Destination Port','Protocol','Time']\n",
    "#STD = SF[['No.','Time','Source','Destination','Source Port','Destination Port','Protocol','tcp_Flags']]\n",
    "#STD = STD.sort(sorting_features)\n",
    "#print 'Done sorting STD'\n",
    "SF = SF.sort(sorting_features)\n",
    "print 'Done sorting SF'\n",
    "\n",
    "\n",
    "# In[20]:\n",
    "\n",
    "#STD.save('ISCX_Botnet-Testing_Ports_Only_Sorted_Flow.csv')\n",
    "#print 'Done saving STD'\n",
    "#STD = None\n",
    "SF.save('ISCX_Botnet-Training_Ports_Only_Sorted.csv')\n",
    "print 'Done saving SF'\n",
    "\n",
    "\n",
    "# In[8]:\n",
    "\n",
    "\n",
    "print 'Done Saving Sorted file'\n",
    "\n",
    "\n",
    "# ## Back to flow identification Unidirectional\n",
    "\n",
    "# In[22]:\n",
    "\n",
    "## function for comparing two different flows based on columns\n",
    "def compare(x,y,columns):\n",
    "    try:\n",
    "        val = True\n",
    "        for column in columns:\n",
    "            if x[column]!=y[column]:\n",
    "                val = False\n",
    "                break;\n",
    "        return val\n",
    "    except KeyError:\n",
    "        print \"Column does not exist in the data, check again!\"\n",
    "    except:\n",
    "        print \"Some unknown error\"\n",
    "\n",
    "\n",
    "# In[23]:\n",
    "\n",
    "##Code for logic of flow identification\n",
    "import pickle \n",
    "\n",
    "FlowCols = ['Source','Destination','Source Port','Destination Port','Protocol']\n",
    "SF['FlowNo.'] = None\n",
    "FlowNo = 0 ##Unique Flow Number for each flow\n",
    "#FFlow = []\n",
    "prev = None\n",
    "Flow = []     ##Stores all flows in form of list of dictionary \n",
    "#cFlow = []    ##Store the current flow (all details)\n",
    "count = 0\n",
    "fc = 0\n",
    "startTime = None   ##Start Time of each flow to implement timeout\n",
    "for x in SF:\n",
    "    if count%500000 == 0:\n",
    "        #fName = 'Flow'+str(fc)+'.pkl'\n",
    "        #print 'Saving : ',fName\n",
    "        #pickle.dump(Flow,open(fName,'w'))\n",
    "        #print 'Saved'\n",
    "        print 'Running '+str(count)+' Done !'\n",
    "        #c = fc + 1\n",
    "        #Flow = []\n",
    "    count = count+1\n",
    "    \n",
    "    if prev is None:\n",
    "        startTime = x['Time']\n",
    "        Flow.append(FlowNo)\n",
    "        #cFlow.append(x['No.'])\n",
    "        \n",
    "        prev = x\n",
    "    elif compare(x,prev,FlowCols):\n",
    "        fc=fc+1\n",
    "        if x['tcp_Flags']&1 or x['tcp_Flags']&4 or x['Time']-startTime>=120:\n",
    "            Flow.append(FlowNo)\n",
    "            prev = None\n",
    "            FlowNo = FlowNo + 1\n",
    "            \n",
    "            #cFlow.append(x['No.'])\n",
    "            #FFlow.append(cFlow)\n",
    "            #cFlow = []\n",
    "            \n",
    "        else:\n",
    "            \n",
    "            #cFlow.append(x['No.'])\n",
    "            \n",
    "            Flow.append(FlowNo)\n",
    "            prev = x\n",
    "    else:\n",
    "        FlowNo = FlowNo + 1\n",
    "        Flow.append(FlowNo)\n",
    "                \n",
    "        #FFlow.append(cFlow)\n",
    "        #cFlow = []\n",
    "        #cFlow.append(x['No.'])\n",
    "        \n",
    "        prev = x\n",
    "        startTime = x['Time']\n",
    "\n",
    "\n",
    "print len(gl.SArray(Flow).unique())\n",
    "\n",
    "\n",
    "# In[24]:\n",
    "\n",
    "SF['uFlow'] = gl.SArray(Flow)\n",
    "temp = SF.groupby('uFlow',{\n",
    "        'NumBots' : gl.aggregate.SUM('isBot')\n",
    "    })\n",
    "NumBotFlows = len(temp[temp['NumBots']>1])\n",
    "print NumBotFlows, NumBotFlows*1.0/len(SF['uFlow'].unique()) \n",
    "\n",
    "\n",
    "# In[25]:\n",
    "\n",
    "len(Flow)\n",
    "\n",
    "\n",
    "# In[26]:\n",
    "\n",
    "len(SF)\n",
    "\n",
    "\n",
    "# In[ ]:\n",
    "\n",
    "##Code for checking authenticity of flow logic\n",
    "#STD[(STD['Source']=='0.0.0.0')&(STD['Destination']=='255.255.255.255')&(STD['Source Port']=='68')&(STD['Destination Port']=='67')].sort('Time')\n",
    "\n",
    "\n",
    "# In[ ]:\n",
    "\n",
    "## Code to check if in any flows there are some No.s which are in decreasing order (Indicative or Decrepancies)\n",
    "## UPDATE: No. does not indicate same relation in time, so Data collected is right !\n",
    "\"\"\"count = 0\n",
    "for li in Flow:\n",
    "    for i in range(1,len(li)):\n",
    "        if li[i]<li[i-1]:\n",
    "            #print li\n",
    "            count = count+1\n",
    "            break;\n",
    "print count\"\"\"\n",
    "\n",
    "\n",
    "# In[27]:\n",
    "\n",
    "import pickle\n",
    "pickle.dump(Flow,open('Flow.pkl','w'))\n",
    "\n",
    "\n",
    "# In[32]:\n",
    "\n",
    "## First Packet Length\n",
    "FlowFeatures = ['Source','Destination','Source Port','Destination Port','Protocol']\n",
    "FPL = SF.groupby(['uFlow'],{\n",
    "        'Time':gl.aggregate.MIN('Time')\n",
    "    })\n",
    "print len(FPL)\n",
    "FPL = FPL.join(SF,on =['uFlow','Time'])[['uFlow','Length']].unique()\n",
    "FPL = FPL.groupby(['uFlow'],{\n",
    "        'FPL':gl.aggregate.AVG('Length')\n",
    "    })\n",
    "print len(FPL)\n",
    "\n",
    "\n",
    "# In[33]:\n",
    "\n",
    "SF = SF.join(FPL, on ='uFlow')\n",
    "del(FPL)\n",
    "\n",
    "\n",
    "# ## 18/10/2016\n",
    "\n",
    "# In[35]:\n",
    "\n",
    "## Number of packets per flow\n",
    "temp = SF.groupby(['uFlow'],{\n",
    "        'NumPackets':gl.aggregate.COUNT()\n",
    "    })\n",
    "print temp.head(3)\n",
    "SF = SF.join(temp, on ='uFlow')\n",
    "del(temp)\n",
    "\n",
    "\n",
    "# In[ ]:\n",
    "\n",
    "## Number of bytes exchanged\n",
    "temp = SF.groupby(['uFlow'],{\n",
    "        'BytesEx':gl.aggregate.SUM('Length')\n",
    "    })\n",
    "SF = SF.join(temp, on ='uFlow')\n",
    "del(temp)\n",
    "\n",
    "\n",
    "# In[38]:\n",
    "\n",
    "## Standard deviation of packet length\n",
    "temp = SF.groupby(['uFlow'],{\n",
    "        'StdDevLen':gl.aggregate.STDV('Length')\n",
    "    })\n",
    "SF = SF.join(temp, on ='uFlow')\n",
    "del(temp)\n",
    "\n",
    "\n",
    "# In[40]:\n",
    "\n",
    "## Same length packet ratio\n",
    "temp2 = SF.groupby(['uFlow'],{\n",
    "        'SameLenPktRatio':gl.aggregate.COUNT_DISTINCT('Length')\n",
    "    })\n",
    "##temp from number of packets computation\n",
    "temp = SF.groupby(['uFlow'],{\n",
    "        'NumPackets':gl.aggregate.COUNT()\n",
    "    })\n",
    "temp = temp.join(temp2,on='uFlow')\n",
    "temp['SameLenPktRatio'] = temp['SameLenPktRatio']*1.0/temp['NumPackets']\n",
    "temp2 = None\n",
    "temp = temp[['uFlow','SameLenPktRatio']]\n",
    "SF = SF.join(temp, on ='uFlow')\n",
    "\n",
    "\n",
    "# In[41]:\n",
    "\n",
    "## Duration of flow\n",
    "timeF = SF.groupby(['uFlow'],{\n",
    "        'startTime':gl.aggregate.MIN('Time'),\n",
    "        'endTime':gl.aggregate.MAX('Time')\n",
    "    })\n",
    "timeF['Duration'] = timeF['endTime'] - timeF['startTime']\n",
    "timeF = timeF[['uFlow','Duration']]\n",
    "SF = SF.join(timeF, on ='uFlow')\n",
    "\n",
    "\n",
    "# In[45]:\n",
    "\n",
    "sorted(SF.column_names())\n",
    "\n",
    "\n",
    "# In[50]:\n",
    "\n",
    "features = ['Answer RRs',\n",
    " 'BytesEx',\n",
    " 'Destination',\n",
    " 'Destination Port',\n",
    " 'Differentiated Services Field',\n",
    " 'Duration',\n",
    " 'FPL',\n",
    " 'IP_Flags',\n",
    " 'Info',\n",
    " 'Length',\n",
    " 'Next sequence number',\n",
    " 'No.',\n",
    " 'NumPackets',\n",
    " 'Protocol',\n",
    " 'Protocols in frame',\n",
    " 'SameLenPktRatio',\n",
    " 'Sequence number',\n",
    " 'Source',\n",
    " 'Source Port',\n",
    " 'StdDevLen',\n",
    " 'TCP Segment Len',\n",
    " 'Time',\n",
    " 'Time to live',\n",
    " 'isBot',\n",
    " 'tcp_Flags',\n",
    " 'uFlow',\n",
    " 'udp_Length']\n",
    "SF = SF[features]\n",
    "\n",
    "\n",
    "# In[52]:\n",
    "\n",
    "## Average packets per second\n",
    "temp =  SF.groupby(['uFlow'],{\n",
    "        'NumPackets':gl.aggregate.COUNT()\n",
    "    })\n",
    "temp = temp.join(timeF,on=['uFlow'])\n",
    "temp['AvgPktPerSec'] = temp.apply(lambda x:0.0 if x['Duration'] == 0.0 else x['NumPackets']*1.0/x['Duration'])\n",
    "temp = temp[['uFlow','AvgPktPerSec']]\n",
    "SF = SF.join(temp, on ='uFlow')\n",
    "\n",
    "\n",
    "# In[53]:\n",
    "\n",
    "##Average Bits Per Second\n",
    "temp = SF.groupby(['uFlow'],{\n",
    "        'BytesEx':gl.aggregate.SUM('Length')\n",
    "    })\n",
    "temp = temp.join(timeF,on=['uFlow'])\n",
    "temp['BitsPerSec'] = temp.apply(lambda x:0.0 if x['Duration'] == 0.0 else x['BytesEx']*8.0/x['Duration'])\n",
    "temp = temp[['uFlow','BitsPerSec']]\n",
    "SF = SF.join(temp, on ='uFlow')\n",
    "\n",
    "\n",
    "# In[55]:\n",
    "\n",
    "## Average Packet Lentgth\n",
    "temp = SF.groupby(['uFlow'],{\n",
    "        'APL':gl.aggregate.AVG('Length')\n",
    "    })\n",
    "SF = SF.join(temp, on ='uFlow')\n",
    "\n",
    "\n",
    "# In[ ]:\n",
    "\n",
    "## Number of Reconnects, sort FlowNo, SeqNo\n",
    "\n",
    "\n",
    "# In[56]:\n",
    "\n",
    "def tfn(x):\n",
    "    if 'udp' in x.split(':') or 'tcp' in x.split(':'):\n",
    "        return 1\n",
    "    return 0\n",
    "temp = list(SF['Protocols in frame'].apply(lambda x:tfn(x)))\n",
    "\n",
    "\n",
    "# In[57]:\n",
    "\n",
    "len(temp)\n",
    "\n",
    "\n",
    "# In[58]:\n",
    "\n",
    "sum(temp)\n",
    "\n",
    "\n",
    "# In[60]:\n",
    "\n",
    "\n",
    "\n",
    "# In[62]:\n",
    "\n",
    "print len(SF[SF['Protocols in frame']=='eth:ethertype:ip:icmp:ip:tcp:http:urlencoded-form']),len(SF[SF['Protocols in frame']=='eth:ethertype:ip:icmp:ip:tcp']),len(SF[SF['Protocols in frame']=='eth:ethertype:ip:icmp:ip:tcp:http:data'])\n",
    "\n",
    "\n",
    "# In[64]:\n",
    "\n",
    "## Inter arrival time\n",
    "SF['IAT'] = 0\n",
    "SF = SF.sort(['uFlow','Time'])\n",
    "prev = None\n",
    "prevT = None\n",
    "li = []\n",
    "for x in SF:\n",
    "    if prev is None or x['uFlow']!= prev:\n",
    "        li.append(0)\n",
    "    else:\n",
    "        li.append(x['Time']-prevT)        \n",
    "    prev = x['uFlow']\n",
    "    prevT = x['Time']\n",
    "SF['IAT'] = gl.SArray(li)\n",
    "\n",
    "\n",
    "# In[65]:\n",
    "\n",
    "len(SF)\n",
    "\n",
    "\n",
    "# In[66]:\n",
    "\n",
    "print len(SF[SF['Protocols in frame']=='eth:ipx'])\n",
    "\n",
    "\n",
    "# In[67]:\n",
    "\n",
    "SF.save('Train_Bot_features_till_IAT.csv')\n",
    "\n",
    "\n",
    "# # Is Null feature\n",
    "\n",
    "# ### Number of TCP Null packets\n",
    "\n",
    "# In[68]:\n",
    "\n",
    "\n",
    "# In[73]:\n",
    "\n",
    "## Null Packets handling\n",
    "def checkNull(x):\n",
    "    if(x['TCP Segment Len']=='0' or x['udp_Length']==8 ):\n",
    "        return 1\n",
    "    elif('ipx' in x['Protocols in frame'].split(':')):\n",
    "        l = x['Length'] - 30\n",
    "        if('eth' in x['Protocols in frame'].split(':')):\n",
    "            l = l - 14\n",
    "        if('ethtype' in x['Protocols in frame'].split(':')):\n",
    "            l = l - 2\n",
    "        if('llc' in x['Protocols in frame'].split(':')):\n",
    "            l = l - 8\n",
    "        if(l==0 or l==-1):\n",
    "            return 1\n",
    "    return 0\n",
    "\n",
    "\n",
    "# In[74]:\n",
    "\n",
    "SF['isNull'] = SF.apply(lambda x:checkNull(x))\n",
    "\n",
    "\n",
    "# In[75]:\n",
    "\n",
    "\n",
    "\n",
    "# In[76]:\n",
    "\n",
    "NPEx = SF.groupby(['uFlow'],{\n",
    "        'NPEx':gl.aggregate.SUM('isNull')\n",
    "    })\n",
    "SF = SF.join(NPEx, on ='uFlow')\n",
    "\n",
    "\n",
    "# ### Number of Reconnects - considering only TCP reconnects, using sequence number\n",
    "\n",
    "# In[ ]:\n",
    "\n",
    "\n",
    "\n",
    "# In[79]:\n",
    "\n",
    "recon = SF[SF['Sequence number']!=''].groupby(['uFlow'],{\n",
    "        'total_seq_no.' : gl.aggregate.COUNT('Sequence number'),\n",
    "        'distinct_seq_no.' : gl.aggregate.COUNT_DISTINCT('Sequence number')\n",
    "    })\n",
    "recon['reconnects'] = recon['total_seq_no.'] - recon['distinct_seq_no.']\n",
    "recon.head()\n",
    "recon = recon[['uFlow','reconnects']]\n",
    "SF = SF.join(recon,on='uFlow',how='left')\n",
    "len(SF)\n",
    "\n",
    "\n",
    "# In[81]:\n",
    "\n",
    "#To identify records where reconnect check was not applied like UDP etc\n",
    "SF.fillna('reconnects',-1)\n",
    "\n",
    "\n",
    "# In[ ]:\n",
    "\n",
    "#SF[SF['FlowNo.']==79732]['Info']\n",
    "\n",
    "\n",
    "# A lot of these reconnects can be simple retransmissions - due to out of order/timeout etcb\n",
    "\n",
    "# ### 22-10-2016\n",
    "\n",
    "# In[83]:\n",
    "\n",
    "\n",
    "\n",
    "# In[15]:\n",
    "\n",
    "print min(SF['Time']),max(SF['Time'])\n",
    "\n",
    "\n",
    "# # 28/10/16\n",
    "\n",
    "# Undirectional Flowscombining all features and labels\n",
    "\n",
    "# In[84]:\n",
    "\n",
    "\n",
    "# In[85]:\n",
    "\n",
    "SF.save('Train_Botnet_all_features.csv')\n",
    "\n",
    "\n",
    "# In[ ]:\n",
    "\n",
    "#sf_valid_train, sf_test = SF.random_split(.8, seed=5)\n",
    "#sf_valid, sf_train = sf_valid_train.random_split(.2, seed=5)\n",
    "#X_train, y_train = sf_train.drop('isBot'), sf_train['isBot']\n",
    "#X_valid, y_valid = sf_valid_train\n",
    "#X_train_valid, y_train_valid = X[:3475000], y[:3475000]\n",
    "#X_test, y_test = X[3475000:], y[3475000:]\n",
    "\n",
    "\n",
    "\n",
    "# In[89]:\n",
    "\n",
    "features = SF.column_names()\n",
    "\n",
    "Test = gl.SFrame.read_csv('Botnet_Testing_all_features.csv',verbose=False)\n",
    "\n",
    "models = []\n",
    "\n",
    "myfeatures = features\n",
    "for x in ['isBot','Answer RRs','Sequence number','No.','IP_Flags','Next sequence number','Protocols in frame','Time','tcp_Flags', 'uFlow','udp_Length']:\n",
    "    myfeatures.remove(x)\n",
    "    \n",
    "    \n",
    "SF = gl.cross_validation.shuffle(SF)\n",
    "Folds = gl.cross_validation.KFold(SF,5)\n",
    "    \n",
    "for train,val in Folds:\n",
    "    model = gl.boosted_trees_classifier.create(train,features=myfeatures,target='isBot',validation_set=val,max_iterations=20)\n",
    "    models.append(model)\n",
    "    \n",
    "pred = []\n",
    "for model in models:\n",
    "    temp = list(model.predict(Test))\n",
    "    pred.append(temp)\n",
    "    \n",
    "final = []\n",
    "for i in range(len(Test)):\n",
    "    count = 0\n",
    "    for j in range(5):\n",
    "        if pred[j][i] ==1:\n",
    "            count += 1\n",
    "    if count>2:\n",
    "        final.append(1)\n",
    "    else:\n",
    "        final.append(0)\n",
    "        \n",
    "print gl.toolkits.evaluation.auc(Test['isBot'],gl.SArray(final))\n",
    "print gl.toolkits.evaluation.accuracy(Test['isBot'],gl.SArray(final))\n",
    "print gl.toolkits.evaluation.confusion_matrix(Test['isBot'],gl.SArray(final))\n",
    "print gl.toolkits.evaluation.f1_score(Test['isBot'],gl.SArray(final))\n",
    "print gl.toolkits.evaluation.log_loss(Test['isBot'],gl.SArray(final))\n",
    "print gl.toolkits.evaluation.precision(Test['isBot'],gl.SArray(final))\n",
    "print gl.toolkits.evaluation.recall(Test['isBot'],gl.SArray(final))\n",
    "print gl.toolkits.evaluation.roc_curve(Test['isBot'],gl.SArray(final))\n",
    "print gl.toolkits.evaluation.roc_curve(Test['isBot'],gl.SArray(final))\n",
    "\n",
    "# In[90]:\n",
    "\n",
    "#myfeatures = features\n",
    "#for x in ['isBot','Answer RRs','Sequence number','No.','IP_Flags','Next sequence number','Protocols in frame','Time','tcp_Flags', 'uFlow','udp_Length']:\n",
    "#    myfeatures.remove(x)\n",
    "\n",
    "\n",
    "# In[92]:\n",
    "\n",
    "#train,val = SF.random_split(0.8)\n",
    "#model = gl.boosted_trees_classifier.create(train,features=myfeatures,target='isBot',validation_set=val)\n",
    "\n",
    "\n",
    "# In[94]:\n",
    "\n",
    "#print model.evaluate(train)\n",
    "#print model.evaluate(val)\n",
    "\n",
    "\n",
    "# #Train uncalibrated random forest classifier on whole train and validation\n",
    "# #data and evaluate on test data\n",
    "# clf = RandomForestClassifier(n_estimators=25)\n",
    "# clf.fit(X_train_valid, y_train_valid)\n",
    "# clf_probs = clf.predict_proba(X_test)\n",
    "# score = log_loss(y_test, clf_probs)\n",
    "# \n",
    "# #Train random forest classifier, calibrate on validation data and evaluate\n",
    "# #on test data\n",
    "# clf = RandomForestClassifier(n_estimators=25)\n",
    "# clf.fit(X_train, y_train)\n",
    "# clf_probs = clf.predict_proba(X_test)\n",
    "# sig_clf = CalibratedClassifierCV(clf, method=\"sigmoid\", cv=\"prefit\")\n",
    "# sig_clf.fit(X_valid, y_valid)\n",
    "# sig_clf_probs = sig_clf.predict_proba(X_test)\n",
    "# sig_score = log_loss(y_test, sig_clf_probs)\n",
    "# "
   ]
  },
  {
   "cell_type": "code",
   "execution_count": null,
   "metadata": {
    "collapsed": true
   },
   "outputs": [],
   "source": [
    "import graphlab as gl"
   ]
  },
  {
   "cell_type": "code",
   "execution_count": null,
   "metadata": {
    "collapsed": true
   },
   "outputs": [],
   "source": [
    "SF.save('Train_Botnet_all_features.csv')"
   ]
  },
  {
   "cell_type": "markdown",
   "metadata": {},
   "source": [
    "09/11/16"
   ]
  },
  {
   "cell_type": "code",
   "execution_count": 37,
   "metadata": {
    "collapsed": false
   },
   "outputs": [],
   "source": [
    "Test = gl.SFrame.read_csv('Botnet_Testing_all_features.csv',verbose=False)"
   ]
  },
  {
   "cell_type": "code",
   "execution_count": 4,
   "metadata": {
    "collapsed": false,
    "scrolled": true
   },
   "outputs": [
    {
     "data": {
      "text/plain": [
       "<bound method SFrame.column_names of Columns:\n",
       "\tAnswer RRs\tstr\n",
       "\tBytesEx\tint\n",
       "\tDestination\tstr\n",
       "\tDestination Port\tstr\n",
       "\tDifferentiated Services Field\tstr\n",
       "\tDuration\tfloat\n",
       "\tFPL\tint\n",
       "\tIP_Flags\tstr\n",
       "\tInfo\tstr\n",
       "\tLength\tint\n",
       "\tNext sequence number\tstr\n",
       "\tNo.\tint\n",
       "\tNumPackets\tint\n",
       "\tProtocol\tstr\n",
       "\tProtocols in frame\tstr\n",
       "\tSameLenPktRatio\tfloat\n",
       "\tSequence number\tstr\n",
       "\tSource\tstr\n",
       "\tSource Port\tstr\n",
       "\tStdDevLen\tfloat\n",
       "\tTCP Segment Len\tstr\n",
       "\tTime\tfloat\n",
       "\tTime to live\tint\n",
       "\tisBot\tint\n",
       "\ttcp_Flags\tint\n",
       "\tuFlow\tint\n",
       "\tudp_Length\tint\n",
       "\tAvgPktPerSec\tfloat\n",
       "\tBitsPerSec\tfloat\n",
       "\tAPL\tfloat\n",
       "\tIAT\tfloat\n",
       "\tisNull\tint\n",
       "\tNPEx\tint\n",
       "\treconnects\tstr\n",
       "\n",
       "Rows: 4676319\n",
       "\n",
       "Data:\n",
       "+------------+---------+-----------------+------------------+-------------------------------+\n",
       "| Answer RRs | BytesEx |   Destination   | Destination Port | Differentiated Services Field |\n",
       "+------------+---------+-----------------+------------------+-------------------------------+\n",
       "|            |   1522  | 255.255.255.255 |        67        |              0x00             |\n",
       "|            |   1522  | 255.255.255.255 |        67        |              0x00             |\n",
       "|            |   1522  | 255.255.255.255 |        67        |              0x00             |\n",
       "|            |   2702  | 255.255.255.255 |        67        |              0x00             |\n",
       "|            |   2702  | 255.255.255.255 |        67        |              0x00             |\n",
       "|            |   2702  | 255.255.255.255 |        67        |              0x00             |\n",
       "|            |   2702  | 255.255.255.255 |        67        |              0x00             |\n",
       "|            |   2702  | 255.255.255.255 |        67        |              0x00             |\n",
       "|            |   684   | 255.255.255.255 |        67        |              0x00             |\n",
       "|            |   684   | 255.255.255.255 |        67        |              0x00             |\n",
       "+------------+---------+-----------------+------------------+-------------------------------+\n",
       "+----------+-----+----------+-------------------------------+--------+----------------------+\n",
       "| Duration | FPL | IP_Flags |              Info             | Length | Next sequence number |\n",
       "+----------+-----+----------+-------------------------------+--------+----------------------+\n",
       "| 662.964  | 590 |   0x00   | Boot Request from 00:60:b0... |  590   |                      |\n",
       "| 662.964  | 590 |   0x00   | Boot Request from 00:60:b0... |  590   |                      |\n",
       "| 662.964  | 590 |   0x00   | Boot Request from d4:be:d9... |  342   |                      |\n",
       "| 4292.18  | 590 |   0x02   | Boot Request from 08:00:37... |  590   |                      |\n",
       "| 4292.18  | 590 |   0x02   | Boot Request from 08:00:37... |  590   |                      |\n",
       "| 4292.18  | 590 |   0x00   | Boot Request from 00:60:b0... |  590   |                      |\n",
       "| 4292.18  | 590 |   0x00   | Boot Request from 00:60:b0... |  590   |                      |\n",
       "| 4292.18  | 590 |   0x00   | Boot Request from 00:1e:4f... |  342   |                      |\n",
       "| 625.142  | 342 |   0x00   | Boot Request from d4:be:d9... |  342   |                      |\n",
       "| 625.142  | 342 |   0x00   | Boot Request from d4:be:d9... |  342   |                      |\n",
       "+----------+-----+----------+-------------------------------+--------+----------------------+\n",
       "+---------+------------+----------+----------------------------+-----------------+\n",
       "|   No.   | NumPackets | Protocol |     Protocols in frame     | SameLenPktRatio |\n",
       "+---------+------------+----------+----------------------------+-----------------+\n",
       "| 1106514 |     3      |  BOOTP   | eth:ethertype:ip:udp:bootp |     0.666667    |\n",
       "| 1106522 |     3      |  BOOTP   | eth:ethertype:ip:udp:bootp |     0.666667    |\n",
       "| 1110137 |     3      |  BOOTP   | eth:ethertype:ip:udp:bootp |     0.666667    |\n",
       "| 1113750 |     5      |  BOOTP   | eth:ethertype:ip:udp:bootp |       0.4       |\n",
       "| 1113756 |     5      |  BOOTP   | eth:ethertype:ip:udp:bootp |       0.4       |\n",
       "| 1113759 |     5      |  BOOTP   | eth:ethertype:ip:udp:bootp |       0.4       |\n",
       "| 1113763 |     5      |  BOOTP   | eth:ethertype:ip:udp:bootp |       0.4       |\n",
       "| 1133020 |     5      |  BOOTP   | eth:ethertype:ip:udp:bootp |       0.4       |\n",
       "| 1172869 |     2      |  BOOTP   | eth:ethertype:ip:udp:bootp |       0.5       |\n",
       "| 1175634 |     2      |  BOOTP   | eth:ethertype:ip:udp:bootp |       0.5       |\n",
       "+---------+------------+----------+----------------------------+-----------------+\n",
       "+-----------------+---------+-------------+-----------+-----+\n",
       "| Sequence number |  Source | Source Port | StdDevLen | ... |\n",
       "+-----------------+---------+-------------+-----------+-----+\n",
       "|                 | 0.0.0.0 |      68     |  116.908  | ... |\n",
       "|                 | 0.0.0.0 |      68     |  116.908  | ... |\n",
       "|                 | 0.0.0.0 |      68     |  116.908  | ... |\n",
       "|                 | 0.0.0.0 |      68     |    99.2   | ... |\n",
       "|                 | 0.0.0.0 |      68     |    99.2   | ... |\n",
       "|                 | 0.0.0.0 |      68     |    99.2   | ... |\n",
       "|                 | 0.0.0.0 |      68     |    99.2   | ... |\n",
       "|                 | 0.0.0.0 |      68     |    99.2   | ... |\n",
       "|                 | 0.0.0.0 |      68     |    0.0    | ... |\n",
       "|                 | 0.0.0.0 |      68     |    0.0    | ... |\n",
       "+-----------------+---------+-------------+-----------+-----+\n",
       "[4676319 rows x 34 columns]\n",
       "Note: Only the head of the SFrame is printed.\n",
       "You can use print_rows(num_rows=m, num_columns=n) to print more rows and columns.>"
      ]
     },
     "execution_count": 4,
     "metadata": {},
     "output_type": "execute_result"
    }
   ],
   "source": [
    "Test.column_names"
   ]
  },
  {
   "cell_type": "code",
   "execution_count": 38,
   "metadata": {
    "collapsed": false
   },
   "outputs": [],
   "source": [
    "Test = Test.groupby('uFlow',{\n",
    "        'Answer RRs': gl.aggregate.SELECT_ONE('Answer RRs'),\n",
    "        'BytesEx' : gl.aggregate.SELECT_ONE('BytesEx'),\n",
    "        'Destination' : gl.aggregate.SELECT_ONE('Destination'),\n",
    "        'Destination Port' : gl.aggregate.SELECT_ONE('Destination Port'),\n",
    "        'Differentiated Services Field' : gl.aggregate.SELECT_ONE('Differentiated Services Field'),\n",
    "        'Duration' : gl.aggregate.SELECT_ONE('Duration'),\n",
    "        'FPL' : gl.aggregate.SELECT_ONE('FPL'),\n",
    "        'IP_Flags' : gl.aggregate.SELECT_ONE('IP_Flags'),\n",
    "        'Info' : gl.aggregate.SELECT_ONE('Info'),\n",
    "        'Length' : gl.aggregate.SELECT_ONE('Length'),\n",
    "        'Next sequence number' : gl.aggregate.SELECT_ONE('Next sequence number'),\n",
    "        'No.' : gl.aggregate.SELECT_ONE('No.'),\n",
    "        'NumPackets' : gl.aggregate.SELECT_ONE('NumPackets'),\n",
    "        'Protocol' : gl.aggregate.SELECT_ONE('Protocol'),\n",
    "        'Protocols in frame' : gl.aggregate.SELECT_ONE('Protocols in frame'),\n",
    "        'SameLenPktRatio' : gl.aggregate.SELECT_ONE('SameLenPktRatio'),\n",
    "        'Sequence number' : gl.aggregate.SELECT_ONE('Sequence number'),\n",
    "        'Source' : gl.aggregate.SELECT_ONE('Source'),\n",
    "        'Source Port' : gl.aggregate.SELECT_ONE('Source Port'),\n",
    "        'StdDevLen' : gl.aggregate.SELECT_ONE('StdDevLen'),\n",
    "        'IAT' : gl.aggregate.SELECT_ONE('IAT'),\n",
    "        'isNull' : gl.aggregate.SELECT_ONE('isNull'),\n",
    "        'NPEx' : gl.aggregate.SELECT_ONE('NPEx'),\n",
    "        'reconnects' : gl.aggregate.SELECT_ONE('reconnects'),\n",
    "        'APL' : gl.aggregate.SELECT_ONE('APL'),\n",
    "        'BitsPerSec' : gl.aggregate.SELECT_ONE('BitsPerSec'),\n",
    "        'AvgPktPerSec' : gl.aggregate.SELECT_ONE('AvgPktPerSec'),\n",
    "        'udp_Length' : gl.aggregate.SELECT_ONE('udp_Length'),\n",
    "        'tcp_Flags' : gl.aggregate.SELECT_ONE('tcp_Flags'),\n",
    "        'isBot' : gl.aggregate.SELECT_ONE('isBot'),\n",
    "        'Time to live' : gl.aggregate.SELECT_ONE('Time to live'),\n",
    "        'Time' : gl.aggregate.SELECT_ONE('Time'),\n",
    "        'TCP Segment Len' : gl.aggregate.SELECT_ONE('TCP Segment Len')\n",
    "    })\n",
    "\n"
   ]
  },
  {
   "cell_type": "code",
   "execution_count": 39,
   "metadata": {
    "collapsed": true
   },
   "outputs": [],
   "source": [
    "myfeatures = Test.column_names()\n",
    "for x in ['isBot','Answer RRs','Sequence number','No.','IP_Flags','Next sequence number','Protocols in frame','Time','tcp_Flags', 'uFlow','udp_Length','Info','isNull','Length','TCP Segment Len','Time to live']:\n",
    "    myfeatures.remove(x)"
   ]
  },
  {
   "cell_type": "code",
   "execution_count": 5,
   "metadata": {
    "collapsed": false
   },
   "outputs": [
    {
     "data": {
      "text/plain": [
       "['Destination',\n",
       " 'APL',\n",
       " 'AvgPktPerSec',\n",
       " 'Destination Port',\n",
       " 'Differentiated Services Field',\n",
       " 'Source',\n",
       " 'IAT',\n",
       " 'reconnects',\n",
       " 'Protocol',\n",
       " 'BytesEx',\n",
       " 'BitsPerSec',\n",
       " 'NumPackets',\n",
       " 'Source Port',\n",
       " 'StdDevLen',\n",
       " 'SameLenPktRatio',\n",
       " 'FPL',\n",
       " 'Duration',\n",
       " 'NPEx']"
      ]
     },
     "execution_count": 5,
     "metadata": {},
     "output_type": "execute_result"
    }
   ],
   "source": [
    "myfeatures"
   ]
  },
  {
   "cell_type": "code",
   "execution_count": 40,
   "metadata": {
    "collapsed": true
   },
   "outputs": [],
   "source": [
    "iplist = [\n",
    "    \"147.32.84.180\",\n",
    "    \"147.32.84.170\",\n",
    "    \"147.32.84.150\",\n",
    "    \"147.32.84.140\",\n",
    "    \"147.32.84.130\",\n",
    "    \"147.32.84.160\",\n",
    "    \"10.0.2.15\",\n",
    "    \"192.168.106.141\",\n",
    "    \"192.168.106.131\",\n",
    "    \"172.16.253.130\",\n",
    "    \"172.16.253.131\",\n",
    "    \"172.16.253.129\",\n",
    "    \"172.16.253.240\",\n",
    "    \"74.78.117.238\",\n",
    "    \"158.65.110.24\",\n",
    "    \"192.168.3.35\",\n",
    "    \"192.168.3.25\",\n",
    "    \"192.168.3.65\",\n",
    "    \"172.29.0.116\",\n",
    "    \"172.29.0.109\",\n",
    "    \"172.16.253.132\",\n",
    "    \"192.168.248.165\",\n",
    "    \"10.37.130.4\",\n",
    "    \"131.202.243.84\", \n",
    "    \"198.164.30.2\", \"192.168.5.122\", \n",
    "    \"192.168.5.122\", \n",
    "    \"192.168.5.122\", \"192.168.5.122\", \"192.168.5.122\", \n",
    "    \"192.168.2.110\", \n",
    "    \"192.168.4.120\", \"192.168.1.103\",\n",
    "    \"192.168.2.113\", \"192.168.4.118\" , \"192.168.2.109\", \"192.168.2.105\", \"192.168.5.122\"]\n",
    "\n",
    "MasterBot = [ (\"192.168.2.112\", \"131.202.243.84\"), (\"192.168.5.122\", \"198.164.30.2\"), (\"192.168.2.110\", \"192.168.5.122\"),( \"192.168.4.118\", \"192.168.5.122\"), (\"192.168.2.113\", \"192.168.5.122\"), (\"192.168.1.103\", \"192.168.5.122\"), (\"192.168.4.120\", \"192.168.5.122\"), (\"192.168.2.112\", \"192.168.2.110\"), (\"192.168.2.112\", \"192.168.4.120\"), (\"192.168.2.112\", \"192.168.1.103\"), (\"192.168.2.112\", \"192.168.2.113\"), (\"192.168.2.112\", \"192.168.4.118\"), (\"192.168.2.112\", \"192.168.2.109\"), (\"192.168.2.112\", \"192.168.2.105\"), (\"192.168.1.105\", \"192.168.5.122\")]\n",
    "\n",
    "iplist = gl.SArray(iplist)\n",
    "iplist = iplist.unique() \n",
    "iplist = list(iplist)\n",
    "\n",
    "def fcheckIP(x):\n",
    "    if x['Source'] in iplist:\n",
    "        return 1\n",
    "    else:\n",
    "        if ((x['Source'],x['Destination'])  in MasterBot ) or ((x['Destination'],x['Source'])  in MasterBot ) :\n",
    "            return 1\n",
    "        else:\n",
    "            return 0\n",
    "        \n",
    "\n",
    "Test['isBot'] = Test[['Source','Destination']].apply(lambda x: fcheckIP(x))"
   ]
  },
  {
   "cell_type": "code",
   "execution_count": 41,
   "metadata": {
    "collapsed": false
   },
   "outputs": [],
   "source": [
    "Train = gl.SFrame.read_csv('Train_Botnet_all_features.csv',verbose = False)"
   ]
  },
  {
   "cell_type": "code",
   "execution_count": 42,
   "metadata": {
    "collapsed": true
   },
   "outputs": [],
   "source": [
    "Train = Train.groupby('uFlow',{\n",
    "        'Answer RRs': gl.aggregate.SELECT_ONE('Answer RRs'),\n",
    "        'BytesEx' : gl.aggregate.SELECT_ONE('BytesEx'),\n",
    "        'Destination' : gl.aggregate.SELECT_ONE('Destination'),\n",
    "        'Destination Port' : gl.aggregate.SELECT_ONE('Destination Port'),\n",
    "        'Differentiated Services Field' : gl.aggregate.SELECT_ONE('Differentiated Services Field'),\n",
    "        'Duration' : gl.aggregate.SELECT_ONE('Duration'),\n",
    "        'FPL' : gl.aggregate.SELECT_ONE('FPL'),\n",
    "        'IP_Flags' : gl.aggregate.SELECT_ONE('IP_Flags'),\n",
    "        'Info' : gl.aggregate.SELECT_ONE('Info'),\n",
    "        'Length' : gl.aggregate.SELECT_ONE('Length'),\n",
    "        'Next sequence number' : gl.aggregate.SELECT_ONE('Next sequence number'),\n",
    "        'No.' : gl.aggregate.SELECT_ONE('No.'),\n",
    "        'NumPackets' : gl.aggregate.SELECT_ONE('NumPackets'),\n",
    "        'Protocol' : gl.aggregate.SELECT_ONE('Protocol'),\n",
    "        'Protocols in frame' : gl.aggregate.SELECT_ONE('Protocols in frame'),\n",
    "        'SameLenPktRatio' : gl.aggregate.SELECT_ONE('SameLenPktRatio'),\n",
    "        'Sequence number' : gl.aggregate.SELECT_ONE('Sequence number'),\n",
    "        'Source' : gl.aggregate.SELECT_ONE('Source'),\n",
    "        'Source Port' : gl.aggregate.SELECT_ONE('Source Port'),\n",
    "        'StdDevLen' : gl.aggregate.SELECT_ONE('StdDevLen'),\n",
    "        'IAT' : gl.aggregate.SELECT_ONE('IAT'),\n",
    "        'isNull' : gl.aggregate.SELECT_ONE('isNull'),\n",
    "        'NPEx' : gl.aggregate.SELECT_ONE('NPEx'),\n",
    "        'reconnects' : gl.aggregate.SELECT_ONE('reconnects'),\n",
    "        'APL' : gl.aggregate.SELECT_ONE('APL'),\n",
    "        'BitsPerSec' : gl.aggregate.SELECT_ONE('BitsPerSec'),\n",
    "        'AvgPktPerSec' : gl.aggregate.SELECT_ONE('AvgPktPerSec'),\n",
    "        'udp_Length' : gl.aggregate.SELECT_ONE('udp_Length'),\n",
    "        'tcp_Flags' : gl.aggregate.SELECT_ONE('tcp_Flags'),\n",
    "        'isBot' : gl.aggregate.SELECT_ONE('isBot'),\n",
    "        'Time to live' : gl.aggregate.SELECT_ONE('Time to live'),\n",
    "        'Time' : gl.aggregate.SELECT_ONE('Time'),\n",
    "        'TCP Segment Len' : gl.aggregate.SELECT_ONE('TCP Segment Len')\n",
    "    })\n",
    "\n"
   ]
  },
  {
   "cell_type": "code",
   "execution_count": 43,
   "metadata": {
    "collapsed": false
   },
   "outputs": [
    {
     "data": {
      "text/plain": [
       "(689661, 586601)"
      ]
     },
     "execution_count": 43,
     "metadata": {},
     "output_type": "execute_result"
    }
   ],
   "source": [
    "len(Train), len(Test)"
   ]
  },
  {
   "cell_type": "code",
   "execution_count": 44,
   "metadata": {
    "collapsed": true
   },
   "outputs": [],
   "source": [
    "for col in ['Source Port','Destination Port']:\n",
    "    Train[col] = Train[col].apply(lambda x: str(x))\n",
    "    Test[col] = Test[col].apply(lambda x: str(x))"
   ]
  },
  {
   "cell_type": "code",
   "execution_count": null,
   "metadata": {
    "collapsed": true
   },
   "outputs": [],
   "source": [
    "#checking with optimum features found in ISCX paper\n",
    "myfeatures = "
   ]
  },
  {
   "cell_type": "code",
   "execution_count": 11,
   "metadata": {
    "collapsed": false
   },
   "outputs": [
    {
     "name": "stdout",
     "output_type": "stream",
     "text": [
      "Starting Fold  1\n"
     ]
    },
    {
     "data": {
      "text/html": [
       "<pre>Boosted trees classifier:</pre>"
      ],
      "text/plain": [
       "Boosted trees classifier:"
      ]
     },
     "metadata": {},
     "output_type": "display_data"
    },
    {
     "data": {
      "text/html": [
       "<pre>--------------------------------------------------------</pre>"
      ],
      "text/plain": [
       "--------------------------------------------------------"
      ]
     },
     "metadata": {},
     "output_type": "display_data"
    },
    {
     "data": {
      "text/html": [
       "<pre>Number of examples          : 551728</pre>"
      ],
      "text/plain": [
       "Number of examples          : 551728"
      ]
     },
     "metadata": {},
     "output_type": "display_data"
    },
    {
     "data": {
      "text/html": [
       "<pre>Number of classes           : 2</pre>"
      ],
      "text/plain": [
       "Number of classes           : 2"
      ]
     },
     "metadata": {},
     "output_type": "display_data"
    },
    {
     "data": {
      "text/html": [
       "<pre>Number of feature columns   : 18</pre>"
      ],
      "text/plain": [
       "Number of feature columns   : 18"
      ]
     },
     "metadata": {},
     "output_type": "display_data"
    },
    {
     "data": {
      "text/html": [
       "<pre>Number of unpacked features : 18</pre>"
      ],
      "text/plain": [
       "Number of unpacked features : 18"
      ]
     },
     "metadata": {},
     "output_type": "display_data"
    },
    {
     "data": {
      "text/html": [
       "<pre>+-----------+--------------+-------------------+---------------------+-------------------+---------------------+</pre>"
      ],
      "text/plain": [
       "+-----------+--------------+-------------------+---------------------+-------------------+---------------------+"
      ]
     },
     "metadata": {},
     "output_type": "display_data"
    },
    {
     "data": {
      "text/html": [
       "<pre>| Iteration | Elapsed Time | Training-accuracy | Validation-accuracy | Training-log_loss | Validation-log_loss |</pre>"
      ],
      "text/plain": [
       "| Iteration | Elapsed Time | Training-accuracy | Validation-accuracy | Training-log_loss | Validation-log_loss |"
      ]
     },
     "metadata": {},
     "output_type": "display_data"
    },
    {
     "data": {
      "text/html": [
       "<pre>+-----------+--------------+-------------------+---------------------+-------------------+---------------------+</pre>"
      ],
      "text/plain": [
       "+-----------+--------------+-------------------+---------------------+-------------------+---------------------+"
      ]
     },
     "metadata": {},
     "output_type": "display_data"
    },
    {
     "data": {
      "text/html": [
       "<pre>| 1         | 0.539576     | 0.907331          | 0.907093            | 0.506110          | 0.505958            |</pre>"
      ],
      "text/plain": [
       "| 1         | 0.539576     | 0.907331          | 0.907093            | 0.506110          | 0.505958            |"
      ]
     },
     "metadata": {},
     "output_type": "display_data"
    },
    {
     "data": {
      "text/html": [
       "<pre>| 2         | 0.993754     | 0.949705          | 0.949613            | 0.394384          | 0.394347            |</pre>"
      ],
      "text/plain": [
       "| 2         | 0.993754     | 0.949705          | 0.949613            | 0.394384          | 0.394347            |"
      ]
     },
     "metadata": {},
     "output_type": "display_data"
    },
    {
     "data": {
      "text/html": [
       "<pre>| 3         | 1.465834     | 0.993821          | 0.993722            | 0.319722          | 0.319567            |</pre>"
      ],
      "text/plain": [
       "| 3         | 1.465834     | 0.993821          | 0.993722            | 0.319722          | 0.319567            |"
      ]
     },
     "metadata": {},
     "output_type": "display_data"
    },
    {
     "data": {
      "text/html": [
       "<pre>| 4         | 1.901778     | 0.974812          | 0.974611            | 0.268305          | 0.267972            |</pre>"
      ],
      "text/plain": [
       "| 4         | 1.901778     | 0.974812          | 0.974611            | 0.268305          | 0.267972            |"
      ]
     },
     "metadata": {},
     "output_type": "display_data"
    },
    {
     "data": {
      "text/html": [
       "<pre>| 5         | 2.329488     | 0.979234          | 0.979316            | 0.228867          | 0.228521            |</pre>"
      ],
      "text/plain": [
       "| 5         | 2.329488     | 0.979234          | 0.979316            | 0.228867          | 0.228521            |"
      ]
     },
     "metadata": {},
     "output_type": "display_data"
    },
    {
     "data": {
      "text/html": [
       "<pre>| 6         | 2.786485     | 0.995086          | 0.995085            | 0.197710          | 0.197313            |</pre>"
      ],
      "text/plain": [
       "| 6         | 2.786485     | 0.995086          | 0.995085            | 0.197710          | 0.197313            |"
      ]
     },
     "metadata": {},
     "output_type": "display_data"
    },
    {
     "data": {
      "text/html": [
       "<pre>| 10        | 4.497048     | 0.997617          | 0.997513            | 0.113906          | 0.113856            |</pre>"
      ],
      "text/plain": [
       "| 10        | 4.497048     | 0.997617          | 0.997513            | 0.113906          | 0.113856            |"
      ]
     },
     "metadata": {},
     "output_type": "display_data"
    },
    {
     "data": {
      "text/html": [
       "<pre>| 11        | 4.886059     | 0.997018          | 0.997013            | 0.099595          | 0.099553            |</pre>"
      ],
      "text/plain": [
       "| 11        | 4.886059     | 0.997018          | 0.997013            | 0.099595          | 0.099553            |"
      ]
     },
     "metadata": {},
     "output_type": "display_data"
    },
    {
     "data": {
      "text/html": [
       "<pre>| 15        | 6.567174     | 0.995086          | 0.995085            | 0.062886          | 0.062953            |</pre>"
      ],
      "text/plain": [
       "| 15        | 6.567174     | 0.995086          | 0.995085            | 0.062886          | 0.062953            |"
      ]
     },
     "metadata": {},
     "output_type": "display_data"
    },
    {
     "data": {
      "text/html": [
       "<pre>| 20        | 8.697421     | 0.999681          | 0.999645            | 0.031970          | 0.031977            |</pre>"
      ],
      "text/plain": [
       "| 20        | 8.697421     | 0.999681          | 0.999645            | 0.031970          | 0.031977            |"
      ]
     },
     "metadata": {},
     "output_type": "display_data"
    },
    {
     "data": {
      "text/html": [
       "<pre>+-----------+--------------+-------------------+---------------------+-------------------+---------------------+</pre>"
      ],
      "text/plain": [
       "+-----------+--------------+-------------------+---------------------+-------------------+---------------------+"
      ]
     },
     "metadata": {},
     "output_type": "display_data"
    },
    {
     "name": "stdout",
     "output_type": "stream",
     "text": [
      "Done Fold  1\n",
      "Starting Fold  2\n"
     ]
    },
    {
     "data": {
      "text/html": [
       "<pre>Boosted trees classifier:</pre>"
      ],
      "text/plain": [
       "Boosted trees classifier:"
      ]
     },
     "metadata": {},
     "output_type": "display_data"
    },
    {
     "data": {
      "text/html": [
       "<pre>--------------------------------------------------------</pre>"
      ],
      "text/plain": [
       "--------------------------------------------------------"
      ]
     },
     "metadata": {},
     "output_type": "display_data"
    },
    {
     "data": {
      "text/html": [
       "<pre>Number of examples          : 551729</pre>"
      ],
      "text/plain": [
       "Number of examples          : 551729"
      ]
     },
     "metadata": {},
     "output_type": "display_data"
    },
    {
     "data": {
      "text/html": [
       "<pre>Number of classes           : 2</pre>"
      ],
      "text/plain": [
       "Number of classes           : 2"
      ]
     },
     "metadata": {},
     "output_type": "display_data"
    },
    {
     "data": {
      "text/html": [
       "<pre>Number of feature columns   : 18</pre>"
      ],
      "text/plain": [
       "Number of feature columns   : 18"
      ]
     },
     "metadata": {},
     "output_type": "display_data"
    },
    {
     "data": {
      "text/html": [
       "<pre>Number of unpacked features : 18</pre>"
      ],
      "text/plain": [
       "Number of unpacked features : 18"
      ]
     },
     "metadata": {},
     "output_type": "display_data"
    },
    {
     "data": {
      "text/html": [
       "<pre>+-----------+--------------+-------------------+---------------------+-------------------+---------------------+</pre>"
      ],
      "text/plain": [
       "+-----------+--------------+-------------------+---------------------+-------------------+---------------------+"
      ]
     },
     "metadata": {},
     "output_type": "display_data"
    },
    {
     "data": {
      "text/html": [
       "<pre>| Iteration | Elapsed Time | Training-accuracy | Validation-accuracy | Training-log_loss | Validation-log_loss |</pre>"
      ],
      "text/plain": [
       "| Iteration | Elapsed Time | Training-accuracy | Validation-accuracy | Training-log_loss | Validation-log_loss |"
      ]
     },
     "metadata": {},
     "output_type": "display_data"
    },
    {
     "data": {
      "text/html": [
       "<pre>+-----------+--------------+-------------------+---------------------+-------------------+---------------------+</pre>"
      ],
      "text/plain": [
       "+-----------+--------------+-------------------+---------------------+-------------------+---------------------+"
      ]
     },
     "metadata": {},
     "output_type": "display_data"
    },
    {
     "data": {
      "text/html": [
       "<pre>| 1         | 0.563458     | 0.907068          | 0.908143            | 0.506181          | 0.505986            |</pre>"
      ],
      "text/plain": [
       "| 1         | 0.563458     | 0.907068          | 0.908143            | 0.506181          | 0.505986            |"
      ]
     },
     "metadata": {},
     "output_type": "display_data"
    },
    {
     "data": {
      "text/html": [
       "<pre>| 2         | 1.017025     | 0.949557          | 0.950207            | 0.394502          | 0.394245            |</pre>"
      ],
      "text/plain": [
       "| 2         | 1.017025     | 0.949557          | 0.950207            | 0.394502          | 0.394245            |"
      ]
     },
     "metadata": {},
     "output_type": "display_data"
    },
    {
     "data": {
      "text/html": [
       "<pre>| 3         | 1.421512     | 0.993732          | 0.994077            | 0.319862          | 0.319539            |</pre>"
      ],
      "text/plain": [
       "| 3         | 1.421512     | 0.993732          | 0.994077            | 0.319862          | 0.319539            |"
      ]
     },
     "metadata": {},
     "output_type": "display_data"
    },
    {
     "data": {
      "text/html": [
       "<pre>| 4         | 1.867069     | 0.974774          | 0.974763            | 0.268367          | 0.268193            |</pre>"
      ],
      "text/plain": [
       "| 4         | 1.867069     | 0.974774          | 0.974763            | 0.268367          | 0.268193            |"
      ]
     },
     "metadata": {},
     "output_type": "display_data"
    },
    {
     "data": {
      "text/html": [
       "<pre>| 5         | 2.301648     | 0.979180          | 0.979533            | 0.228965          | 0.228686            |</pre>"
      ],
      "text/plain": [
       "| 5         | 2.301648     | 0.979180          | 0.979533            | 0.228965          | 0.228686            |"
      ]
     },
     "metadata": {},
     "output_type": "display_data"
    },
    {
     "data": {
      "text/html": [
       "<pre>| 6         | 2.729392     | 0.995043          | 0.995259            | 0.197768          | 0.197575            |</pre>"
      ],
      "text/plain": [
       "| 6         | 2.729392     | 0.995043          | 0.995259            | 0.197768          | 0.197575            |"
      ]
     },
     "metadata": {},
     "output_type": "display_data"
    },
    {
     "data": {
      "text/html": [
       "<pre>| 10        | 4.438100     | 0.997575          | 0.997680            | 0.114046          | 0.113790            |</pre>"
      ],
      "text/plain": [
       "| 10        | 4.438100     | 0.997575          | 0.997680            | 0.114046          | 0.113790            |"
      ]
     },
     "metadata": {},
     "output_type": "display_data"
    },
    {
     "data": {
      "text/html": [
       "<pre>| 11        | 4.854308     | 0.996989          | 0.997129            | 0.099703          | 0.099523            |</pre>"
      ],
      "text/plain": [
       "| 11        | 4.854308     | 0.996989          | 0.997129            | 0.099703          | 0.099523            |"
      ]
     },
     "metadata": {},
     "output_type": "display_data"
    },
    {
     "data": {
      "text/html": [
       "<pre>| 15        | 6.769947     | 0.995043          | 0.995259            | 0.063040          | 0.062667            |</pre>"
      ],
      "text/plain": [
       "| 15        | 6.769947     | 0.995043          | 0.995259            | 0.063040          | 0.062667            |"
      ]
     },
     "metadata": {},
     "output_type": "display_data"
    },
    {
     "data": {
      "text/html": [
       "<pre>| 20        | 8.946394     | 0.999663          | 0.999717            | 0.032053          | 0.031849            |</pre>"
      ],
      "text/plain": [
       "| 20        | 8.946394     | 0.999663          | 0.999717            | 0.032053          | 0.031849            |"
      ]
     },
     "metadata": {},
     "output_type": "display_data"
    },
    {
     "data": {
      "text/html": [
       "<pre>+-----------+--------------+-------------------+---------------------+-------------------+---------------------+</pre>"
      ],
      "text/plain": [
       "+-----------+--------------+-------------------+---------------------+-------------------+---------------------+"
      ]
     },
     "metadata": {},
     "output_type": "display_data"
    },
    {
     "name": "stdout",
     "output_type": "stream",
     "text": [
      "Done Fold  2\n",
      "Starting Fold  3\n"
     ]
    },
    {
     "data": {
      "text/html": [
       "<pre>Boosted trees classifier:</pre>"
      ],
      "text/plain": [
       "Boosted trees classifier:"
      ]
     },
     "metadata": {},
     "output_type": "display_data"
    },
    {
     "data": {
      "text/html": [
       "<pre>--------------------------------------------------------</pre>"
      ],
      "text/plain": [
       "--------------------------------------------------------"
      ]
     },
     "metadata": {},
     "output_type": "display_data"
    },
    {
     "data": {
      "text/html": [
       "<pre>Number of examples          : 551729</pre>"
      ],
      "text/plain": [
       "Number of examples          : 551729"
      ]
     },
     "metadata": {},
     "output_type": "display_data"
    },
    {
     "data": {
      "text/html": [
       "<pre>Number of classes           : 2</pre>"
      ],
      "text/plain": [
       "Number of classes           : 2"
      ]
     },
     "metadata": {},
     "output_type": "display_data"
    },
    {
     "data": {
      "text/html": [
       "<pre>Number of feature columns   : 18</pre>"
      ],
      "text/plain": [
       "Number of feature columns   : 18"
      ]
     },
     "metadata": {},
     "output_type": "display_data"
    },
    {
     "data": {
      "text/html": [
       "<pre>Number of unpacked features : 18</pre>"
      ],
      "text/plain": [
       "Number of unpacked features : 18"
      ]
     },
     "metadata": {},
     "output_type": "display_data"
    },
    {
     "data": {
      "text/html": [
       "<pre>+-----------+--------------+-------------------+---------------------+-------------------+---------------------+</pre>"
      ],
      "text/plain": [
       "+-----------+--------------+-------------------+---------------------+-------------------+---------------------+"
      ]
     },
     "metadata": {},
     "output_type": "display_data"
    },
    {
     "data": {
      "text/html": [
       "<pre>| Iteration | Elapsed Time | Training-accuracy | Validation-accuracy | Training-log_loss | Validation-log_loss |</pre>"
      ],
      "text/plain": [
       "| Iteration | Elapsed Time | Training-accuracy | Validation-accuracy | Training-log_loss | Validation-log_loss |"
      ]
     },
     "metadata": {},
     "output_type": "display_data"
    },
    {
     "data": {
      "text/html": [
       "<pre>+-----------+--------------+-------------------+---------------------+-------------------+---------------------+</pre>"
      ],
      "text/plain": [
       "+-----------+--------------+-------------------+---------------------+-------------------+---------------------+"
      ]
     },
     "metadata": {},
     "output_type": "display_data"
    },
    {
     "data": {
      "text/html": [
       "<pre>| 1         | 0.499382     | 0.907342          | 0.907048            | 0.506046          | 0.506264            |</pre>"
      ],
      "text/plain": [
       "| 1         | 0.499382     | 0.907342          | 0.907048            | 0.506046          | 0.506264            |"
      ]
     },
     "metadata": {},
     "output_type": "display_data"
    },
    {
     "data": {
      "text/html": [
       "<pre>| 2         | 1.008439     | 0.949702          | 0.949627            | 0.394440          | 0.394344            |</pre>"
      ],
      "text/plain": [
       "| 2         | 1.008439     | 0.949702          | 0.949627            | 0.394440          | 0.394344            |"
      ]
     },
     "metadata": {},
     "output_type": "display_data"
    },
    {
     "data": {
      "text/html": [
       "<pre>| 3         | 1.424171     | 0.993872          | 0.993519            | 0.319705          | 0.319864            |</pre>"
      ],
      "text/plain": [
       "| 3         | 1.424171     | 0.993872          | 0.993519            | 0.319705          | 0.319864            |"
      ]
     },
     "metadata": {},
     "output_type": "display_data"
    },
    {
     "data": {
      "text/html": [
       "<pre>| 4         | 1.874852     | 0.974721          | 0.974973            | 0.268153          | 0.268686            |</pre>"
      ],
      "text/plain": [
       "| 4         | 1.874852     | 0.974721          | 0.974973            | 0.268153          | 0.268686            |"
      ]
     },
     "metadata": {},
     "output_type": "display_data"
    },
    {
     "data": {
      "text/html": [
       "<pre>| 5         | 2.276838     | 0.979269          | 0.979178            | 0.228753          | 0.229130            |</pre>"
      ],
      "text/plain": [
       "| 5         | 2.276838     | 0.979269          | 0.979178            | 0.228753          | 0.229130            |"
      ]
     },
     "metadata": {},
     "output_type": "display_data"
    },
    {
     "data": {
      "text/html": [
       "<pre>| 6         | 2.699282     | 0.995150          | 0.994831            | 0.197513          | 0.198184            |</pre>"
      ],
      "text/plain": [
       "| 6         | 2.699282     | 0.995150          | 0.994831            | 0.197513          | 0.198184            |"
      ]
     },
     "metadata": {},
     "output_type": "display_data"
    },
    {
     "data": {
      "text/html": [
       "<pre>| 10        | 4.378725     | 0.997617          | 0.997513            | 0.113830          | 0.114267            |</pre>"
      ],
      "text/plain": [
       "| 10        | 4.378725     | 0.997617          | 0.997513            | 0.113830          | 0.114267            |"
      ]
     },
     "metadata": {},
     "output_type": "display_data"
    },
    {
     "data": {
      "text/html": [
       "<pre>| 11        | 4.843006     | 0.997062          | 0.996839            | 0.099529          | 0.099893            |</pre>"
      ],
      "text/plain": [
       "| 11        | 4.843006     | 0.997062          | 0.996839            | 0.099529          | 0.099893            |"
      ]
     },
     "metadata": {},
     "output_type": "display_data"
    },
    {
     "data": {
      "text/html": [
       "<pre>| 15        | 6.531416     | 0.995150          | 0.994831            | 0.062795          | 0.063344            |</pre>"
      ],
      "text/plain": [
       "| 15        | 6.531416     | 0.995150          | 0.994831            | 0.062795          | 0.063344            |"
      ]
     },
     "metadata": {},
     "output_type": "display_data"
    },
    {
     "data": {
      "text/html": [
       "<pre>| 20        | 8.625845     | 0.999686          | 0.999623            | 0.031905          | 0.032236            |</pre>"
      ],
      "text/plain": [
       "| 20        | 8.625845     | 0.999686          | 0.999623            | 0.031905          | 0.032236            |"
      ]
     },
     "metadata": {},
     "output_type": "display_data"
    },
    {
     "data": {
      "text/html": [
       "<pre>+-----------+--------------+-------------------+---------------------+-------------------+---------------------+</pre>"
      ],
      "text/plain": [
       "+-----------+--------------+-------------------+---------------------+-------------------+---------------------+"
      ]
     },
     "metadata": {},
     "output_type": "display_data"
    },
    {
     "name": "stdout",
     "output_type": "stream",
     "text": [
      "Done Fold  3\n",
      "Starting Fold  4\n"
     ]
    },
    {
     "data": {
      "text/html": [
       "<pre>Boosted trees classifier:</pre>"
      ],
      "text/plain": [
       "Boosted trees classifier:"
      ]
     },
     "metadata": {},
     "output_type": "display_data"
    },
    {
     "data": {
      "text/html": [
       "<pre>--------------------------------------------------------</pre>"
      ],
      "text/plain": [
       "--------------------------------------------------------"
      ]
     },
     "metadata": {},
     "output_type": "display_data"
    },
    {
     "data": {
      "text/html": [
       "<pre>Number of examples          : 551729</pre>"
      ],
      "text/plain": [
       "Number of examples          : 551729"
      ]
     },
     "metadata": {},
     "output_type": "display_data"
    },
    {
     "data": {
      "text/html": [
       "<pre>Number of classes           : 2</pre>"
      ],
      "text/plain": [
       "Number of classes           : 2"
      ]
     },
     "metadata": {},
     "output_type": "display_data"
    },
    {
     "data": {
      "text/html": [
       "<pre>Number of feature columns   : 18</pre>"
      ],
      "text/plain": [
       "Number of feature columns   : 18"
      ]
     },
     "metadata": {},
     "output_type": "display_data"
    },
    {
     "data": {
      "text/html": [
       "<pre>Number of unpacked features : 18</pre>"
      ],
      "text/plain": [
       "Number of unpacked features : 18"
      ]
     },
     "metadata": {},
     "output_type": "display_data"
    },
    {
     "data": {
      "text/html": [
       "<pre>+-----------+--------------+-------------------+---------------------+-------------------+---------------------+</pre>"
      ],
      "text/plain": [
       "+-----------+--------------+-------------------+---------------------+-------------------+---------------------+"
      ]
     },
     "metadata": {},
     "output_type": "display_data"
    },
    {
     "data": {
      "text/html": [
       "<pre>| Iteration | Elapsed Time | Training-accuracy | Validation-accuracy | Training-log_loss | Validation-log_loss |</pre>"
      ],
      "text/plain": [
       "| Iteration | Elapsed Time | Training-accuracy | Validation-accuracy | Training-log_loss | Validation-log_loss |"
      ]
     },
     "metadata": {},
     "output_type": "display_data"
    },
    {
     "data": {
      "text/html": [
       "<pre>+-----------+--------------+-------------------+---------------------+-------------------+---------------------+</pre>"
      ],
      "text/plain": [
       "+-----------+--------------+-------------------+---------------------+-------------------+---------------------+"
      ]
     },
     "metadata": {},
     "output_type": "display_data"
    },
    {
     "data": {
      "text/html": [
       "<pre>| 1         | 0.469691     | 0.907319          | 0.907143            | 0.506065          | 0.506254            |</pre>"
      ],
      "text/plain": [
       "| 1         | 0.469691     | 0.907319          | 0.907143            | 0.506065          | 0.506254            |"
      ]
     },
     "metadata": {},
     "output_type": "display_data"
    },
    {
     "data": {
      "text/html": [
       "<pre>| 2         | 0.884215     | 0.949671          | 0.949751            | 0.394400          | 0.394471            |</pre>"
      ],
      "text/plain": [
       "| 2         | 0.884215     | 0.949671          | 0.949751            | 0.394400          | 0.394471            |"
      ]
     },
     "metadata": {},
     "output_type": "display_data"
    },
    {
     "data": {
      "text/html": [
       "<pre>| 3         | 1.327673     | 0.993819          | 0.993729            | 0.319693          | 0.319848            |</pre>"
      ],
      "text/plain": [
       "| 3         | 1.327673     | 0.993819          | 0.993729            | 0.319693          | 0.319848            |"
      ]
     },
     "metadata": {},
     "output_type": "display_data"
    },
    {
     "data": {
      "text/html": [
       "<pre>| 4         | 1.787458     | 0.974768          | 0.974785            | 0.268290          | 0.268190            |</pre>"
      ],
      "text/plain": [
       "| 4         | 1.787458     | 0.974768          | 0.974785            | 0.268290          | 0.268190            |"
      ]
     },
     "metadata": {},
     "output_type": "display_data"
    },
    {
     "data": {
      "text/html": [
       "<pre>| 5         | 2.192849     | 0.979292          | 0.979084            | 0.228819          | 0.228858            |</pre>"
      ],
      "text/plain": [
       "| 5         | 2.192849     | 0.979292          | 0.979084            | 0.228819          | 0.228858            |"
      ]
     },
     "metadata": {},
     "output_type": "display_data"
    },
    {
     "data": {
      "text/html": [
       "<pre>| 6         | 2.633345     | 0.995083          | 0.995099            | 0.197668          | 0.197601            |</pre>"
      ],
      "text/plain": [
       "| 6         | 2.633345     | 0.995083          | 0.995099            | 0.197668          | 0.197601            |"
      ]
     },
     "metadata": {},
     "output_type": "display_data"
    },
    {
     "data": {
      "text/html": [
       "<pre>| 10        | 4.300294     | 0.997589          | 0.997622            | 0.113942          | 0.113857            |</pre>"
      ],
      "text/plain": [
       "| 10        | 4.300294     | 0.997589          | 0.997622            | 0.113942          | 0.113857            |"
      ]
     },
     "metadata": {},
     "output_type": "display_data"
    },
    {
     "data": {
      "text/html": [
       "<pre>| 11        | 4.729513     | 0.997018          | 0.997013            | 0.099635          | 0.099524            |</pre>"
      ],
      "text/plain": [
       "| 11        | 4.729513     | 0.997018          | 0.997013            | 0.099635          | 0.099524            |"
      ]
     },
     "metadata": {},
     "output_type": "display_data"
    },
    {
     "data": {
      "text/html": [
       "<pre>| 15        | 6.406346     | 0.995083          | 0.995099            | 0.062940          | 0.062837            |</pre>"
      ],
      "text/plain": [
       "| 15        | 6.406346     | 0.995083          | 0.995099            | 0.062940          | 0.062837            |"
      ]
     },
     "metadata": {},
     "output_type": "display_data"
    },
    {
     "data": {
      "text/html": [
       "<pre>| 20        | 8.650209     | 0.999670          | 0.999688            | 0.031992          | 0.031927            |</pre>"
      ],
      "text/plain": [
       "| 20        | 8.650209     | 0.999670          | 0.999688            | 0.031992          | 0.031927            |"
      ]
     },
     "metadata": {},
     "output_type": "display_data"
    },
    {
     "data": {
      "text/html": [
       "<pre>+-----------+--------------+-------------------+---------------------+-------------------+---------------------+</pre>"
      ],
      "text/plain": [
       "+-----------+--------------+-------------------+---------------------+-------------------+---------------------+"
      ]
     },
     "metadata": {},
     "output_type": "display_data"
    },
    {
     "name": "stdout",
     "output_type": "stream",
     "text": [
      "Done Fold  4\n",
      "Starting Fold  5\n"
     ]
    },
    {
     "data": {
      "text/html": [
       "<pre>Boosted trees classifier:</pre>"
      ],
      "text/plain": [
       "Boosted trees classifier:"
      ]
     },
     "metadata": {},
     "output_type": "display_data"
    },
    {
     "data": {
      "text/html": [
       "<pre>--------------------------------------------------------</pre>"
      ],
      "text/plain": [
       "--------------------------------------------------------"
      ]
     },
     "metadata": {},
     "output_type": "display_data"
    },
    {
     "data": {
      "text/html": [
       "<pre>Number of examples          : 551729</pre>"
      ],
      "text/plain": [
       "Number of examples          : 551729"
      ]
     },
     "metadata": {},
     "output_type": "display_data"
    },
    {
     "data": {
      "text/html": [
       "<pre>Number of classes           : 2</pre>"
      ],
      "text/plain": [
       "Number of classes           : 2"
      ]
     },
     "metadata": {},
     "output_type": "display_data"
    },
    {
     "data": {
      "text/html": [
       "<pre>Number of feature columns   : 18</pre>"
      ],
      "text/plain": [
       "Number of feature columns   : 18"
      ]
     },
     "metadata": {},
     "output_type": "display_data"
    },
    {
     "data": {
      "text/html": [
       "<pre>Number of unpacked features : 18</pre>"
      ],
      "text/plain": [
       "Number of unpacked features : 18"
      ]
     },
     "metadata": {},
     "output_type": "display_data"
    },
    {
     "data": {
      "text/html": [
       "<pre>+-----------+--------------+-------------------+---------------------+-------------------+---------------------+</pre>"
      ],
      "text/plain": [
       "+-----------+--------------+-------------------+---------------------+-------------------+---------------------+"
      ]
     },
     "metadata": {},
     "output_type": "display_data"
    },
    {
     "data": {
      "text/html": [
       "<pre>| Iteration | Elapsed Time | Training-accuracy | Validation-accuracy | Training-log_loss | Validation-log_loss |</pre>"
      ],
      "text/plain": [
       "| Iteration | Elapsed Time | Training-accuracy | Validation-accuracy | Training-log_loss | Validation-log_loss |"
      ]
     },
     "metadata": {},
     "output_type": "display_data"
    },
    {
     "data": {
      "text/html": [
       "<pre>+-----------+--------------+-------------------+---------------------+-------------------+---------------------+</pre>"
      ],
      "text/plain": [
       "+-----------+--------------+-------------------+---------------------+-------------------+---------------------+"
      ]
     },
     "metadata": {},
     "output_type": "display_data"
    },
    {
     "data": {
      "text/html": [
       "<pre>| 1         | 0.465478     | 0.907357          | 0.906990            | 0.506121          | 0.506065            |</pre>"
      ],
      "text/plain": [
       "| 1         | 0.465478     | 0.907357          | 0.906990            | 0.506121          | 0.506065            |"
      ]
     },
     "metadata": {},
     "output_type": "display_data"
    },
    {
     "data": {
      "text/html": [
       "<pre>| 2         | 0.876545     | 0.949800          | 0.949236            | 0.394305          | 0.394626            |</pre>"
      ],
      "text/plain": [
       "| 2         | 0.876545     | 0.949800          | 0.949236            | 0.394305          | 0.394626            |"
      ]
     },
     "metadata": {},
     "output_type": "display_data"
    },
    {
     "data": {
      "text/html": [
       "<pre>| 3         | 1.304805     | 0.993761          | 0.993961            | 0.319663          | 0.319829            |</pre>"
      ],
      "text/plain": [
       "| 3         | 1.304805     | 0.993761          | 0.993961            | 0.319663          | 0.319829            |"
      ]
     },
     "metadata": {},
     "output_type": "display_data"
    },
    {
     "data": {
      "text/html": [
       "<pre>| 4         | 1.740330     | 0.974783          | 0.974727            | 0.268234          | 0.268310            |</pre>"
      ],
      "text/plain": [
       "| 4         | 1.740330     | 0.974783          | 0.974727            | 0.268234          | 0.268310            |"
      ]
     },
     "metadata": {},
     "output_type": "display_data"
    },
    {
     "data": {
      "text/html": [
       "<pre>| 5         | 2.181062     | 0.979278          | 0.979142            | 0.228762          | 0.228975            |</pre>"
      ],
      "text/plain": [
       "| 5         | 2.181062     | 0.979278          | 0.979142            | 0.228762          | 0.228975            |"
      ]
     },
     "metadata": {},
     "output_type": "display_data"
    },
    {
     "data": {
      "text/html": [
       "<pre>| 6         | 2.606573     | 0.995068          | 0.995157            | 0.197646          | 0.197637            |</pre>"
      ],
      "text/plain": [
       "| 6         | 2.606573     | 0.995068          | 0.995157            | 0.197646          | 0.197637            |"
      ]
     },
     "metadata": {},
     "output_type": "display_data"
    },
    {
     "data": {
      "text/html": [
       "<pre>| 10        | 4.247667     | 0.997582          | 0.997651            | 0.113923          | 0.113879            |</pre>"
      ],
      "text/plain": [
       "| 10        | 4.247667     | 0.997582          | 0.997651            | 0.113923          | 0.113879            |"
      ]
     },
     "metadata": {},
     "output_type": "display_data"
    },
    {
     "data": {
      "text/html": [
       "<pre>| 11        | 4.668077     | 0.996999          | 0.997093            | 0.099607          | 0.099579            |</pre>"
      ],
      "text/plain": [
       "| 11        | 4.668077     | 0.996999          | 0.997093            | 0.099607          | 0.099579            |"
      ]
     },
     "metadata": {},
     "output_type": "display_data"
    },
    {
     "data": {
      "text/html": [
       "<pre>| 15        | 6.314178     | 0.995068          | 0.995157            | 0.062940          | 0.062801            |</pre>"
      ],
      "text/plain": [
       "| 15        | 6.314178     | 0.995068          | 0.995157            | 0.062940          | 0.062801            |"
      ]
     },
     "metadata": {},
     "output_type": "display_data"
    },
    {
     "data": {
      "text/html": [
       "<pre>| 20        | 8.408789     | 0.999668          | 0.999695            | 0.031994          | 0.031926            |</pre>"
      ],
      "text/plain": [
       "| 20        | 8.408789     | 0.999668          | 0.999695            | 0.031994          | 0.031926            |"
      ]
     },
     "metadata": {},
     "output_type": "display_data"
    },
    {
     "data": {
      "text/html": [
       "<pre>+-----------+--------------+-------------------+---------------------+-------------------+---------------------+</pre>"
      ],
      "text/plain": [
       "+-----------+--------------+-------------------+---------------------+-------------------+---------------------+"
      ]
     },
     "metadata": {},
     "output_type": "display_data"
    },
    {
     "name": "stdout",
     "output_type": "stream",
     "text": [
      "Done Fold  5\n",
      "0.74437957321\n",
      "0.82907973222\n",
      "+--------------+-----------------+--------+\n",
      "| target_label | predicted_label | count  |\n",
      "+--------------+-----------------+--------+\n",
      "|      1       |        1        | 95853  |\n",
      "|      1       |        0        | 100262 |\n",
      "|      0       |        0        | 390486 |\n",
      "+--------------+-----------------+--------+\n",
      "[3 rows x 3 columns]\n",
      "\n",
      "0.656599353354\n",
      "5.90337691021\n",
      "1.0\n",
      "0.488759146419\n",
      "+-----------+-----+----------------+--------+--------+\n",
      "| threshold | fpr |      tpr       |   p    |   n    |\n",
      "+-----------+-----+----------------+--------+--------+\n",
      "|    0.0    | 1.0 |      1.0       | 196115 | 390486 |\n",
      "|   1e-05   | 0.0 | 0.488759146419 | 196115 | 390486 |\n",
      "|   2e-05   | 0.0 | 0.488759146419 | 196115 | 390486 |\n",
      "|   3e-05   | 0.0 | 0.488759146419 | 196115 | 390486 |\n",
      "|   4e-05   | 0.0 | 0.488759146419 | 196115 | 390486 |\n",
      "|   5e-05   | 0.0 | 0.488759146419 | 196115 | 390486 |\n",
      "|   6e-05   | 0.0 | 0.488759146419 | 196115 | 390486 |\n",
      "|   7e-05   | 0.0 | 0.488759146419 | 196115 | 390486 |\n",
      "|   8e-05   | 0.0 | 0.488759146419 | 196115 | 390486 |\n",
      "|   9e-05   | 0.0 | 0.488759146419 | 196115 | 390486 |\n",
      "+-----------+-----+----------------+--------+--------+\n",
      "[100001 rows x 5 columns]\n",
      "Note: Only the head of the SFrame is printed.\n",
      "You can use print_rows(num_rows=m, num_columns=n) to print more rows and columns.\n",
      "+-----------+-----+----------------+--------+--------+\n",
      "| threshold | fpr |      tpr       |   p    |   n    |\n",
      "+-----------+-----+----------------+--------+--------+\n",
      "|    0.0    | 1.0 |      1.0       | 196115 | 390486 |\n",
      "|   1e-05   | 0.0 | 0.488759146419 | 196115 | 390486 |\n",
      "|   2e-05   | 0.0 | 0.488759146419 | 196115 | 390486 |\n",
      "|   3e-05   | 0.0 | 0.488759146419 | 196115 | 390486 |\n",
      "|   4e-05   | 0.0 | 0.488759146419 | 196115 | 390486 |\n",
      "|   5e-05   | 0.0 | 0.488759146419 | 196115 | 390486 |\n",
      "|   6e-05   | 0.0 | 0.488759146419 | 196115 | 390486 |\n",
      "|   7e-05   | 0.0 | 0.488759146419 | 196115 | 390486 |\n",
      "|   8e-05   | 0.0 | 0.488759146419 | 196115 | 390486 |\n",
      "|   9e-05   | 0.0 | 0.488759146419 | 196115 | 390486 |\n",
      "+-----------+-----+----------------+--------+--------+\n",
      "[100001 rows x 5 columns]\n",
      "Note: Only the head of the SFrame is printed.\n",
      "You can use print_rows(num_rows=m, num_columns=n) to print more rows and columns.\n"
     ]
    }
   ],
   "source": [
    "\n",
    "models = []\n",
    "  \n",
    "    \n",
    "Train = gl.cross_validation.shuffle(Train)\n",
    "Folds = gl.cross_validation.KFold(Train,5)\n",
    "i= 1    \n",
    "for train,val in Folds:\n",
    "    print \"Starting Fold \",i\n",
    "    model = gl.boosted_trees_classifier.create(train,features=myfeatures,target='isBot',validation_set=val,verbose=True,max_iterations=20)\n",
    "    models.append(model)\n",
    "    print \"Done Fold \",i\n",
    "    i=i+1\n",
    "    \n",
    "pred = []\n",
    "for model in models:\n",
    "    temp = list(model.predict(Test))\n",
    "    pred.append(temp)\n",
    "    \n",
    "final = []\n",
    "for i in range(len(Test)):\n",
    "    count = 0\n",
    "    for j in range(5):\n",
    "        if pred[j][i] ==1:\n",
    "            count += 1\n",
    "    if count>2:\n",
    "        final.append(1)\n",
    "    else:\n",
    "        final.append(0)\n",
    "        \n",
    "print gl.toolkits.evaluation.auc(Test['isBot'],gl.SArray(final))\n",
    "print gl.toolkits.evaluation.accuracy(Test['isBot'],gl.SArray(final))\n",
    "print gl.toolkits.evaluation.confusion_matrix(Test['isBot'],gl.SArray(final))\n",
    "print gl.toolkits.evaluation.f1_score(Test['isBot'],gl.SArray(final))\n",
    "print gl.toolkits.evaluation.log_loss(Test['isBot'],gl.SArray(final))\n",
    "print gl.toolkits.evaluation.precision(Test['isBot'],gl.SArray(final))\n",
    "print gl.toolkits.evaluation.recall(Test['isBot'],gl.SArray(final))\n",
    "print gl.toolkits.evaluation.roc_curve(Test['isBot'],gl.SArray(final))\n",
    "print gl.toolkits.evaluation.roc_curve(Test['isBot'],gl.SArray(final))\n"
   ]
  },
  {
   "cell_type": "code",
   "execution_count": 14,
   "metadata": {
    "collapsed": false
   },
   "outputs": [
    {
     "data": {
      "text/html": [
       "<div style=\"max-height:1000px;max-width:1500px;overflow:auto;\"><table frame=\"box\" rules=\"cols\">\n",
       "    <tr>\n",
       "        <th style=\"padding-left: 1em; padding-right: 1em; text-align: center\">uFlow</th>\n",
       "        <th style=\"padding-left: 1em; padding-right: 1em; text-align: center\">Info</th>\n",
       "        <th style=\"padding-left: 1em; padding-right: 1em; text-align: center\">udp_Length</th>\n",
       "        <th style=\"padding-left: 1em; padding-right: 1em; text-align: center\">Destination</th>\n",
       "        <th style=\"padding-left: 1em; padding-right: 1em; text-align: center\">APL</th>\n",
       "        <th style=\"padding-left: 1em; padding-right: 1em; text-align: center\">AvgPktPerSec</th>\n",
       "        <th style=\"padding-left: 1em; padding-right: 1em; text-align: center\">Destination Port</th>\n",
       "        <th style=\"padding-left: 1em; padding-right: 1em; text-align: center\">Answer RRs</th>\n",
       "    </tr>\n",
       "    <tr>\n",
       "        <td style=\"padding-left: 1em; padding-right: 1em; text-align: center; vertical-align: top\">504649</td>\n",
       "        <td style=\"padding-left: 1em; padding-right: 1em; text-align: center; vertical-align: top\">80  &gt;  4228 [ACK] Seq=455<br>Ack=405 Win=6432 Len=0 ...</td>\n",
       "        <td style=\"padding-left: 1em; padding-right: 1em; text-align: center; vertical-align: top\">None</td>\n",
       "        <td style=\"padding-left: 1em; padding-right: 1em; text-align: center; vertical-align: top\">147.32.84.180</td>\n",
       "        <td style=\"padding-left: 1em; padding-right: 1em; text-align: center; vertical-align: top\">60.0</td>\n",
       "        <td style=\"padding-left: 1em; padding-right: 1em; text-align: center; vertical-align: top\">0.0</td>\n",
       "        <td style=\"padding-left: 1em; padding-right: 1em; text-align: center; vertical-align: top\">4228</td>\n",
       "        <td style=\"padding-left: 1em; padding-right: 1em; text-align: center; vertical-align: top\"></td>\n",
       "    </tr>\n",
       "    <tr>\n",
       "        <td style=\"padding-left: 1em; padding-right: 1em; text-align: center; vertical-align: top\">211023</td>\n",
       "        <td style=\"padding-left: 1em; padding-right: 1em; text-align: center; vertical-align: top\">Dropbox LAN sync<br>Discovery Protocol ...</td>\n",
       "        <td style=\"padding-left: 1em; padding-right: 1em; text-align: center; vertical-align: top\">129</td>\n",
       "        <td style=\"padding-left: 1em; padding-right: 1em; text-align: center; vertical-align: top\">255.255.255.255</td>\n",
       "        <td style=\"padding-left: 1em; padding-right: 1em; text-align: center; vertical-align: top\">163.0</td>\n",
       "        <td style=\"padding-left: 1em; padding-right: 1em; text-align: center; vertical-align: top\">0.0416477</td>\n",
       "        <td style=\"padding-left: 1em; padding-right: 1em; text-align: center; vertical-align: top\">17500</td>\n",
       "        <td style=\"padding-left: 1em; padding-right: 1em; text-align: center; vertical-align: top\"></td>\n",
       "    </tr>\n",
       "    <tr>\n",
       "        <td style=\"padding-left: 1em; padding-right: 1em; text-align: center; vertical-align: top\">442699</td>\n",
       "        <td style=\"padding-left: 1em; padding-right: 1em; text-align: center; vertical-align: top\">80  &gt;  46234 [SYN, ACK]<br>Seq=0 Ack=1 Win=14480 ...</td>\n",
       "        <td style=\"padding-left: 1em; padding-right: 1em; text-align: center; vertical-align: top\">None</td>\n",
       "        <td style=\"padding-left: 1em; padding-right: 1em; text-align: center; vertical-align: top\">158.65.110.24</td>\n",
       "        <td style=\"padding-left: 1em; padding-right: 1em; text-align: center; vertical-align: top\">68.6667</td>\n",
       "        <td style=\"padding-left: 1em; padding-right: 1em; text-align: center; vertical-align: top\">19.8305</td>\n",
       "        <td style=\"padding-left: 1em; padding-right: 1em; text-align: center; vertical-align: top\">46234</td>\n",
       "        <td style=\"padding-left: 1em; padding-right: 1em; text-align: center; vertical-align: top\"></td>\n",
       "    </tr>\n",
       "    <tr>\n",
       "        <td style=\"padding-left: 1em; padding-right: 1em; text-align: center; vertical-align: top\">79732</td>\n",
       "        <td style=\"padding-left: 1em; padding-right: 1em; text-align: center; vertical-align: top\">[TCP Out-Of-Order] 1440<br>&gt;  587 [FIN, ACK] ...</td>\n",
       "        <td style=\"padding-left: 1em; padding-right: 1em; text-align: center; vertical-align: top\">None</td>\n",
       "        <td style=\"padding-left: 1em; padding-right: 1em; text-align: center; vertical-align: top\">64.12.168.40</td>\n",
       "        <td style=\"padding-left: 1em; padding-right: 1em; text-align: center; vertical-align: top\">60.0</td>\n",
       "        <td style=\"padding-left: 1em; padding-right: 1em; text-align: center; vertical-align: top\">0.0</td>\n",
       "        <td style=\"padding-left: 1em; padding-right: 1em; text-align: center; vertical-align: top\">587</td>\n",
       "        <td style=\"padding-left: 1em; padding-right: 1em; text-align: center; vertical-align: top\"></td>\n",
       "    </tr>\n",
       "    <tr>\n",
       "        <td style=\"padding-left: 1em; padding-right: 1em; text-align: center; vertical-align: top\">506386</td>\n",
       "        <td style=\"padding-left: 1em; padding-right: 1em; text-align: center; vertical-align: top\">80  &gt;  1648 [SYN, ACK]<br>Seq=0 Ack=1 Win=5840 ...</td>\n",
       "        <td style=\"padding-left: 1em; padding-right: 1em; text-align: center; vertical-align: top\">None</td>\n",
       "        <td style=\"padding-left: 1em; padding-right: 1em; text-align: center; vertical-align: top\">147.32.84.180</td>\n",
       "        <td style=\"padding-left: 1em; padding-right: 1em; text-align: center; vertical-align: top\">351.2</td>\n",
       "        <td style=\"padding-left: 1em; padding-right: 1em; text-align: center; vertical-align: top\">42.8938</td>\n",
       "        <td style=\"padding-left: 1em; padding-right: 1em; text-align: center; vertical-align: top\">1648</td>\n",
       "        <td style=\"padding-left: 1em; padding-right: 1em; text-align: center; vertical-align: top\"></td>\n",
       "    </tr>\n",
       "    <tr>\n",
       "        <td style=\"padding-left: 1em; padding-right: 1em; text-align: center; vertical-align: top\">333842</td>\n",
       "        <td style=\"padding-left: 1em; padding-right: 1em; text-align: center; vertical-align: top\">443  &gt;  14062 [RST, ACK]<br>Seq=1 Ack=1 Win=0 Len=0 ...</td>\n",
       "        <td style=\"padding-left: 1em; padding-right: 1em; text-align: center; vertical-align: top\">None</td>\n",
       "        <td style=\"padding-left: 1em; padding-right: 1em; text-align: center; vertical-align: top\">147.32.84.160</td>\n",
       "        <td style=\"padding-left: 1em; padding-right: 1em; text-align: center; vertical-align: top\">60.0</td>\n",
       "        <td style=\"padding-left: 1em; padding-right: 1em; text-align: center; vertical-align: top\">0.0</td>\n",
       "        <td style=\"padding-left: 1em; padding-right: 1em; text-align: center; vertical-align: top\">14062</td>\n",
       "        <td style=\"padding-left: 1em; padding-right: 1em; text-align: center; vertical-align: top\"></td>\n",
       "    </tr>\n",
       "    <tr>\n",
       "        <td style=\"padding-left: 1em; padding-right: 1em; text-align: center; vertical-align: top\">7899</td>\n",
       "        <td style=\"padding-left: 1em; padding-right: 1em; text-align: center; vertical-align: top\">Standard query response<br>0x03df MX content.nl MX ...</td>\n",
       "        <td style=\"padding-left: 1em; padding-right: 1em; text-align: center; vertical-align: top\">159</td>\n",
       "        <td style=\"padding-left: 1em; padding-right: 1em; text-align: center; vertical-align: top\">172.16.2.11</td>\n",
       "        <td style=\"padding-left: 1em; padding-right: 1em; text-align: center; vertical-align: top\">193.0</td>\n",
       "        <td style=\"padding-left: 1em; padding-right: 1em; text-align: center; vertical-align: top\">0.0</td>\n",
       "        <td style=\"padding-left: 1em; padding-right: 1em; text-align: center; vertical-align: top\">22703</td>\n",
       "        <td style=\"padding-left: 1em; padding-right: 1em; text-align: center; vertical-align: top\">4</td>\n",
       "    </tr>\n",
       "    <tr>\n",
       "        <td style=\"padding-left: 1em; padding-right: 1em; text-align: center; vertical-align: top\">25263</td>\n",
       "        <td style=\"padding-left: 1em; padding-right: 1em; text-align: center; vertical-align: top\">Standard query response<br>0xd5e4 A smtp.aol.com ...</td>\n",
       "        <td style=\"padding-left: 1em; padding-right: 1em; text-align: center; vertical-align: top\">156</td>\n",
       "        <td style=\"padding-left: 1em; padding-right: 1em; text-align: center; vertical-align: top\">147.32.84.180</td>\n",
       "        <td style=\"padding-left: 1em; padding-right: 1em; text-align: center; vertical-align: top\">308.615</td>\n",
       "        <td style=\"padding-left: 1em; padding-right: 1em; text-align: center; vertical-align: top\">0.104199</td>\n",
       "        <td style=\"padding-left: 1em; padding-right: 1em; text-align: center; vertical-align: top\">1099</td>\n",
       "        <td style=\"padding-left: 1em; padding-right: 1em; text-align: center; vertical-align: top\">3</td>\n",
       "    </tr>\n",
       "    <tr>\n",
       "        <td style=\"padding-left: 1em; padding-right: 1em; text-align: center; vertical-align: top\">453182</td>\n",
       "        <td style=\"padding-left: 1em; padding-right: 1em; text-align: center; vertical-align: top\">80  &gt;  38642 [SYN, ACK]<br>Seq=0 Ack=1 Win=14480 ...</td>\n",
       "        <td style=\"padding-left: 1em; padding-right: 1em; text-align: center; vertical-align: top\">None</td>\n",
       "        <td style=\"padding-left: 1em; padding-right: 1em; text-align: center; vertical-align: top\">158.65.110.24</td>\n",
       "        <td style=\"padding-left: 1em; padding-right: 1em; text-align: center; vertical-align: top\">68.6667</td>\n",
       "        <td style=\"padding-left: 1em; padding-right: 1em; text-align: center; vertical-align: top\">2.1148</td>\n",
       "        <td style=\"padding-left: 1em; padding-right: 1em; text-align: center; vertical-align: top\">38642</td>\n",
       "        <td style=\"padding-left: 1em; padding-right: 1em; text-align: center; vertical-align: top\"></td>\n",
       "    </tr>\n",
       "    <tr>\n",
       "        <td style=\"padding-left: 1em; padding-right: 1em; text-align: center; vertical-align: top\">87629</td>\n",
       "        <td style=\"padding-left: 1em; padding-right: 1em; text-align: center; vertical-align: top\">12514  &gt;  25 [SYN] Seq=0<br>Win=64240 Len=0 MSS=1460 ...</td>\n",
       "        <td style=\"padding-left: 1em; padding-right: 1em; text-align: center; vertical-align: top\">None</td>\n",
       "        <td style=\"padding-left: 1em; padding-right: 1em; text-align: center; vertical-align: top\">94.100.176.20</td>\n",
       "        <td style=\"padding-left: 1em; padding-right: 1em; text-align: center; vertical-align: top\">62.0</td>\n",
       "        <td style=\"padding-left: 1em; padding-right: 1em; text-align: center; vertical-align: top\">0.669568</td>\n",
       "        <td style=\"padding-left: 1em; padding-right: 1em; text-align: center; vertical-align: top\">25</td>\n",
       "        <td style=\"padding-left: 1em; padding-right: 1em; text-align: center; vertical-align: top\"></td>\n",
       "    </tr>\n",
       "</table>\n",
       "<table frame=\"box\" rules=\"cols\">\n",
       "    <tr>\n",
       "        <th style=\"padding-left: 1em; padding-right: 1em; text-align: center\">TCP Segment Len</th>\n",
       "        <th style=\"padding-left: 1em; padding-right: 1em; text-align: center\">Differentiated Services<br>Field ...</th>\n",
       "        <th style=\"padding-left: 1em; padding-right: 1em; text-align: center\">Source</th>\n",
       "        <th style=\"padding-left: 1em; padding-right: 1em; text-align: center\">Length</th>\n",
       "        <th style=\"padding-left: 1em; padding-right: 1em; text-align: center\">Time</th>\n",
       "        <th style=\"padding-left: 1em; padding-right: 1em; text-align: center\">IAT</th>\n",
       "        <th style=\"padding-left: 1em; padding-right: 1em; text-align: center\">reconnects</th>\n",
       "        <th style=\"padding-left: 1em; padding-right: 1em; text-align: center\">tcp_Flags</th>\n",
       "    </tr>\n",
       "    <tr>\n",
       "        <td style=\"padding-left: 1em; padding-right: 1em; text-align: center; vertical-align: top\">0</td>\n",
       "        <td style=\"padding-left: 1em; padding-right: 1em; text-align: center; vertical-align: top\">0x00</td>\n",
       "        <td style=\"padding-left: 1em; padding-right: 1em; text-align: center; vertical-align: top\">217.163.21.36</td>\n",
       "        <td style=\"padding-left: 1em; padding-right: 1em; text-align: center; vertical-align: top\">60</td>\n",
       "        <td style=\"padding-left: 1em; padding-right: 1em; text-align: center; vertical-align: top\">1313050000.0</td>\n",
       "        <td style=\"padding-left: 1em; padding-right: 1em; text-align: center; vertical-align: top\">0.0</td>\n",
       "        <td style=\"padding-left: 1em; padding-right: 1em; text-align: center; vertical-align: top\">0</td>\n",
       "        <td style=\"padding-left: 1em; padding-right: 1em; text-align: center; vertical-align: top\">16</td>\n",
       "    </tr>\n",
       "    <tr>\n",
       "        <td style=\"padding-left: 1em; padding-right: 1em; text-align: center; vertical-align: top\"></td>\n",
       "        <td style=\"padding-left: 1em; padding-right: 1em; text-align: center; vertical-align: top\">0x00</td>\n",
       "        <td style=\"padding-left: 1em; padding-right: 1em; text-align: center; vertical-align: top\">158.65.110.39</td>\n",
       "        <td style=\"padding-left: 1em; padding-right: 1em; text-align: center; vertical-align: top\">163</td>\n",
       "        <td style=\"padding-left: 1em; padding-right: 1em; text-align: center; vertical-align: top\">1350010000.0</td>\n",
       "        <td style=\"padding-left: 1em; padding-right: 1em; text-align: center; vertical-align: top\">0.0</td>\n",
       "        <td style=\"padding-left: 1em; padding-right: 1em; text-align: center; vertical-align: top\"></td>\n",
       "        <td style=\"padding-left: 1em; padding-right: 1em; text-align: center; vertical-align: top\">0</td>\n",
       "    </tr>\n",
       "    <tr>\n",
       "        <td style=\"padding-left: 1em; padding-right: 1em; text-align: center; vertical-align: top\">0</td>\n",
       "        <td style=\"padding-left: 1em; padding-right: 1em; text-align: center; vertical-align: top\">0x00</td>\n",
       "        <td style=\"padding-left: 1em; padding-right: 1em; text-align: center; vertical-align: top\">199.59.148.82</td>\n",
       "        <td style=\"padding-left: 1em; padding-right: 1em; text-align: center; vertical-align: top\">74</td>\n",
       "        <td style=\"padding-left: 1em; padding-right: 1em; text-align: center; vertical-align: top\">1350030000.0</td>\n",
       "        <td style=\"padding-left: 1em; padding-right: 1em; text-align: center; vertical-align: top\">0.0</td>\n",
       "        <td style=\"padding-left: 1em; padding-right: 1em; text-align: center; vertical-align: top\">0</td>\n",
       "        <td style=\"padding-left: 1em; padding-right: 1em; text-align: center; vertical-align: top\">18</td>\n",
       "    </tr>\n",
       "    <tr>\n",
       "        <td style=\"padding-left: 1em; padding-right: 1em; text-align: center; vertical-align: top\">0</td>\n",
       "        <td style=\"padding-left: 1em; padding-right: 1em; text-align: center; vertical-align: top\">0x00</td>\n",
       "        <td style=\"padding-left: 1em; padding-right: 1em; text-align: center; vertical-align: top\">147.32.84.160</td>\n",
       "        <td style=\"padding-left: 1em; padding-right: 1em; text-align: center; vertical-align: top\">60</td>\n",
       "        <td style=\"padding-left: 1em; padding-right: 1em; text-align: center; vertical-align: top\">1313430000.0</td>\n",
       "        <td style=\"padding-left: 1em; padding-right: 1em; text-align: center; vertical-align: top\">0.0</td>\n",
       "        <td style=\"padding-left: 1em; padding-right: 1em; text-align: center; vertical-align: top\">0</td>\n",
       "        <td style=\"padding-left: 1em; padding-right: 1em; text-align: center; vertical-align: top\">17</td>\n",
       "    </tr>\n",
       "    <tr>\n",
       "        <td style=\"padding-left: 1em; padding-right: 1em; text-align: center; vertical-align: top\">0</td>\n",
       "        <td style=\"padding-left: 1em; padding-right: 1em; text-align: center; vertical-align: top\">0x00</td>\n",
       "        <td style=\"padding-left: 1em; padding-right: 1em; text-align: center; vertical-align: top\">217.163.21.40</td>\n",
       "        <td style=\"padding-left: 1em; padding-right: 1em; text-align: center; vertical-align: top\">62</td>\n",
       "        <td style=\"padding-left: 1em; padding-right: 1em; text-align: center; vertical-align: top\">1313050000.0</td>\n",
       "        <td style=\"padding-left: 1em; padding-right: 1em; text-align: center; vertical-align: top\">0.0</td>\n",
       "        <td style=\"padding-left: 1em; padding-right: 1em; text-align: center; vertical-align: top\">2</td>\n",
       "        <td style=\"padding-left: 1em; padding-right: 1em; text-align: center; vertical-align: top\">18</td>\n",
       "    </tr>\n",
       "    <tr>\n",
       "        <td style=\"padding-left: 1em; padding-right: 1em; text-align: center; vertical-align: top\">0</td>\n",
       "        <td style=\"padding-left: 1em; padding-right: 1em; text-align: center; vertical-align: top\">0x00</td>\n",
       "        <td style=\"padding-left: 1em; padding-right: 1em; text-align: center; vertical-align: top\">184.173.217.40</td>\n",
       "        <td style=\"padding-left: 1em; padding-right: 1em; text-align: center; vertical-align: top\">60</td>\n",
       "        <td style=\"padding-left: 1em; padding-right: 1em; text-align: center; vertical-align: top\">1313460000.0</td>\n",
       "        <td style=\"padding-left: 1em; padding-right: 1em; text-align: center; vertical-align: top\">0.0</td>\n",
       "        <td style=\"padding-left: 1em; padding-right: 1em; text-align: center; vertical-align: top\">0</td>\n",
       "        <td style=\"padding-left: 1em; padding-right: 1em; text-align: center; vertical-align: top\">20</td>\n",
       "    </tr>\n",
       "    <tr>\n",
       "        <td style=\"padding-left: 1em; padding-right: 1em; text-align: center; vertical-align: top\"></td>\n",
       "        <td style=\"padding-left: 1em; padding-right: 1em; text-align: center; vertical-align: top\">0x00</td>\n",
       "        <td style=\"padding-left: 1em; padding-right: 1em; text-align: center; vertical-align: top\">10.0.0.254</td>\n",
       "        <td style=\"padding-left: 1em; padding-right: 1em; text-align: center; vertical-align: top\">193</td>\n",
       "        <td style=\"padding-left: 1em; padding-right: 1em; text-align: center; vertical-align: top\">1205940000.0</td>\n",
       "        <td style=\"padding-left: 1em; padding-right: 1em; text-align: center; vertical-align: top\">0.0</td>\n",
       "        <td style=\"padding-left: 1em; padding-right: 1em; text-align: center; vertical-align: top\"></td>\n",
       "        <td style=\"padding-left: 1em; padding-right: 1em; text-align: center; vertical-align: top\">0</td>\n",
       "    </tr>\n",
       "    <tr>\n",
       "        <td style=\"padding-left: 1em; padding-right: 1em; text-align: center; vertical-align: top\"></td>\n",
       "        <td style=\"padding-left: 1em; padding-right: 1em; text-align: center; vertical-align: top\">0x00</td>\n",
       "        <td style=\"padding-left: 1em; padding-right: 1em; text-align: center; vertical-align: top\">147.32.80.9</td>\n",
       "        <td style=\"padding-left: 1em; padding-right: 1em; text-align: center; vertical-align: top\">190</td>\n",
       "        <td style=\"padding-left: 1em; padding-right: 1em; text-align: center; vertical-align: top\">1313060000.0</td>\n",
       "        <td style=\"padding-left: 1em; padding-right: 1em; text-align: center; vertical-align: top\">0.0</td>\n",
       "        <td style=\"padding-left: 1em; padding-right: 1em; text-align: center; vertical-align: top\"></td>\n",
       "        <td style=\"padding-left: 1em; padding-right: 1em; text-align: center; vertical-align: top\">0</td>\n",
       "    </tr>\n",
       "    <tr>\n",
       "        <td style=\"padding-left: 1em; padding-right: 1em; text-align: center; vertical-align: top\">0</td>\n",
       "        <td style=\"padding-left: 1em; padding-right: 1em; text-align: center; vertical-align: top\">0x70</td>\n",
       "        <td style=\"padding-left: 1em; padding-right: 1em; text-align: center; vertical-align: top\">199.59.150.39</td>\n",
       "        <td style=\"padding-left: 1em; padding-right: 1em; text-align: center; vertical-align: top\">74</td>\n",
       "        <td style=\"padding-left: 1em; padding-right: 1em; text-align: center; vertical-align: top\">1349970000.0</td>\n",
       "        <td style=\"padding-left: 1em; padding-right: 1em; text-align: center; vertical-align: top\">0.0</td>\n",
       "        <td style=\"padding-left: 1em; padding-right: 1em; text-align: center; vertical-align: top\">0</td>\n",
       "        <td style=\"padding-left: 1em; padding-right: 1em; text-align: center; vertical-align: top\">18</td>\n",
       "    </tr>\n",
       "    <tr>\n",
       "        <td style=\"padding-left: 1em; padding-right: 1em; text-align: center; vertical-align: top\">0</td>\n",
       "        <td style=\"padding-left: 1em; padding-right: 1em; text-align: center; vertical-align: top\">0x00</td>\n",
       "        <td style=\"padding-left: 1em; padding-right: 1em; text-align: center; vertical-align: top\">147.32.84.160</td>\n",
       "        <td style=\"padding-left: 1em; padding-right: 1em; text-align: center; vertical-align: top\">62</td>\n",
       "        <td style=\"padding-left: 1em; padding-right: 1em; text-align: center; vertical-align: top\">1313460000.0</td>\n",
       "        <td style=\"padding-left: 1em; padding-right: 1em; text-align: center; vertical-align: top\">0.0</td>\n",
       "        <td style=\"padding-left: 1em; padding-right: 1em; text-align: center; vertical-align: top\">5</td>\n",
       "        <td style=\"padding-left: 1em; padding-right: 1em; text-align: center; vertical-align: top\">2</td>\n",
       "    </tr>\n",
       "</table>\n",
       "<table frame=\"box\" rules=\"cols\">\n",
       "    <tr>\n",
       "        <th style=\"padding-left: 1em; padding-right: 1em; text-align: center\">Protocols in frame</th>\n",
       "        <th style=\"padding-left: 1em; padding-right: 1em; text-align: center\">No.</th>\n",
       "        <th style=\"padding-left: 1em; padding-right: 1em; text-align: center\">Protocol</th>\n",
       "        <th style=\"padding-left: 1em; padding-right: 1em; text-align: center\">BytesEx</th>\n",
       "        <th style=\"padding-left: 1em; padding-right: 1em; text-align: center\">isNull</th>\n",
       "        <th style=\"padding-left: 1em; padding-right: 1em; text-align: center\">BitsPerSec</th>\n",
       "        <th style=\"padding-left: 1em; padding-right: 1em; text-align: center\">isBot</th>\n",
       "        <th style=\"padding-left: 1em; padding-right: 1em; text-align: center\">IP_Flags</th>\n",
       "        <th style=\"padding-left: 1em; padding-right: 1em; text-align: center\">NumPackets</th>\n",
       "    </tr>\n",
       "    <tr>\n",
       "        <td style=\"padding-left: 1em; padding-right: 1em; text-align: center; vertical-align: top\">eth:ethertype:ip:tcp</td>\n",
       "        <td style=\"padding-left: 1em; padding-right: 1em; text-align: center; vertical-align: top\">15510</td>\n",
       "        <td style=\"padding-left: 1em; padding-right: 1em; text-align: center; vertical-align: top\">TCP</td>\n",
       "        <td style=\"padding-left: 1em; padding-right: 1em; text-align: center; vertical-align: top\">60</td>\n",
       "        <td style=\"padding-left: 1em; padding-right: 1em; text-align: center; vertical-align: top\">1</td>\n",
       "        <td style=\"padding-left: 1em; padding-right: 1em; text-align: center; vertical-align: top\">0.0</td>\n",
       "        <td style=\"padding-left: 1em; padding-right: 1em; text-align: center; vertical-align: top\">0</td>\n",
       "        <td style=\"padding-left: 1em; padding-right: 1em; text-align: center; vertical-align: top\">0x02</td>\n",
       "        <td style=\"padding-left: 1em; padding-right: 1em; text-align: center; vertical-align: top\">1</td>\n",
       "    </tr>\n",
       "    <tr>\n",
       "        <td style=\"padding-left: 1em; padding-right: 1em; text-align: center; vertical-align: top\">eth:ethertype:ip:udp:db-<br>lsp-disc ...</td>\n",
       "        <td style=\"padding-left: 1em; padding-right: 1em; text-align: center; vertical-align: top\">1352799</td>\n",
       "        <td style=\"padding-left: 1em; padding-right: 1em; text-align: center; vertical-align: top\">DB-LSP-DISC</td>\n",
       "        <td style=\"padding-left: 1em; padding-right: 1em; text-align: center; vertical-align: top\">815</td>\n",
       "        <td style=\"padding-left: 1em; padding-right: 1em; text-align: center; vertical-align: top\">0</td>\n",
       "        <td style=\"padding-left: 1em; padding-right: 1em; text-align: center; vertical-align: top\">54.3086</td>\n",
       "        <td style=\"padding-left: 1em; padding-right: 1em; text-align: center; vertical-align: top\">0</td>\n",
       "        <td style=\"padding-left: 1em; padding-right: 1em; text-align: center; vertical-align: top\">0x02</td>\n",
       "        <td style=\"padding-left: 1em; padding-right: 1em; text-align: center; vertical-align: top\">5</td>\n",
       "    </tr>\n",
       "    <tr>\n",
       "        <td style=\"padding-left: 1em; padding-right: 1em; text-align: center; vertical-align: top\">eth:ethertype:ip:tcp</td>\n",
       "        <td style=\"padding-left: 1em; padding-right: 1em; text-align: center; vertical-align: top\">1448847</td>\n",
       "        <td style=\"padding-left: 1em; padding-right: 1em; text-align: center; vertical-align: top\">TCP</td>\n",
       "        <td style=\"padding-left: 1em; padding-right: 1em; text-align: center; vertical-align: top\">206</td>\n",
       "        <td style=\"padding-left: 1em; padding-right: 1em; text-align: center; vertical-align: top\">1</td>\n",
       "        <td style=\"padding-left: 1em; padding-right: 1em; text-align: center; vertical-align: top\">10893.6</td>\n",
       "        <td style=\"padding-left: 1em; padding-right: 1em; text-align: center; vertical-align: top\">0</td>\n",
       "        <td style=\"padding-left: 1em; padding-right: 1em; text-align: center; vertical-align: top\">0x02</td>\n",
       "        <td style=\"padding-left: 1em; padding-right: 1em; text-align: center; vertical-align: top\">3</td>\n",
       "    </tr>\n",
       "    <tr>\n",
       "        <td style=\"padding-left: 1em; padding-right: 1em; text-align: center; vertical-align: top\">eth:ethertype:ip:tcp</td>\n",
       "        <td style=\"padding-left: 1em; padding-right: 1em; text-align: center; vertical-align: top\">748288</td>\n",
       "        <td style=\"padding-left: 1em; padding-right: 1em; text-align: center; vertical-align: top\">TCP</td>\n",
       "        <td style=\"padding-left: 1em; padding-right: 1em; text-align: center; vertical-align: top\">60</td>\n",
       "        <td style=\"padding-left: 1em; padding-right: 1em; text-align: center; vertical-align: top\">1</td>\n",
       "        <td style=\"padding-left: 1em; padding-right: 1em; text-align: center; vertical-align: top\">0.0</td>\n",
       "        <td style=\"padding-left: 1em; padding-right: 1em; text-align: center; vertical-align: top\">1</td>\n",
       "        <td style=\"padding-left: 1em; padding-right: 1em; text-align: center; vertical-align: top\">0x02</td>\n",
       "        <td style=\"padding-left: 1em; padding-right: 1em; text-align: center; vertical-align: top\">1</td>\n",
       "    </tr>\n",
       "    <tr>\n",
       "        <td style=\"padding-left: 1em; padding-right: 1em; text-align: center; vertical-align: top\">eth:ethertype:ip:tcp</td>\n",
       "        <td style=\"padding-left: 1em; padding-right: 1em; text-align: center; vertical-align: top\">50785</td>\n",
       "        <td style=\"padding-left: 1em; padding-right: 1em; text-align: center; vertical-align: top\">TCP</td>\n",
       "        <td style=\"padding-left: 1em; padding-right: 1em; text-align: center; vertical-align: top\">1756</td>\n",
       "        <td style=\"padding-left: 1em; padding-right: 1em; text-align: center; vertical-align: top\">1</td>\n",
       "        <td style=\"padding-left: 1em; padding-right: 1em; text-align: center; vertical-align: top\">120514.0</td>\n",
       "        <td style=\"padding-left: 1em; padding-right: 1em; text-align: center; vertical-align: top\">0</td>\n",
       "        <td style=\"padding-left: 1em; padding-right: 1em; text-align: center; vertical-align: top\">0x02</td>\n",
       "        <td style=\"padding-left: 1em; padding-right: 1em; text-align: center; vertical-align: top\">5</td>\n",
       "    </tr>\n",
       "    <tr>\n",
       "        <td style=\"padding-left: 1em; padding-right: 1em; text-align: center; vertical-align: top\">eth:ethertype:ip:tcp</td>\n",
       "        <td style=\"padding-left: 1em; padding-right: 1em; text-align: center; vertical-align: top\">954004</td>\n",
       "        <td style=\"padding-left: 1em; padding-right: 1em; text-align: center; vertical-align: top\">TCP</td>\n",
       "        <td style=\"padding-left: 1em; padding-right: 1em; text-align: center; vertical-align: top\">60</td>\n",
       "        <td style=\"padding-left: 1em; padding-right: 1em; text-align: center; vertical-align: top\">1</td>\n",
       "        <td style=\"padding-left: 1em; padding-right: 1em; text-align: center; vertical-align: top\">0.0</td>\n",
       "        <td style=\"padding-left: 1em; padding-right: 1em; text-align: center; vertical-align: top\">0</td>\n",
       "        <td style=\"padding-left: 1em; padding-right: 1em; text-align: center; vertical-align: top\">0x02</td>\n",
       "        <td style=\"padding-left: 1em; padding-right: 1em; text-align: center; vertical-align: top\">1</td>\n",
       "    </tr>\n",
       "    <tr>\n",
       "        <td style=\"padding-left: 1em; padding-right: 1em; text-align: center; vertical-align: top\">eth:ethertype:ip:udp:dns</td>\n",
       "        <td style=\"padding-left: 1em; padding-right: 1em; text-align: center; vertical-align: top\">2692507</td>\n",
       "        <td style=\"padding-left: 1em; padding-right: 1em; text-align: center; vertical-align: top\">DNS</td>\n",
       "        <td style=\"padding-left: 1em; padding-right: 1em; text-align: center; vertical-align: top\">193</td>\n",
       "        <td style=\"padding-left: 1em; padding-right: 1em; text-align: center; vertical-align: top\">0</td>\n",
       "        <td style=\"padding-left: 1em; padding-right: 1em; text-align: center; vertical-align: top\">0.0</td>\n",
       "        <td style=\"padding-left: 1em; padding-right: 1em; text-align: center; vertical-align: top\">0</td>\n",
       "        <td style=\"padding-left: 1em; padding-right: 1em; text-align: center; vertical-align: top\">0x02</td>\n",
       "        <td style=\"padding-left: 1em; padding-right: 1em; text-align: center; vertical-align: top\">1</td>\n",
       "    </tr>\n",
       "    <tr>\n",
       "        <td style=\"padding-left: 1em; padding-right: 1em; text-align: center; vertical-align: top\">eth:ethertype:ip:udp:dns</td>\n",
       "        <td style=\"padding-left: 1em; padding-right: 1em; text-align: center; vertical-align: top\">98945</td>\n",
       "        <td style=\"padding-left: 1em; padding-right: 1em; text-align: center; vertical-align: top\">DNS</td>\n",
       "        <td style=\"padding-left: 1em; padding-right: 1em; text-align: center; vertical-align: top\">4012</td>\n",
       "        <td style=\"padding-left: 1em; padding-right: 1em; text-align: center; vertical-align: top\">0</td>\n",
       "        <td style=\"padding-left: 1em; padding-right: 1em; text-align: center; vertical-align: top\">257.259</td>\n",
       "        <td style=\"padding-left: 1em; padding-right: 1em; text-align: center; vertical-align: top\">0</td>\n",
       "        <td style=\"padding-left: 1em; padding-right: 1em; text-align: center; vertical-align: top\">0x00</td>\n",
       "        <td style=\"padding-left: 1em; padding-right: 1em; text-align: center; vertical-align: top\">13</td>\n",
       "    </tr>\n",
       "    <tr>\n",
       "        <td style=\"padding-left: 1em; padding-right: 1em; text-align: center; vertical-align: top\">eth:ethertype:ip:tcp</td>\n",
       "        <td style=\"padding-left: 1em; padding-right: 1em; text-align: center; vertical-align: top\">1196008</td>\n",
       "        <td style=\"padding-left: 1em; padding-right: 1em; text-align: center; vertical-align: top\">TCP</td>\n",
       "        <td style=\"padding-left: 1em; padding-right: 1em; text-align: center; vertical-align: top\">206</td>\n",
       "        <td style=\"padding-left: 1em; padding-right: 1em; text-align: center; vertical-align: top\">1</td>\n",
       "        <td style=\"padding-left: 1em; padding-right: 1em; text-align: center; vertical-align: top\">1161.73</td>\n",
       "        <td style=\"padding-left: 1em; padding-right: 1em; text-align: center; vertical-align: top\">0</td>\n",
       "        <td style=\"padding-left: 1em; padding-right: 1em; text-align: center; vertical-align: top\">0x02</td>\n",
       "        <td style=\"padding-left: 1em; padding-right: 1em; text-align: center; vertical-align: top\">3</td>\n",
       "    </tr>\n",
       "    <tr>\n",
       "        <td style=\"padding-left: 1em; padding-right: 1em; text-align: center; vertical-align: top\">eth:ethertype:ip:tcp</td>\n",
       "        <td style=\"padding-left: 1em; padding-right: 1em; text-align: center; vertical-align: top\">938143</td>\n",
       "        <td style=\"padding-left: 1em; padding-right: 1em; text-align: center; vertical-align: top\">TCP</td>\n",
       "        <td style=\"padding-left: 1em; padding-right: 1em; text-align: center; vertical-align: top\">372</td>\n",
       "        <td style=\"padding-left: 1em; padding-right: 1em; text-align: center; vertical-align: top\">1</td>\n",
       "        <td style=\"padding-left: 1em; padding-right: 1em; text-align: center; vertical-align: top\">332.106</td>\n",
       "        <td style=\"padding-left: 1em; padding-right: 1em; text-align: center; vertical-align: top\">1</td>\n",
       "        <td style=\"padding-left: 1em; padding-right: 1em; text-align: center; vertical-align: top\">0x02</td>\n",
       "        <td style=\"padding-left: 1em; padding-right: 1em; text-align: center; vertical-align: top\">6</td>\n",
       "    </tr>\n",
       "</table>\n",
       "<table frame=\"box\" rules=\"cols\">\n",
       "    <tr>\n",
       "        <th style=\"padding-left: 1em; padding-right: 1em; text-align: center\">Source Port</th>\n",
       "        <th style=\"padding-left: 1em; padding-right: 1em; text-align: center\">StdDevLen</th>\n",
       "        <th style=\"padding-left: 1em; padding-right: 1em; text-align: center\">Next sequence number</th>\n",
       "        <th style=\"padding-left: 1em; padding-right: 1em; text-align: center\">SameLenPktRatio</th>\n",
       "        <th style=\"padding-left: 1em; padding-right: 1em; text-align: center\">FPL</th>\n",
       "        <th style=\"padding-left: 1em; padding-right: 1em; text-align: center\">Duration</th>\n",
       "        <th style=\"padding-left: 1em; padding-right: 1em; text-align: center\">Time to live</th>\n",
       "        <th style=\"padding-left: 1em; padding-right: 1em; text-align: center\">Sequence number</th>\n",
       "        <th style=\"padding-left: 1em; padding-right: 1em; text-align: center\">NPEx</th>\n",
       "    </tr>\n",
       "    <tr>\n",
       "        <td style=\"padding-left: 1em; padding-right: 1em; text-align: center; vertical-align: top\">80</td>\n",
       "        <td style=\"padding-left: 1em; padding-right: 1em; text-align: center; vertical-align: top\">0.0</td>\n",
       "        <td style=\"padding-left: 1em; padding-right: 1em; text-align: center; vertical-align: top\"></td>\n",
       "        <td style=\"padding-left: 1em; padding-right: 1em; text-align: center; vertical-align: top\">1.0</td>\n",
       "        <td style=\"padding-left: 1em; padding-right: 1em; text-align: center; vertical-align: top\">60</td>\n",
       "        <td style=\"padding-left: 1em; padding-right: 1em; text-align: center; vertical-align: top\">0.0</td>\n",
       "        <td style=\"padding-left: 1em; padding-right: 1em; text-align: center; vertical-align: top\">53</td>\n",
       "        <td style=\"padding-left: 1em; padding-right: 1em; text-align: center; vertical-align: top\">455</td>\n",
       "        <td style=\"padding-left: 1em; padding-right: 1em; text-align: center; vertical-align: top\">1</td>\n",
       "    </tr>\n",
       "    <tr>\n",
       "        <td style=\"padding-left: 1em; padding-right: 1em; text-align: center; vertical-align: top\">17500</td>\n",
       "        <td style=\"padding-left: 1em; padding-right: 1em; text-align: center; vertical-align: top\">0.0</td>\n",
       "        <td style=\"padding-left: 1em; padding-right: 1em; text-align: center; vertical-align: top\"></td>\n",
       "        <td style=\"padding-left: 1em; padding-right: 1em; text-align: center; vertical-align: top\">0.2</td>\n",
       "        <td style=\"padding-left: 1em; padding-right: 1em; text-align: center; vertical-align: top\">163</td>\n",
       "        <td style=\"padding-left: 1em; padding-right: 1em; text-align: center; vertical-align: top\">120.055</td>\n",
       "        <td style=\"padding-left: 1em; padding-right: 1em; text-align: center; vertical-align: top\">64</td>\n",
       "        <td style=\"padding-left: 1em; padding-right: 1em; text-align: center; vertical-align: top\"></td>\n",
       "        <td style=\"padding-left: 1em; padding-right: 1em; text-align: center; vertical-align: top\">0</td>\n",
       "    </tr>\n",
       "    <tr>\n",
       "        <td style=\"padding-left: 1em; padding-right: 1em; text-align: center; vertical-align: top\">80</td>\n",
       "        <td style=\"padding-left: 1em; padding-right: 1em; text-align: center; vertical-align: top\">3.77124</td>\n",
       "        <td style=\"padding-left: 1em; padding-right: 1em; text-align: center; vertical-align: top\"></td>\n",
       "        <td style=\"padding-left: 1em; padding-right: 1em; text-align: center; vertical-align: top\">0.666667</td>\n",
       "        <td style=\"padding-left: 1em; padding-right: 1em; text-align: center; vertical-align: top\">74</td>\n",
       "        <td style=\"padding-left: 1em; padding-right: 1em; text-align: center; vertical-align: top\">0.151282</td>\n",
       "        <td style=\"padding-left: 1em; padding-right: 1em; text-align: center; vertical-align: top\">46</td>\n",
       "        <td style=\"padding-left: 1em; padding-right: 1em; text-align: center; vertical-align: top\">0</td>\n",
       "        <td style=\"padding-left: 1em; padding-right: 1em; text-align: center; vertical-align: top\">3</td>\n",
       "    </tr>\n",
       "    <tr>\n",
       "        <td style=\"padding-left: 1em; padding-right: 1em; text-align: center; vertical-align: top\">1440</td>\n",
       "        <td style=\"padding-left: 1em; padding-right: 1em; text-align: center; vertical-align: top\">0.0</td>\n",
       "        <td style=\"padding-left: 1em; padding-right: 1em; text-align: center; vertical-align: top\"></td>\n",
       "        <td style=\"padding-left: 1em; padding-right: 1em; text-align: center; vertical-align: top\">1.0</td>\n",
       "        <td style=\"padding-left: 1em; padding-right: 1em; text-align: center; vertical-align: top\">60</td>\n",
       "        <td style=\"padding-left: 1em; padding-right: 1em; text-align: center; vertical-align: top\">0.0</td>\n",
       "        <td style=\"padding-left: 1em; padding-right: 1em; text-align: center; vertical-align: top\">128</td>\n",
       "        <td style=\"padding-left: 1em; padding-right: 1em; text-align: center; vertical-align: top\">1396</td>\n",
       "        <td style=\"padding-left: 1em; padding-right: 1em; text-align: center; vertical-align: top\">1</td>\n",
       "    </tr>\n",
       "    <tr>\n",
       "        <td style=\"padding-left: 1em; padding-right: 1em; text-align: center; vertical-align: top\">80</td>\n",
       "        <td style=\"padding-left: 1em; padding-right: 1em; text-align: center; vertical-align: top\">581.401</td>\n",
       "        <td style=\"padding-left: 1em; padding-right: 1em; text-align: center; vertical-align: top\"></td>\n",
       "        <td style=\"padding-left: 1em; padding-right: 1em; text-align: center; vertical-align: top\">0.6</td>\n",
       "        <td style=\"padding-left: 1em; padding-right: 1em; text-align: center; vertical-align: top\">62</td>\n",
       "        <td style=\"padding-left: 1em; padding-right: 1em; text-align: center; vertical-align: top\">0.116567</td>\n",
       "        <td style=\"padding-left: 1em; padding-right: 1em; text-align: center; vertical-align: top\">52</td>\n",
       "        <td style=\"padding-left: 1em; padding-right: 1em; text-align: center; vertical-align: top\">0</td>\n",
       "        <td style=\"padding-left: 1em; padding-right: 1em; text-align: center; vertical-align: top\">4</td>\n",
       "    </tr>\n",
       "    <tr>\n",
       "        <td style=\"padding-left: 1em; padding-right: 1em; text-align: center; vertical-align: top\">443</td>\n",
       "        <td style=\"padding-left: 1em; padding-right: 1em; text-align: center; vertical-align: top\">0.0</td>\n",
       "        <td style=\"padding-left: 1em; padding-right: 1em; text-align: center; vertical-align: top\"></td>\n",
       "        <td style=\"padding-left: 1em; padding-right: 1em; text-align: center; vertical-align: top\">1.0</td>\n",
       "        <td style=\"padding-left: 1em; padding-right: 1em; text-align: center; vertical-align: top\">60</td>\n",
       "        <td style=\"padding-left: 1em; padding-right: 1em; text-align: center; vertical-align: top\">0.0</td>\n",
       "        <td style=\"padding-left: 1em; padding-right: 1em; text-align: center; vertical-align: top\">47</td>\n",
       "        <td style=\"padding-left: 1em; padding-right: 1em; text-align: center; vertical-align: top\">1</td>\n",
       "        <td style=\"padding-left: 1em; padding-right: 1em; text-align: center; vertical-align: top\">1</td>\n",
       "    </tr>\n",
       "    <tr>\n",
       "        <td style=\"padding-left: 1em; padding-right: 1em; text-align: center; vertical-align: top\">53</td>\n",
       "        <td style=\"padding-left: 1em; padding-right: 1em; text-align: center; vertical-align: top\">0.0</td>\n",
       "        <td style=\"padding-left: 1em; padding-right: 1em; text-align: center; vertical-align: top\"></td>\n",
       "        <td style=\"padding-left: 1em; padding-right: 1em; text-align: center; vertical-align: top\">1.0</td>\n",
       "        <td style=\"padding-left: 1em; padding-right: 1em; text-align: center; vertical-align: top\">193</td>\n",
       "        <td style=\"padding-left: 1em; padding-right: 1em; text-align: center; vertical-align: top\">0.0</td>\n",
       "        <td style=\"padding-left: 1em; padding-right: 1em; text-align: center; vertical-align: top\">64</td>\n",
       "        <td style=\"padding-left: 1em; padding-right: 1em; text-align: center; vertical-align: top\"></td>\n",
       "        <td style=\"padding-left: 1em; padding-right: 1em; text-align: center; vertical-align: top\">0</td>\n",
       "    </tr>\n",
       "    <tr>\n",
       "        <td style=\"padding-left: 1em; padding-right: 1em; text-align: center; vertical-align: top\">53</td>\n",
       "        <td style=\"padding-left: 1em; padding-right: 1em; text-align: center; vertical-align: top\">91.8264</td>\n",
       "        <td style=\"padding-left: 1em; padding-right: 1em; text-align: center; vertical-align: top\"></td>\n",
       "        <td style=\"padding-left: 1em; padding-right: 1em; text-align: center; vertical-align: top\">0.923077</td>\n",
       "        <td style=\"padding-left: 1em; padding-right: 1em; text-align: center; vertical-align: top\">190</td>\n",
       "        <td style=\"padding-left: 1em; padding-right: 1em; text-align: center; vertical-align: top\">124.761</td>\n",
       "        <td style=\"padding-left: 1em; padding-right: 1em; text-align: center; vertical-align: top\">62</td>\n",
       "        <td style=\"padding-left: 1em; padding-right: 1em; text-align: center; vertical-align: top\"></td>\n",
       "        <td style=\"padding-left: 1em; padding-right: 1em; text-align: center; vertical-align: top\">0</td>\n",
       "    </tr>\n",
       "    <tr>\n",
       "        <td style=\"padding-left: 1em; padding-right: 1em; text-align: center; vertical-align: top\">80</td>\n",
       "        <td style=\"padding-left: 1em; padding-right: 1em; text-align: center; vertical-align: top\">3.77124</td>\n",
       "        <td style=\"padding-left: 1em; padding-right: 1em; text-align: center; vertical-align: top\"></td>\n",
       "        <td style=\"padding-left: 1em; padding-right: 1em; text-align: center; vertical-align: top\">0.666667</td>\n",
       "        <td style=\"padding-left: 1em; padding-right: 1em; text-align: center; vertical-align: top\">74</td>\n",
       "        <td style=\"padding-left: 1em; padding-right: 1em; text-align: center; vertical-align: top\">1.41857</td>\n",
       "        <td style=\"padding-left: 1em; padding-right: 1em; text-align: center; vertical-align: top\">46</td>\n",
       "        <td style=\"padding-left: 1em; padding-right: 1em; text-align: center; vertical-align: top\">0</td>\n",
       "        <td style=\"padding-left: 1em; padding-right: 1em; text-align: center; vertical-align: top\">3</td>\n",
       "    </tr>\n",
       "    <tr>\n",
       "        <td style=\"padding-left: 1em; padding-right: 1em; text-align: center; vertical-align: top\">12514</td>\n",
       "        <td style=\"padding-left: 1em; padding-right: 1em; text-align: center; vertical-align: top\">0.0</td>\n",
       "        <td style=\"padding-left: 1em; padding-right: 1em; text-align: center; vertical-align: top\"></td>\n",
       "        <td style=\"padding-left: 1em; padding-right: 1em; text-align: center; vertical-align: top\">0.166667</td>\n",
       "        <td style=\"padding-left: 1em; padding-right: 1em; text-align: center; vertical-align: top\">62</td>\n",
       "        <td style=\"padding-left: 1em; padding-right: 1em; text-align: center; vertical-align: top\">8.961</td>\n",
       "        <td style=\"padding-left: 1em; padding-right: 1em; text-align: center; vertical-align: top\">128</td>\n",
       "        <td style=\"padding-left: 1em; padding-right: 1em; text-align: center; vertical-align: top\">0</td>\n",
       "        <td style=\"padding-left: 1em; padding-right: 1em; text-align: center; vertical-align: top\">6</td>\n",
       "    </tr>\n",
       "</table>\n",
       "<table frame=\"box\" rules=\"cols\">\n",
       "    <tr>\n",
       "        <th style=\"padding-left: 1em; padding-right: 1em; text-align: center\">Predicted_Label</th>\n",
       "    </tr>\n",
       "    <tr>\n",
       "        <td style=\"padding-left: 1em; padding-right: 1em; text-align: center; vertical-align: top\">0</td>\n",
       "    </tr>\n",
       "    <tr>\n",
       "        <td style=\"padding-left: 1em; padding-right: 1em; text-align: center; vertical-align: top\">0</td>\n",
       "    </tr>\n",
       "    <tr>\n",
       "        <td style=\"padding-left: 1em; padding-right: 1em; text-align: center; vertical-align: top\">0</td>\n",
       "    </tr>\n",
       "    <tr>\n",
       "        <td style=\"padding-left: 1em; padding-right: 1em; text-align: center; vertical-align: top\">1</td>\n",
       "    </tr>\n",
       "    <tr>\n",
       "        <td style=\"padding-left: 1em; padding-right: 1em; text-align: center; vertical-align: top\">0</td>\n",
       "    </tr>\n",
       "    <tr>\n",
       "        <td style=\"padding-left: 1em; padding-right: 1em; text-align: center; vertical-align: top\">0</td>\n",
       "    </tr>\n",
       "    <tr>\n",
       "        <td style=\"padding-left: 1em; padding-right: 1em; text-align: center; vertical-align: top\">0</td>\n",
       "    </tr>\n",
       "    <tr>\n",
       "        <td style=\"padding-left: 1em; padding-right: 1em; text-align: center; vertical-align: top\">0</td>\n",
       "    </tr>\n",
       "    <tr>\n",
       "        <td style=\"padding-left: 1em; padding-right: 1em; text-align: center; vertical-align: top\">0</td>\n",
       "    </tr>\n",
       "    <tr>\n",
       "        <td style=\"padding-left: 1em; padding-right: 1em; text-align: center; vertical-align: top\">1</td>\n",
       "    </tr>\n",
       "</table>\n",
       "[586601 rows x 35 columns]<br/>Note: Only the head of the SFrame is printed.<br/>You can use print_rows(num_rows=m, num_columns=n) to print more rows and columns.\n",
       "</div>"
      ],
      "text/plain": [
       "Columns:\n",
       "\tuFlow\tint\n",
       "\tInfo\tstr\n",
       "\tudp_Length\tint\n",
       "\tDestination\tstr\n",
       "\tAPL\tfloat\n",
       "\tAvgPktPerSec\tfloat\n",
       "\tDestination Port\tstr\n",
       "\tAnswer RRs\tstr\n",
       "\tTCP Segment Len\tstr\n",
       "\tDifferentiated Services Field\tstr\n",
       "\tSource\tstr\n",
       "\tLength\tint\n",
       "\tTime\tfloat\n",
       "\tIAT\tfloat\n",
       "\treconnects\tstr\n",
       "\ttcp_Flags\tint\n",
       "\tProtocols in frame\tstr\n",
       "\tNo.\tint\n",
       "\tProtocol\tstr\n",
       "\tBytesEx\tint\n",
       "\tisNull\tint\n",
       "\tBitsPerSec\tfloat\n",
       "\tisBot\tint\n",
       "\tIP_Flags\tstr\n",
       "\tNumPackets\tint\n",
       "\tSource Port\tstr\n",
       "\tStdDevLen\tfloat\n",
       "\tNext sequence number\tstr\n",
       "\tSameLenPktRatio\tfloat\n",
       "\tFPL\tint\n",
       "\tDuration\tfloat\n",
       "\tTime to live\tint\n",
       "\tSequence number\tstr\n",
       "\tNPEx\tint\n",
       "\tPredicted_Label\tint\n",
       "\n",
       "Rows: 586601\n",
       "\n",
       "Data:\n",
       "+--------+-------------------------------+------------+-----------------+\n",
       "| uFlow  |              Info             | udp_Length |   Destination   |\n",
       "+--------+-------------------------------+------------+-----------------+\n",
       "| 504649 | 80  >  4228 [ACK] Seq=455 ... |    None    |  147.32.84.180  |\n",
       "| 211023 | Dropbox LAN sync Discovery... |    129     | 255.255.255.255 |\n",
       "| 442699 | 80  >  46234 [SYN, ACK] Se... |    None    |  158.65.110.24  |\n",
       "| 79732  | [TCP Out-Of-Order] 1440  >... |    None    |   64.12.168.40  |\n",
       "| 506386 | 80  >  1648 [SYN, ACK] Seq... |    None    |  147.32.84.180  |\n",
       "| 333842 | 443  >  14062 [RST, ACK] S... |    None    |  147.32.84.160  |\n",
       "|  7899  | Standard query response 0x... |    159     |   172.16.2.11   |\n",
       "| 25263  | Standard query response 0x... |    156     |  147.32.84.180  |\n",
       "| 453182 | 80  >  38642 [SYN, ACK] Se... |    None    |  158.65.110.24  |\n",
       "| 87629  | 12514  >  25 [SYN] Seq=0 W... |    None    |  94.100.176.20  |\n",
       "+--------+-------------------------------+------------+-----------------+\n",
       "+---------+--------------+------------------+------------+-----------------+\n",
       "|   APL   | AvgPktPerSec | Destination Port | Answer RRs | TCP Segment Len |\n",
       "+---------+--------------+------------------+------------+-----------------+\n",
       "|   60.0  |     0.0      |       4228       |            |        0        |\n",
       "|  163.0  |  0.0416477   |      17500       |            |                 |\n",
       "| 68.6667 |   19.8305    |      46234       |            |        0        |\n",
       "|   60.0  |     0.0      |       587        |            |        0        |\n",
       "|  351.2  |   42.8938    |       1648       |            |        0        |\n",
       "|   60.0  |     0.0      |      14062       |            |        0        |\n",
       "|  193.0  |     0.0      |      22703       |     4      |                 |\n",
       "| 308.615 |   0.104199   |       1099       |     3      |                 |\n",
       "| 68.6667 |    2.1148    |      38642       |            |        0        |\n",
       "|   62.0  |   0.669568   |        25        |            |        0        |\n",
       "+---------+--------------+------------------+------------+-----------------+\n",
       "+-------------------------------+----------------+--------+--------------+-----+\n",
       "| Differentiated Services Field |     Source     | Length |     Time     | IAT |\n",
       "+-------------------------------+----------------+--------+--------------+-----+\n",
       "|              0x00             | 217.163.21.36  |   60   | 1313050000.0 | 0.0 |\n",
       "|              0x00             | 158.65.110.39  |  163   | 1350010000.0 | 0.0 |\n",
       "|              0x00             | 199.59.148.82  |   74   | 1350030000.0 | 0.0 |\n",
       "|              0x00             | 147.32.84.160  |   60   | 1313430000.0 | 0.0 |\n",
       "|              0x00             | 217.163.21.40  |   62   | 1313050000.0 | 0.0 |\n",
       "|              0x00             | 184.173.217.40 |   60   | 1313460000.0 | 0.0 |\n",
       "|              0x00             |   10.0.0.254   |  193   | 1205940000.0 | 0.0 |\n",
       "|              0x00             |  147.32.80.9   |  190   | 1313060000.0 | 0.0 |\n",
       "|              0x70             | 199.59.150.39  |   74   | 1349970000.0 | 0.0 |\n",
       "|              0x00             | 147.32.84.160  |   62   | 1313460000.0 | 0.0 |\n",
       "+-------------------------------+----------------+--------+--------------+-----+\n",
       "+------------+-----------+-------------------------------+---------+-------------+\n",
       "| reconnects | tcp_Flags |       Protocols in frame      |   No.   |   Protocol  |\n",
       "+------------+-----------+-------------------------------+---------+-------------+\n",
       "|     0      |     16    |      eth:ethertype:ip:tcp     |  15510  |     TCP     |\n",
       "|            |     0     | eth:ethertype:ip:udp:db-ls... | 1352799 | DB-LSP-DISC |\n",
       "|     0      |     18    |      eth:ethertype:ip:tcp     | 1448847 |     TCP     |\n",
       "|     0      |     17    |      eth:ethertype:ip:tcp     |  748288 |     TCP     |\n",
       "|     2      |     18    |      eth:ethertype:ip:tcp     |  50785  |     TCP     |\n",
       "|     0      |     20    |      eth:ethertype:ip:tcp     |  954004 |     TCP     |\n",
       "|            |     0     |    eth:ethertype:ip:udp:dns   | 2692507 |     DNS     |\n",
       "|            |     0     |    eth:ethertype:ip:udp:dns   |  98945  |     DNS     |\n",
       "|     0      |     18    |      eth:ethertype:ip:tcp     | 1196008 |     TCP     |\n",
       "|     5      |     2     |      eth:ethertype:ip:tcp     |  938143 |     TCP     |\n",
       "+------------+-----------+-------------------------------+---------+-------------+\n",
       "+---------+-----+\n",
       "| BytesEx | ... |\n",
       "+---------+-----+\n",
       "|    60   | ... |\n",
       "|   815   | ... |\n",
       "|   206   | ... |\n",
       "|    60   | ... |\n",
       "|   1756  | ... |\n",
       "|    60   | ... |\n",
       "|   193   | ... |\n",
       "|   4012  | ... |\n",
       "|   206   | ... |\n",
       "|   372   | ... |\n",
       "+---------+-----+\n",
       "[586601 rows x 35 columns]\n",
       "Note: Only the head of the SFrame is printed.\n",
       "You can use print_rows(num_rows=m, num_columns=n) to print more rows and columns."
      ]
     },
     "execution_count": 14,
     "metadata": {},
     "output_type": "execute_result"
    }
   ],
   "source": [
    "Test.add_column(gl.SArray(final),'Predicted_Label')"
   ]
  },
  {
   "cell_type": "code",
   "execution_count": 18,
   "metadata": {
    "collapsed": false
   },
   "outputs": [],
   "source": [
    "truePosIPs = Test[(Test['isBot']==1) & (Test['Predicted_Label']==1)]['Source'].unique()"
   ]
  },
  {
   "cell_type": "code",
   "execution_count": 22,
   "metadata": {
    "collapsed": false
   },
   "outputs": [
    {
     "name": "stdout",
     "output_type": "stream",
     "text": [
      "198.164.30.2\n",
      "192.168.2.113\n",
      "192.168.5.122\n",
      "192.168.2.110\n",
      "147.32.84.160\n",
      "192.168.4.120\n",
      "147.32.84.180\n",
      "192.168.2.109\n",
      "192.168.1.103\n",
      "147.32.84.170\n",
      "Not in Malicious IP List 192.168.1.105\n",
      "192.168.4.118\n",
      "11\n"
     ]
    }
   ],
   "source": [
    "i=0\n",
    "for x in truePosIPs:\n",
    "    if x in iplist:\n",
    "        print x\n",
    "        i=i+1\n",
    "    else:\n",
    "        print \"Not in Malicious IP List \" + x\n",
    "print i"
   ]
  },
  {
   "cell_type": "markdown",
   "metadata": {},
   "source": [
    "192.168.1.105 is Botmaster IP of IRC Botnet"
   ]
  },
  {
   "cell_type": "code",
   "execution_count": 28,
   "metadata": {
    "collapsed": false
   },
   "outputs": [
    {
     "data": {
      "text/plain": [
       "(586601, 586601)"
      ]
     },
     "execution_count": 28,
     "metadata": {},
     "output_type": "execute_result"
    }
   ],
   "source": [
    "len(Test), len(final)"
   ]
  },
  {
   "cell_type": "code",
   "execution_count": 29,
   "metadata": {
    "collapsed": false
   },
   "outputs": [
    {
     "data": {
      "text/plain": [
       "21"
      ]
     },
     "execution_count": 29,
     "metadata": {},
     "output_type": "execute_result"
    }
   ],
   "source": [
    "falseNegIPs = Test[(Test['isBot']==1) & (Test['Predicted_Label']==0)]['Source'].unique()\n",
    "len(falseNegIPs)"
   ]
  },
  {
   "cell_type": "code",
   "execution_count": 31,
   "metadata": {
    "collapsed": false
   },
   "outputs": [
    {
     "name": "stdout",
     "output_type": "stream",
     "text": [
      "147.32.84.150\n",
      "192.168.106.141\n",
      "158.65.110.24\n",
      "192.168.3.65\n",
      "10.37.130.4\n",
      "Not in Malicious IP List 192.168.2.112\n",
      "192.168.106.131\n",
      "192.168.3.25\n",
      "192.168.3.35\n",
      "147.32.84.140\n",
      "172.16.253.129\n",
      "172.16.253.130\n",
      "172.29.0.109\n",
      "74.78.117.238\n",
      "172.16.253.132\n",
      "172.29.0.116\n",
      "147.32.84.160\n",
      "147.32.84.130\n",
      "192.168.248.165\n",
      "172.16.253.131\n",
      "10.0.2.15\n",
      "20\n"
     ]
    }
   ],
   "source": [
    "i=0\n",
    "for x in falseNegIPs:\n",
    "    if x in iplist:\n",
    "        print x\n",
    "        i=i+1\n",
    "    else:\n",
    "        print \"Not in Malicious IP List \" + x\n",
    "print i"
   ]
  },
  {
   "cell_type": "code",
   "execution_count": 33,
   "metadata": {
    "collapsed": false
   },
   "outputs": [],
   "source": [
    "BotsInTrain = Train[(Train['isBot']==1)]['Source'].unique()"
   ]
  },
  {
   "cell_type": "code",
   "execution_count": 35,
   "metadata": {
    "collapsed": false
   },
   "outputs": [
    {
     "name": "stdout",
     "output_type": "stream",
     "text": [
      "192.168.2.112 in both train and test, still not detected\n",
      "147.32.84.160 in both train and test, still not detected\n",
      "19 Bot IPs present in test, not in train, undetected \n"
     ]
    }
   ],
   "source": [
    "i=0\n",
    "for x in falseNegIPs:\n",
    "    if x in BotsInTrain:\n",
    "        print x + \" in both train and test, still not detected\"\n",
    "    else:\n",
    "        i=i+1\n",
    "print str(i) + \" Bot IPs present in test, not in train, undetected \""
   ]
  },
  {
   "cell_type": "code",
   "execution_count": 36,
   "metadata": {
    "collapsed": false
   },
   "outputs": [
    {
     "name": "stdout",
     "output_type": "stream",
     "text": [
      "198.164.30.2 in both train and test, detected\n",
      "192.168.2.113 in both train and test, detected\n",
      "192.168.5.122 in both train and test, detected\n",
      "192.168.2.110 in both train and test, detected\n",
      "147.32.84.160 in both train and test, detected\n",
      "192.168.4.120 in both train and test, detected\n",
      "147.32.84.180 in both train and test, detected\n",
      "192.168.2.109 in both train and test, detected\n",
      "192.168.1.103 in both train and test, detected\n",
      "147.32.84.170 in both train and test, detected\n",
      "192.168.1.105 in both train and test, detected\n",
      "192.168.4.118 in both train and test, detected\n",
      "0 Bot IPs present in test, not in train, still detected => Novelty Detection \n"
     ]
    }
   ],
   "source": [
    "i=0\n",
    "for x in truePosIPs:\n",
    "    if x in BotsInTrain:\n",
    "        print x + \" in both train and test, detected\"\n",
    "    else:\n",
    "        i=i+1\n",
    "print str(i) + \" Bot IPs present in test, not in train, still detected => Novelty Detection \""
   ]
  },
  {
   "cell_type": "code",
   "execution_count": null,
   "metadata": {
    "collapsed": true
   },
   "outputs": [],
   "source": []
  }
 ],
 "metadata": {
  "anaconda-cloud": {},
  "kernelspec": {
   "display_name": "Python [conda env:tensorflow]",
   "language": "python",
   "name": "conda-env-tensorflow-py"
  },
  "language_info": {
   "codemirror_mode": {
    "name": "ipython",
    "version": 2
   },
   "file_extension": ".py",
   "mimetype": "text/x-python",
   "name": "python",
   "nbconvert_exporter": "python",
   "pygments_lexer": "ipython2",
   "version": "2.7.12"
  }
 },
 "nbformat": 4,
 "nbformat_minor": 1
}
